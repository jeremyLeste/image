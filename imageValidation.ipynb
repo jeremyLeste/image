{
 "cells": [
  {
   "cell_type": "code",
   "execution_count": 1,
   "metadata": {},
   "outputs": [
    {
     "data": {
      "text/html": [
       "<script>requirejs.config({paths: { 'plotly': ['https://cdn.plot.ly/plotly-latest.min']},});if(!window.Plotly) {{require(['plotly'],function(plotly) {window.Plotly=plotly;});}}</script>"
      ],
      "text/vnd.plotly.v1+html": [
       "<script>requirejs.config({paths: { 'plotly': ['https://cdn.plot.ly/plotly-latest.min']},});if(!window.Plotly) {{require(['plotly'],function(plotly) {window.Plotly=plotly;});}}</script>"
      ]
     },
     "metadata": {},
     "output_type": "display_data"
    },
    {
     "data": {
      "text/html": [
       "<script>requirejs.config({paths: { 'plotly': ['https://cdn.plot.ly/plotly-latest.min']},});if(!window.Plotly) {{require(['plotly'],function(plotly) {window.Plotly=plotly;});}}</script>"
      ],
      "text/vnd.plotly.v1+html": [
       "<script>requirejs.config({paths: { 'plotly': ['https://cdn.plot.ly/plotly-latest.min']},});if(!window.Plotly) {{require(['plotly'],function(plotly) {window.Plotly=plotly;});}}</script>"
      ]
     },
     "metadata": {},
     "output_type": "display_data"
    }
   ],
   "source": [
    "import SimpleITK as sitk\n",
    "import numpy as np\n",
    "import matplotlib.pyplot as plt\n",
    "%matplotlib inline\n",
    "import plotly.offline as py\n",
    "import plotly.graph_objs as go\n",
    "py.offline.init_notebook_mode(connected=True)\n",
    "from ipywidgets import interact\n",
    "from plotly.offline import init_notebook_mode, plot, iplot\n",
    "from plotly.graph_objs import *\n",
    "import pandas as pd\n",
    "\n",
    "init_notebook_mode(connected=True)\n",
    "\n",
    "def ct_viewer(im):\n",
    "    def plot_image(myslice):\n",
    "        plt.imshow(im[myslice], cmap=plt.cm.jet)\n",
    "    interact(plot_image, myslice=(0, im.shape[0]))\n",
    "    return; "
   ]
  },
  {
   "cell_type": "code",
   "execution_count": 16,
   "metadata": {},
   "outputs": [],
   "source": [
    "im1=sitk.ReadImage('/home/crct/CRCT/JupyterNotebook/data/image/6e/validation/6eldp2.W.mhd')\n",
    "imref=sitk.ReadImage('/media/sf_CRCT/JupyterNotebook/data/image/6e/validation/profil6E.W.mhd')\n",
    "\n",
    "im=sitk.Resample(imref, im1, sitk.Transform(), sitk.sitkNearestNeighbor, 0)"
   ]
  },
  {
   "cell_type": "code",
   "execution_count": 17,
   "metadata": {},
   "outputs": [
    {
     "name": "stdout",
     "output_type": "stream",
     "text": [
      "(50, 100, 50)\n",
      "(4.0, 1.0, 4.0)\n"
     ]
    },
    {
     "data": {
      "application/vnd.jupyter.widget-view+json": {
       "model_id": "4bce2ac160984907b9a0e1dcce5f50e7",
       "version_major": 2,
       "version_minor": 0
      },
      "text/html": [
       "<p>Failed to display Jupyter Widget of type <code>interactive</code>.</p>\n",
       "<p>\n",
       "  If you're reading this message in Jupyter Notebook or JupyterLab, it may mean\n",
       "  that the widgets JavaScript is still loading. If this message persists, it\n",
       "  likely means that the widgets JavaScript library is either not installed or\n",
       "  not enabled. See the <a href=\"https://ipywidgets.readthedocs.io/en/stable/user_install.html\">Jupyter\n",
       "  Widgets Documentation</a> for setup instructions.\n",
       "</p>\n",
       "<p>\n",
       "  If you're reading this message in another notebook frontend (for example, a static\n",
       "  rendering on GitHub or <a href=\"https://nbviewer.jupyter.org/\">NBViewer</a>),\n",
       "  it may mean that your frontend doesn't currently support widgets.\n",
       "</p>\n"
      ],
      "text/plain": [
       "interactive(children=(IntSlider(value=25, description=u'myslice', max=50), Output()), _dom_classes=('widget-interact',))"
      ]
     },
     "metadata": {},
     "output_type": "display_data"
    },
    {
     "name": "stdout",
     "output_type": "stream",
     "text": [
      "89\n",
      "(50, 50)\n"
     ]
    },
    {
     "data": {
      "image/png": "[encoded data removed]",
      "text/plain": [
       "<matplotlib.figure.Figure at 0x7f73e135b250>"
      ]
     },
     "metadata": {},
     "output_type": "display_data"
    }
   ],
   "source": [
    "#im=sitk.ReadImage('/home/crct/CRCT/JupyterNotebook/data/image/12e/validation/12eldp2.W.mhd')\n",
    "depth=10\n",
    "print(im.GetSize())\n",
    "print(im.GetSpacing())\n",
    "\n",
    "imArray = sitk.GetArrayFromImage(im)\n",
    "ct_viewer(imArray)\n",
    "\n",
    "depthim=((im.GetSize()[1]-1)-int(depth))\n",
    "print depthim\n",
    "myslice=imArray[:, depthim, :]\n",
    "plt.imshow(myslice, cmap=plt.cm.jet)\n",
    "\n",
    "#y=imArray[19, :, 19]\n",
    "ycross=myslice[:, 25]\n",
    "yin=myslice[25, :]\n",
    "print(myslice.shape)\n",
    "#y=np.flipud(y)\n",
    "x=np.arange(0,ycross.shape[0])\n",
    "trace1=np.column_stack((x,ycross))\n",
    "trace2=np.column_stack((x,yin))"
   ]
  },
  {
   "cell_type": "code",
   "execution_count": 18,
   "metadata": {},
   "outputs": [
    {
     "data": {
      "application/vnd.plotly.v1+json": {
       "data": [
        {
         "mode": "lines+markers",
         "name": "cross",
         "type": "scatter",
         "x": [
          0,
          1,
          2,
          3,
          4,
          5,
          6,
          7,
          8,
          9,
          10,
          11,
          12,
          13,
          14,
          15,
          16,
          17,
          18,
          19,
          20,
          21,
          22,
          23,
          24,
          25,
          26,
          27,
          28,
          29,
          30,
          31,
          32,
          33,
          34,
          35,
          36,
          37,
          38,
          39,
          40,
          41,
          42,
          43,
          44,
          45,
          46,
          47,
          48,
          49
         ],
         "y": [
          4.4597715032068663e-07,
          5.27531597072084e-07,
          4.897228791378438e-07,
          5.756264727097005e-07,
          4.690654122896376e-07,
          7.102280505932868e-07,
          8.759342335906695e-07,
          1.5237893649100442e-06,
          2.838325599441305e-06,
          7.369124432443641e-06,
          1.7375763491145335e-05,
          3.876015398418531e-05,
          6.920053419889882e-05,
          9.202883666148409e-05,
          0.00010013330756919459,
          0.00010376037971582264,
          0.00010620478133205324,
          0.00010648884199326858,
          0.00010624703281791881,
          0.00010765824117697775,
          0.00010725963511504233,
          0.00010930882854154333,
          0.00010850395483430475,
          0.00010759345605038106,
          0.00010752970410976559,
          0.00010873444989556447,
          0.0001067675111698918,
          0.00010774658585432917,
          0.00010694984666770324,
          0.00010799917799886316,
          0.00010756497795227915,
          0.00010653093340806663,
          0.0001061229850165546,
          0.0001059786300174892,
          0.00010276246757712215,
          9.654868335928768e-05,
          8.261906623374671e-05,
          5.349650382413529e-05,
          2.646545362949837e-05,
          1.1099816219939385e-05,
          4.6120658225845546e-06,
          2.0108009266550653e-06,
          1.0480325727257878e-06,
          6.251775630516931e-07,
          7.146402936086815e-07,
          6.218492671905551e-07,
          5.213315716900979e-07,
          4.849747483604006e-07,
          4.483849807002116e-07,
          4.18179098460314e-07
         ]
        },
        {
         "mode": "lines+markers",
         "name": "in",
         "type": "scatter",
         "x": [
          0,
          1,
          2,
          3,
          4,
          5,
          6,
          7,
          8,
          9,
          10,
          11,
          12,
          13,
          14,
          15,
          16,
          17,
          18,
          19,
          20,
          21,
          22,
          23,
          24,
          25,
          26,
          27,
          28,
          29,
          30,
          31,
          32,
          33,
          34,
          35,
          36,
          37,
          38,
          39,
          40,
          41,
          42,
          43,
          44,
          45,
          46,
          47,
          48,
          49
         ],
         "y": [
          4.540989664292283e-07,
          4.080497717495746e-07,
          5.352675884751079e-07,
          4.779241749020002e-07,
          5.80994424126402e-07,
          6.773784093638824e-07,
          9.288435762755398e-07,
          1.484869471823913e-06,
          2.963535280287033e-06,
          6.985275831539184e-06,
          1.732432247081306e-05,
          4.005817754659802e-05,
          6.977966404519975e-05,
          9.095994755625725e-05,
          0.00010025643859989941,
          0.0001049670172506012,
          0.0001074230603990145,
          0.00010644387657521293,
          0.00010656389349605888,
          0.00010756388655863702,
          0.00010817957809194922,
          0.00010875699081225321,
          0.00010919511259999126,
          0.000106804036477115,
          0.00010834390559466556,
          0.00010873444989556447,
          0.00010843509517144412,
          0.000107987092633266,
          0.00010816799476742744,
          0.00010776177805382758,
          0.00010811867832671851,
          0.00010794417903525755,
          0.0001064693569787778,
          0.00010493311856407672,
          0.00010297786502633244,
          9.711737220641226e-05,
          8.25678653200157e-05,
          5.499565304489806e-05,
          2.6453195459907874e-05,
          1.1103144061053172e-05,
          4.586647264659405e-06,
          2.0027655409649014e-06,
          9.346685487798823e-07,
          7.545454536739271e-07,
          6.39279051029007e-07,
          6.538190859828319e-07,
          5.760637691309967e-07,
          5.023547942073492e-07,
          3.340566081533325e-07,
          4.1663065530883614e-07
         ]
        }
       ],
       "layout": {}
      },
      "text/html": [
       "<div id=\"e4c15cd6-471e-40a9-909b-31a172d43d9b\" style=\"height: 525px; width: 100%;\" class=\"plotly-graph-div\"></div><script type=\"text/javascript\">require([\"plotly\"], function(Plotly) { window.PLOTLYENV=window.PLOTLYENV || {};window.PLOTLYENV.BASE_URL=\"https://plot.ly\";Plotly.newPlot(\"e4c15cd6-471e-40a9-909b-31a172d43d9b\", [{\"y\": [4.4597715032068663e-07, 5.27531597072084e-07, 4.897228791378438e-07, 5.756264727097005e-07, 4.690654122896376e-07, 7.102280505932868e-07, 8.759342335906695e-07, 1.5237893649100442e-06, 2.838325599441305e-06, 7.369124432443641e-06, 1.7375763491145335e-05, 3.876015398418531e-05, 6.920053419889882e-05, 9.202883666148409e-05, 0.00010013330756919459, 0.00010376037971582264, 0.00010620478133205324, 0.00010648884199326858, 0.00010624703281791881, 0.00010765824117697775, 0.00010725963511504233, 0.00010930882854154333, 0.00010850395483430475, 0.00010759345605038106, 0.00010752970410976559, 0.00010873444989556447, 0.0001067675111698918, 0.00010774658585432917, 0.00010694984666770324, 0.00010799917799886316, 0.00010756497795227915, 0.00010653093340806663, 0.0001061229850165546, 0.0001059786300174892, 0.00010276246757712215, 9.654868335928768e-05, 8.261906623374671e-05, 5.349650382413529e-05, 2.646545362949837e-05, 1.1099816219939385e-05, 4.6120658225845546e-06, 2.0108009266550653e-06, 1.0480325727257878e-06, 6.251775630516931e-07, 7.146402936086815e-07, 6.218492671905551e-07, 5.213315716900979e-07, 4.849747483604006e-07, 4.483849807002116e-07, 4.18179098460314e-07], \"x\": [0, 1, 2, 3, 4, 5, 6, 7, 8, 9, 10, 11, 12, 13, 14, 15, 16, 17, 18, 19, 20, 21, 22, 23, 24, 25, 26, 27, 28, 29, 30, 31, 32, 33, 34, 35, 36, 37, 38, 39, 40, 41, 42, 43, 44, 45, 46, 47, 48, 49], \"type\": \"scatter\", \"mode\": \"lines+markers\", \"name\": \"cross\"}, {\"y\": [4.540989664292283e-07, 4.080497717495746e-07, 5.352675884751079e-07, 4.779241749020002e-07, 5.80994424126402e-07, 6.773784093638824e-07, 9.288435762755398e-07, 1.484869471823913e-06, 2.963535280287033e-06, 6.985275831539184e-06, 1.732432247081306e-05, 4.005817754659802e-05, 6.977966404519975e-05, 9.095994755625725e-05, 0.00010025643859989941, 0.0001049670172506012, 0.0001074230603990145, 0.00010644387657521293, 0.00010656389349605888, 0.00010756388655863702, 0.00010817957809194922, 0.00010875699081225321, 0.00010919511259999126, 0.000106804036477115, 0.00010834390559466556, 0.00010873444989556447, 0.00010843509517144412, 0.000107987092633266, 0.00010816799476742744, 0.00010776177805382758, 0.00010811867832671851, 0.00010794417903525755, 0.0001064693569787778, 0.00010493311856407672, 0.00010297786502633244, 9.711737220641226e-05, 8.25678653200157e-05, 5.499565304489806e-05, 2.6453195459907874e-05, 1.1103144061053172e-05, 4.586647264659405e-06, 2.0027655409649014e-06, 9.346685487798823e-07, 7.545454536739271e-07, 6.39279051029007e-07, 6.538190859828319e-07, 5.760637691309967e-07, 5.023547942073492e-07, 3.340566081533325e-07, 4.1663065530883614e-07], \"x\": [0, 1, 2, 3, 4, 5, 6, 7, 8, 9, 10, 11, 12, 13, 14, 15, 16, 17, 18, 19, 20, 21, 22, 23, 24, 25, 26, 27, 28, 29, 30, 31, 32, 33, 34, 35, 36, 37, 38, 39, 40, 41, 42, 43, 44, 45, 46, 47, 48, 49], \"type\": \"scatter\", \"mode\": \"lines+markers\", \"name\": \"in\"}], {}, {\"linkText\": \"Export to plot.ly\", \"showLink\": true})});</script>"
      ],
      "text/vnd.plotly.v1+html": [
       "<div id=\"e4c15cd6-471e-40a9-909b-31a172d43d9b\" style=\"height: 525px; width: 100%;\" class=\"plotly-graph-div\"></div><script type=\"text/javascript\">require([\"plotly\"], function(Plotly) { window.PLOTLYENV=window.PLOTLYENV || {};window.PLOTLYENV.BASE_URL=\"https://plot.ly\";Plotly.newPlot(\"e4c15cd6-471e-40a9-909b-31a172d43d9b\", [{\"y\": [4.4597715032068663e-07, 5.27531597072084e-07, 4.897228791378438e-07, 5.756264727097005e-07, 4.690654122896376e-07, 7.102280505932868e-07, 8.759342335906695e-07, 1.5237893649100442e-06, 2.838325599441305e-06, 7.369124432443641e-06, 1.7375763491145335e-05, 3.876015398418531e-05, 6.920053419889882e-05, 9.202883666148409e-05, 0.00010013330756919459, 0.00010376037971582264, 0.00010620478133205324, 0.00010648884199326858, 0.00010624703281791881, 0.00010765824117697775, 0.00010725963511504233, 0.00010930882854154333, 0.00010850395483430475, 0.00010759345605038106, 0.00010752970410976559, 0.00010873444989556447, 0.0001067675111698918, 0.00010774658585432917, 0.00010694984666770324, 0.00010799917799886316, 0.00010756497795227915, 0.00010653093340806663, 0.0001061229850165546, 0.0001059786300174892, 0.00010276246757712215, 9.654868335928768e-05, 8.261906623374671e-05, 5.349650382413529e-05, 2.646545362949837e-05, 1.1099816219939385e-05, 4.6120658225845546e-06, 2.0108009266550653e-06, 1.0480325727257878e-06, 6.251775630516931e-07, 7.146402936086815e-07, 6.218492671905551e-07, 5.213315716900979e-07, 4.849747483604006e-07, 4.483849807002116e-07, 4.18179098460314e-07], \"x\": [0, 1, 2, 3, 4, 5, 6, 7, 8, 9, 10, 11, 12, 13, 14, 15, 16, 17, 18, 19, 20, 21, 22, 23, 24, 25, 26, 27, 28, 29, 30, 31, 32, 33, 34, 35, 36, 37, 38, 39, 40, 41, 42, 43, 44, 45, 46, 47, 48, 49], \"type\": \"scatter\", \"mode\": \"lines+markers\", \"name\": \"cross\"}, {\"y\": [4.540989664292283e-07, 4.080497717495746e-07, 5.352675884751079e-07, 4.779241749020002e-07, 5.80994424126402e-07, 6.773784093638824e-07, 9.288435762755398e-07, 1.484869471823913e-06, 2.963535280287033e-06, 6.985275831539184e-06, 1.732432247081306e-05, 4.005817754659802e-05, 6.977966404519975e-05, 9.095994755625725e-05, 0.00010025643859989941, 0.0001049670172506012, 0.0001074230603990145, 0.00010644387657521293, 0.00010656389349605888, 0.00010756388655863702, 0.00010817957809194922, 0.00010875699081225321, 0.00010919511259999126, 0.000106804036477115, 0.00010834390559466556, 0.00010873444989556447, 0.00010843509517144412, 0.000107987092633266, 0.00010816799476742744, 0.00010776177805382758, 0.00010811867832671851, 0.00010794417903525755, 0.0001064693569787778, 0.00010493311856407672, 0.00010297786502633244, 9.711737220641226e-05, 8.25678653200157e-05, 5.499565304489806e-05, 2.6453195459907874e-05, 1.1103144061053172e-05, 4.586647264659405e-06, 2.0027655409649014e-06, 9.346685487798823e-07, 7.545454536739271e-07, 6.39279051029007e-07, 6.538190859828319e-07, 5.760637691309967e-07, 5.023547942073492e-07, 3.340566081533325e-07, 4.1663065530883614e-07], \"x\": [0, 1, 2, 3, 4, 5, 6, 7, 8, 9, 10, 11, 12, 13, 14, 15, 16, 17, 18, 19, 20, 21, 22, 23, 24, 25, 26, 27, 28, 29, 30, 31, 32, 33, 34, 35, 36, 37, 38, 39, 40, 41, 42, 43, 44, 45, 46, 47, 48, 49], \"type\": \"scatter\", \"mode\": \"lines+markers\", \"name\": \"in\"}], {}, {\"linkText\": \"Export to plot.ly\", \"showLink\": true})});</script>"
      ]
     },
     "metadata": {},
     "output_type": "display_data"
    },
    {
     "data": {
      "text/html": [
       "<script>function downloadimage(format, height, width, filename) {var p = document.getElementById('e4c15cd6-471e-40a9-909b-31a172d43d9b');Plotly.downloadImage(p, {format: format, height: height, width: width, filename: filename});};if(document.readyState == 'complete') {{downloadimage('svg', 600, 800, 'plot_image');}}</script>"
      ],
      "text/plain": [
       "<IPython.core.display.HTML object>"
      ]
     },
     "metadata": {},
     "output_type": "display_data"
    }
   ],
   "source": [
    "\n",
    "datacross = Scatter(x = x,\n",
    "               y = ycross,\n",
    "               name='cross',\n",
    "               mode = 'lines+markers')\n",
    "datain = Scatter(x = x,\n",
    "               y = yin,\n",
    "               name = 'in',\n",
    "               mode = 'lines+markers')\n",
    "\n",
    "\n",
    "fig = dict(data=[datacross, datain])\n",
    "iplot(fig, image='svg')"
   ]
  },
  {
   "cell_type": "code",
   "execution_count": 19,
   "metadata": {},
   "outputs": [],
   "source": [
    "np.savetxt('/media/sf_CRCT/JupyterNotebook/data/gammaIndex/article/6e/validation/profil6E_cross.csv', trace1, delimiter=',')\n",
    "np.savetxt('/media/sf_CRCT/JupyterNotebook/data/gammaIndex/article/6e/validation/profil6E_in_in.csv', trace2, delimiter=',')"
   ]
  }
 ],
 "metadata": {
  "kernelspec": {
   "display_name": "Python 3",
   "language": "python",
   "name": "python3"
  },
  "language_info": {
   "codemirror_mode": {
    "name": "ipython",
    "version": 3
   },
   "file_extension": ".py",
   "mimetype": "text/x-python",
   "name": "python",
   "nbconvert_exporter": "python",
   "pygments_lexer": "ipython3",
   "version": "3.6.7"
  }
 },
 "nbformat": 4,
 "nbformat_minor": 2
}
