{
 "cells": [
  {
   "cell_type": "code",
   "execution_count": 18,
   "metadata": {},
   "outputs": [
    {
     "data": {
      "text/html": [
       "<script>requirejs.config({paths: { 'plotly': ['https://cdn.plot.ly/plotly-latest.min']},});if(!window.Plotly) {{require(['plotly'],function(plotly) {window.Plotly=plotly;});}}</script>"
      ],
      "text/vnd.plotly.v1+html": [
       "<script>requirejs.config({paths: { 'plotly': ['https://cdn.plot.ly/plotly-latest.min']},});if(!window.Plotly) {{require(['plotly'],function(plotly) {window.Plotly=plotly;});}}</script>"
      ]
     },
     "metadata": {},
     "output_type": "display_data"
    }
   ],
   "source": [
    "import dicom as dcm\n",
    "import SimpleITK as sitk\n",
    "import numpy as np \n",
    "import array\n",
    "from numpy import unravel_index\n",
    "import matplotlib.pyplot as plt\n",
    "%matplotlib inline\n",
    "\n",
    "from __future__ import print_function\n",
    "from ipywidgets import interact\n",
    "\n",
    "\n",
    "from plotly.offline import init_notebook_mode, plot, iplot\n",
    "from plotly.graph_objs import *\n",
    "\n",
    "init_notebook_mode(connected=True)\n",
    "\n",
    "def ct_viewer(im):\n",
    "    def plot_image(myslice):\n",
    "        plt.imshow(im[myslice])#, cmap=plt.cm.gray\n",
    "    interact(plot_image, myslice=(0, im.shape[0]))\n",
    "    return;"
   ]
  },
  {
   "cell_type": "markdown",
   "metadata": {},
   "source": [
    "# From dicom RT DOSE to rAW image "
   ]
  },
  {
   "cell_type": "code",
   "execution_count": 147,
   "metadata": {},
   "outputs": [],
   "source": [
    "heter='wstep'\n",
    "energy='18e'\n",
    "name='18emcs'\n",
    "rd=dcm.read_file('/media/sf_CRCT/JupyterNotebook/data/image/curie/'+energy+'/'+heter+'/'+name+'.dcm')\n",
    "rdpix=rd.pixel_array.astype(np.float32)\n",
    "\n",
    "rdim=sitk.GetImageFromArray(rdpix)\n",
    "\n",
    "#Set origin of image from rt dose value\n",
    "origin=[]\n",
    "for val in rd.ImagePositionPatient: origin.append(float(val))\n",
    "rdim.SetOrigin(origin)\n",
    "\n",
    "#Set spacing of image from rt dose value (x et y)\n",
    "spacing=[]\n",
    "for val in rd.PixelSpacing: spacing.append(float(val))\n",
    "\n",
    "#for z direction\n",
    "spacez=float(rd.GridFrameOffsetVector[1]-rd.GridFrameOffsetVector[0])\n",
    "spacing.append(spacez)\n",
    "rdim.SetSpacing(spacing)\n",
    "\n",
    "sitk.WriteImage(rdim, '/media/sf_CRCT/JupyterNotebook/data/image/curie/'+energy+'/'+heter+'/'+name+'.mhd')"
   ]
  },
  {
   "cell_type": "markdown",
   "metadata": {},
   "source": [
    "# Read RAW image"
   ]
  },
  {
   "cell_type": "code",
   "execution_count": 148,
   "metadata": {},
   "outputs": [
    {
     "name": "stdout",
     "output_type": "stream",
     "text": [
      "origin:  (-198.75, -198.75, -200.0)\n",
      "spacing:  (2.5, 2.5, 2.5)\n",
      "size:  (160, 160, 161)\n"
     ]
    },
    {
     "data": {
      "application/vnd.jupyter.widget-view+json": {
       "model_id": "8b47ffaaef174c68a317fad0b665a44f",
       "version_major": 2,
       "version_minor": 0
      },
      "text/html": [
       "<p>Failed to display Jupyter Widget of type <code>interactive</code>.</p>\n",
       "<p>\n",
       "  If you're reading this message in Jupyter Notebook or JupyterLab, it may mean\n",
       "  that the widgets JavaScript is still loading. If this message persists, it\n",
       "  likely means that the widgets JavaScript library is either not installed or\n",
       "  not enabled. See the <a href=\"https://ipywidgets.readthedocs.io/en/stable/user_install.html\">Jupyter\n",
       "  Widgets Documentation</a> for setup instructions.\n",
       "</p>\n",
       "<p>\n",
       "  If you're reading this message in another notebook frontend (for example, a static\n",
       "  rendering on GitHub or <a href=\"https://nbviewer.jupyter.org/\">NBViewer</a>),\n",
       "  it may mean that your frontend doesn't currently support widgets.\n",
       "</p>\n"
      ],
      "text/plain": [
       "interactive(children=(IntSlider(value=80, description=u'myslice', max=161), Output()), _dom_classes=('widget-interact',))"
      ]
     },
     "metadata": {},
     "output_type": "display_data"
    }
   ],
   "source": [
    "im=sitk.ReadImage('/media/sf_CRCT/JupyterNotebook/data/image/curie/'+energy+'/'+heter+'/'+name+'.mhd')\n",
    "pix=sitk.GetArrayFromImage(im)\n",
    "print('origin: ', im.GetOrigin())\n",
    "print('spacing: ',im.GetSpacing())\n",
    "print('size: ', im.GetSize())\n",
    "ct_viewer(pix)"
   ]
  },
  {
   "cell_type": "markdown",
   "metadata": {},
   "source": [
    "# Get LDP"
   ]
  },
  {
   "cell_type": "code",
   "execution_count": 155,
   "metadata": {},
   "outputs": [
    {
     "data": {
      "application/vnd.jupyter.widget-view+json": {
       "model_id": "80b54660f9df4640b00989c4a842b185",
       "version_major": 2,
       "version_minor": 0
      },
      "text/html": [
       "<p>Failed to display Jupyter Widget of type <code>interactive</code>.</p>\n",
       "<p>\n",
       "  If you're reading this message in Jupyter Notebook or JupyterLab, it may mean\n",
       "  that the widgets JavaScript is still loading. If this message persists, it\n",
       "  likely means that the widgets JavaScript library is either not installed or\n",
       "  not enabled. See the <a href=\"https://ipywidgets.readthedocs.io/en/stable/user_install.html\">Jupyter\n",
       "  Widgets Documentation</a> for setup instructions.\n",
       "</p>\n",
       "<p>\n",
       "  If you're reading this message in another notebook frontend (for example, a static\n",
       "  rendering on GitHub or <a href=\"https://nbviewer.jupyter.org/\">NBViewer</a>),\n",
       "  it may mean that your frontend doesn't currently support widgets.\n",
       "</p>\n"
      ],
      "text/plain": [
       "interactive(children=(IntSlider(value=80, description=u'myslice', max=161), Output()), _dom_classes=('widget-interact',))"
      ]
     },
     "metadata": {},
     "output_type": "display_data"
    },
    {
     "name": "stdout",
     "output_type": "stream",
     "text": [
      "16.0\n"
     ]
    },
    {
     "data": {
      "image/png": "[encoded data removed]",
      "text/plain": [
       "<matplotlib.figure.Figure at 0x7f67ea9fc210>"
      ]
     },
     "metadata": {},
     "output_type": "display_data"
    }
   ],
   "source": [
    "depth=40\n",
    "\n",
    "ct_viewer(pix)\n",
    "print (round((depth/im.GetSpacing()[1])))\n",
    "depthim=int((round(depth/im.GetSpacing()[1])))\n",
    "#print depthim\n",
    "myslice=pix[:, depthim, :]\n",
    "plt.imshow(myslice, cmap=plt.cm.jet)\n",
    "\n",
    "\n",
    "y=myslice[im.GetSize()[0]/2, :]\n",
    "y=np.flipud(y)\n",
    "x=np.arange(0,y.shape[0])\n",
    "x=x*2.5\n",
    "x=x-(x.max()/2)\n",
    "trace=np.column_stack((x,y))\n"
   ]
  },
  {
   "cell_type": "markdown",
   "metadata": {},
   "source": [
    "# Plot LDP"
   ]
  },
  {
   "cell_type": "code",
   "execution_count": 156,
   "metadata": {},
   "outputs": [
    {
     "data": {
      "application/vnd.plotly.v1+json": {
       "data": [
        {
         "mode": "lines+markers",
         "name": "cross",
         "type": "scatter",
         "x": [
          -198.75,
          -196.25,
          -193.75,
          -191.25,
          -188.75,
          -186.25,
          -183.75,
          -181.25,
          -178.75,
          -176.25,
          -173.75,
          -171.25,
          -168.75,
          -166.25,
          -163.75,
          -161.25,
          -158.75,
          -156.25,
          -153.75,
          -151.25,
          -148.75,
          -146.25,
          -143.75,
          -141.25,
          -138.75,
          -136.25,
          -133.75,
          -131.25,
          -128.75,
          -126.25,
          -123.75,
          -121.25,
          -118.75,
          -116.25,
          -113.75,
          -111.25,
          -108.75,
          -106.25,
          -103.75,
          -101.25,
          -98.75,
          -96.25,
          -93.75,
          -91.25,
          -88.75,
          -86.25,
          -83.75,
          -81.25,
          -78.75,
          -76.25,
          -73.75,
          -71.25,
          -68.75,
          -66.25,
          -63.75,
          -61.25,
          -58.75,
          -56.25,
          -53.75,
          -51.25,
          -48.75,
          -46.25,
          -43.75,
          -41.25,
          -38.75,
          -36.25,
          -33.75,
          -31.25,
          -28.75,
          -26.25,
          -23.75,
          -21.25,
          -18.75,
          -16.25,
          -13.75,
          -11.25,
          -8.75,
          -6.25,
          -3.75,
          -1.25,
          1.25,
          3.75,
          6.25,
          8.75,
          11.25,
          13.75,
          16.25,
          18.75,
          21.25,
          23.75,
          26.25,
          28.75,
          31.25,
          33.75,
          36.25,
          38.75,
          41.25,
          43.75,
          46.25,
          48.75,
          51.25,
          53.75,
          56.25,
          58.75,
          61.25,
          63.75,
          66.25,
          68.75,
          71.25,
          73.75,
          76.25,
          78.75,
          81.25,
          83.75,
          86.25,
          88.75,
          91.25,
          93.75,
          96.25,
          98.75,
          101.25,
          103.75,
          106.25,
          108.75,
          111.25,
          113.75,
          116.25,
          118.75,
          121.25,
          123.75,
          126.25,
          128.75,
          131.25,
          133.75,
          136.25,
          138.75,
          141.25,
          143.75,
          146.25,
          148.75,
          151.25,
          153.75,
          156.25,
          158.75,
          161.25,
          163.75,
          166.25,
          168.75,
          171.25,
          173.75,
          176.25,
          178.75,
          181.25,
          183.75,
          186.25,
          188.75,
          191.25,
          193.75,
          196.25,
          198.75
         ],
         "y": [
          0,
          0,
          0,
          0,
          0,
          0,
          0,
          0,
          0,
          0,
          0,
          0,
          0,
          0,
          0,
          0,
          0,
          3405,
          3296,
          3077,
          3124,
          3091,
          2752,
          2781,
          2706,
          3259,
          5119,
          4528,
          4528,
          4844,
          4070,
          4046,
          4189,
          4063,
          5834,
          7554,
          6015,
          5884,
          7346,
          7852,
          9295,
          11547,
          11465,
          13646,
          15550,
          16952,
          34413,
          40469,
          39889,
          51324,
          74684,
          77330,
          118534,
          160742,
          241934,
          354024,
          452677,
          633679,
          856050,
          1099162,
          1370328,
          1601577,
          1745352,
          1818929,
          1748707,
          1840370,
          1803115,
          1728829,
          1696919,
          1583989,
          1625004,
          1759396,
          2190033,
          2442592,
          2180254,
          2076970,
          1967354,
          2028333,
          1949259,
          1910753,
          1933017,
          2003587,
          1938547,
          1922476,
          1952060,
          1863322,
          1893234,
          1890814,
          1922672,
          1851272,
          1879925,
          1894696,
          1834900,
          1946411,
          1873205,
          1870115,
          1895728,
          1854981,
          1811088,
          1647157,
          1246719,
          735217,
          339820,
          163607,
          89437,
          67972,
          43844,
          46081,
          29288,
          34287,
          26522,
          21534,
          17128,
          20018,
          20835,
          16772,
          16431,
          13347,
          13144,
          14903,
          10634,
          11944,
          6871,
          7240,
          6188,
          5197,
          7478,
          5937,
          5365,
          4503,
          4151,
          3191,
          3393,
          4815,
          2717,
          1425,
          1383,
          1657,
          2176,
          2068,
          3060,
          2242,
          0,
          0,
          0,
          0,
          0,
          0,
          0,
          0,
          0,
          0,
          0,
          0,
          0,
          0,
          0,
          0,
          0,
          0
         ]
        }
       ],
       "layout": {}
      },
      "text/html": [
       "<div id=\"2cd8a80b-2b04-4fe4-858a-0b10dad251c9\" style=\"height: 525px; width: 100%;\" class=\"plotly-graph-div\"></div><script type=\"text/javascript\">require([\"plotly\"], function(Plotly) { window.PLOTLYENV=window.PLOTLYENV || {};window.PLOTLYENV.BASE_URL=\"https://plot.ly\";Plotly.newPlot(\"2cd8a80b-2b04-4fe4-858a-0b10dad251c9\", [{\"y\": [0.0, 0.0, 0.0, 0.0, 0.0, 0.0, 0.0, 0.0, 0.0, 0.0, 0.0, 0.0, 0.0, 0.0, 0.0, 0.0, 0.0, 3405.0, 3296.0, 3077.0, 3124.0, 3091.0, 2752.0, 2781.0, 2706.0, 3259.0, 5119.0, 4528.0, 4528.0, 4844.0, 4070.0, 4046.0, 4189.0, 4063.0, 5834.0, 7554.0, 6015.0, 5884.0, 7346.0, 7852.0, 9295.0, 11547.0, 11465.0, 13646.0, 15550.0, 16952.0, 34413.0, 40469.0, 39889.0, 51324.0, 74684.0, 77330.0, 118534.0, 160742.0, 241934.0, 354024.0, 452677.0, 633679.0, 856050.0, 1099162.0, 1370328.0, 1601577.0, 1745352.0, 1818929.0, 1748707.0, 1840370.0, 1803115.0, 1728829.0, 1696919.0, 1583989.0, 1625004.0, 1759396.0, 2190033.0, 2442592.0, 2180254.0, 2076970.0, 1967354.0, 2028333.0, 1949259.0, 1910753.0, 1933017.0, 2003587.0, 1938547.0, 1922476.0, 1952060.0, 1863322.0, 1893234.0, 1890814.0, 1922672.0, 1851272.0, 1879925.0, 1894696.0, 1834900.0, 1946411.0, 1873205.0, 1870115.0, 1895728.0, 1854981.0, 1811088.0, 1647157.0, 1246719.0, 735217.0, 339820.0, 163607.0, 89437.0, 67972.0, 43844.0, 46081.0, 29288.0, 34287.0, 26522.0, 21534.0, 17128.0, 20018.0, 20835.0, 16772.0, 16431.0, 13347.0, 13144.0, 14903.0, 10634.0, 11944.0, 6871.0, 7240.0, 6188.0, 5197.0, 7478.0, 5937.0, 5365.0, 4503.0, 4151.0, 3191.0, 3393.0, 4815.0, 2717.0, 1425.0, 1383.0, 1657.0, 2176.0, 2068.0, 3060.0, 2242.0, 0.0, 0.0, 0.0, 0.0, 0.0, 0.0, 0.0, 0.0, 0.0, 0.0, 0.0, 0.0, 0.0, 0.0, 0.0, 0.0, 0.0, 0.0], \"x\": [-198.75, -196.25, -193.75, -191.25, -188.75, -186.25, -183.75, -181.25, -178.75, -176.25, -173.75, -171.25, -168.75, -166.25, -163.75, -161.25, -158.75, -156.25, -153.75, -151.25, -148.75, -146.25, -143.75, -141.25, -138.75, -136.25, -133.75, -131.25, -128.75, -126.25, -123.75, -121.25, -118.75, -116.25, -113.75, -111.25, -108.75, -106.25, -103.75, -101.25, -98.75, -96.25, -93.75, -91.25, -88.75, -86.25, -83.75, -81.25, -78.75, -76.25, -73.75, -71.25, -68.75, -66.25, -63.75, -61.25, -58.75, -56.25, -53.75, -51.25, -48.75, -46.25, -43.75, -41.25, -38.75, -36.25, -33.75, -31.25, -28.75, -26.25, -23.75, -21.25, -18.75, -16.25, -13.75, -11.25, -8.75, -6.25, -3.75, -1.25, 1.25, 3.75, 6.25, 8.75, 11.25, 13.75, 16.25, 18.75, 21.25, 23.75, 26.25, 28.75, 31.25, 33.75, 36.25, 38.75, 41.25, 43.75, 46.25, 48.75, 51.25, 53.75, 56.25, 58.75, 61.25, 63.75, 66.25, 68.75, 71.25, 73.75, 76.25, 78.75, 81.25, 83.75, 86.25, 88.75, 91.25, 93.75, 96.25, 98.75, 101.25, 103.75, 106.25, 108.75, 111.25, 113.75, 116.25, 118.75, 121.25, 123.75, 126.25, 128.75, 131.25, 133.75, 136.25, 138.75, 141.25, 143.75, 146.25, 148.75, 151.25, 153.75, 156.25, 158.75, 161.25, 163.75, 166.25, 168.75, 171.25, 173.75, 176.25, 178.75, 181.25, 183.75, 186.25, 188.75, 191.25, 193.75, 196.25, 198.75], \"type\": \"scatter\", \"mode\": \"lines+markers\", \"name\": \"cross\"}], {}, {\"linkText\": \"Export to plot.ly\", \"showLink\": true})});</script>"
      ],
      "text/vnd.plotly.v1+html": [
       "<div id=\"2cd8a80b-2b04-4fe4-858a-0b10dad251c9\" style=\"height: 525px; width: 100%;\" class=\"plotly-graph-div\"></div><script type=\"text/javascript\">require([\"plotly\"], function(Plotly) { window.PLOTLYENV=window.PLOTLYENV || {};window.PLOTLYENV.BASE_URL=\"https://plot.ly\";Plotly.newPlot(\"2cd8a80b-2b04-4fe4-858a-0b10dad251c9\", [{\"y\": [0.0, 0.0, 0.0, 0.0, 0.0, 0.0, 0.0, 0.0, 0.0, 0.0, 0.0, 0.0, 0.0, 0.0, 0.0, 0.0, 0.0, 3405.0, 3296.0, 3077.0, 3124.0, 3091.0, 2752.0, 2781.0, 2706.0, 3259.0, 5119.0, 4528.0, 4528.0, 4844.0, 4070.0, 4046.0, 4189.0, 4063.0, 5834.0, 7554.0, 6015.0, 5884.0, 7346.0, 7852.0, 9295.0, 11547.0, 11465.0, 13646.0, 15550.0, 16952.0, 34413.0, 40469.0, 39889.0, 51324.0, 74684.0, 77330.0, 118534.0, 160742.0, 241934.0, 354024.0, 452677.0, 633679.0, 856050.0, 1099162.0, 1370328.0, 1601577.0, 1745352.0, 1818929.0, 1748707.0, 1840370.0, 1803115.0, 1728829.0, 1696919.0, 1583989.0, 1625004.0, 1759396.0, 2190033.0, 2442592.0, 2180254.0, 2076970.0, 1967354.0, 2028333.0, 1949259.0, 1910753.0, 1933017.0, 2003587.0, 1938547.0, 1922476.0, 1952060.0, 1863322.0, 1893234.0, 1890814.0, 1922672.0, 1851272.0, 1879925.0, 1894696.0, 1834900.0, 1946411.0, 1873205.0, 1870115.0, 1895728.0, 1854981.0, 1811088.0, 1647157.0, 1246719.0, 735217.0, 339820.0, 163607.0, 89437.0, 67972.0, 43844.0, 46081.0, 29288.0, 34287.0, 26522.0, 21534.0, 17128.0, 20018.0, 20835.0, 16772.0, 16431.0, 13347.0, 13144.0, 14903.0, 10634.0, 11944.0, 6871.0, 7240.0, 6188.0, 5197.0, 7478.0, 5937.0, 5365.0, 4503.0, 4151.0, 3191.0, 3393.0, 4815.0, 2717.0, 1425.0, 1383.0, 1657.0, 2176.0, 2068.0, 3060.0, 2242.0, 0.0, 0.0, 0.0, 0.0, 0.0, 0.0, 0.0, 0.0, 0.0, 0.0, 0.0, 0.0, 0.0, 0.0, 0.0, 0.0, 0.0, 0.0], \"x\": [-198.75, -196.25, -193.75, -191.25, -188.75, -186.25, -183.75, -181.25, -178.75, -176.25, -173.75, -171.25, -168.75, -166.25, -163.75, -161.25, -158.75, -156.25, -153.75, -151.25, -148.75, -146.25, -143.75, -141.25, -138.75, -136.25, -133.75, -131.25, -128.75, -126.25, -123.75, -121.25, -118.75, -116.25, -113.75, -111.25, -108.75, -106.25, -103.75, -101.25, -98.75, -96.25, -93.75, -91.25, -88.75, -86.25, -83.75, -81.25, -78.75, -76.25, -73.75, -71.25, -68.75, -66.25, -63.75, -61.25, -58.75, -56.25, -53.75, -51.25, -48.75, -46.25, -43.75, -41.25, -38.75, -36.25, -33.75, -31.25, -28.75, -26.25, -23.75, -21.25, -18.75, -16.25, -13.75, -11.25, -8.75, -6.25, -3.75, -1.25, 1.25, 3.75, 6.25, 8.75, 11.25, 13.75, 16.25, 18.75, 21.25, 23.75, 26.25, 28.75, 31.25, 33.75, 36.25, 38.75, 41.25, 43.75, 46.25, 48.75, 51.25, 53.75, 56.25, 58.75, 61.25, 63.75, 66.25, 68.75, 71.25, 73.75, 76.25, 78.75, 81.25, 83.75, 86.25, 88.75, 91.25, 93.75, 96.25, 98.75, 101.25, 103.75, 106.25, 108.75, 111.25, 113.75, 116.25, 118.75, 121.25, 123.75, 126.25, 128.75, 131.25, 133.75, 136.25, 138.75, 141.25, 143.75, 146.25, 148.75, 151.25, 153.75, 156.25, 158.75, 161.25, 163.75, 166.25, 168.75, 171.25, 173.75, 176.25, 178.75, 181.25, 183.75, 186.25, 188.75, 191.25, 193.75, 196.25, 198.75], \"type\": \"scatter\", \"mode\": \"lines+markers\", \"name\": \"cross\"}], {}, {\"linkText\": \"Export to plot.ly\", \"showLink\": true})});</script>"
      ]
     },
     "metadata": {},
     "output_type": "display_data"
    },
    {
     "data": {
      "text/html": [
       "<script>function downloadimage(format, height, width, filename) {var p = document.getElementById('2cd8a80b-2b04-4fe4-858a-0b10dad251c9');Plotly.downloadImage(p, {format: format, height: height, width: width, filename: filename});};if(document.readyState == 'complete') {{downloadimage('svg', 600, 800, 'plot_image');}}</script>"
      ],
      "text/plain": [
       "<IPython.core.display.HTML object>"
      ]
     },
     "metadata": {},
     "output_type": "display_data"
    }
   ],
   "source": [
    "data= Scatter(x = x,\n",
    "               y = y,\n",
    "               name='cross',\n",
    "               mode = 'lines+markers')\n",
    "fig = dict(data=[data])\n",
    "iplot(fig, image='svg')"
   ]
  },
  {
   "cell_type": "code",
   "execution_count": 157,
   "metadata": {},
   "outputs": [],
   "source": [
    "np.savetxt('/media/sf_CRCT/JupyterNotebook/data/gammaIndex/article/curie/'+energy+'/'+heter+'/'+name+str(depth)+'.csv', trace, delimiter=',', header='pas,value', comments='')"
   ]
  }
 ],
 "metadata": {
  "kernelspec": {
   "display_name": "Python 2",
   "language": "python",
   "name": "python2"
  },
  "language_info": {
   "codemirror_mode": {
    "name": "ipython",
    "version": 2
   },
   "file_extension": ".py",
   "mimetype": "text/x-python",
   "name": "python",
   "nbconvert_exporter": "python",
   "pygments_lexer": "ipython2",
   "version": "2.7.12"
  }
 },
 "nbformat": 4,
 "nbformat_minor": 2
}
