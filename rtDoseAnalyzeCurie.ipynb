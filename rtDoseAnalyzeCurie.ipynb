{
 "cells": [
  {
   "cell_type": "code",
   "execution_count": 2,
   "metadata": {},
   "outputs": [
    {
     "data": {
      "text/html": [
       "<script>requirejs.config({paths: { 'plotly': ['https://cdn.plot.ly/plotly-latest.min']},});if(!window.Plotly) {{require(['plotly'],function(plotly) {window.Plotly=plotly;});}}</script>"
      ],
      "text/vnd.plotly.v1+html": [
       "<script>requirejs.config({paths: { 'plotly': ['https://cdn.plot.ly/plotly-latest.min']},});if(!window.Plotly) {{require(['plotly'],function(plotly) {window.Plotly=plotly;});}}</script>"
      ]
     },
     "metadata": {},
     "output_type": "display_data"
    }
   ],
   "source": [
    "import dicom as dcm\n",
    "import SimpleITK as sitk\n",
    "import numpy as np \n",
    "import array\n",
    "from numpy import unravel_index\n",
    "import matplotlib.pyplot as plt\n",
    "%matplotlib inline\n",
    "\n",
    "from __future__ import print_function\n",
    "from ipywidgets import interact\n",
    "\n",
    "\n",
    "from plotly.offline import init_notebook_mode, plot, iplot\n",
    "from plotly.graph_objs import *\n",
    "\n",
    "init_notebook_mode(connected=True)\n",
    "\n",
    "def ct_viewer(im):\n",
    "    def plot_image(myslice):\n",
    "        plt.imshow(im[myslice])#, cmap=plt.cm.gray\n",
    "    interact(plot_image, myslice=(0, im.shape[0]))\n",
    "    return;"
   ]
  },
  {
   "cell_type": "markdown",
   "metadata": {},
   "source": [
    "# From dicom RT DOSE to RAW image "
   ]
  },
  {
   "cell_type": "code",
   "execution_count": 30,
   "metadata": {},
   "outputs": [],
   "source": [
    "heter='wstep'\n",
    "energy='18e'\n",
    "name='18emcs'\n",
    "rd=dcm.read_file('/media/sf_CRCT/JupyterNotebook/data/image/curie/'+energy+'/'+heter+'/'+name+'.dcm')\n",
    "rdpix=rd.pixel_array.astype(np.float32)\n",
    "\n",
    "rdim=sitk.GetImageFromArray(rdpix)\n",
    "\n",
    "#Set origin of image from rt dose value\n",
    "origin=[]\n",
    "for val in rd.ImagePositionPatient: origin.append(float(val))\n",
    "rdim.SetOrigin(origin)\n",
    "\n",
    "#Set spacing of image from rt dose value (x et y)\n",
    "spacing=[]\n",
    "for val in rd.PixelSpacing: spacing.append(float(val))\n",
    "\n",
    "#for z direction\n",
    "spacez=float(rd.GridFrameOffsetVector[1]-rd.GridFrameOffsetVector[0])\n",
    "spacing.append(spacez)\n",
    "rdim.SetSpacing(spacing)\n",
    "\n",
    "sitk.WriteImage(rdim, '/media/sf_CRCT/JupyterNotebook/data/image/curie/'+energy+'/'+heter+'/'+name+'.mhd')"
   ]
  },
  {
   "cell_type": "markdown",
   "metadata": {},
   "source": [
    "# Read RAW image"
   ]
  },
  {
   "cell_type": "code",
   "execution_count": 31,
   "metadata": {},
   "outputs": [
    {
     "name": "stdout",
     "output_type": "stream",
     "text": [
      "origin:  (-198.75, -198.75, -200.0)\n",
      "spacing:  (2.5, 2.5, 2.5)\n",
      "size:  (160, 160, 161)\n"
     ]
    },
    {
     "data": {
      "application/vnd.jupyter.widget-view+json": {
       "model_id": "8b63e97eccae4e9188b23855f300afe8",
       "version_major": 2,
       "version_minor": 0
      },
      "text/html": [
       "<p>Failed to display Jupyter Widget of type <code>interactive</code>.</p>\n",
       "<p>\n",
       "  If you're reading this message in Jupyter Notebook or JupyterLab, it may mean\n",
       "  that the widgets JavaScript is still loading. If this message persists, it\n",
       "  likely means that the widgets JavaScript library is either not installed or\n",
       "  not enabled. See the <a href=\"https://ipywidgets.readthedocs.io/en/stable/user_install.html\">Jupyter\n",
       "  Widgets Documentation</a> for setup instructions.\n",
       "</p>\n",
       "<p>\n",
       "  If you're reading this message in another notebook frontend (for example, a static\n",
       "  rendering on GitHub or <a href=\"https://nbviewer.jupyter.org/\">NBViewer</a>),\n",
       "  it may mean that your frontend doesn't currently support widgets.\n",
       "</p>\n"
      ],
      "text/plain": [
       "interactive(children=(IntSlider(value=80, description=u'myslice', max=161), Output()), _dom_classes=('widget-interact',))"
      ]
     },
     "metadata": {},
     "output_type": "display_data"
    }
   ],
   "source": [
    "im=sitk.ReadImage('/media/sf_CRCT/JupyterNotebook/data/image/curie/'+energy+'/'+heter+'/'+name+'.mhd')\n",
    "pix=sitk.GetArrayFromImage(im)\n",
    "print('origin: ', im.GetOrigin())\n",
    "print('spacing: ',im.GetSpacing())\n",
    "print('size: ', im.GetSize())\n",
    "ct_viewer(pix)"
   ]
  },
  {
   "cell_type": "markdown",
   "metadata": {},
   "source": [
    "# Get LDP"
   ]
  },
  {
   "cell_type": "code",
   "execution_count": 38,
   "metadata": {},
   "outputs": [
    {
     "data": {
      "application/vnd.jupyter.widget-view+json": {
       "model_id": "b584d73219694f19a3e65ffef5f4ca97",
       "version_major": 2,
       "version_minor": 0
      },
      "text/html": [
       "<p>Failed to display Jupyter Widget of type <code>interactive</code>.</p>\n",
       "<p>\n",
       "  If you're reading this message in Jupyter Notebook or JupyterLab, it may mean\n",
       "  that the widgets JavaScript is still loading. If this message persists, it\n",
       "  likely means that the widgets JavaScript library is either not installed or\n",
       "  not enabled. See the <a href=\"https://ipywidgets.readthedocs.io/en/stable/user_install.html\">Jupyter\n",
       "  Widgets Documentation</a> for setup instructions.\n",
       "</p>\n",
       "<p>\n",
       "  If you're reading this message in another notebook frontend (for example, a static\n",
       "  rendering on GitHub or <a href=\"https://nbviewer.jupyter.org/\">NBViewer</a>),\n",
       "  it may mean that your frontend doesn't currently support widgets.\n",
       "</p>\n"
      ],
      "text/plain": [
       "interactive(children=(IntSlider(value=80, description=u'myslice', max=161), Output()), _dom_classes=('widget-interact',))"
      ]
     },
     "metadata": {},
     "output_type": "display_data"
    },
    {
     "name": "stdout",
     "output_type": "stream",
     "text": [
      "24.0\n"
     ]
    },
    {
     "data": {
      "image/png": "[encoded data removed]",
      "text/plain": [
       "<matplotlib.figure.Figure at 0x7f786f072150>"
      ]
     },
     "metadata": {},
     "output_type": "display_data"
    }
   ],
   "source": [
    "depth=60\n",
    "\n",
    "ct_viewer(pix)\n",
    "print (round((depth/im.GetSpacing()[1])))\n",
    "depthim=int((round(depth/im.GetSpacing()[1])))\n",
    "#print depthim\n",
    "myslice=pix[:, depthim, :]\n",
    "plt.imshow(myslice, cmap=plt.cm.jet)\n",
    "\n",
    "\n",
    "y=myslice[im.GetSize()[0]/2, :]\n",
    "y=np.flipud(y)\n",
    "x=np.arange(0,y.shape[0])\n",
    "x=x*2.5\n",
    "x=x-(x.max()/2)\n",
    "trace=np.column_stack((x,y))\n"
   ]
  },
  {
   "cell_type": "markdown",
   "metadata": {},
   "source": [
    "# Plot LDP"
   ]
  },
  {
   "cell_type": "code",
   "execution_count": 39,
   "metadata": {},
   "outputs": [
    {
     "data": {
      "application/vnd.plotly.v1+json": {
       "data": [
        {
         "mode": "lines+markers",
         "name": "cross",
         "type": "scatter",
         "x": [
          -198.75,
          -196.25,
          -193.75,
          -191.25,
          -188.75,
          -186.25,
          -183.75,
          -181.25,
          -178.75,
          -176.25,
          -173.75,
          -171.25,
          -168.75,
          -166.25,
          -163.75,
          -161.25,
          -158.75,
          -156.25,
          -153.75,
          -151.25,
          -148.75,
          -146.25,
          -143.75,
          -141.25,
          -138.75,
          -136.25,
          -133.75,
          -131.25,
          -128.75,
          -126.25,
          -123.75,
          -121.25,
          -118.75,
          -116.25,
          -113.75,
          -111.25,
          -108.75,
          -106.25,
          -103.75,
          -101.25,
          -98.75,
          -96.25,
          -93.75,
          -91.25,
          -88.75,
          -86.25,
          -83.75,
          -81.25,
          -78.75,
          -76.25,
          -73.75,
          -71.25,
          -68.75,
          -66.25,
          -63.75,
          -61.25,
          -58.75,
          -56.25,
          -53.75,
          -51.25,
          -48.75,
          -46.25,
          -43.75,
          -41.25,
          -38.75,
          -36.25,
          -33.75,
          -31.25,
          -28.75,
          -26.25,
          -23.75,
          -21.25,
          -18.75,
          -16.25,
          -13.75,
          -11.25,
          -8.75,
          -6.25,
          -3.75,
          -1.25,
          1.25,
          3.75,
          6.25,
          8.75,
          11.25,
          13.75,
          16.25,
          18.75,
          21.25,
          23.75,
          26.25,
          28.75,
          31.25,
          33.75,
          36.25,
          38.75,
          41.25,
          43.75,
          46.25,
          48.75,
          51.25,
          53.75,
          56.25,
          58.75,
          61.25,
          63.75,
          66.25,
          68.75,
          71.25,
          73.75,
          76.25,
          78.75,
          81.25,
          83.75,
          86.25,
          88.75,
          91.25,
          93.75,
          96.25,
          98.75,
          101.25,
          103.75,
          106.25,
          108.75,
          111.25,
          113.75,
          116.25,
          118.75,
          121.25,
          123.75,
          126.25,
          128.75,
          131.25,
          133.75,
          136.25,
          138.75,
          141.25,
          143.75,
          146.25,
          148.75,
          151.25,
          153.75,
          156.25,
          158.75,
          161.25,
          163.75,
          166.25,
          168.75,
          171.25,
          173.75,
          176.25,
          178.75,
          181.25,
          183.75,
          186.25,
          188.75,
          191.25,
          193.75,
          196.25,
          198.75
         ],
         "y": [
          0,
          0,
          0,
          0,
          0,
          0,
          0,
          0,
          0,
          0,
          0,
          0,
          0,
          0,
          0,
          0,
          0,
          1198,
          1335,
          1335,
          1350,
          1382,
          1216,
          1170,
          1184,
          1213,
          3083,
          3175,
          3125,
          3162,
          4566,
          4579,
          4820,
          5081,
          6258,
          6528,
          7212,
          6520,
          5222,
          7022,
          10508,
          12911,
          18156,
          31124,
          37991,
          48813,
          70733,
          73811,
          84597,
          117345,
          156696,
          225619,
          269660,
          341379,
          430671,
          500477,
          603766,
          700600,
          806960,
          955453,
          1029162,
          1138604,
          1146606,
          1256949,
          1314881,
          1317251,
          1400728,
          1434515,
          1490371,
          1469816,
          1651910,
          1735469,
          1922746,
          1980397,
          2036369,
          2041977,
          2020319,
          2032981,
          2064484,
          1931312,
          1998178,
          1941831,
          1923875,
          1900100,
          1907642,
          1876541,
          1831242,
          1885752,
          1845564,
          1829100,
          1797038,
          1821451,
          1821335,
          1763393,
          1820296,
          1807953,
          1729712,
          1655809,
          1561011,
          1361899,
          1196451,
          964384,
          715554,
          540174,
          408665,
          269762,
          189636,
          135637,
          107932,
          75551,
          52317,
          39735,
          27689,
          30263,
          28037,
          21799,
          22026,
          19146,
          11260,
          7410,
          8913,
          5888,
          4802,
          4793,
          5336,
          3780,
          2974,
          4368,
          3020,
          3086,
          2346,
          1976,
          1568,
          3087,
          2409,
          2327,
          2804,
          2556,
          1665,
          2179,
          2193,
          1711,
          0,
          0,
          0,
          0,
          0,
          0,
          0,
          0,
          0,
          0,
          0,
          0,
          0,
          0,
          0,
          0,
          0,
          0
         ]
        }
       ],
       "layout": {}
      },
      "text/html": [
       "<div id=\"76399293-5aa0-4ec4-bb5f-1356273acef8\" style=\"height: 525px; width: 100%;\" class=\"plotly-graph-div\"></div><script type=\"text/javascript\">require([\"plotly\"], function(Plotly) { window.PLOTLYENV=window.PLOTLYENV || {};window.PLOTLYENV.BASE_URL=\"https://plot.ly\";Plotly.newPlot(\"76399293-5aa0-4ec4-bb5f-1356273acef8\", [{\"y\": [0.0, 0.0, 0.0, 0.0, 0.0, 0.0, 0.0, 0.0, 0.0, 0.0, 0.0, 0.0, 0.0, 0.0, 0.0, 0.0, 0.0, 1198.0, 1335.0, 1335.0, 1350.0, 1382.0, 1216.0, 1170.0, 1184.0, 1213.0, 3083.0, 3175.0, 3125.0, 3162.0, 4566.0, 4579.0, 4820.0, 5081.0, 6258.0, 6528.0, 7212.0, 6520.0, 5222.0, 7022.0, 10508.0, 12911.0, 18156.0, 31124.0, 37991.0, 48813.0, 70733.0, 73811.0, 84597.0, 117345.0, 156696.0, 225619.0, 269660.0, 341379.0, 430671.0, 500477.0, 603766.0, 700600.0, 806960.0, 955453.0, 1029162.0, 1138604.0, 1146606.0, 1256949.0, 1314881.0, 1317251.0, 1400728.0, 1434515.0, 1490371.0, 1469816.0, 1651910.0, 1735469.0, 1922746.0, 1980397.0, 2036369.0, 2041977.0, 2020319.0, 2032981.0, 2064484.0, 1931312.0, 1998178.0, 1941831.0, 1923875.0, 1900100.0, 1907642.0, 1876541.0, 1831242.0, 1885752.0, 1845564.0, 1829100.0, 1797038.0, 1821451.0, 1821335.0, 1763393.0, 1820296.0, 1807953.0, 1729712.0, 1655809.0, 1561011.0, 1361899.0, 1196451.0, 964384.0, 715554.0, 540174.0, 408665.0, 269762.0, 189636.0, 135637.0, 107932.0, 75551.0, 52317.0, 39735.0, 27689.0, 30263.0, 28037.0, 21799.0, 22026.0, 19146.0, 11260.0, 7410.0, 8913.0, 5888.0, 4802.0, 4793.0, 5336.0, 3780.0, 2974.0, 4368.0, 3020.0, 3086.0, 2346.0, 1976.0, 1568.0, 3087.0, 2409.0, 2327.0, 2804.0, 2556.0, 1665.0, 2179.0, 2193.0, 1711.0, 0.0, 0.0, 0.0, 0.0, 0.0, 0.0, 0.0, 0.0, 0.0, 0.0, 0.0, 0.0, 0.0, 0.0, 0.0, 0.0, 0.0, 0.0], \"x\": [-198.75, -196.25, -193.75, -191.25, -188.75, -186.25, -183.75, -181.25, -178.75, -176.25, -173.75, -171.25, -168.75, -166.25, -163.75, -161.25, -158.75, -156.25, -153.75, -151.25, -148.75, -146.25, -143.75, -141.25, -138.75, -136.25, -133.75, -131.25, -128.75, -126.25, -123.75, -121.25, -118.75, -116.25, -113.75, -111.25, -108.75, -106.25, -103.75, -101.25, -98.75, -96.25, -93.75, -91.25, -88.75, -86.25, -83.75, -81.25, -78.75, -76.25, -73.75, -71.25, -68.75, -66.25, -63.75, -61.25, -58.75, -56.25, -53.75, -51.25, -48.75, -46.25, -43.75, -41.25, -38.75, -36.25, -33.75, -31.25, -28.75, -26.25, -23.75, -21.25, -18.75, -16.25, -13.75, -11.25, -8.75, -6.25, -3.75, -1.25, 1.25, 3.75, 6.25, 8.75, 11.25, 13.75, 16.25, 18.75, 21.25, 23.75, 26.25, 28.75, 31.25, 33.75, 36.25, 38.75, 41.25, 43.75, 46.25, 48.75, 51.25, 53.75, 56.25, 58.75, 61.25, 63.75, 66.25, 68.75, 71.25, 73.75, 76.25, 78.75, 81.25, 83.75, 86.25, 88.75, 91.25, 93.75, 96.25, 98.75, 101.25, 103.75, 106.25, 108.75, 111.25, 113.75, 116.25, 118.75, 121.25, 123.75, 126.25, 128.75, 131.25, 133.75, 136.25, 138.75, 141.25, 143.75, 146.25, 148.75, 151.25, 153.75, 156.25, 158.75, 161.25, 163.75, 166.25, 168.75, 171.25, 173.75, 176.25, 178.75, 181.25, 183.75, 186.25, 188.75, 191.25, 193.75, 196.25, 198.75], \"type\": \"scatter\", \"mode\": \"lines+markers\", \"name\": \"cross\"}], {}, {\"linkText\": \"Export to plot.ly\", \"showLink\": true})});</script>"
      ],
      "text/vnd.plotly.v1+html": [
       "<div id=\"76399293-5aa0-4ec4-bb5f-1356273acef8\" style=\"height: 525px; width: 100%;\" class=\"plotly-graph-div\"></div><script type=\"text/javascript\">require([\"plotly\"], function(Plotly) { window.PLOTLYENV=window.PLOTLYENV || {};window.PLOTLYENV.BASE_URL=\"https://plot.ly\";Plotly.newPlot(\"76399293-5aa0-4ec4-bb5f-1356273acef8\", [{\"y\": [0.0, 0.0, 0.0, 0.0, 0.0, 0.0, 0.0, 0.0, 0.0, 0.0, 0.0, 0.0, 0.0, 0.0, 0.0, 0.0, 0.0, 1198.0, 1335.0, 1335.0, 1350.0, 1382.0, 1216.0, 1170.0, 1184.0, 1213.0, 3083.0, 3175.0, 3125.0, 3162.0, 4566.0, 4579.0, 4820.0, 5081.0, 6258.0, 6528.0, 7212.0, 6520.0, 5222.0, 7022.0, 10508.0, 12911.0, 18156.0, 31124.0, 37991.0, 48813.0, 70733.0, 73811.0, 84597.0, 117345.0, 156696.0, 225619.0, 269660.0, 341379.0, 430671.0, 500477.0, 603766.0, 700600.0, 806960.0, 955453.0, 1029162.0, 1138604.0, 1146606.0, 1256949.0, 1314881.0, 1317251.0, 1400728.0, 1434515.0, 1490371.0, 1469816.0, 1651910.0, 1735469.0, 1922746.0, 1980397.0, 2036369.0, 2041977.0, 2020319.0, 2032981.0, 2064484.0, 1931312.0, 1998178.0, 1941831.0, 1923875.0, 1900100.0, 1907642.0, 1876541.0, 1831242.0, 1885752.0, 1845564.0, 1829100.0, 1797038.0, 1821451.0, 1821335.0, 1763393.0, 1820296.0, 1807953.0, 1729712.0, 1655809.0, 1561011.0, 1361899.0, 1196451.0, 964384.0, 715554.0, 540174.0, 408665.0, 269762.0, 189636.0, 135637.0, 107932.0, 75551.0, 52317.0, 39735.0, 27689.0, 30263.0, 28037.0, 21799.0, 22026.0, 19146.0, 11260.0, 7410.0, 8913.0, 5888.0, 4802.0, 4793.0, 5336.0, 3780.0, 2974.0, 4368.0, 3020.0, 3086.0, 2346.0, 1976.0, 1568.0, 3087.0, 2409.0, 2327.0, 2804.0, 2556.0, 1665.0, 2179.0, 2193.0, 1711.0, 0.0, 0.0, 0.0, 0.0, 0.0, 0.0, 0.0, 0.0, 0.0, 0.0, 0.0, 0.0, 0.0, 0.0, 0.0, 0.0, 0.0, 0.0], \"x\": [-198.75, -196.25, -193.75, -191.25, -188.75, -186.25, -183.75, -181.25, -178.75, -176.25, -173.75, -171.25, -168.75, -166.25, -163.75, -161.25, -158.75, -156.25, -153.75, -151.25, -148.75, -146.25, -143.75, -141.25, -138.75, -136.25, -133.75, -131.25, -128.75, -126.25, -123.75, -121.25, -118.75, -116.25, -113.75, -111.25, -108.75, -106.25, -103.75, -101.25, -98.75, -96.25, -93.75, -91.25, -88.75, -86.25, -83.75, -81.25, -78.75, -76.25, -73.75, -71.25, -68.75, -66.25, -63.75, -61.25, -58.75, -56.25, -53.75, -51.25, -48.75, -46.25, -43.75, -41.25, -38.75, -36.25, -33.75, -31.25, -28.75, -26.25, -23.75, -21.25, -18.75, -16.25, -13.75, -11.25, -8.75, -6.25, -3.75, -1.25, 1.25, 3.75, 6.25, 8.75, 11.25, 13.75, 16.25, 18.75, 21.25, 23.75, 26.25, 28.75, 31.25, 33.75, 36.25, 38.75, 41.25, 43.75, 46.25, 48.75, 51.25, 53.75, 56.25, 58.75, 61.25, 63.75, 66.25, 68.75, 71.25, 73.75, 76.25, 78.75, 81.25, 83.75, 86.25, 88.75, 91.25, 93.75, 96.25, 98.75, 101.25, 103.75, 106.25, 108.75, 111.25, 113.75, 116.25, 118.75, 121.25, 123.75, 126.25, 128.75, 131.25, 133.75, 136.25, 138.75, 141.25, 143.75, 146.25, 148.75, 151.25, 153.75, 156.25, 158.75, 161.25, 163.75, 166.25, 168.75, 171.25, 173.75, 176.25, 178.75, 181.25, 183.75, 186.25, 188.75, 191.25, 193.75, 196.25, 198.75], \"type\": \"scatter\", \"mode\": \"lines+markers\", \"name\": \"cross\"}], {}, {\"linkText\": \"Export to plot.ly\", \"showLink\": true})});</script>"
      ]
     },
     "metadata": {},
     "output_type": "display_data"
    },
    {
     "data": {
      "text/html": [
       "<script>function downloadimage(format, height, width, filename) {var p = document.getElementById('76399293-5aa0-4ec4-bb5f-1356273acef8');Plotly.downloadImage(p, {format: format, height: height, width: width, filename: filename});};if(document.readyState == 'complete') {{downloadimage('svg', 600, 800, 'plot_image');}}</script>"
      ],
      "text/plain": [
       "<IPython.core.display.HTML object>"
      ]
     },
     "metadata": {},
     "output_type": "display_data"
    }
   ],
   "source": [
    "data= Scatter(x = x,\n",
    "               y = y,\n",
    "               name='cross',\n",
    "               mode = 'lines+markers')\n",
    "fig = dict(data=[data])\n",
    "iplot(fig, image='svg')"
   ]
  },
  {
   "cell_type": "code",
   "execution_count": 40,
   "metadata": {},
   "outputs": [],
   "source": [
    "h=heter[1]\n",
    "np.savetxt('/media/sf_CRCT/JupyterNotebook/data/gammaIndex/article/curie/'+energy+'/'+h+'/'+name+str(depth)+'.csv', trace, delimiter=',', header='pas,value', comments='')"
   ]
  }
 ],
 "metadata": {
  "kernelspec": {
   "display_name": "Python 2",
   "language": "python",
   "name": "python2"
  },
  "language_info": {
   "codemirror_mode": {
    "name": "ipython",
    "version": 2
   },
   "file_extension": ".py",
   "mimetype": "text/x-python",
   "name": "python",
   "nbconvert_exporter": "python",
   "pygments_lexer": "ipython2",
   "version": "2.7.12"
  }
 },
 "nbformat": 4,
 "nbformat_minor": 2
}
