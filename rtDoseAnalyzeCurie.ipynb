{
 "cells": [
  {
   "cell_type": "code",
   "execution_count": 229,
   "metadata": {},
   "outputs": [
    {
     "data": {
      "text/html": [
       "<script>requirejs.config({paths: { 'plotly': ['https://cdn.plot.ly/plotly-latest.min']},});if(!window.Plotly) {{require(['plotly'],function(plotly) {window.Plotly=plotly;});}}</script>"
      ],
      "text/vnd.plotly.v1+html": [
       "<script>requirejs.config({paths: { 'plotly': ['https://cdn.plot.ly/plotly-latest.min']},});if(!window.Plotly) {{require(['plotly'],function(plotly) {window.Plotly=plotly;});}}</script>"
      ]
     },
     "metadata": {},
     "output_type": "display_data"
    }
   ],
   "source": [
    "import dicom as dcm\n",
    "import SimpleITK as sitk\n",
    "import numpy as np \n",
    "import array\n",
    "from numpy import unravel_index\n",
    "import matplotlib.pyplot as plt\n",
    "%matplotlib inline\n",
    "\n",
    "from ipywidgets import interact\n",
    "\n",
    "import plotly.offline as py\n",
    "\n",
    "import plotly.graph_objs as go\n",
    "py.offline.init_notebook_mode(connected=True)\n",
    "\n",
    "def ct_viewer(im):\n",
    "    def plot_image(myslice):\n",
    "        plt.imshow(im[myslice])#, cmap=plt.cm.gray\n",
    "    interact(plot_image, myslice=(0, im.shape[0]))\n",
    "    return;"
   ]
  },
  {
   "cell_type": "markdown",
   "metadata": {},
   "source": [
    "# From dicom RT DOSE to RAW image "
   ]
  },
  {
   "cell_type": "code",
   "execution_count": 231,
   "metadata": {},
   "outputs": [
    {
     "name": "stdout",
     "output_type": "stream",
     "text": [
      "9emcb\n"
     ]
    }
   ],
   "source": [
    "energy='9e'\n",
    "heter='bone'\n",
    "name=energy+'mc'+heter[0]\n",
    "print(name)\n",
    "\n",
    "rd=dcm.read_file('/media/sf_Documents/phd/data/JupyterNotebook/image/curie/'+energy+'/'+heter+'/'+name+'.dcm')\n",
    "rdpix=rd.pixel_array.astype(np.float32)\n",
    "\n",
    "rdim=sitk.GetImageFromArray(rdpix)\n",
    "\n",
    "#Set origin of image from rt dose value\n",
    "origin=[]\n",
    "for val in rd.ImagePositionPatient: origin.append(float(val))\n",
    "rdim.SetOrigin(origin)\n",
    "\n",
    "#Set spacing of image from rt dose value (x et y)\n",
    "spacing=[]\n",
    "for val in rd.PixelSpacing: spacing.append(float(val))\n",
    "\n",
    "#for z direction\n",
    "spacez=float(rd.GridFrameOffsetVector[1]-rd.GridFrameOffsetVector[0])\n",
    "spacing.append(spacez)\n",
    "rdim.SetSpacing(spacing)\n",
    "\n",
    "sitk.WriteImage(rdim, '/media/sf_Documents/phd/data/JupyterNotebook/image/curie/'+energy+'/'+heter+'/'+name+'.mhd')"
   ]
  },
  {
   "cell_type": "markdown",
   "metadata": {},
   "source": [
    "# Read RAW image"
   ]
  },
  {
   "cell_type": "code",
   "execution_count": 232,
   "metadata": {},
   "outputs": [
    {
     "name": "stdout",
     "output_type": "stream",
     "text": [
      "origin:  (-198.75, -198.75, -200.0)\n",
      "spacing:  (2.5, 2.5, 2.5)\n",
      "size:  (160, 160, 161)\n"
     ]
    },
    {
     "data": {
      "application/vnd.jupyter.widget-view+json": {
       "model_id": "91c6f1a2045d46bc8ace2f964eb2d4e6",
       "version_major": 2,
       "version_minor": 0
      },
      "text/plain": [
       "interactive(children=(IntSlider(value=80, description='myslice', max=161), Output()), _dom_classes=('widget-in…"
      ]
     },
     "metadata": {},
     "output_type": "display_data"
    }
   ],
   "source": [
    "im=sitk.ReadImage('/media/sf_Documents/phd/data/JupyterNotebook/image/curie/'+energy+'/'+heter+'/'+name+'.mhd')\n",
    "pix=sitk.GetArrayFromImage(im)\n",
    "print('origin: ', im.GetOrigin())\n",
    "print('spacing: ',im.GetSpacing())\n",
    "print('size: ', im.GetSize())\n",
    "ct_viewer(pix)"
   ]
  },
  {
   "cell_type": "markdown",
   "metadata": {},
   "source": [
    "# Get LDP"
   ]
  },
  {
   "cell_type": "code",
   "execution_count": 233,
   "metadata": {},
   "outputs": [
    {
     "data": {
      "application/vnd.jupyter.widget-view+json": {
       "model_id": "56bf7ef1c2de44b3a286550c708214ba",
       "version_major": 2,
       "version_minor": 0
      },
      "text/plain": [
       "interactive(children=(IntSlider(value=80, description='myslice', max=161), Output()), _dom_classes=('widget-in…"
      ]
     },
     "metadata": {},
     "output_type": "display_data"
    },
    {
     "name": "stdout",
     "output_type": "stream",
     "text": [
      "8\n"
     ]
    },
    {
     "data": {
      "image/png": "[encoded data removed]",
      "text/plain": [
       "<matplotlib.figure.Figure at 0x7f25eedb7b00>"
      ]
     },
     "metadata": {
      "needs_background": "light"
     },
     "output_type": "display_data"
    }
   ],
   "source": [
    "depth=20\n",
    "\n",
    "ct_viewer(pix)\n",
    "print (round((depth/im.GetSpacing()[1])))\n",
    "depthim=int((round(depth/im.GetSpacing()[1])))\n",
    "#print depthim\n",
    "myslice=pix[:, depthim, :]\n",
    "plt.imshow(myslice, cmap=plt.cm.jet)\n",
    "\n",
    "\n",
    "y=myslice[int(im.GetSize()[0]/2), :]\n",
    "y=np.flipud(y)\n",
    "x=np.arange(0,y.shape[0])\n",
    "x=x*im.GetSpacing()[0]\n",
    "x=x-(x.max()/2)\n",
    "trace=np.column_stack((x,y))\n"
   ]
  },
  {
   "cell_type": "markdown",
   "metadata": {},
   "source": [
    "# Plot LDP"
   ]
  },
  {
   "cell_type": "code",
   "execution_count": 234,
   "metadata": {},
   "outputs": [
    {
     "data": {
      "application/vnd.plotly.v1+json": {
       "data": [
        {
         "mode": "lines+markers",
         "name": "cross",
         "type": "scatter",
         "x": [
          -198.75,
          -196.25,
          -193.75,
          -191.25,
          -188.75,
          -186.25,
          -183.75,
          -181.25,
          -178.75,
          -176.25,
          -173.75,
          -171.25,
          -168.75,
          -166.25,
          -163.75,
          -161.25,
          -158.75,
          -156.25,
          -153.75,
          -151.25,
          -148.75,
          -146.25,
          -143.75,
          -141.25,
          -138.75,
          -136.25,
          -133.75,
          -131.25,
          -128.75,
          -126.25,
          -123.75,
          -121.25,
          -118.75,
          -116.25,
          -113.75,
          -111.25,
          -108.75,
          -106.25,
          -103.75,
          -101.25,
          -98.75,
          -96.25,
          -93.75,
          -91.25,
          -88.75,
          -86.25,
          -83.75,
          -81.25,
          -78.75,
          -76.25,
          -73.75,
          -71.25,
          -68.75,
          -66.25,
          -63.75,
          -61.25,
          -58.75,
          -56.25,
          -53.75,
          -51.25,
          -48.75,
          -46.25,
          -43.75,
          -41.25,
          -38.75,
          -36.25,
          -33.75,
          -31.25,
          -28.75,
          -26.25,
          -23.75,
          -21.25,
          -18.75,
          -16.25,
          -13.75,
          -11.25,
          -8.75,
          -6.25,
          -3.75,
          -1.25,
          1.25,
          3.75,
          6.25,
          8.75,
          11.25,
          13.75,
          16.25,
          18.75,
          21.25,
          23.75,
          26.25,
          28.75,
          31.25,
          33.75,
          36.25,
          38.75,
          41.25,
          43.75,
          46.25,
          48.75,
          51.25,
          53.75,
          56.25,
          58.75,
          61.25,
          63.75,
          66.25,
          68.75,
          71.25,
          73.75,
          76.25,
          78.75,
          81.25,
          83.75,
          86.25,
          88.75,
          91.25,
          93.75,
          96.25,
          98.75,
          101.25,
          103.75,
          106.25,
          108.75,
          111.25,
          113.75,
          116.25,
          118.75,
          121.25,
          123.75,
          126.25,
          128.75,
          131.25,
          133.75,
          136.25,
          138.75,
          141.25,
          143.75,
          146.25,
          148.75,
          151.25,
          153.75,
          156.25,
          158.75,
          161.25,
          163.75,
          166.25,
          168.75,
          171.25,
          173.75,
          176.25,
          178.75,
          181.25,
          183.75,
          186.25,
          188.75,
          191.25,
          193.75,
          196.25,
          198.75
         ],
         "y": [
          0,
          0,
          0,
          0,
          0,
          0,
          0,
          0,
          0,
          0,
          0,
          0,
          0,
          0,
          0,
          0,
          0,
          372,
          829,
          581,
          574,
          1043,
          913,
          307,
          969,
          450,
          1406,
          736,
          751,
          751,
          1334,
          1334,
          1326,
          1326,
          791,
          784,
          2495,
          783,
          735,
          2476,
          1460,
          2258,
          5740,
          3450,
          4478,
          6890,
          6145,
          7947,
          16715,
          16856,
          22374,
          37429,
          62785,
          75984,
          143583,
          215765,
          330984,
          514331,
          757059,
          1076753,
          1335402,
          1686919,
          1861063,
          1903683,
          1878347,
          2016541,
          2080479,
          2025328,
          2003800,
          2019305,
          2001043,
          1965173,
          2041908,
          1982480,
          1970562,
          2013825,
          2002043,
          2026297,
          2083270,
          2109557,
          1780409,
          1655524,
          1690504,
          1713518,
          1661144,
          1617373,
          1723873,
          1643431,
          1706824,
          1694339,
          1670509,
          1663103,
          1741236,
          1660882,
          1669093,
          1587949,
          1621756,
          1458452,
          1369245,
          1193351,
          928616,
          663903,
          429486,
          250414,
          160399,
          89241,
          39933,
          17667,
          6410,
          5929,
          2698,
          2343,
          2023,
          1240,
          1230,
          1043,
          2560,
          1215,
          1550,
          1504,
          1551,
          1542,
          936,
          936,
          991,
          938,
          1603,
          1396,
          2093,
          1550,
          411,
          395,
          395,
          419,
          464,
          472,
          464,
          464,
          272,
          806,
          121,
          121,
          0,
          0,
          0,
          0,
          0,
          0,
          0,
          0,
          0,
          0,
          0,
          0,
          0,
          0,
          0,
          0,
          0,
          0
         ]
        }
       ],
       "layout": {}
      },
      "text/html": [
       "<div id=\"45c99d7b-5c0f-45a4-99cc-a731cf2c9154\" style=\"height: 525px; width: 100%;\" class=\"plotly-graph-div\"></div><script type=\"text/javascript\">require([\"plotly\"], function(Plotly) { window.PLOTLYENV=window.PLOTLYENV || {};window.PLOTLYENV.BASE_URL=\"https://plot.ly\";Plotly.newPlot(\"45c99d7b-5c0f-45a4-99cc-a731cf2c9154\", [{\"type\": \"scatter\", \"x\": [-198.75, -196.25, -193.75, -191.25, -188.75, -186.25, -183.75, -181.25, -178.75, -176.25, -173.75, -171.25, -168.75, -166.25, -163.75, -161.25, -158.75, -156.25, -153.75, -151.25, -148.75, -146.25, -143.75, -141.25, -138.75, -136.25, -133.75, -131.25, -128.75, -126.25, -123.75, -121.25, -118.75, -116.25, -113.75, -111.25, -108.75, -106.25, -103.75, -101.25, -98.75, -96.25, -93.75, -91.25, -88.75, -86.25, -83.75, -81.25, -78.75, -76.25, -73.75, -71.25, -68.75, -66.25, -63.75, -61.25, -58.75, -56.25, -53.75, -51.25, -48.75, -46.25, -43.75, -41.25, -38.75, -36.25, -33.75, -31.25, -28.75, -26.25, -23.75, -21.25, -18.75, -16.25, -13.75, -11.25, -8.75, -6.25, -3.75, -1.25, 1.25, 3.75, 6.25, 8.75, 11.25, 13.75, 16.25, 18.75, 21.25, 23.75, 26.25, 28.75, 31.25, 33.75, 36.25, 38.75, 41.25, 43.75, 46.25, 48.75, 51.25, 53.75, 56.25, 58.75, 61.25, 63.75, 66.25, 68.75, 71.25, 73.75, 76.25, 78.75, 81.25, 83.75, 86.25, 88.75, 91.25, 93.75, 96.25, 98.75, 101.25, 103.75, 106.25, 108.75, 111.25, 113.75, 116.25, 118.75, 121.25, 123.75, 126.25, 128.75, 131.25, 133.75, 136.25, 138.75, 141.25, 143.75, 146.25, 148.75, 151.25, 153.75, 156.25, 158.75, 161.25, 163.75, 166.25, 168.75, 171.25, 173.75, 176.25, 178.75, 181.25, 183.75, 186.25, 188.75, 191.25, 193.75, 196.25, 198.75], \"y\": [0.0, 0.0, 0.0, 0.0, 0.0, 0.0, 0.0, 0.0, 0.0, 0.0, 0.0, 0.0, 0.0, 0.0, 0.0, 0.0, 0.0, 372.0, 829.0, 581.0, 574.0, 1043.0, 913.0, 307.0, 969.0, 450.0, 1406.0, 736.0, 751.0, 751.0, 1334.0, 1334.0, 1326.0, 1326.0, 791.0, 784.0, 2495.0, 783.0, 735.0, 2476.0, 1460.0, 2258.0, 5740.0, 3450.0, 4478.0, 6890.0, 6145.0, 7947.0, 16715.0, 16856.0, 22374.0, 37429.0, 62785.0, 75984.0, 143583.0, 215765.0, 330984.0, 514331.0, 757059.0, 1076753.0, 1335402.0, 1686919.0, 1861063.0, 1903683.0, 1878347.0, 2016541.0, 2080479.0, 2025328.0, 2003800.0, 2019305.0, 2001043.0, 1965173.0, 2041908.0, 1982480.0, 1970562.0, 2013825.0, 2002043.0, 2026297.0, 2083270.0, 2109557.0, 1780409.0, 1655524.0, 1690504.0, 1713518.0, 1661144.0, 1617373.0, 1723873.0, 1643431.0, 1706824.0, 1694339.0, 1670509.0, 1663103.0, 1741236.0, 1660882.0, 1669093.0, 1587949.0, 1621756.0, 1458452.0, 1369245.0, 1193351.0, 928616.0, 663903.0, 429486.0, 250414.0, 160399.0, 89241.0, 39933.0, 17667.0, 6410.0, 5929.0, 2698.0, 2343.0, 2023.0, 1240.0, 1230.0, 1043.0, 2560.0, 1215.0, 1550.0, 1504.0, 1551.0, 1542.0, 936.0, 936.0, 991.0, 938.0, 1603.0, 1396.0, 2093.0, 1550.0, 411.0, 395.0, 395.0, 419.0, 464.0, 472.0, 464.0, 464.0, 272.0, 806.0, 121.0, 121.0, 0.0, 0.0, 0.0, 0.0, 0.0, 0.0, 0.0, 0.0, 0.0, 0.0, 0.0, 0.0, 0.0, 0.0, 0.0, 0.0, 0.0, 0.0], \"name\": \"cross\", \"mode\": \"lines+markers\"}], {}, {\"showLink\": true, \"linkText\": \"Export to plot.ly\"})});</script>"
      ],
      "text/vnd.plotly.v1+html": [
       "<div id=\"45c99d7b-5c0f-45a4-99cc-a731cf2c9154\" style=\"height: 525px; width: 100%;\" class=\"plotly-graph-div\"></div><script type=\"text/javascript\">require([\"plotly\"], function(Plotly) { window.PLOTLYENV=window.PLOTLYENV || {};window.PLOTLYENV.BASE_URL=\"https://plot.ly\";Plotly.newPlot(\"45c99d7b-5c0f-45a4-99cc-a731cf2c9154\", [{\"type\": \"scatter\", \"x\": [-198.75, -196.25, -193.75, -191.25, -188.75, -186.25, -183.75, -181.25, -178.75, -176.25, -173.75, -171.25, -168.75, -166.25, -163.75, -161.25, -158.75, -156.25, -153.75, -151.25, -148.75, -146.25, -143.75, -141.25, -138.75, -136.25, -133.75, -131.25, -128.75, -126.25, -123.75, -121.25, -118.75, -116.25, -113.75, -111.25, -108.75, -106.25, -103.75, -101.25, -98.75, -96.25, -93.75, -91.25, -88.75, -86.25, -83.75, -81.25, -78.75, -76.25, -73.75, -71.25, -68.75, -66.25, -63.75, -61.25, -58.75, -56.25, -53.75, -51.25, -48.75, -46.25, -43.75, -41.25, -38.75, -36.25, -33.75, -31.25, -28.75, -26.25, -23.75, -21.25, -18.75, -16.25, -13.75, -11.25, -8.75, -6.25, -3.75, -1.25, 1.25, 3.75, 6.25, 8.75, 11.25, 13.75, 16.25, 18.75, 21.25, 23.75, 26.25, 28.75, 31.25, 33.75, 36.25, 38.75, 41.25, 43.75, 46.25, 48.75, 51.25, 53.75, 56.25, 58.75, 61.25, 63.75, 66.25, 68.75, 71.25, 73.75, 76.25, 78.75, 81.25, 83.75, 86.25, 88.75, 91.25, 93.75, 96.25, 98.75, 101.25, 103.75, 106.25, 108.75, 111.25, 113.75, 116.25, 118.75, 121.25, 123.75, 126.25, 128.75, 131.25, 133.75, 136.25, 138.75, 141.25, 143.75, 146.25, 148.75, 151.25, 153.75, 156.25, 158.75, 161.25, 163.75, 166.25, 168.75, 171.25, 173.75, 176.25, 178.75, 181.25, 183.75, 186.25, 188.75, 191.25, 193.75, 196.25, 198.75], \"y\": [0.0, 0.0, 0.0, 0.0, 0.0, 0.0, 0.0, 0.0, 0.0, 0.0, 0.0, 0.0, 0.0, 0.0, 0.0, 0.0, 0.0, 372.0, 829.0, 581.0, 574.0, 1043.0, 913.0, 307.0, 969.0, 450.0, 1406.0, 736.0, 751.0, 751.0, 1334.0, 1334.0, 1326.0, 1326.0, 791.0, 784.0, 2495.0, 783.0, 735.0, 2476.0, 1460.0, 2258.0, 5740.0, 3450.0, 4478.0, 6890.0, 6145.0, 7947.0, 16715.0, 16856.0, 22374.0, 37429.0, 62785.0, 75984.0, 143583.0, 215765.0, 330984.0, 514331.0, 757059.0, 1076753.0, 1335402.0, 1686919.0, 1861063.0, 1903683.0, 1878347.0, 2016541.0, 2080479.0, 2025328.0, 2003800.0, 2019305.0, 2001043.0, 1965173.0, 2041908.0, 1982480.0, 1970562.0, 2013825.0, 2002043.0, 2026297.0, 2083270.0, 2109557.0, 1780409.0, 1655524.0, 1690504.0, 1713518.0, 1661144.0, 1617373.0, 1723873.0, 1643431.0, 1706824.0, 1694339.0, 1670509.0, 1663103.0, 1741236.0, 1660882.0, 1669093.0, 1587949.0, 1621756.0, 1458452.0, 1369245.0, 1193351.0, 928616.0, 663903.0, 429486.0, 250414.0, 160399.0, 89241.0, 39933.0, 17667.0, 6410.0, 5929.0, 2698.0, 2343.0, 2023.0, 1240.0, 1230.0, 1043.0, 2560.0, 1215.0, 1550.0, 1504.0, 1551.0, 1542.0, 936.0, 936.0, 991.0, 938.0, 1603.0, 1396.0, 2093.0, 1550.0, 411.0, 395.0, 395.0, 419.0, 464.0, 472.0, 464.0, 464.0, 272.0, 806.0, 121.0, 121.0, 0.0, 0.0, 0.0, 0.0, 0.0, 0.0, 0.0, 0.0, 0.0, 0.0, 0.0, 0.0, 0.0, 0.0, 0.0, 0.0, 0.0, 0.0], \"name\": \"cross\", \"mode\": \"lines+markers\"}], {}, {\"showLink\": true, \"linkText\": \"Export to plot.ly\"})});</script>"
      ]
     },
     "metadata": {},
     "output_type": "display_data"
    },
    {
     "data": {
      "text/html": [
       "<script>function downloadimage(format, height, width, filename) {var p = document.getElementById('45c99d7b-5c0f-45a4-99cc-a731cf2c9154');Plotly.downloadImage(p, {format: format, height: height, width: width, filename: filename});};if(document.readyState == 'complete') {{downloadimage('svg', 600, 800, 'plot_image');}}</script>"
      ],
      "text/plain": [
       "<IPython.core.display.HTML object>"
      ]
     },
     "metadata": {},
     "output_type": "display_data"
    }
   ],
   "source": [
    "data= go.Scatter(x = x,\n",
    "               y = y,\n",
    "               name='cross',\n",
    "               mode = 'lines+markers')\n",
    "fig = go.Figure(data=[data])\n",
    "py.iplot(fig, image='svg')"
   ]
  },
  {
   "cell_type": "code",
   "execution_count": 235,
   "metadata": {},
   "outputs": [],
   "source": [
    "h=heter[1]\n",
    "np.savetxt('/media/sf_Documents/phd/data/JupyterNotebook/gammaIndex/estro2018/study/media/'+energy+'/emc/dax/'+energy+'_'+heter+str(depth)+'_emc.csv', trace, delimiter=',', header='pas,value', comments='')"
   ]
  }
 ],
 "metadata": {
  "kernelspec": {
   "display_name": "Python 3",
   "language": "python",
   "name": "python3"
  },
  "language_info": {
   "codemirror_mode": {
    "name": "ipython",
    "version": 3
   },
   "file_extension": ".py",
   "mimetype": "text/x-python",
   "name": "python",
   "nbconvert_exporter": "python",
   "pygments_lexer": "ipython3",
   "version": "3.6.7"
  }
 },
 "nbformat": 4,
 "nbformat_minor": 2
}
