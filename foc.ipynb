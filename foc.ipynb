{
 "cells": [
  {
   "cell_type": "code",
   "execution_count": 1,
   "metadata": {},
   "outputs": [],
   "source": [
    "import SimpleITK as sitk\n",
    "import numpy as np \n"
   ]
  },
  {
   "cell_type": "code",
   "execution_count": 8,
   "metadata": {},
   "outputs": [],
   "source": [
    "name=\"foc_6X_1x1bis\"\n",
    "directory=\"/home/gate/Documents/phd/work/gateTrueBeamModel/tb/fullCreator/results/\""
   ]
  },
  {
   "cell_type": "code",
   "execution_count": 9,
   "metadata": {},
   "outputs": [
    {
     "name": "stdout",
     "output_type": "stream",
     "text": [
      "name: foc_6X_1x1bis\n",
      "origin:  (0.0, 0.0, 0.0)\n",
      "spacing:  (0.5, 0.5, 0.5)\n",
      "size:  (1, 1, 1)\n"
     ]
    }
   ],
   "source": [
    "#get the dose\n",
    "im=sitk.ReadImage(directory+name+'/media/'+name+'.mhd')\n",
    "pix=sitk.GetArrayFromImage(im)\n",
    "print('name:', name)\n",
    "print('origin: ', im.GetOrigin())\n",
    "print('spacing: ',im.GetSpacing())\n",
    "\n",
    "print('size: ', im.GetSize())\n",
    "\n",
    "#get the absolute uncertainty on the dose value \n",
    "im_aU=sitk.ReadImage(directory+name+'/media/'+name+'.total_AbsoluteUncertainty.mhd')\n",
    "pix_aU=sitk.GetArrayFromImage(im_aU)\n",
    "\n",
    "#get the relative uncertainty on the dose value \n",
    "im_rU=sitk.ReadImage(directory+name+'/media/'+name+'.total_RelativeUncertainty.mhd')\n",
    "pix_rU=sitk.GetArrayFromImage(im_rU)\n",
    "\n",
    "#same for dose to water \n",
    "#imW=sitk.ReadImage(directory+name+'/water/'+name+'.W.mhd')\n",
    "#pixW=sitk.GetArrayFromImage(imW)\n",
    "\n",
    "#get the absolute uncertainty on the dose to water value \n",
    "#im_aUW=sitk.ReadImage(directory+name+'/water/'+name+'.W.total_AbsoluteUncertainty.mhd')\n",
    "#pix_aUW=sitk.GetArrayFromImage(im_aUW)\n",
    "\n",
    "#get the relative uncertainty on the dose value \n",
    "#im_rUW=sitk.ReadImage(directory+name+'/water/'+name+'.W.total_RelativeUncertainty.mhd')\n",
    "#pix_rUW=sitk.GetArrayFromImage(im_rUW)\n",
    "\n",
    "\n",
    "#same for dose to Edep \n",
    "imE=sitk.ReadImage(directory+name+'/Edep/'+name+'.E.mhd')\n",
    "pixE=sitk.GetArrayFromImage(imE)\n",
    "\n",
    "#get the absolute uncertainty on the dose to water value \n",
    "im_aUE=sitk.ReadImage(directory+name+'/Edep/'+name+'.Edep.total_AbsoluteUncertainty.mhd')\n",
    "pix_aUE=sitk.GetArrayFromImage(im_aUE)\n",
    "\n",
    "#get the relative uncertainty on the dose value \n",
    "im_rUE=sitk.ReadImage(directory+name+'/Edep/'+name+'.Edep.total_RelativeUncertainty.mhd')\n",
    "pix_rUE=sitk.GetArrayFromImage(im_rUE)"
   ]
  },
  {
   "cell_type": "code",
   "execution_count": 10,
   "metadata": {},
   "outputs": [
    {
     "name": "stdout",
     "output_type": "stream",
     "text": [
      "dose: 0.00233103\n",
      "absolute uncertainty: 1.83151e-05\n",
      "relative uncertainty: 0.00785708\n",
      "\n",
      "\n",
      "Edep: 1818.64\n",
      "absolute uncertainty Edep : 14.2892\n",
      "relative uncertainty Edep: 0.00785708\n"
     ]
    }
   ],
   "source": [
    "dose=pix[0][0][0]\n",
    "absolute_uncertainty=pix_aU[0][0][0]\n",
    "relative_uncertainty=pix_rU[0][0][0]\n",
    "\n",
    "print('dose:', dose)\n",
    "print('absolute uncertainty:', absolute_uncertainty)\n",
    "print('relative uncertainty:', relative_uncertainty)\n",
    "\n",
    "print('')\n",
    "\n",
    "#doseW=pixW[0][0][0]\n",
    "#absolute_uncertaintyW=pix_aUW[0][0][0]\n",
    "#relative_uncertaintyW=pix_rUW[0][0][0]\n",
    "#print('dose to water:', doseW)\n",
    "#print('absolute uncertainty to water :', absolute_uncertaintyW)\n",
    "#print('relative uncertainty to water:', relative_uncertaintyW)\n",
    "\n",
    "print('')\n",
    "\n",
    "Edep=pixE[0][0][0]\n",
    "absolute_uncertaintyE=pix_aUE[0][0][0]\n",
    "relative_uncertaintyE=pix_rUE[0][0][0]\n",
    "print('Edep:', Edep)\n",
    "print('absolute uncertainty Edep :', absolute_uncertaintyE)\n",
    "print('relative uncertainty Edep:', relative_uncertaintyE)\n"
   ]
  },
  {
   "cell_type": "code",
   "execution_count": 33,
   "metadata": {},
   "outputs": [
    {
     "name": "stdout",
     "output_type": "stream",
     "text": [
      "['absolute dose', 'absolute uncertainty', 'relative uncertainty', 'absolute doseW', 'absolute uncertaintyW', 'relative uncertaintyW']\n",
      "[0.0004215116, 1.1219449e-06, 0.0026617178, 0.0004215116, 1.1219449e-06, 0.0026617178]\n"
     ]
    }
   ],
   "source": [
    "index=['absolute dose', 'absolute uncertainty', 'relative uncertainty', 'absolute doseW', 'absolute uncertaintyW', 'relative uncertaintyW']\n",
    "value=[dose, absolute_uncertainty, relative_uncertainty,doseW, absolute_uncertaintyW,relative_uncertaintyW]\n",
    "print(index)\n",
    "print(value)"
   ]
  },
  {
   "cell_type": "code",
   "execution_count": 31,
   "metadata": {},
   "outputs": [],
   "source": []
  }
 ],
 "metadata": {
  "kernelspec": {
   "display_name": "Python 3",
   "language": "python",
   "name": "python3"
  },
  "language_info": {
   "codemirror_mode": {
    "name": "ipython",
    "version": 3
   },
   "file_extension": ".py",
   "mimetype": "text/x-python",
   "name": "python",
   "nbconvert_exporter": "python",
   "pygments_lexer": "ipython3",
   "version": "3.6.7"
  }
 },
 "nbformat": 4,
 "nbformat_minor": 2
}
