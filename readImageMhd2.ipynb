{
 "cells": [
  {
   "cell_type": "markdown",
   "metadata": {},
   "source": [
    "# Read Image "
   ]
  },
  {
   "cell_type": "code",
   "execution_count": 66,
   "metadata": {},
   "outputs": [
    {
     "data": {
      "text/html": [
       "<script>requirejs.config({paths: { 'plotly': ['https://cdn.plot.ly/plotly-latest.min']},});if(!window.Plotly) {{require(['plotly'],function(plotly) {window.Plotly=plotly;});}}</script>"
      ],
      "text/vnd.plotly.v1+html": [
       "<script>requirejs.config({paths: { 'plotly': ['https://cdn.plot.ly/plotly-latest.min']},});if(!window.Plotly) {{require(['plotly'],function(plotly) {window.Plotly=plotly;});}}</script>"
      ]
     },
     "metadata": {},
     "output_type": "display_data"
    },
    {
     "data": {
      "text/html": [
       "<script>requirejs.config({paths: { 'plotly': ['https://cdn.plot.ly/plotly-latest.min']},});if(!window.Plotly) {{require(['plotly'],function(plotly) {window.Plotly=plotly;});}}</script>"
      ],
      "text/vnd.plotly.v1+html": [
       "<script>requirejs.config({paths: { 'plotly': ['https://cdn.plot.ly/plotly-latest.min']},});if(!window.Plotly) {{require(['plotly'],function(plotly) {window.Plotly=plotly;});}}</script>"
      ]
     },
     "metadata": {},
     "output_type": "display_data"
    }
   ],
   "source": [
    "import SimpleITK as sitk\n",
    "import numpy as np\n",
    "import matplotlib.pyplot as plt\n",
    "%matplotlib inline\n",
    "import plotly.offline as py\n",
    "import plotly.graph_objs as go\n",
    "py.offline.init_notebook_mode(connected=True)\n",
    "from ipywidgets import interact\n",
    "from plotly.offline import init_notebook_mode, plot, iplot\n",
    "from plotly.graph_objs import *\n",
    "\n",
    "init_notebook_mode(connected=True)"
   ]
  },
  {
   "cell_type": "code",
   "execution_count": 67,
   "metadata": {},
   "outputs": [],
   "source": [
    "def ct_viewer(im):\n",
    "    def plot_image(myslice):\n",
    "        plt.imshow(im[myslice], cmap=plt.cm.jet)\n",
    "    interact(plot_image, myslice=(0, im.shape[0]))\n",
    "    return; "
   ]
  },
  {
   "cell_type": "code",
   "execution_count": 68,
   "metadata": {},
   "outputs": [
    {
     "name": "stdout",
     "output_type": "stream",
     "text": [
      "(40, 100, 40)\n",
      "(5.0, 1.0, 5.0)\n"
     ]
    },
    {
     "data": {
      "application/vnd.jupyter.widget-view+json": {
       "model_id": "2e4c2a802f36448ebeca21fc83441fce",
       "version_major": 2,
       "version_minor": 0
      },
      "text/html": [
       "<p>Failed to display Jupyter Widget of type <code>interactive</code>.</p>\n",
       "<p>\n",
       "  If you're reading this message in Jupyter Notebook or JupyterLab, it may mean\n",
       "  that the widgets JavaScript is still loading. If this message persists, it\n",
       "  likely means that the widgets JavaScript library is either not installed or\n",
       "  not enabled. See the <a href=\"https://ipywidgets.readthedocs.io/en/stable/user_install.html\">Jupyter\n",
       "  Widgets Documentation</a> for setup instructions.\n",
       "</p>\n",
       "<p>\n",
       "  If you're reading this message in another notebook frontend (for example, a static\n",
       "  rendering on GitHub or <a href=\"https://nbviewer.jupyter.org/\">NBViewer</a>),\n",
       "  it may mean that your frontend doesn't currently support widgets.\n",
       "</p>\n"
      ],
      "text/plain": [
       "interactive(children=(IntSlider(value=20, description=u'myslice', max=40), Output()), _dom_classes=('widget-interact',))"
      ]
     },
     "metadata": {},
     "output_type": "display_data"
    }
   ],
   "source": [
    "im=sitk.ReadImage('/home/crct/CRCT/JupyterNotebook/data/image/18e/validation/18epdd.W.mhd')\n",
    "\n",
    "# GET LDP  \n",
    "\n",
    "# depth=30\n",
    "# print(im.GetSize())\n",
    "# print(im.GetSpacing())\n",
    "\n",
    "# imArray = sitk.GetArrayFromImage(im)\n",
    "# ct_viewer(imArray)\n",
    "# print (round((depth/im.GetSpacing()[1])))\n",
    "# depthim=int(((im.GetSize()[1]-1)-round(depth/im.GetSpacing()[1])))\n",
    "# print depthim\n",
    "# myslice=imArray[:, depthim, :]\n",
    "# plt.imshow(myslice, cmap=plt.cm.jet)\n",
    "\n",
    "# #y=imArray[19, :, 19]\n",
    "# ycross=myslice[:, im.GetSize()[0]/2]\n",
    "# yin=myslice[im.GetSize()[2]/2, :]\n",
    "# print(myslice.shape)\n",
    "# #y=np.flipud(y)\n",
    "# x=np.arange(0,ycross.shape[0])\n",
    "# trace1=np.column_stack((x,ycross))\n",
    "# trace2=np.column_stack((x,yin))\n",
    "\n",
    "\n",
    "# GET PDD\n",
    "print(im.GetSize())\n",
    "print(im.GetSpacing())\n",
    "imArray = sitk.GetArrayFromImage(im)\n",
    "ct_viewer(imArray)\n",
    "y=imArray[(im.GetSize()[0]/2)-1, :, (im.GetSize()[2]/2)-1]\n",
    "y=np.flipud(y)\n",
    "x=np.arange(0,y.shape[0])\n",
    "trace0=np.column_stack((x,y))\n"
   ]
  },
  {
   "cell_type": "code",
   "execution_count": 69,
   "metadata": {},
   "outputs": [
    {
     "data": {
      "application/vnd.plotly.v1+json": {
       "data": [
        {
         "mode": "lines+markers",
         "name": "cross",
         "type": "scatter",
         "x": [
          0,
          1,
          2,
          3,
          4,
          5,
          6,
          7,
          8,
          9,
          10,
          11,
          12,
          13,
          14,
          15,
          16,
          17,
          18,
          19,
          20,
          21,
          22,
          23,
          24,
          25,
          26,
          27,
          28,
          29,
          30,
          31,
          32,
          33,
          34,
          35,
          36,
          37,
          38,
          39,
          40,
          41,
          42,
          43,
          44,
          45,
          46,
          47,
          48,
          49,
          50,
          51,
          52,
          53,
          54,
          55,
          56,
          57,
          58,
          59,
          60,
          61,
          62,
          63,
          64,
          65,
          66,
          67,
          68,
          69,
          70,
          71,
          72,
          73,
          74,
          75,
          76,
          77,
          78,
          79,
          80,
          81,
          82,
          83,
          84,
          85,
          86,
          87,
          88,
          89,
          90,
          91,
          92,
          93,
          94,
          95,
          96,
          97,
          98,
          99
         ],
         "y": [
          0.00012056092964485288,
          0.00012610291014425457,
          0.0001277875853702426,
          0.00012978469021618366,
          0.00013050188135821372,
          0.00013180664973333478,
          0.00013209405005909503,
          0.00013204984134063125,
          0.00013374700210988522,
          0.00013331964146345854,
          0.00013398683222476393,
          0.00013447667879518121,
          0.00013473597937263548,
          0.00013514839520212263,
          0.0001353681436739862,
          0.00013633783964905888,
          0.00013608840527012944,
          0.00013681403652299196,
          0.00013735104585066438,
          0.00013718441186938435,
          0.0001369169185636565,
          0.00013669845066033304,
          0.00013628629676532,
          0.0001369434321532026,
          0.00013764014875050634,
          0.00013832228432875127,
          0.00013687678438145667,
          0.00013740557187702507,
          0.000136823087814264,
          0.00013740044960286468,
          0.00013749912614002824,
          0.0001368281664326787,
          0.00013709136692341417,
          0.0001372536353301257,
          0.0001373900449834764,
          0.00013707688776776195,
          0.0001360071764793247,
          0.00013741916336584836,
          0.00013600816600956023,
          0.00013588547881226987,
          0.000135179769131355,
          0.0001349132799077779,
          0.0001353703555651009,
          0.00013454137661028653,
          0.00013457324530463666,
          0.00013395273708738387,
          0.0001331037492491305,
          0.00013259018305689096,
          0.00013199442764744163,
          0.0001305791229242459,
          0.00013103154196869582,
          0.00013005462824366987,
          0.0001292192901019007,
          0.00012747362779919058,
          0.00012663686356972903,
          0.00012587077799253166,
          0.00012356226216070354,
          0.00012236213660798967,
          0.00012087143113603815,
          0.00011955128138652071,
          0.00011788563278969377,
          0.00011585124593693763,
          0.0001132648903876543,
          0.00011120401904918253,
          0.00010844193457160145,
          0.00010646152077242732,
          0.00010415339056635275,
          0.00010051824938273057,
          9.616774332243949e-05,
          9.296304051531479e-05,
          8.926353621063754e-05,
          8.62725282786414e-05,
          8.30851640785113e-05,
          7.851706322981045e-05,
          7.479880150640383e-05,
          7.056931644910946e-05,
          6.61770609440282e-05,
          6.253229366848245e-05,
          5.892262197448872e-05,
          5.365865217754617e-05,
          4.9997790483757854e-05,
          4.615162833943032e-05,
          4.18998024542816e-05,
          3.804891457548365e-05,
          3.468363865977153e-05,
          3.143078356515616e-05,
          2.783375748549588e-05,
          2.477431553415954e-05,
          2.2420948880608194e-05,
          1.9537401385605335e-05,
          1.733136741677299e-05,
          1.5578903912683018e-05,
          1.3999681868881453e-05,
          1.2339130080363248e-05,
          1.1110025297966786e-05,
          1.0178219781664666e-05,
          9.347135346615687e-06,
          8.651782991364598e-06,
          8.485239050060045e-06,
          7.664914846827742e-06
         ]
        }
       ],
       "layout": {}
      },
      "text/html": [
       "<div id=\"8d6b6198-60c1-4177-acd6-b642fd0f6388\" style=\"height: 525px; width: 100%;\" class=\"plotly-graph-div\"></div><script type=\"text/javascript\">require([\"plotly\"], function(Plotly) { window.PLOTLYENV=window.PLOTLYENV || {};window.PLOTLYENV.BASE_URL=\"https://plot.ly\";Plotly.newPlot(\"8d6b6198-60c1-4177-acd6-b642fd0f6388\", [{\"y\": [0.00012056092964485288, 0.00012610291014425457, 0.0001277875853702426, 0.00012978469021618366, 0.00013050188135821372, 0.00013180664973333478, 0.00013209405005909503, 0.00013204984134063125, 0.00013374700210988522, 0.00013331964146345854, 0.00013398683222476393, 0.00013447667879518121, 0.00013473597937263548, 0.00013514839520212263, 0.0001353681436739862, 0.00013633783964905888, 0.00013608840527012944, 0.00013681403652299196, 0.00013735104585066438, 0.00013718441186938435, 0.0001369169185636565, 0.00013669845066033304, 0.00013628629676532, 0.0001369434321532026, 0.00013764014875050634, 0.00013832228432875127, 0.00013687678438145667, 0.00013740557187702507, 0.000136823087814264, 0.00013740044960286468, 0.00013749912614002824, 0.0001368281664326787, 0.00013709136692341417, 0.0001372536353301257, 0.0001373900449834764, 0.00013707688776776195, 0.0001360071764793247, 0.00013741916336584836, 0.00013600816600956023, 0.00013588547881226987, 0.000135179769131355, 0.0001349132799077779, 0.0001353703555651009, 0.00013454137661028653, 0.00013457324530463666, 0.00013395273708738387, 0.0001331037492491305, 0.00013259018305689096, 0.00013199442764744163, 0.0001305791229242459, 0.00013103154196869582, 0.00013005462824366987, 0.0001292192901019007, 0.00012747362779919058, 0.00012663686356972903, 0.00012587077799253166, 0.00012356226216070354, 0.00012236213660798967, 0.00012087143113603815, 0.00011955128138652071, 0.00011788563278969377, 0.00011585124593693763, 0.0001132648903876543, 0.00011120401904918253, 0.00010844193457160145, 0.00010646152077242732, 0.00010415339056635275, 0.00010051824938273057, 9.616774332243949e-05, 9.296304051531479e-05, 8.926353621063754e-05, 8.62725282786414e-05, 8.30851640785113e-05, 7.851706322981045e-05, 7.479880150640383e-05, 7.056931644910946e-05, 6.61770609440282e-05, 6.253229366848245e-05, 5.892262197448872e-05, 5.365865217754617e-05, 4.9997790483757854e-05, 4.615162833943032e-05, 4.18998024542816e-05, 3.804891457548365e-05, 3.468363865977153e-05, 3.143078356515616e-05, 2.783375748549588e-05, 2.477431553415954e-05, 2.2420948880608194e-05, 1.9537401385605335e-05, 1.733136741677299e-05, 1.5578903912683018e-05, 1.3999681868881453e-05, 1.2339130080363248e-05, 1.1110025297966786e-05, 1.0178219781664666e-05, 9.347135346615687e-06, 8.651782991364598e-06, 8.485239050060045e-06, 7.664914846827742e-06], \"x\": [0, 1, 2, 3, 4, 5, 6, 7, 8, 9, 10, 11, 12, 13, 14, 15, 16, 17, 18, 19, 20, 21, 22, 23, 24, 25, 26, 27, 28, 29, 30, 31, 32, 33, 34, 35, 36, 37, 38, 39, 40, 41, 42, 43, 44, 45, 46, 47, 48, 49, 50, 51, 52, 53, 54, 55, 56, 57, 58, 59, 60, 61, 62, 63, 64, 65, 66, 67, 68, 69, 70, 71, 72, 73, 74, 75, 76, 77, 78, 79, 80, 81, 82, 83, 84, 85, 86, 87, 88, 89, 90, 91, 92, 93, 94, 95, 96, 97, 98, 99], \"type\": \"scatter\", \"mode\": \"lines+markers\", \"name\": \"cross\"}], {}, {\"linkText\": \"Export to plot.ly\", \"showLink\": true})});</script>"
      ],
      "text/vnd.plotly.v1+html": [
       "<div id=\"8d6b6198-60c1-4177-acd6-b642fd0f6388\" style=\"height: 525px; width: 100%;\" class=\"plotly-graph-div\"></div><script type=\"text/javascript\">require([\"plotly\"], function(Plotly) { window.PLOTLYENV=window.PLOTLYENV || {};window.PLOTLYENV.BASE_URL=\"https://plot.ly\";Plotly.newPlot(\"8d6b6198-60c1-4177-acd6-b642fd0f6388\", [{\"y\": [0.00012056092964485288, 0.00012610291014425457, 0.0001277875853702426, 0.00012978469021618366, 0.00013050188135821372, 0.00013180664973333478, 0.00013209405005909503, 0.00013204984134063125, 0.00013374700210988522, 0.00013331964146345854, 0.00013398683222476393, 0.00013447667879518121, 0.00013473597937263548, 0.00013514839520212263, 0.0001353681436739862, 0.00013633783964905888, 0.00013608840527012944, 0.00013681403652299196, 0.00013735104585066438, 0.00013718441186938435, 0.0001369169185636565, 0.00013669845066033304, 0.00013628629676532, 0.0001369434321532026, 0.00013764014875050634, 0.00013832228432875127, 0.00013687678438145667, 0.00013740557187702507, 0.000136823087814264, 0.00013740044960286468, 0.00013749912614002824, 0.0001368281664326787, 0.00013709136692341417, 0.0001372536353301257, 0.0001373900449834764, 0.00013707688776776195, 0.0001360071764793247, 0.00013741916336584836, 0.00013600816600956023, 0.00013588547881226987, 0.000135179769131355, 0.0001349132799077779, 0.0001353703555651009, 0.00013454137661028653, 0.00013457324530463666, 0.00013395273708738387, 0.0001331037492491305, 0.00013259018305689096, 0.00013199442764744163, 0.0001305791229242459, 0.00013103154196869582, 0.00013005462824366987, 0.0001292192901019007, 0.00012747362779919058, 0.00012663686356972903, 0.00012587077799253166, 0.00012356226216070354, 0.00012236213660798967, 0.00012087143113603815, 0.00011955128138652071, 0.00011788563278969377, 0.00011585124593693763, 0.0001132648903876543, 0.00011120401904918253, 0.00010844193457160145, 0.00010646152077242732, 0.00010415339056635275, 0.00010051824938273057, 9.616774332243949e-05, 9.296304051531479e-05, 8.926353621063754e-05, 8.62725282786414e-05, 8.30851640785113e-05, 7.851706322981045e-05, 7.479880150640383e-05, 7.056931644910946e-05, 6.61770609440282e-05, 6.253229366848245e-05, 5.892262197448872e-05, 5.365865217754617e-05, 4.9997790483757854e-05, 4.615162833943032e-05, 4.18998024542816e-05, 3.804891457548365e-05, 3.468363865977153e-05, 3.143078356515616e-05, 2.783375748549588e-05, 2.477431553415954e-05, 2.2420948880608194e-05, 1.9537401385605335e-05, 1.733136741677299e-05, 1.5578903912683018e-05, 1.3999681868881453e-05, 1.2339130080363248e-05, 1.1110025297966786e-05, 1.0178219781664666e-05, 9.347135346615687e-06, 8.651782991364598e-06, 8.485239050060045e-06, 7.664914846827742e-06], \"x\": [0, 1, 2, 3, 4, 5, 6, 7, 8, 9, 10, 11, 12, 13, 14, 15, 16, 17, 18, 19, 20, 21, 22, 23, 24, 25, 26, 27, 28, 29, 30, 31, 32, 33, 34, 35, 36, 37, 38, 39, 40, 41, 42, 43, 44, 45, 46, 47, 48, 49, 50, 51, 52, 53, 54, 55, 56, 57, 58, 59, 60, 61, 62, 63, 64, 65, 66, 67, 68, 69, 70, 71, 72, 73, 74, 75, 76, 77, 78, 79, 80, 81, 82, 83, 84, 85, 86, 87, 88, 89, 90, 91, 92, 93, 94, 95, 96, 97, 98, 99], \"type\": \"scatter\", \"mode\": \"lines+markers\", \"name\": \"cross\"}], {}, {\"linkText\": \"Export to plot.ly\", \"showLink\": true})});</script>"
      ]
     },
     "metadata": {},
     "output_type": "display_data"
    },
    {
     "data": {
      "text/html": [
       "<script>function downloadimage(format, height, width, filename) {var p = document.getElementById('8d6b6198-60c1-4177-acd6-b642fd0f6388');Plotly.downloadImage(p, {format: format, height: height, width: width, filename: filename});};if(document.readyState == 'complete') {{downloadimage('svg', 600, 800, 'plot_image');}}</script>"
      ],
      "text/plain": [
       "<IPython.core.display.HTML object>"
      ]
     },
     "metadata": {},
     "output_type": "display_data"
    }
   ],
   "source": [
    "# PLOT LDP\n",
    "# datacross = Scatter(x = x,\n",
    "#                y = ycross,\n",
    "#                name='cross',\n",
    "#                mode = 'lines+markers')\n",
    "# datain = Scatter(x = x,\n",
    "#                y = yin,\n",
    "#                name = 'in',\n",
    "#                mode = 'lines+markers')\n",
    "# fig = dict(data=[datacross, datain])\n",
    "# iplot(fig, image='svg')\n",
    "\n",
    "# PLOT PDD \n",
    "data = Scatter(x = x,\n",
    "               y = y,\n",
    "               name='cross',\n",
    "               mode = 'lines+markers')\n",
    "fig = dict(data=[data])\n",
    "iplot(fig, image='svg')"
   ]
  },
  {
   "cell_type": "code",
   "execution_count": 70,
   "metadata": {},
   "outputs": [],
   "source": [
    "\n",
    "# *** SAVE LDP ***\n",
    "# np.savetxt('/media/sf_CRCT/JupyterNotebook/data/gammaIndex/article/18e/validation/prof18e_cross.csv', trace1, delimiter=',', header=\"pas,value\",comments=\"\")\n",
    "# np.savetxt('/media/sf_CRCT/JupyterNotebook/data/gammaIndex/article/18e/validation/prof18e_in.csv', trace2, delimiter=',', header=\"pas,value\",comments=\"\")\n",
    "\n",
    "# *** SAVE PDD ***\n",
    "np.savetxt('/media/sf_CRCT/JupyterNotebook/data/gammaIndex/article/18e/validation/pdd18e.csv', trace0, delimiter=',', header=\"pas,value\",comments=\"\")"
   ]
  }
 ],
 "metadata": {
  "kernelspec": {
   "display_name": "Python 3",
   "language": "python",
   "name": "python3"
  },
  "language_info": {
   "codemirror_mode": {
    "name": "ipython",
    "version": 3
   },
   "file_extension": ".py",
   "mimetype": "text/x-python",
   "name": "python",
   "nbconvert_exporter": "python",
   "pygments_lexer": "ipython3",
   "version": "3.6.7"
  }
 },
 "nbformat": 4,
 "nbformat_minor": 2
}
