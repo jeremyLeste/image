{
 "cells": [
  {
   "cell_type": "code",
   "execution_count": 1,
   "metadata": {},
   "outputs": [
    {
     "data": {
      "text/html": [
       "<script>requirejs.config({paths: { 'plotly': ['https://cdn.plot.ly/plotly-latest.min']},});if(!window.Plotly) {{require(['plotly'],function(plotly) {window.Plotly=plotly;});}}</script>"
      ],
      "text/vnd.plotly.v1+html": [
       "<script>requirejs.config({paths: { 'plotly': ['https://cdn.plot.ly/plotly-latest.min']},});if(!window.Plotly) {{require(['plotly'],function(plotly) {window.Plotly=plotly;});}}</script>"
      ]
     },
     "metadata": {},
     "output_type": "display_data"
    }
   ],
   "source": [
    "import dicom as dcm\n",
    "import SimpleITK as sitk\n",
    "import numpy as np \n",
    "import array\n",
    "from numpy import unravel_index\n",
    "import matplotlib.pyplot as plt\n",
    "%matplotlib inline\n",
    "\n",
    "from __future__ import print_function\n",
    "from ipywidgets import interact\n",
    "\n",
    "\n",
    "from plotly.offline import init_notebook_mode, plot, iplot\n",
    "from plotly.graph_objs import *\n",
    "\n",
    "init_notebook_mode(connected=True)\n",
    "\n",
    "def ct_viewer(im):\n",
    "    def plot_image(myslice):\n",
    "        plt.imshow(im[myslice])#, cmap=plt.cm.gray\n",
    "    interact(plot_image, myslice=(0, im.shape[0]))\n",
    "    return;"
   ]
  },
  {
   "cell_type": "code",
   "execution_count": 33,
   "metadata": {},
   "outputs": [
    {
     "name": "stdout",
     "output_type": "stream",
     "text": [
      "origin:  (-99.0, 50.25, -99.0)\n",
      "spacing:  (2.0, 0.5, 2.0)\n",
      "size:  (100, 200, 100)\n"
     ]
    },
    {
     "data": {
      "application/vnd.jupyter.widget-view+json": {
       "model_id": "7c880a5bf03d491d91ecd0bc6ad1a8d0",
       "version_major": 2,
       "version_minor": 0
      },
      "text/html": [
       "<p>Failed to display Jupyter Widget of type <code>interactive</code>.</p>\n",
       "<p>\n",
       "  If you're reading this message in Jupyter Notebook or JupyterLab, it may mean\n",
       "  that the widgets JavaScript is still loading. If this message persists, it\n",
       "  likely means that the widgets JavaScript library is either not installed or\n",
       "  not enabled. See the <a href=\"https://ipywidgets.readthedocs.io/en/stable/user_install.html\">Jupyter\n",
       "  Widgets Documentation</a> for setup instructions.\n",
       "</p>\n",
       "<p>\n",
       "  If you're reading this message in another notebook frontend (for example, a static\n",
       "  rendering on GitHub or <a href=\"https://nbviewer.jupyter.org/\">NBViewer</a>),\n",
       "  it may mean that your frontend doesn't currently support widgets.\n",
       "</p>\n"
      ],
      "text/plain": [
       "interactive(children=(IntSlider(value=50, description=u'myslice'), Output()), _dom_classes=('widget-interact',))"
      ]
     },
     "metadata": {},
     "output_type": "display_data"
    }
   ],
   "source": [
    "heter='lung'\n",
    "energy='6e'\n",
    "name='12bone3'\n",
    "\n",
    "im=sitk.ReadImage('/media/sf_CRCT/JupyterNotebook/data/image/curie/new_res2/'+energy+'/'+heter+'/'+name+'.mhd')\n",
    "pix=sitk.GetArrayFromImage(im)\n",
    "\n",
    "print('origin: ', im.GetOrigin())\n",
    "print('spacing: ',im.GetSpacing())\n",
    "print('size: ', im.GetSize())\n",
    "\n",
    "ct_viewer(pix)"
   ]
  },
  {
   "cell_type": "code",
   "execution_count": 37,
   "metadata": {},
   "outputs": [
    {
     "name": "stdout",
     "output_type": "stream",
     "text": [
      "139\n",
      "(100, 100)\n"
     ]
    },
    {
     "data": {
      "image/png": "[encoded data removed]",
      "text/plain": [
       "<matplotlib.figure.Figure at 0x7f4bf9076990>"
      ]
     },
     "metadata": {},
     "output_type": "display_data"
    }
   ],
   "source": [
    "depth=30\n",
    "\n",
    "depthim=int(((im.GetSize()[1]-1)-round(depth/im.GetSpacing()[1])))\n",
    "print(depthim)\n",
    "\n",
    "myslice=pix[:, depthim, :]\n",
    "plt.imshow(myslice, cmap=plt.cm.jet)\n",
    "\n",
    "y=myslice[im.GetSize()[0]/2,:]\n",
    "print(myslice.shape)\n",
    "#y=np.flipud(y)\n",
    "\n",
    "x=np.arange(0,y.shape[0])\n",
    "x=x*2.0\n",
    "x=x-(x.max()/2)\n",
    "\n",
    "trace=np.column_stack((x,y))"
   ]
  },
  {
   "cell_type": "code",
   "execution_count": 38,
   "metadata": {},
   "outputs": [
    {
     "data": {
      "application/vnd.plotly.v1+json": {
       "data": [
        {
         "mode": "lines+markers",
         "name": "cross",
         "type": "scatter",
         "x": [
          -99,
          -97,
          -95,
          -93,
          -91,
          -89,
          -87,
          -85,
          -83,
          -81,
          -79,
          -77,
          -75,
          -73,
          -71,
          -69,
          -67,
          -65,
          -63,
          -61,
          -59,
          -57,
          -55,
          -53,
          -51,
          -49,
          -47,
          -45,
          -43,
          -41,
          -39,
          -37,
          -35,
          -33,
          -31,
          -29,
          -27,
          -25,
          -23,
          -21,
          -19,
          -17,
          -15,
          -13,
          -11,
          -9,
          -7,
          -5,
          -3,
          -1,
          1,
          3,
          5,
          7,
          9,
          11,
          13,
          15,
          17,
          19,
          21,
          23,
          25,
          27,
          29,
          31,
          33,
          35,
          37,
          39,
          41,
          43,
          45,
          47,
          49,
          51,
          53,
          55,
          57,
          59,
          61,
          63,
          65,
          67,
          69,
          71,
          73,
          75,
          77,
          79,
          81,
          83,
          85,
          87,
          89,
          91,
          93,
          95,
          97,
          99
         ],
         "y": [
          5.694656692867284e-07,
          7.958941523611429e-07,
          1.0180889375988045e-06,
          8.648528364574304e-07,
          9.401014153809228e-07,
          9.8032933237846e-07,
          1.0140287258764147e-06,
          1.371252892568009e-06,
          1.3660861668540747e-06,
          1.6893657175387489e-06,
          1.6766587123129284e-06,
          2.132963800249854e-06,
          2.4762330212979577e-06,
          3.4439538012520643e-06,
          4.144037575315451e-06,
          5.0274315981369e-06,
          7.0923597377259284e-06,
          9.526917892799247e-06,
          1.2574019820021931e-05,
          1.711460208753124e-05,
          2.4939326976891607e-05,
          3.556967567419633e-05,
          4.8971411160891876e-05,
          6.574171857209876e-05,
          7.941998774185777e-05,
          9.348462481284514e-05,
          0.00010903413931373507,
          0.00011792897566920146,
          0.00012807628081645817,
          0.0001290913496632129,
          0.000136637594550848,
          0.00013656853116117418,
          0.00013900359044782817,
          0.000142753662657924,
          0.000141169031849131,
          0.00014048292359802872,
          0.00014223645848687738,
          0.00014081396511755884,
          0.00014207606727723032,
          0.0001446275709895417,
          0.00014625715266447514,
          0.0001492758165113628,
          0.00014515571820084006,
          0.0001460126368328929,
          0.00015056684787850827,
          0.00015404020086862147,
          0.0001524170074844733,
          0.00015387094754260033,
          0.00014998942788224667,
          0.0001433778670616448,
          0.00013487118121702224,
          0.00012693324242718518,
          0.00012548029189929366,
          0.00012692257587332278,
          0.00012753249029628932,
          0.00013090373249724507,
          0.00013094050518702716,
          0.00013135216431692243,
          0.00013039448822382838,
          0.00013266793393995613,
          0.00013330718502402306,
          0.0001354088744847104,
          0.00013066364044789225,
          0.0001352691906504333,
          0.00013184541603550315,
          0.00013157192734070122,
          0.00012823134602513164,
          0.00012987526133656502,
          0.00012872321531176567,
          0.00012348240124993026,
          0.0001184407519758679,
          0.00011067050945712253,
          0.00010526722326176241,
          9.661079820943996e-05,
          8.552213694201782e-05,
          7.323388126678765e-05,
          6.058498547645286e-05,
          4.70589438918978e-05,
          3.8272431993391365e-05,
          2.957112155854702e-05,
          2.1658170226146467e-05,
          1.6563881217734888e-05,
          1.14342419692548e-05,
          9.224556379194837e-06,
          6.841881713626208e-06,
          5.1810175136779435e-06,
          3.929621925635729e-06,
          3.2668767744326033e-06,
          2.5224558157788124e-06,
          1.8727936321738525e-06,
          1.4136169284029165e-06,
          1.0767557796498295e-06,
          1.0266236358802416e-06,
          7.710362979196361e-07,
          9.39564756663458e-07,
          9.686069688541465e-07,
          6.995645094320935e-07,
          6.27758197424555e-07,
          6.582825449186203e-07,
          4.892431775260775e-07
         ]
        }
       ],
       "layout": {}
      },
      "text/html": [
       "<div id=\"cd372317-6ea7-471b-93d8-63a7af97adeb\" style=\"height: 525px; width: 100%;\" class=\"plotly-graph-div\"></div><script type=\"text/javascript\">require([\"plotly\"], function(Plotly) { window.PLOTLYENV=window.PLOTLYENV || {};window.PLOTLYENV.BASE_URL=\"https://plot.ly\";Plotly.newPlot(\"cd372317-6ea7-471b-93d8-63a7af97adeb\", [{\"y\": [5.694656692867284e-07, 7.958941523611429e-07, 1.0180889375988045e-06, 8.648528364574304e-07, 9.401014153809228e-07, 9.8032933237846e-07, 1.0140287258764147e-06, 1.371252892568009e-06, 1.3660861668540747e-06, 1.6893657175387489e-06, 1.6766587123129284e-06, 2.132963800249854e-06, 2.4762330212979577e-06, 3.4439538012520643e-06, 4.144037575315451e-06, 5.0274315981369e-06, 7.0923597377259284e-06, 9.526917892799247e-06, 1.2574019820021931e-05, 1.711460208753124e-05, 2.4939326976891607e-05, 3.556967567419633e-05, 4.8971411160891876e-05, 6.574171857209876e-05, 7.941998774185777e-05, 9.348462481284514e-05, 0.00010903413931373507, 0.00011792897566920146, 0.00012807628081645817, 0.0001290913496632129, 0.000136637594550848, 0.00013656853116117418, 0.00013900359044782817, 0.000142753662657924, 0.000141169031849131, 0.00014048292359802872, 0.00014223645848687738, 0.00014081396511755884, 0.00014207606727723032, 0.0001446275709895417, 0.00014625715266447514, 0.0001492758165113628, 0.00014515571820084006, 0.0001460126368328929, 0.00015056684787850827, 0.00015404020086862147, 0.0001524170074844733, 0.00015387094754260033, 0.00014998942788224667, 0.0001433778670616448, 0.00013487118121702224, 0.00012693324242718518, 0.00012548029189929366, 0.00012692257587332278, 0.00012753249029628932, 0.00013090373249724507, 0.00013094050518702716, 0.00013135216431692243, 0.00013039448822382838, 0.00013266793393995613, 0.00013330718502402306, 0.0001354088744847104, 0.00013066364044789225, 0.0001352691906504333, 0.00013184541603550315, 0.00013157192734070122, 0.00012823134602513164, 0.00012987526133656502, 0.00012872321531176567, 0.00012348240124993026, 0.0001184407519758679, 0.00011067050945712253, 0.00010526722326176241, 9.661079820943996e-05, 8.552213694201782e-05, 7.323388126678765e-05, 6.058498547645286e-05, 4.70589438918978e-05, 3.8272431993391365e-05, 2.957112155854702e-05, 2.1658170226146467e-05, 1.6563881217734888e-05, 1.14342419692548e-05, 9.224556379194837e-06, 6.841881713626208e-06, 5.1810175136779435e-06, 3.929621925635729e-06, 3.2668767744326033e-06, 2.5224558157788124e-06, 1.8727936321738525e-06, 1.4136169284029165e-06, 1.0767557796498295e-06, 1.0266236358802416e-06, 7.710362979196361e-07, 9.39564756663458e-07, 9.686069688541465e-07, 6.995645094320935e-07, 6.27758197424555e-07, 6.582825449186203e-07, 4.892431775260775e-07], \"x\": [-99.0, -97.0, -95.0, -93.0, -91.0, -89.0, -87.0, -85.0, -83.0, -81.0, -79.0, -77.0, -75.0, -73.0, -71.0, -69.0, -67.0, -65.0, -63.0, -61.0, -59.0, -57.0, -55.0, -53.0, -51.0, -49.0, -47.0, -45.0, -43.0, -41.0, -39.0, -37.0, -35.0, -33.0, -31.0, -29.0, -27.0, -25.0, -23.0, -21.0, -19.0, -17.0, -15.0, -13.0, -11.0, -9.0, -7.0, -5.0, -3.0, -1.0, 1.0, 3.0, 5.0, 7.0, 9.0, 11.0, 13.0, 15.0, 17.0, 19.0, 21.0, 23.0, 25.0, 27.0, 29.0, 31.0, 33.0, 35.0, 37.0, 39.0, 41.0, 43.0, 45.0, 47.0, 49.0, 51.0, 53.0, 55.0, 57.0, 59.0, 61.0, 63.0, 65.0, 67.0, 69.0, 71.0, 73.0, 75.0, 77.0, 79.0, 81.0, 83.0, 85.0, 87.0, 89.0, 91.0, 93.0, 95.0, 97.0, 99.0], \"type\": \"scatter\", \"mode\": \"lines+markers\", \"name\": \"cross\"}], {}, {\"linkText\": \"Export to plot.ly\", \"showLink\": true})});</script>"
      ],
      "text/vnd.plotly.v1+html": [
       "<div id=\"cd372317-6ea7-471b-93d8-63a7af97adeb\" style=\"height: 525px; width: 100%;\" class=\"plotly-graph-div\"></div><script type=\"text/javascript\">require([\"plotly\"], function(Plotly) { window.PLOTLYENV=window.PLOTLYENV || {};window.PLOTLYENV.BASE_URL=\"https://plot.ly\";Plotly.newPlot(\"cd372317-6ea7-471b-93d8-63a7af97adeb\", [{\"y\": [5.694656692867284e-07, 7.958941523611429e-07, 1.0180889375988045e-06, 8.648528364574304e-07, 9.401014153809228e-07, 9.8032933237846e-07, 1.0140287258764147e-06, 1.371252892568009e-06, 1.3660861668540747e-06, 1.6893657175387489e-06, 1.6766587123129284e-06, 2.132963800249854e-06, 2.4762330212979577e-06, 3.4439538012520643e-06, 4.144037575315451e-06, 5.0274315981369e-06, 7.0923597377259284e-06, 9.526917892799247e-06, 1.2574019820021931e-05, 1.711460208753124e-05, 2.4939326976891607e-05, 3.556967567419633e-05, 4.8971411160891876e-05, 6.574171857209876e-05, 7.941998774185777e-05, 9.348462481284514e-05, 0.00010903413931373507, 0.00011792897566920146, 0.00012807628081645817, 0.0001290913496632129, 0.000136637594550848, 0.00013656853116117418, 0.00013900359044782817, 0.000142753662657924, 0.000141169031849131, 0.00014048292359802872, 0.00014223645848687738, 0.00014081396511755884, 0.00014207606727723032, 0.0001446275709895417, 0.00014625715266447514, 0.0001492758165113628, 0.00014515571820084006, 0.0001460126368328929, 0.00015056684787850827, 0.00015404020086862147, 0.0001524170074844733, 0.00015387094754260033, 0.00014998942788224667, 0.0001433778670616448, 0.00013487118121702224, 0.00012693324242718518, 0.00012548029189929366, 0.00012692257587332278, 0.00012753249029628932, 0.00013090373249724507, 0.00013094050518702716, 0.00013135216431692243, 0.00013039448822382838, 0.00013266793393995613, 0.00013330718502402306, 0.0001354088744847104, 0.00013066364044789225, 0.0001352691906504333, 0.00013184541603550315, 0.00013157192734070122, 0.00012823134602513164, 0.00012987526133656502, 0.00012872321531176567, 0.00012348240124993026, 0.0001184407519758679, 0.00011067050945712253, 0.00010526722326176241, 9.661079820943996e-05, 8.552213694201782e-05, 7.323388126678765e-05, 6.058498547645286e-05, 4.70589438918978e-05, 3.8272431993391365e-05, 2.957112155854702e-05, 2.1658170226146467e-05, 1.6563881217734888e-05, 1.14342419692548e-05, 9.224556379194837e-06, 6.841881713626208e-06, 5.1810175136779435e-06, 3.929621925635729e-06, 3.2668767744326033e-06, 2.5224558157788124e-06, 1.8727936321738525e-06, 1.4136169284029165e-06, 1.0767557796498295e-06, 1.0266236358802416e-06, 7.710362979196361e-07, 9.39564756663458e-07, 9.686069688541465e-07, 6.995645094320935e-07, 6.27758197424555e-07, 6.582825449186203e-07, 4.892431775260775e-07], \"x\": [-99.0, -97.0, -95.0, -93.0, -91.0, -89.0, -87.0, -85.0, -83.0, -81.0, -79.0, -77.0, -75.0, -73.0, -71.0, -69.0, -67.0, -65.0, -63.0, -61.0, -59.0, -57.0, -55.0, -53.0, -51.0, -49.0, -47.0, -45.0, -43.0, -41.0, -39.0, -37.0, -35.0, -33.0, -31.0, -29.0, -27.0, -25.0, -23.0, -21.0, -19.0, -17.0, -15.0, -13.0, -11.0, -9.0, -7.0, -5.0, -3.0, -1.0, 1.0, 3.0, 5.0, 7.0, 9.0, 11.0, 13.0, 15.0, 17.0, 19.0, 21.0, 23.0, 25.0, 27.0, 29.0, 31.0, 33.0, 35.0, 37.0, 39.0, 41.0, 43.0, 45.0, 47.0, 49.0, 51.0, 53.0, 55.0, 57.0, 59.0, 61.0, 63.0, 65.0, 67.0, 69.0, 71.0, 73.0, 75.0, 77.0, 79.0, 81.0, 83.0, 85.0, 87.0, 89.0, 91.0, 93.0, 95.0, 97.0, 99.0], \"type\": \"scatter\", \"mode\": \"lines+markers\", \"name\": \"cross\"}], {}, {\"linkText\": \"Export to plot.ly\", \"showLink\": true})});</script>"
      ]
     },
     "metadata": {},
     "output_type": "display_data"
    }
   ],
   "source": [
    "data= Scatter(x = x,\n",
    "               y = y,\n",
    "               name='cross',\n",
    "               mode = 'lines+markers')\n",
    "fig = dict(data=[data])\n",
    "iplot(fig)"
   ]
  },
  {
   "cell_type": "code",
   "execution_count": 39,
   "metadata": {},
   "outputs": [],
   "source": [
    "h=heter[0]\n",
    "np.savetxt('/media/sf_CRCT/JupyterNotebook/data/gammaIndex/article/curie/'+energy+'/'+h+'/'+name+str(depth)+'.csv', trace, delimiter=',', header='pas,value', comments='')"
   ]
  }
 ],
 "metadata": {
  "kernelspec": {
   "display_name": "Python 3",
   "language": "python",
   "name": "python3"
  },
  "language_info": {
   "codemirror_mode": {
    "name": "ipython",
    "version": 3
   },
   "file_extension": ".py",
   "mimetype": "text/x-python",
   "name": "python",
   "nbconvert_exporter": "python",
   "pygments_lexer": "ipython3",
   "version": "3.6.7"
  }
 },
 "nbformat": 4,
 "nbformat_minor": 2
}
