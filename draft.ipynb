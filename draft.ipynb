{
 "cells": [
  {
   "cell_type": "code",
   "execution_count": 9,
   "metadata": {},
   "outputs": [],
   "source": [
    "import dicom as dcm\n",
    "import SimpleITK as sitk\n",
    "import numpy as np \n",
    "import array\n",
    "\n",
    "import matplotlib.pyplot as plt\n",
    "%matplotlib inline\n",
    "\n",
    "from __future__ import print_function\n",
    "from ipywidgets import interact"
   ]
  },
  {
   "cell_type": "code",
   "execution_count": 10,
   "metadata": {},
   "outputs": [],
   "source": [
    "def ct_viewer(im):\n",
    "    def plot_image(myslice):\n",
    "        plt.imshow(im[myslice])#, cmap=plt.cm.gray)\n",
    "    interact(plot_image, myslice=(0, im.shape[0]))\n",
    "    return;"
   ]
  },
  {
   "cell_type": "code",
   "execution_count": 11,
   "metadata": {},
   "outputs": [],
   "source": [
    "#read rt dose dicom file\n",
    "rd=dcm.read_file('rd_9e.dcm')\n",
    "rdpix=rd.pixel_array.astype(np.float32)\n",
    "rdim=sitk.GetImageFromArray(rdpix)\n",
    "rdim.SetOrigin([-184.3847655, -119.3847655, -180])\n",
    "rdim.SetSpacing([2.5, 2.5, 2.5])\n",
    "sitk.WriteImage(rdim, 'rdim.mhd')"
   ]
  },
  {
   "cell_type": "code",
   "execution_count": 12,
   "metadata": {},
   "outputs": [],
   "source": [
    "rdimmhd=sitk.ReadImage('rdim.mhd')"
   ]
  },
  {
   "cell_type": "code",
   "execution_count": 13,
   "metadata": {},
   "outputs": [],
   "source": [
    "gateim=sitk.ReadImage('gate_test.mhd')"
   ]
  },
  {
   "cell_type": "code",
   "execution_count": 14,
   "metadata": {},
   "outputs": [
    {
     "name": "stdout",
     "output_type": "stream",
     "text": [
      "(-184.3847655, -119.3847655, -180.0)\n",
      "(2.5, 2.5, 2.5)\n",
      "(147, 90, 154)\n",
      "(-134.57, -128.215, -180.0)\n",
      "(5.0, 5.0, 5.0)\n",
      "(50, 50, 81)\n"
     ]
    }
   ],
   "source": [
    "print(rdimmhd.GetOrigin())\n",
    "print(rdimmhd.GetSpacing())\n",
    "print(rdimmhd.GetSize())\n",
    "print(gateim.GetOrigin())\n",
    "print(gateim.GetSpacing())\n",
    "print(gateim.GetSize())"
   ]
  },
  {
   "cell_type": "code",
   "execution_count": 15,
   "metadata": {},
   "outputs": [
    {
     "data": {
      "application/vnd.jupyter.widget-view+json": {
       "model_id": "4b3caf7e7eda4cdd9f24213f1c7289bd",
       "version_major": 2,
       "version_minor": 0
      },
      "text/html": [
       "<p>Failed to display Jupyter Widget of type <code>interactive</code>.</p>\n",
       "<p>\n",
       "  If you're reading this message in Jupyter Notebook or JupyterLab, it may mean\n",
       "  that the widgets JavaScript is still loading. If this message persists, it\n",
       "  likely means that the widgets JavaScript library is either not installed or\n",
       "  not enabled. See the <a href=\"https://ipywidgets.readthedocs.io/en/stable/user_install.html\">Jupyter\n",
       "  Widgets Documentation</a> for setup instructions.\n",
       "</p>\n",
       "<p>\n",
       "  If you're reading this message in another notebook frontend (for example, a static\n",
       "  rendering on GitHub or <a href=\"https://nbviewer.jupyter.org/\">NBViewer</a>),\n",
       "  it may mean that your frontend doesn't currently support widgets.\n",
       "</p>\n"
      ],
      "text/plain": [
       "interactive(children=(IntSlider(value=40, description=u'myslice', max=81), Output()), _dom_classes=('widget-interact',))"
      ]
     },
     "metadata": {},
     "output_type": "display_data"
    },
    {
     "data": {
      "application/vnd.jupyter.widget-view+json": {
       "model_id": "504709293f2f4dc897c7c228c5bf7fd8",
       "version_major": 2,
       "version_minor": 0
      },
      "text/html": [
       "<p>Failed to display Jupyter Widget of type <code>interactive</code>.</p>\n",
       "<p>\n",
       "  If you're reading this message in Jupyter Notebook or JupyterLab, it may mean\n",
       "  that the widgets JavaScript is still loading. If this message persists, it\n",
       "  likely means that the widgets JavaScript library is either not installed or\n",
       "  not enabled. See the <a href=\"https://ipywidgets.readthedocs.io/en/stable/user_install.html\">Jupyter\n",
       "  Widgets Documentation</a> for setup instructions.\n",
       "</p>\n",
       "<p>\n",
       "  If you're reading this message in another notebook frontend (for example, a static\n",
       "  rendering on GitHub or <a href=\"https://nbviewer.jupyter.org/\">NBViewer</a>),\n",
       "  it may mean that your frontend doesn't currently support widgets.\n",
       "</p>\n"
      ],
      "text/plain": [
       "interactive(children=(IntSlider(value=77, description=u'myslice', max=154), Output()), _dom_classes=('widget-interact',))"
      ]
     },
     "metadata": {},
     "output_type": "display_data"
    }
   ],
   "source": [
    "gatepix=sitk.GetArrayFromImage(gateim)\n",
    "rdpixmhd=sitk.GetArrayFromImage(rdimmhd)\n",
    "ct_viewer(gatepix)\n",
    "ct_viewer(rdpixmhd)"
   ]
  },
  {
   "cell_type": "code",
   "execution_count": 16,
   "metadata": {},
   "outputs": [],
   "source": [
    "rdim_res=sitk.Resample(rdimmhd, gateim, sitk.Transform(), sitk.sitkNearestNeighbor, 0)\n",
    "#rdim_res=sitk.Resample(rdimmhd, [50, 50, 81], sitk.Transform(), sitk.sitkNearestNeighbor, )"
   ]
  },
  {
   "cell_type": "code",
   "execution_count": 17,
   "metadata": {},
   "outputs": [
    {
     "data": {
      "application/vnd.jupyter.widget-view+json": {
       "model_id": "a90eb47400bb45ac82b94cb7a57146b7",
       "version_major": 2,
       "version_minor": 0
      },
      "text/html": [
       "<p>Failed to display Jupyter Widget of type <code>interactive</code>.</p>\n",
       "<p>\n",
       "  If you're reading this message in Jupyter Notebook or JupyterLab, it may mean\n",
       "  that the widgets JavaScript is still loading. If this message persists, it\n",
       "  likely means that the widgets JavaScript library is either not installed or\n",
       "  not enabled. See the <a href=\"https://ipywidgets.readthedocs.io/en/stable/user_install.html\">Jupyter\n",
       "  Widgets Documentation</a> for setup instructions.\n",
       "</p>\n",
       "<p>\n",
       "  If you're reading this message in another notebook frontend (for example, a static\n",
       "  rendering on GitHub or <a href=\"https://nbviewer.jupyter.org/\">NBViewer</a>),\n",
       "  it may mean that your frontend doesn't currently support widgets.\n",
       "</p>\n"
      ],
      "text/plain": [
       "interactive(children=(IntSlider(value=40, description=u'myslice', max=81), Output()), _dom_classes=('widget-interact',))"
      ]
     },
     "metadata": {},
     "output_type": "display_data"
    },
    {
     "name": "stdout",
     "output_type": "stream",
     "text": [
      "(-134.57, -128.215, -180.0)\n",
      "(5.0, 5.0, 5.0)\n",
      "(50, 50, 81)\n"
     ]
    }
   ],
   "source": [
    "rdpixres=sitk.GetArrayFromImage(rdim_res)\n",
    "ct_viewer(rdpixres)\n",
    "print(rdim_res.GetOrigin())\n",
    "print(rdim_res.GetSpacing())\n",
    "print(rdim_res.GetSize())"
   ]
  },
  {
   "cell_type": "code",
   "execution_count": 86,
   "metadata": {},
   "outputs": [],
   "source": [
    "sitk.WriteImage(rdim_res, 'rdim_res2.mhd')"
   ]
  },
  {
   "cell_type": "code",
   "execution_count": 75,
   "metadata": {},
   "outputs": [
    {
     "name": "stdout",
     "output_type": "stream",
     "text": [
      "(134.57, 128.215, -180.0)\n",
      "(184.3847655, 119.3847655, -180.0)\n",
      "(50, 50, 81)\n",
      "97\n",
      "50 0 0\n",
      "bonjour\n",
      "O  (134.57, 128.215, -180.0)\n",
      "A  (384.57, 128.215, -180.0)\n",
      "B  (384.57, 378.21500000000003, -180.0)\n",
      "C  (134.57, 378.21500000000003, -180.0)\n",
      "D  (134.57, 128.215, 225.0)\n",
      "E  (384.57, 128.215, 225.0)\n",
      "F  (384.57, 378.21500000000003, 225.0)\n",
      "G  (134.57, 378.21500000000003, 225.0)\n",
      "(134.57, 128.215, -180.0)\n",
      "(384.57, 128.215, -180.0)\n",
      "(384.57, 378.21500000000003, -180.0)\n",
      "(134.57, 378.21500000000003, -180.0)\n",
      "(134.57, 128.215, 225.0)\n",
      "(384.57, 128.215, 225.0)\n",
      "(384.57, 378.21500000000003, 225.0)\n",
      "(134.57, 378.21500000000003, 225.0)\n",
      "(5.0, 5.0, 5.0)\n",
      "[1.0, 0.0, 0.0, 1.0]\n",
      "[50, 50]\n"
     ]
    }
   ],
   "source": [
    "print(gateim.TransformIndexToPhysicalPoint(((0,0,0))))\n",
    "print(rdim.TransformIndexToPhysicalPoint(((0,0,0))))\n",
    "euler3d = sitk.Euler3DTransform()\n",
    "          # Why do we set the center?\n",
    "euler3d.SetCenter(gateim.TransformContinuousIndexToPhysicalPoint(np.array(gateim.GetSize())/2.0))\n",
    "print(gateim.GetSize())\n",
    "tx = rdim.GetSize()[0]-gateim.GetSize()[0]\n",
    "print(tx)\n",
    "ty = rdim.GetSize()[1]-gateim.GetSize()[1]\n",
    "tz = 0\n",
    "euler3d.SetTranslation((tx, ty, tz))\n",
    "print(gateim.GetWidth(),0, 0)\n",
    "print\n",
    "print('bonjour')\n",
    "\n",
    "print('O ', gateim.TransformIndexToPhysicalPoint((0,0,0)))\n",
    "print('A ', gateim.TransformIndexToPhysicalPoint((gateim.GetWidth(),0,0)))\n",
    "print('B ', gateim.TransformIndexToPhysicalPoint((gateim.GetWidth(),gateim.GetHeight(),0)))\n",
    "print('C ', gateim.TransformIndexToPhysicalPoint((0,gateim.GetHeight(),0)))\n",
    "print('D ', gateim.TransformIndexToPhysicalPoint((0,0,gateim.GetSize()[2])))\n",
    "print('E ', gateim.TransformIndexToPhysicalPoint((gateim.GetWidth(),0,gateim.GetSize()[2])))\n",
    "print('F ', gateim.TransformIndexToPhysicalPoint((gateim.GetWidth(),gateim.GetHeight(),gateim.GetSize()[2])))\n",
    "print('G ', gateim.TransformIndexToPhysicalPoint((0,gateim.GetHeight(),gateim.GetSize()[2])))\n",
    "O=gateim.TransformIndexToPhysicalPoint((0,0,0))\n",
    "A=gateim.TransformIndexToPhysicalPoint((gateim.GetWidth(),0,0))\n",
    "B=gateim.TransformIndexToPhysicalPoint((gateim.GetWidth(),gateim.GetHeight(),0))\n",
    "C=gateim.TransformIndexToPhysicalPoint((0,gateim.GetHeight(),0))\n",
    "D=gateim.TransformIndexToPhysicalPoint((0,0,gateim.GetSize()[2]))\n",
    "E=gateim.TransformIndexToPhysicalPoint((gateim.GetWidth(),0,gateim.GetSize()[2]))\n",
    "F=gateim.TransformIndexToPhysicalPoint((gateim.GetWidth(),gateim.GetHeight(),gateim.GetSize()[2]))\n",
    "G=gateim.TransformIndexToPhysicalPoint((0,gateim.GetHeight(),gateim.GetSize()[2]))\n",
    "print(O)\n",
    "print(A)\n",
    "print(B)\n",
    "print(C)\n",
    "print(D)\n",
    "print(E)\n",
    "print(F)\n",
    "print(G)\n",
    "extreme_points = [O,A,B,C,D,E,F,G]\n",
    "inv_euler3d = euler3d.GetInverse()\n",
    "#print (extreme_points[0])                \n",
    "#print(inv_euler3d.TransformPoint(extreme_points[0]))\n",
    "extreme_points_transformed = [inv_euler3d.TransformPoint(pnt) for pnt in extreme_points]\n",
    "min_x = min(extreme_points_transformed)[0]\n",
    "min_y = min(extreme_points_transformed, key=lambda p: p[1])[1]\n",
    "\n",
    "max_x = max(extreme_points_transformed)[0]\n",
    "max_y = max(extreme_points_transformed, key=lambda p: p[1])[1]\n",
    "\n",
    "# # Use the original spacing (arbitrary decision).\n",
    "output_spacing = gateim.GetSpacing()\n",
    "print(output_spacing)\n",
    "# # Identity cosine matrix (arbitrary decision).\n",
    "output_direction = [1.0, 0.0, 0.0, 1.0]\n",
    "# # Minimal x,y coordinates are the new origin.\n",
    "output_origin = [min_x, min_y]\n",
    "print(output_direction)\n",
    "# # Compute grid size based on the physical size and spacing.\n",
    "output_size = [int((max_x-min_x)/output_spacing[0]), int((max_y-min_y)/output_spacing[1])]\n",
    "print(output_size)\n",
    "# resampled_image = sitk.Resample(logo, output_size, euler2d, sitk.sitkLinear, outp\n",
    "# ut_origin, output_spacing, output_direction)\n",
    "# plt.imshow(sitk.GetArrayViewFromImage(resampled_image))\n",
    "# plt.axis('off')\n",
    "# plt.show()\n"
   ]
  },
  {
   "cell_type": "code",
   "execution_count": 18,
   "metadata": {},
   "outputs": [
    {
     "name": "stdout",
     "output_type": "stream",
     "text": [
      "(81, 50, 50)\n",
      "(81, 50, 50)\n"
     ]
    },
    {
     "data": {
      "application/vnd.jupyter.widget-view+json": {
       "model_id": "27d330a5b1f54c58809eb59a13856c52",
       "version_major": 2,
       "version_minor": 0
      },
      "text/html": [
       "<p>Failed to display Jupyter Widget of type <code>interactive</code>.</p>\n",
       "<p>\n",
       "  If you're reading this message in Jupyter Notebook or JupyterLab, it may mean\n",
       "  that the widgets JavaScript is still loading. If this message persists, it\n",
       "  likely means that the widgets JavaScript library is either not installed or\n",
       "  not enabled. See the <a href=\"https://ipywidgets.readthedocs.io/en/stable/user_install.html\">Jupyter\n",
       "  Widgets Documentation</a> for setup instructions.\n",
       "</p>\n",
       "<p>\n",
       "  If you're reading this message in another notebook frontend (for example, a static\n",
       "  rendering on GitHub or <a href=\"https://nbviewer.jupyter.org/\">NBViewer</a>),\n",
       "  it may mean that your frontend doesn't currently support widgets.\n",
       "</p>\n"
      ],
      "text/plain": [
       "interactive(children=(IntSlider(value=40, description=u'myslice', max=81), Output()), _dom_classes=('widget-interact',))"
      ]
     },
     "metadata": {},
     "output_type": "display_data"
    },
    {
     "data": {
      "application/vnd.jupyter.widget-view+json": {
       "model_id": "de64e2deaaa64c7e969717209b20219c",
       "version_major": 2,
       "version_minor": 0
      },
      "text/html": [
       "<p>Failed to display Jupyter Widget of type <code>interactive</code>.</p>\n",
       "<p>\n",
       "  If you're reading this message in Jupyter Notebook or JupyterLab, it may mean\n",
       "  that the widgets JavaScript is still loading. If this message persists, it\n",
       "  likely means that the widgets JavaScript library is either not installed or\n",
       "  not enabled. See the <a href=\"https://ipywidgets.readthedocs.io/en/stable/user_install.html\">Jupyter\n",
       "  Widgets Documentation</a> for setup instructions.\n",
       "</p>\n",
       "<p>\n",
       "  If you're reading this message in another notebook frontend (for example, a static\n",
       "  rendering on GitHub or <a href=\"https://nbviewer.jupyter.org/\">NBViewer</a>),\n",
       "  it may mean that your frontend doesn't currently support widgets.\n",
       "</p>\n"
      ],
      "text/plain": [
       "interactive(children=(IntSlider(value=40, description=u'myslice', max=81), Output()), _dom_classes=('widget-interact',))"
      ]
     },
     "metadata": {},
     "output_type": "display_data"
    }
   ],
   "source": [
    "rdpixres2=rdpixres\n",
    "mask=np.ma.make_mask(rdpixres)\n",
    "print(mask.shape)\n",
    "print(gatepix.shape)\n",
    "\n",
    "gatepix_mask=gatepix*mask\n",
    "#print(gatepix_mask.shape)\n",
    "ct_viewer(gatepix_mask)\n",
    "ct_viewer(rdpixres)"
   ]
  },
  {
   "cell_type": "code",
   "execution_count": 19,
   "metadata": {},
   "outputs": [
    {
     "name": "stdout",
     "output_type": "stream",
     "text": [
      "(0.0, 0.0, 0.0)\n",
      "(1.0, 1.0, 1.0)\n",
      "(50, 50, 81)\n",
      "(-134.57, -128.215, -180.0)\n",
      "(5.0, 5.0, 5.0)\n",
      "(50, 50, 81)\n"
     ]
    }
   ],
   "source": [
    "gate_result=sitk.GetImageFromArray(gatepix_mask)\n",
    "print(gate_result.GetOrigin())\n",
    "print(gate_result.GetSpacing())\n",
    "print(gate_result.GetSize())\n",
    "gate_result.SetOrigin(rdim_res.GetOrigin())\n",
    "gate_result.SetSpacing(rdim_res.GetSpacing())\n",
    "print(gate_result.GetOrigin())\n",
    "print(gate_result.GetSpacing())\n",
    "print(gate_result.GetSize())\n",
    "sitk.WriteImage(gate_result, 'gate_result.mhd')"
   ]
  },
  {
   "cell_type": "code",
   "execution_count": 20,
   "metadata": {},
   "outputs": [
    {
     "name": "stdout",
     "output_type": "stream",
     "text": [
      "(0008, 0005) Specific Character Set              CS: 'ISO_IR 192'\n",
      "(0008, 0012) Instance Creation Date              DA: '20180219'\n",
      "(0008, 0013) Instance Creation Time              TM: '160638.372000'\n",
      "(0008, 0016) SOP Class UID                       UI: RT Dose Storage\n",
      "(0008, 0018) SOP Instance UID                    UI: 1.2.246.352.71.7.296272965963.221760.20180219153417\n",
      "(0008, 0020) Study Date                          DA: '20170828'\n",
      "(0008, 0030) Study Time                          TM: '154812'\n",
      "(0008, 0050) Accession Number                    SH: '103489158'\n",
      "(0008, 0060) Modality                            CS: 'RTDOSE'\n",
      "(0008, 0070) Manufacturer                        LO: 'Varian Medical Systems'\n",
      "(0008, 0090) Referring Physician's Name          PN: 'GRAFF-CAILLEAUD^PIERRE'\n",
      "(0008, 1010) Station Name                        SH: 'SRVRTDB'\n",
      "(0008, 1030) Study Description                   LO: 'TDM therapie APC'\n",
      "(0008, 103e) Series Description                  LO: 'Doses Eclipse'\n",
      "(0008, 1048) Physician(s) of Record              PN: 'R\\xc3\\x89MUZON^Philippe^^Docteur'\n",
      "(0008, 1090) Manufacturer's Model Name           LO: 'ARIA RadOnc'\n",
      "(0010, 0010) Patient's Name                      PN: 'Fantome^Pelvis'\n",
      "(0010, 0020) Patient ID                          LO: '99999992'\n",
      "(0010, 0030) Patient's Birth Date                DA: '20160101'\n",
      "(0010, 0032) Patient's Birth Time                TM: '000000'\n",
      "(0010, 0040) Patient's Sex                       CS: ''\n",
      "(0010, 1000) Other Patient IDs                   LO: '20140000'\n",
      "(0010, 2160) Ethnic Group                        SH: 'White'\n",
      "(0018, 0050) Slice Thickness                     DS: ''\n",
      "(0018, 1000) Device Serial Number                LO: '296272965963'\n",
      "(0018, 1020) Software Version(s)                 LO: '13.7.34'\n",
      "(0020, 000d) Study Instance UID                  UI: 1.2.840.113619.2.278.3.3523880722.70.1503897441.25\n",
      "(0020, 000e) Series Instance UID                 UI: 1.2.246.352.71.2.296272965963.525833.20180219145616\n",
      "(0020, 0010) Study ID                            SH: 'S1'\n",
      "(0020, 0011) Series Number                       IS: '7'\n",
      "(0020, 0013) Instance Number                     IS: ''\n",
      "(0020, 0032) Image Position (Patient)            DS: ['-184.3847655', '-119.3847655', '-180']\n",
      "(0020, 0037) Image Orientation (Patient)         DS: ['1', '0', '0', '0', '1', '0']\n",
      "(0020, 0052) Frame of Reference UID              UI: 1.2.840.113619.2.278.3.3523880722.70.1503897441.26.11375.1\n",
      "(0020, 1040) Position Reference Indicator        LO: ''\n",
      "(0028, 0002) Samples per Pixel                   US: 1\n",
      "(0028, 0004) Photometric Interpretation          CS: 'MONOCHROME2'\n",
      "(0028, 0008) Number of Frames                    IS: '154'\n",
      "(0028, 0009) Frame Increment Pointer             AT: (3004, 000c)\n",
      "(0028, 0010) Rows                                US: 90\n",
      "(0028, 0011) Columns                             US: 147\n",
      "(0028, 0030) Pixel Spacing                       DS: ['2.5', '2.5']\n",
      "(0028, 0100) Bits Allocated                      US: 32\n",
      "(0028, 0101) Bits Stored                         US: 32\n",
      "(0028, 0102) High Bit                            US: 31\n",
      "(0028, 0103) Pixel Representation                US: 0\n",
      "(3004, 0002) Dose Units                          CS: 'GY'\n",
      "(3004, 0004) Dose Type                           CS: 'PHYSICAL'\n",
      "(3004, 000a) Dose Summation Type                 CS: 'BEAM'\n",
      "(3004, 000c) Grid Frame Offset Vector            DS: ['0', '2.5', '5', '7.5', '10', '12.5', '15', '17.5', '20', '22.5', '25', '27.5', '30', '32.5', '35', '37.5', '40', '42.5', '45', '47.5', '50', '52.5', '55', '57.5', '60', '62.5', '65', '67.5', '70', '72.5', '75', '77.5', '80', '82.5', '85', '87.5', '90', '92.5', '95', '97.5', '100', '102.5', '105', '107.5', '110', '112.5', '115', '117.5', '120', '122.5', '125', '127.5', '130', '132.5', '135', '137.5', '140', '142.5', '145', '147.5', '150', '152.5', '155', '157.5', '160', '162.5', '165', '167.5', '170', '172.5', '175', '177.5', '180', '182.5', '185', '187.5', '190', '192.5', '195', '197.5', '200', '202.5', '205', '207.5', '210', '212.5', '215', '217.5', '220', '222.5', '225', '227.5', '230', '232.5', '235', '237.5', '240', '242.5', '245', '247.5', '250', '252.5', '255', '257.5', '260', '262.5', '265', '267.5', '270', '272.5', '275', '277.5', '280', '282.5', '285', '287.5', '290', '292.5', '295', '297.5', '300', '302.5', '305', '307.5', '310', '312.5', '315', '317.5', '320', '322.5', '325', '327.5', '330', '332.5', '335', '337.5', '340', '342.5', '345', '347.5', '350', '352.5', '355', '357.5', '360', '362.5', '365', '367.5', '370', '372.5', '375', '377.5', '380', '382.5']\n",
      "(3004, 000e) Dose Grid Scaling                   DS: '1.3977242e-7'\n",
      "(3004, 0014) Tissue Heterogeneity Correction     CS: 'IMAGE'\n",
      "(300c, 0002)  Referenced RT Plan Sequence   1 item(s) ---- \n",
      "   (0008, 1150) Referenced SOP Class UID            UI: RT Plan Storage\n",
      "   (0008, 1155) Referenced SOP Instance UID         UI: 1.2.246.352.71.5.296272965963.90264.20180219145819\n",
      "   (300c, 0020)  Referenced Fraction Group Sequence   1 item(s) ---- \n",
      "      (300c, 0004)  Referenced Beam Sequence   1 item(s) ---- \n",
      "         (300c, 0006) Referenced Beam Number              IS: '2'\n",
      "         ---------\n",
      "      (300c, 0022) Referenced Fraction Group Number    IS: '1'\n",
      "      ---------\n",
      "   ---------\n",
      "(7fe0, 0010) Pixel Data                          OB or OW: Array of 8149680 bytes\n"
     ]
    }
   ],
   "source": [
    "print(rd)\n",
    "#rp=dcm.read_file('RP.nose_9e.dcm')\n",
    "#print(rp)"
   ]
  },
  {
   "cell_type": "code",
   "execution_count": 22,
   "metadata": {},
   "outputs": [
    {
     "name": "stdout",
     "output_type": "stream",
     "text": [
      "['5', '5']\n",
      "['5', '5']\n",
      "50\n",
      "50\n",
      "<type 'list'>\n",
      "<type 'numpy.int64'>\n",
      "['0', '5', '10', '15', '20', '25', '30', '35', '40', '45', '50', '55', '60', '65', '70', '75', '80', '85', '90', '95', '100', '105', '110', '115', '120', '125', '130', '135', '140', '145', '150', '155', '160', '165', '170', '175', '180', '185', '190', '195', '200', '205', '210', '215', '220', '225', '230', '235', '240', '245', '250', '255', '260', '265', '270', '275', '280', '285', '290', '295', '300', '305', '310', '315', '320', '325', '330', '335', '340', '345', '350', '355', '360', '365', '370', '375', '380', '385', '390', '395', '400']\n",
      "(81, 50, 50)\n"
     ]
    },
    {
     "data": {
      "application/vnd.jupyter.widget-view+json": {
       "model_id": "281c7c95126b4f4f8251fdf34b4190da",
       "version_major": 2,
       "version_minor": 0
      },
      "text/html": [
       "<p>Failed to display Jupyter Widget of type <code>interactive</code>.</p>\n",
       "<p>\n",
       "  If you're reading this message in Jupyter Notebook or JupyterLab, it may mean\n",
       "  that the widgets JavaScript is still loading. If this message persists, it\n",
       "  likely means that the widgets JavaScript library is either not installed or\n",
       "  not enabled. See the <a href=\"https://ipywidgets.readthedocs.io/en/stable/user_install.html\">Jupyter\n",
       "  Widgets Documentation</a> for setup instructions.\n",
       "</p>\n",
       "<p>\n",
       "  If you're reading this message in another notebook frontend (for example, a static\n",
       "  rendering on GitHub or <a href=\"https://nbviewer.jupyter.org/\">NBViewer</a>),\n",
       "  it may mean that your frontend doesn't currently support widgets.\n",
       "</p>\n"
      ],
      "text/plain": [
       "interactive(children=(IntSlider(value=40, description=u'myslice', max=81), Output()), _dom_classes=('widget-interact',))"
      ]
     },
     "metadata": {},
     "output_type": "display_data"
    },
    {
     "name": "stdout",
     "output_type": "stream",
     "text": [
      "\n"
     ]
    },
    {
     "data": {
      "application/vnd.jupyter.widget-view+json": {
       "model_id": "1861e6d3efd2490f9e64690ddffba44c",
       "version_major": 2,
       "version_minor": 0
      },
      "text/html": [
       "<p>Failed to display Jupyter Widget of type <code>interactive</code>.</p>\n",
       "<p>\n",
       "  If you're reading this message in Jupyter Notebook or JupyterLab, it may mean\n",
       "  that the widgets JavaScript is still loading. If this message persists, it\n",
       "  likely means that the widgets JavaScript library is either not installed or\n",
       "  not enabled. See the <a href=\"https://ipywidgets.readthedocs.io/en/stable/user_install.html\">Jupyter\n",
       "  Widgets Documentation</a> for setup instructions.\n",
       "</p>\n",
       "<p>\n",
       "  If you're reading this message in another notebook frontend (for example, a static\n",
       "  rendering on GitHub or <a href=\"https://nbviewer.jupyter.org/\">NBViewer</a>),\n",
       "  it may mean that your frontend doesn't currently support widgets.\n",
       "</p>\n"
      ],
      "text/plain": [
       "interactive(children=(IntSlider(value=73, description=u'myslice', max=147), Output()), _dom_classes=('widget-interact',))"
      ]
     },
     "metadata": {},
     "output_type": "display_data"
    },
    {
     "ename": "ValueError",
     "evalue": "cannot reshape array of size 4074840 into shape (81,50,50)",
     "output_type": "error",
     "traceback": [
      "\u001b[0;31m---------------------------------------------------------------------------\u001b[0m",
      "\u001b[0;31mValueError\u001b[0m                                Traceback (most recent call last)",
      "\u001b[0;32m<ipython-input-22-70439ff6fed9>\u001b[0m in \u001b[0;36m<module>\u001b[0;34m()\u001b[0m\n\u001b[1;32m     47\u001b[0m \u001b[0mrg\u001b[0m\u001b[0;34m=\u001b[0m\u001b[0mdcm\u001b[0m\u001b[0;34m.\u001b[0m\u001b[0mread_file\u001b[0m\u001b[0;34m(\u001b[0m\u001b[0;34m'gate.dcm'\u001b[0m\u001b[0;34m)\u001b[0m\u001b[0;34m\u001b[0m\u001b[0m\n\u001b[1;32m     48\u001b[0m \u001b[0;31m#print(rg)\u001b[0m\u001b[0;34m\u001b[0m\u001b[0;34m\u001b[0m\u001b[0m\n\u001b[0;32m---> 49\u001b[0;31m \u001b[0mgpix\u001b[0m\u001b[0;34m=\u001b[0m\u001b[0mrg\u001b[0m\u001b[0;34m.\u001b[0m\u001b[0mpixel_array\u001b[0m\u001b[0;34m.\u001b[0m\u001b[0mastype\u001b[0m\u001b[0;34m(\u001b[0m\u001b[0mnp\u001b[0m\u001b[0;34m.\u001b[0m\u001b[0mfloat32\u001b[0m\u001b[0;34m)\u001b[0m\u001b[0;34m\u001b[0m\u001b[0m\n\u001b[0m\u001b[1;32m     50\u001b[0m \u001b[0;31m#ct_viewer(rgpix)\u001b[0m\u001b[0;34m\u001b[0m\u001b[0;34m\u001b[0m\u001b[0m\n",
      "\u001b[0;32m/home/crct/.local/lib/python2.7/site-packages/dicom/dataset.pyc\u001b[0m in \u001b[0;36mpixel_array\u001b[0;34m(self)\u001b[0m\n\u001b[1;32m    415\u001b[0m         \u001b[0;34m\"\"\"Return the pixel data as a NumPy array\"\"\"\u001b[0m\u001b[0;34m\u001b[0m\u001b[0m\n\u001b[1;32m    416\u001b[0m         \u001b[0;32mtry\u001b[0m\u001b[0;34m:\u001b[0m\u001b[0;34m\u001b[0m\u001b[0m\n\u001b[0;32m--> 417\u001b[0;31m             \u001b[0;32mreturn\u001b[0m \u001b[0mself\u001b[0m\u001b[0;34m.\u001b[0m\u001b[0m_get_pixel_array\u001b[0m\u001b[0;34m(\u001b[0m\u001b[0;34m)\u001b[0m\u001b[0;34m\u001b[0m\u001b[0m\n\u001b[0m\u001b[1;32m    418\u001b[0m         \u001b[0;32mexcept\u001b[0m \u001b[0mAttributeError\u001b[0m\u001b[0;34m:\u001b[0m\u001b[0;34m\u001b[0m\u001b[0m\n\u001b[1;32m    419\u001b[0m             \u001b[0mt\u001b[0m\u001b[0;34m,\u001b[0m \u001b[0me\u001b[0m\u001b[0;34m,\u001b[0m \u001b[0mtb\u001b[0m \u001b[0;34m=\u001b[0m \u001b[0msys\u001b[0m\u001b[0;34m.\u001b[0m\u001b[0mexc_info\u001b[0m\u001b[0;34m(\u001b[0m\u001b[0;34m)\u001b[0m\u001b[0;34m\u001b[0m\u001b[0m\n",
      "\u001b[0;32m/home/crct/.local/lib/python2.7/site-packages/dicom/dataset.pyc\u001b[0m in \u001b[0;36m_get_pixel_array\u001b[0;34m(self)\u001b[0m\n\u001b[1;32m    407\u001b[0m             \u001b[0malready_have\u001b[0m \u001b[0;34m=\u001b[0m \u001b[0mFalse\u001b[0m\u001b[0;34m\u001b[0m\u001b[0m\n\u001b[1;32m    408\u001b[0m         \u001b[0;32mif\u001b[0m \u001b[0;32mnot\u001b[0m \u001b[0malready_have\u001b[0m\u001b[0;34m:\u001b[0m\u001b[0;34m\u001b[0m\u001b[0m\n\u001b[0;32m--> 409\u001b[0;31m             \u001b[0mself\u001b[0m\u001b[0;34m.\u001b[0m\u001b[0m_pixel_array\u001b[0m \u001b[0;34m=\u001b[0m \u001b[0mself\u001b[0m\u001b[0;34m.\u001b[0m\u001b[0m_pixel_data_numpy\u001b[0m\u001b[0;34m(\u001b[0m\u001b[0;34m)\u001b[0m\u001b[0;34m\u001b[0m\u001b[0m\n\u001b[0m\u001b[1;32m    410\u001b[0m             \u001b[0mself\u001b[0m\u001b[0;34m.\u001b[0m\u001b[0m_pixel_id\u001b[0m \u001b[0;34m=\u001b[0m \u001b[0mid\u001b[0m\u001b[0;34m(\u001b[0m\u001b[0mself\u001b[0m\u001b[0;34m.\u001b[0m\u001b[0mPixelData\u001b[0m\u001b[0;34m)\u001b[0m  \u001b[0;31m# is this guaranteed to work if memory is re-used??\u001b[0m\u001b[0;34m\u001b[0m\u001b[0m\n\u001b[1;32m    411\u001b[0m         \u001b[0;32mreturn\u001b[0m \u001b[0mself\u001b[0m\u001b[0;34m.\u001b[0m\u001b[0m_pixel_array\u001b[0m\u001b[0;34m\u001b[0m\u001b[0m\n",
      "\u001b[0;32m/home/crct/.local/lib/python2.7/site-packages/dicom/dataset.pyc\u001b[0m in \u001b[0;36m_pixel_data_numpy\u001b[0;34m(self)\u001b[0m\n\u001b[1;32m    381\u001b[0m                 \u001b[0marr\u001b[0m \u001b[0;34m=\u001b[0m \u001b[0marr\u001b[0m\u001b[0;34m.\u001b[0m\u001b[0mreshape\u001b[0m\u001b[0;34m(\u001b[0m\u001b[0mself\u001b[0m\u001b[0;34m.\u001b[0m\u001b[0mSamplesPerPixel\u001b[0m\u001b[0;34m,\u001b[0m \u001b[0mself\u001b[0m\u001b[0;34m.\u001b[0m\u001b[0mNumberOfFrames\u001b[0m\u001b[0;34m,\u001b[0m \u001b[0mself\u001b[0m\u001b[0;34m.\u001b[0m\u001b[0mRows\u001b[0m\u001b[0;34m,\u001b[0m \u001b[0mself\u001b[0m\u001b[0;34m.\u001b[0m\u001b[0mColumns\u001b[0m\u001b[0;34m)\u001b[0m\u001b[0;34m\u001b[0m\u001b[0m\n\u001b[1;32m    382\u001b[0m             \u001b[0;32melse\u001b[0m\u001b[0;34m:\u001b[0m\u001b[0;34m\u001b[0m\u001b[0m\n\u001b[0;32m--> 383\u001b[0;31m                 \u001b[0marr\u001b[0m \u001b[0;34m=\u001b[0m \u001b[0marr\u001b[0m\u001b[0;34m.\u001b[0m\u001b[0mreshape\u001b[0m\u001b[0;34m(\u001b[0m\u001b[0mself\u001b[0m\u001b[0;34m.\u001b[0m\u001b[0mNumberOfFrames\u001b[0m\u001b[0;34m,\u001b[0m \u001b[0mself\u001b[0m\u001b[0;34m.\u001b[0m\u001b[0mRows\u001b[0m\u001b[0;34m,\u001b[0m \u001b[0mself\u001b[0m\u001b[0;34m.\u001b[0m\u001b[0mColumns\u001b[0m\u001b[0;34m)\u001b[0m\u001b[0;34m\u001b[0m\u001b[0m\n\u001b[0m\u001b[1;32m    384\u001b[0m         \u001b[0;32melse\u001b[0m\u001b[0;34m:\u001b[0m\u001b[0;34m\u001b[0m\u001b[0m\n\u001b[1;32m    385\u001b[0m             \u001b[0;32mif\u001b[0m \u001b[0mself\u001b[0m\u001b[0;34m.\u001b[0m\u001b[0mSamplesPerPixel\u001b[0m \u001b[0;34m>\u001b[0m \u001b[0;36m1\u001b[0m\u001b[0;34m:\u001b[0m\u001b[0;34m\u001b[0m\u001b[0m\n",
      "\u001b[0;31mValueError\u001b[0m: cannot reshape array of size 4074840 into shape (81,50,50)"
     ]
    }
   ],
   "source": [
    "print(rd.PixelSpacing)\n",
    "rd.PixelSpacing=['5', '5']\n",
    "print(rd.PixelSpacing)\n",
    "#print(rd.Rows)\n",
    "rd.Rows=50\n",
    "rd.Columns=50\n",
    "print(rd.Rows)\n",
    "print(rd.Columns)\n",
    "print (type(rd.GridFrameOffsetVector))\n",
    "vect=np.arange(0, 405, 5)  #a faire jusqu'a -1\n",
    "#print(vect)\n",
    "\n",
    "vect[0]=str(vect[0])\n",
    "print(type(vect[0]))\n",
    "\n",
    "\n",
    "vect2=[]\n",
    "for i in range(len(vect)):\n",
    "    vect2.append(str(vect[i]));\n",
    "    \n",
    "#print(len(vect2))\n",
    "rd.GridFrameOffsetVector=vect2\n",
    "rd.NumberOfFrames=len(vect2)\n",
    "print (rd.GridFrameOffsetVector)\n",
    "\n",
    "print(gatepix_mask.shape)\n",
    "ct_viewer(gatepix_mask)\n",
    "\n",
    "print()\n",
    "Matrix=np.zeros(((147, 90, 154)))\n",
    "\n",
    "\n",
    "lowx=(Matrix.shape[0] // 2) - (gatepix_mask.shape[0] //2) -1\n",
    "upx= (Matrix.shape[0] // 2) + (gatepix_mask.shape[0] //2)\n",
    "lowy=(Matrix.shape[1] // 2) - (gatepix_mask.shape[1] //2)\n",
    "upy= (Matrix.shape[1] // 2) + (gatepix_mask.shape[1] //2)\n",
    "lowz=(Matrix.shape[2] // 2) - (gatepix_mask.shape[2] //2)\n",
    "upz= (Matrix.shape[2] // 2) + (gatepix_mask.shape[2] //2)\n",
    "\n",
    "Matrix[lowx:upx, lowy:upy, lowz:upz]=gatepix_mask\n",
    "#Matrix=Matrix.astype(np.uint8)\n",
    "\n",
    "ct_viewer(Matrix)\n",
    "\n",
    "rd.PixelData = Matrix.tostring()\n",
    "rd.save_as(\"gate.dcm\")\n",
    "rg=dcm.read_file('gate.dcm')\n",
    "#print(rg)\n",
    "gpix=rg.pixel_array.astype(np.float32)\n",
    "#ct_viewer(rgpix)"
   ]
  },
  {
   "cell_type": "code",
   "execution_count": 54,
   "metadata": {},
   "outputs": [
    {
     "name": "stdout",
     "output_type": "stream",
     "text": [
      "(0008, 0005) Specific Character Set              CS: 'ISO_IR 192'\n",
      "(0008, 0012) Instance Creation Date              DA: '20180219'\n",
      "(0008, 0013) Instance Creation Time              TM: '160638.372000'\n",
      "(0008, 0016) SOP Class UID                       UI: RT Dose Storage\n",
      "(0008, 0018) SOP Instance UID                    UI: 1.2.246.352.71.7.296272965963.221760.20180219153417\n",
      "(0008, 0020) Study Date                          DA: '20170828'\n",
      "(0008, 0030) Study Time                          TM: '154812'\n",
      "(0008, 0050) Accession Number                    SH: '103489158'\n",
      "(0008, 0060) Modality                            CS: 'RTDOSE'\n",
      "(0008, 0070) Manufacturer                        LO: 'Varian Medical Systems'\n",
      "(0008, 0090) Referring Physician's Name          PN: 'GRAFF-CAILLEAUD^PIERRE'\n",
      "(0008, 1010) Station Name                        SH: 'SRVRTDB'\n",
      "(0008, 1030) Study Description                   LO: 'TDM therapie APC'\n",
      "(0008, 103e) Series Description                  LO: 'Doses Eclipse'\n",
      "(0008, 1048) Physician(s) of Record              PN: 'R\\xc3\\x89MUZON^Philippe^^Docteur'\n",
      "(0008, 1090) Manufacturer's Model Name           LO: 'ARIA RadOnc'\n",
      "(0010, 0010) Patient's Name                      PN: 'Fantome^Pelvis'\n",
      "(0010, 0020) Patient ID                          LO: '99999992'\n",
      "(0010, 0030) Patient's Birth Date                DA: '20160101'\n",
      "(0010, 0032) Patient's Birth Time                TM: '000000'\n",
      "(0010, 0040) Patient's Sex                       CS: ''\n",
      "(0010, 1000) Other Patient IDs                   LO: '20140000'\n",
      "(0010, 2160) Ethnic Group                        SH: 'White'\n",
      "(0018, 0050) Slice Thickness                     DS: ''\n",
      "(0018, 1000) Device Serial Number                LO: '296272965963'\n",
      "(0018, 1020) Software Version(s)                 LO: '13.7.34'\n",
      "(0020, 000d) Study Instance UID                  UI: 1.2.840.113619.2.278.3.3523880722.70.1503897441.25\n",
      "(0020, 000e) Series Instance UID                 UI: 1.2.246.352.71.2.296272965963.525833.20180219145616\n",
      "(0020, 0010) Study ID                            SH: 'S1'\n",
      "(0020, 0011) Series Number                       IS: '7'\n",
      "(0020, 0013) Instance Number                     IS: ''\n",
      "(0020, 0032) Image Position (Patient)            DS: ['-184.3847655', '-119.3847655', '-180']\n",
      "(0020, 0037) Image Orientation (Patient)         DS: ['1', '0', '0', '0', '1', '0']\n",
      "(0020, 0052) Frame of Reference UID              UI: 1.2.840.113619.2.278.3.3523880722.70.1503897441.26.11375.1\n",
      "(0020, 1040) Position Reference Indicator        LO: ''\n",
      "(0028, 0002) Samples per Pixel                   US: 1\n",
      "(0028, 0004) Photometric Interpretation          CS: 'MONOCHROME2'\n",
      "(0028, 0008) Number of Frames                    IS: '154'\n",
      "(0028, 0009) Frame Increment Pointer             AT: (3004, 000c)\n",
      "(0028, 0010) Rows                                US: 90\n",
      "(0028, 0011) Columns                             US: 147\n",
      "(0028, 0030) Pixel Spacing                       DS: ['2.5', '2.5']\n",
      "(0028, 0100) Bits Allocated                      US: 32\n",
      "(0028, 0101) Bits Stored                         US: 32\n",
      "(0028, 0102) High Bit                            US: 31\n",
      "(0028, 0103) Pixel Representation                US: 0\n",
      "(3004, 0002) Dose Units                          CS: 'GY'\n",
      "(3004, 0004) Dose Type                           CS: 'PHYSICAL'\n",
      "(3004, 000a) Dose Summation Type                 CS: 'BEAM'\n",
      "(3004, 000c) Grid Frame Offset Vector            DS: ['0', '2.5', '5', '7.5', '10', '12.5', '15', '17.5', '20', '22.5', '25', '27.5', '30', '32.5', '35', '37.5', '40', '42.5', '45', '47.5', '50', '52.5', '55', '57.5', '60', '62.5', '65', '67.5', '70', '72.5', '75', '77.5', '80', '82.5', '85', '87.5', '90', '92.5', '95', '97.5', '100', '102.5', '105', '107.5', '110', '112.5', '115', '117.5', '120', '122.5', '125', '127.5', '130', '132.5', '135', '137.5', '140', '142.5', '145', '147.5', '150', '152.5', '155', '157.5', '160', '162.5', '165', '167.5', '170', '172.5', '175', '177.5', '180', '182.5', '185', '187.5', '190', '192.5', '195', '197.5', '200', '202.5', '205', '207.5', '210', '212.5', '215', '217.5', '220', '222.5', '225', '227.5', '230', '232.5', '235', '237.5', '240', '242.5', '245', '247.5', '250', '252.5', '255', '257.5', '260', '262.5', '265', '267.5', '270', '272.5', '275', '277.5', '280', '282.5', '285', '287.5', '290', '292.5', '295', '297.5', '300', '302.5', '305', '307.5', '310', '312.5', '315', '317.5', '320', '322.5', '325', '327.5', '330', '332.5', '335', '337.5', '340', '342.5', '345', '347.5', '350', '352.5', '355', '357.5', '360', '362.5', '365', '367.5', '370', '372.5', '375', '377.5', '380', '382.5']\n",
      "(3004, 000e) Dose Grid Scaling                   DS: '1.3977242e-7'\n",
      "(3004, 0014) Tissue Heterogeneity Correction     CS: 'IMAGE'\n",
      "(300c, 0002)  Referenced RT Plan Sequence   1 item(s) ---- \n",
      "   (0008, 1150) Referenced SOP Class UID            UI: RT Plan Storage\n",
      "   (0008, 1155) Referenced SOP Instance UID         UI: 1.2.246.352.71.5.296272965963.90264.20180219145819\n",
      "   (300c, 0020)  Referenced Fraction Group Sequence   1 item(s) ---- \n",
      "      (300c, 0004)  Referenced Beam Sequence   1 item(s) ---- \n",
      "         (300c, 0006) Referenced Beam Number              IS: '2'\n",
      "         ---------\n",
      "      (300c, 0022) Referenced Fraction Group Number    IS: '1'\n",
      "      ---------\n",
      "   ---------\n",
      "(7fe0, 0010) Pixel Data                          OB or OW: Array of 8149680 bytes\n"
     ]
    },
    {
     "data": {
      "application/vnd.jupyter.widget-view+json": {
       "model_id": "4a2a81a938b84f119373c16682038672",
       "version_major": 2,
       "version_minor": 0
      },
      "text/html": [
       "<p>Failed to display Jupyter Widget of type <code>interactive</code>.</p>\n",
       "<p>\n",
       "  If you're reading this message in Jupyter Notebook or JupyterLab, it may mean\n",
       "  that the widgets JavaScript is still loading. If this message persists, it\n",
       "  likely means that the widgets JavaScript library is either not installed or\n",
       "  not enabled. See the <a href=\"https://ipywidgets.readthedocs.io/en/stable/user_install.html\">Jupyter\n",
       "  Widgets Documentation</a> for setup instructions.\n",
       "</p>\n",
       "<p>\n",
       "  If you're reading this message in another notebook frontend (for example, a static\n",
       "  rendering on GitHub or <a href=\"https://nbviewer.jupyter.org/\">NBViewer</a>),\n",
       "  it may mean that your frontend doesn't currently support widgets.\n",
       "</p>\n"
      ],
      "text/plain": [
       "interactive(children=(IntSlider(value=77, description=u'myslice', max=154), Output()), _dom_classes=('widget-interact',))"
      ]
     },
     "metadata": {},
     "output_type": "display_data"
    },
    {
     "name": "stdout",
     "output_type": "stream",
     "text": [
      "1612746\n"
     ]
    },
    {
     "data": {
      "application/vnd.jupyter.widget-view+json": {
       "model_id": "10dcb3b647aa422195b00662acbfa968",
       "version_major": 2,
       "version_minor": 0
      },
      "text/html": [
       "<p>Failed to display Jupyter Widget of type <code>interactive</code>.</p>\n",
       "<p>\n",
       "  If you're reading this message in Jupyter Notebook or JupyterLab, it may mean\n",
       "  that the widgets JavaScript is still loading. If this message persists, it\n",
       "  likely means that the widgets JavaScript library is either not installed or\n",
       "  not enabled. See the <a href=\"https://ipywidgets.readthedocs.io/en/stable/user_install.html\">Jupyter\n",
       "  Widgets Documentation</a> for setup instructions.\n",
       "</p>\n",
       "<p>\n",
       "  If you're reading this message in another notebook frontend (for example, a static\n",
       "  rendering on GitHub or <a href=\"https://nbviewer.jupyter.org/\">NBViewer</a>),\n",
       "  it may mean that your frontend doesn't currently support widgets.\n",
       "</p>\n"
      ],
      "text/plain": [
       "interactive(children=(IntSlider(value=77, description=u'myslice', max=154), Output()), _dom_classes=('widget-interact',))"
      ]
     },
     "metadata": {},
     "output_type": "display_data"
    }
   ],
   "source": [
    "rd=dcm.read_file('rd_9e.dcm')\n",
    "print(rd)\n",
    "Matrix=np.zeros(((154, 90, 147)))\n",
    "\n",
    "\n",
    "lowx=(Matrix.shape[0] // 2) - (gatepix_mask.shape[0] //2) -1\n",
    "upx= (Matrix.shape[0] // 2) + (gatepix_mask.shape[0] //2)\n",
    "lowy=(Matrix.shape[1] // 2) - (gatepix_mask.shape[1] //2)\n",
    "upy= (Matrix.shape[1] // 2) + (gatepix_mask.shape[1] //2)\n",
    "lowz=(Matrix.shape[2] // 2) - (gatepix_mask.shape[2] //2)\n",
    "upz= (Matrix.shape[2] // 2) + (gatepix_mask.shape[2] //2)\n",
    "\n",
    "Matrix[lowx:upx, lowy:upy, lowz:upz]=gatepix_mask\n",
    "\n",
    "Matrix=Matrix/1e-10\n",
    "Matrix=Matrix.astype(np.int32)\n",
    "ct_viewer(Matrix)\n",
    "print(Matrix.max())\n",
    "rd.PixelData = Matrix.tostring()\n",
    "#print(rd)\n",
    "rd.save_as(\"gate.dcm\")\n",
    "rg=dcm.read_file('gate.dcm')\n",
    "#print(rg)\n",
    "gpix=rg.pixel_array\n",
    "ct_viewer(gpix)\n"
   ]
  },
  {
   "cell_type": "code",
   "execution_count": 49,
   "metadata": {},
   "outputs": [
    {
     "data": {
      "text/plain": [
       "2147483648"
      ]
     },
     "execution_count": 49,
     "metadata": {},
     "output_type": "execute_result"
    }
   ],
   "source": []
  }
 ],
 "metadata": {
  "kernelspec": {
   "display_name": "Python 2",
   "language": "python",
   "name": "python2"
  },
  "language_info": {
   "codemirror_mode": {
    "name": "ipython",
    "version": 2
   },
   "file_extension": ".py",
   "mimetype": "text/x-python",
   "name": "python",
   "nbconvert_exporter": "python",
   "pygments_lexer": "ipython2",
   "version": "2.7.12"
  }
 },
 "nbformat": 4,
 "nbformat_minor": 2
}
