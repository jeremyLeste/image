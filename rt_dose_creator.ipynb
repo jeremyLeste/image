{
 "cells": [
  {
   "cell_type": "code",
   "execution_count": 1,
   "metadata": {},
   "outputs": [],
   "source": [
    "import dicom as dcm\n",
    "import SimpleITK as sitk\n",
    "import numpy as np \n",
    "import array\n",
    "from numpy import unravel_index\n",
    "import matplotlib.pyplot as plt\n",
    "%matplotlib inline\n",
    "\n",
    "from __future__ import print_function\n",
    "from ipywidgets import interact"
   ]
  },
  {
   "cell_type": "code",
   "execution_count": 2,
   "metadata": {},
   "outputs": [],
   "source": [
    "def ct_viewer(im):\n",
    "    def plot_image(myslice):\n",
    "        plt.imshow(im[myslice])#, cmap=plt.cm.gray\n",
    "    interact(plot_image, myslice=(0, im.shape[0]))\n",
    "    return;"
   ]
  },
  {
   "cell_type": "code",
   "execution_count": 3,
   "metadata": {},
   "outputs": [
    {
     "name": "stdout",
     "output_type": "stream",
     "text": [
      "(75, 18, 76)\n"
     ]
    }
   ],
   "source": [
    "#read rt dose dicom file\n",
    "#rd=dcm.read_file('RD.201700806.Dose_LIT Tumoral_LIT Tumoral.dcm')\n",
    "rd=dcm.read_file('new3/rd_joue.dcm')\n",
    "study=str(rd.PatientName.split('^')[0])\n",
    "#print(rd)\n",
    "#get pixel array\n",
    "rdpix=rd.pixel_array.astype(np.float32)\n",
    "print(unravel_index(rdpix.argmax(), rdpix.shape))\n",
    "#create an sitk image from this array\n",
    "rdim=sitk.GetImageFromArray(rdpix)\n",
    "\n",
    "#Set origin of image from rt dose value\n",
    "origin=[]\n",
    "for val in rd.ImagePositionPatient: origin.append(float(val))\n",
    "rdim.SetOrigin(origin)\n",
    "\n",
    "#Set spacing of image from rt dose value (x et y)\n",
    "spacing=[]\n",
    "for val in rd.PixelSpacing: spacing.append(float(val))\n",
    "\n",
    "#for z direction\n",
    "spacez=float(rd.GridFrameOffsetVector[1]-rd.GridFrameOffsetVector[0])\n",
    "spacing.append(spacez)\n",
    "rdim.SetSpacing(spacing)\n",
    "\n",
    "#write rd image in '.raw'\n",
    "#sitk.WriteImage(rdim, 'rd_boobs.mhd')\n",
    "sitk.WriteImage(rdim, 'new3/eclipse_'+study+'.mhd')"
   ]
  },
  {
   "cell_type": "code",
   "execution_count": 4,
   "metadata": {},
   "outputs": [
    {
     "name": "stdout",
     "output_type": "stream",
     "text": [
      "(78, 25, 70)\n",
      "(75, 18, 76)\n",
      "rd origin:  (-226.738281, -136.738281, -175.0)\n",
      "rd spacing:  (2.5, 2.5, 2.5)\n",
      "rd size:  (181, 130, 108)\n"
     ]
    },
    {
     "data": {
      "application/vnd.jupyter.widget-view+json": {
       "model_id": "e6d84b74d25a42a0b2a9f99bde89f263",
       "version_major": 2,
       "version_minor": 0
      },
      "text/html": [
       "<p>Failed to display Jupyter Widget of type <code>interactive</code>.</p>\n",
       "<p>\n",
       "  If you're reading this message in Jupyter Notebook or JupyterLab, it may mean\n",
       "  that the widgets JavaScript is still loading. If this message persists, it\n",
       "  likely means that the widgets JavaScript library is either not installed or\n",
       "  not enabled. See the <a href=\"https://ipywidgets.readthedocs.io/en/stable/user_install.html\">Jupyter\n",
       "  Widgets Documentation</a> for setup instructions.\n",
       "</p>\n",
       "<p>\n",
       "  If you're reading this message in another notebook frontend (for example, a static\n",
       "  rendering on GitHub or <a href=\"https://nbviewer.jupyter.org/\">NBViewer</a>),\n",
       "  it may mean that your frontend doesn't currently support widgets.\n",
       "</p>\n"
      ],
      "text/plain": [
       "interactive(children=(IntSlider(value=54, description=u'myslice', max=108), Output()), _dom_classes=('widget-interact',))"
      ]
     },
     "metadata": {},
     "output_type": "display_data"
    },
    {
     "name": "stdout",
     "output_type": "stream",
     "text": [
      "gate origin:  (-200.332, -154.238, -175.0)\n",
      "gate sapcing:  (2.5, 2.5, 2.5)\n",
      "gate size:  (164, 128, 124)\n"
     ]
    },
    {
     "data": {
      "application/vnd.jupyter.widget-view+json": {
       "model_id": "c9d741246127415b83d5c939fc5488ac",
       "version_major": 2,
       "version_minor": 0
      },
      "text/html": [
       "<p>Failed to display Jupyter Widget of type <code>interactive</code>.</p>\n",
       "<p>\n",
       "  If you're reading this message in Jupyter Notebook or JupyterLab, it may mean\n",
       "  that the widgets JavaScript is still loading. If this message persists, it\n",
       "  likely means that the widgets JavaScript library is either not installed or\n",
       "  not enabled. See the <a href=\"https://ipywidgets.readthedocs.io/en/stable/user_install.html\">Jupyter\n",
       "  Widgets Documentation</a> for setup instructions.\n",
       "</p>\n",
       "<p>\n",
       "  If you're reading this message in another notebook frontend (for example, a static\n",
       "  rendering on GitHub or <a href=\"https://nbviewer.jupyter.org/\">NBViewer</a>),\n",
       "  it may mean that your frontend doesn't currently support widgets.\n",
       "</p>\n"
      ],
      "text/plain": [
       "interactive(children=(IntSlider(value=62, description=u'myslice', max=124), Output()), _dom_classes=('widget-interact',))"
      ]
     },
     "metadata": {},
     "output_type": "display_data"
    }
   ],
   "source": [
    "#Get the rd raw created  and gate image\n",
    "#refim=sitk.ReadImage('rd_boobs.mhd')\n",
    "#gateim=sitk.ReadImage('boobs1.mhd')\n",
    "\n",
    "refim=sitk.ReadImage('new3/eclipse_'+study+'.mhd')\n",
    "gateim=sitk.ReadImage('new3/JoueG_test1.2.mhd')\n",
    "\n",
    "\n",
    "# get pixels arrays of images and vizualization\n",
    "gatepix=sitk.GetArrayFromImage(gateim)\n",
    "refpix=sitk.GetArrayFromImage(refim)\n",
    "print(unravel_index(gatepix.argmax(), gatepix.shape))\n",
    "print(unravel_index(refpix.argmax(), refpix.shape))\n",
    "#Show Info and vizualization\n",
    "print('rd origin: ', refim.GetOrigin())\n",
    "print('rd spacing: ',refim.GetSpacing())\n",
    "\n",
    "print('rd size: ',   refim.GetSize())\n",
    "ct_viewer(refpix)\n",
    "print('gate origin: ',gateim.GetOrigin())\n",
    "print('gate sapcing: ',gateim.GetSpacing())\n",
    "print('gate size: ',gateim.GetSize())\n",
    "ct_viewer(gatepix)"
   ]
  },
  {
   "cell_type": "code",
   "execution_count": 39,
   "metadata": {},
   "outputs": [
    {
     "name": "stdout",
     "output_type": "stream",
     "text": [
      "4.52587\n"
     ]
    },
    {
     "data": {
      "application/vnd.jupyter.widget-view+json": {
       "model_id": "ce65b84126db4490b0fa0abaa7f03dd8",
       "version_major": 2,
       "version_minor": 0
      },
      "text/html": [
       "<p>Failed to display Jupyter Widget of type <code>interactive</code>.</p>\n",
       "<p>\n",
       "  If you're reading this message in Jupyter Notebook or JupyterLab, it may mean\n",
       "  that the widgets JavaScript is still loading. If this message persists, it\n",
       "  likely means that the widgets JavaScript library is either not installed or\n",
       "  not enabled. See the <a href=\"https://ipywidgets.readthedocs.io/en/stable/user_install.html\">Jupyter\n",
       "  Widgets Documentation</a> for setup instructions.\n",
       "</p>\n",
       "<p>\n",
       "  If you're reading this message in another notebook frontend (for example, a static\n",
       "  rendering on GitHub or <a href=\"https://nbviewer.jupyter.org/\">NBViewer</a>),\n",
       "  it may mean that your frontend doesn't currently support widgets.\n",
       "</p>\n"
      ],
      "text/plain": [
       "interactive(children=(IntSlider(value=62, description=u'myslice', max=124), Output()), _dom_classes=('widget-interact',))"
      ]
     },
     "metadata": {},
     "output_type": "display_data"
    }
   ],
   "source": [
    "#Resample (Downsample) rd image into gate image size an resolution\n",
    "refim_res=sitk.Resample(refim, gateim, sitk.Transform(), sitk.sitkNearestNeighbor, 0)\n",
    "#g2=sitk.Resample(gateim, refim, sitk.Transform(), sitk.sitkNearestNeighbor, 0)\n",
    "#Get pixel array\n",
    "\n",
    "#Conversion en Gy\n",
    "\n",
    "refim_respix=sitk.GetArrayFromImage(refim_res)\n",
    "refim_respix=refim_respix*4.0*10**-6\n",
    "print(refim_respix.max())\n",
    "refim_res2=sitk.GetImageFromArray(refim_respix)\n",
    "refim_res2.SetOrigin(refim_res.GetOrigin())\n",
    "refim_res2.SetSpacing(refim_res.GetSpacing())\n",
    "\n",
    "#g2pix=sitk.GetArrayFromImage(g2pix)\n",
    "#print(refim_respix.shape)\n",
    "#print(gatepix.shape)\n",
    "ct_viewer(refim_respix)"
   ]
  },
  {
   "cell_type": "code",
   "execution_count": 26,
   "metadata": {},
   "outputs": [
    {
     "name": "stdout",
     "output_type": "stream",
     "text": [
      "rd resampled origin:  (-200.332, -154.238, -175.0)\n",
      "rd resampled spacing:  (2.5, 2.5, 2.5)\n",
      "rd resampled size:  (164, 128, 124)\n"
     ]
    },
    {
     "data": {
      "application/vnd.jupyter.widget-view+json": {
       "model_id": "43ed2766839c4fea9524657d9ac71854",
       "version_major": 2,
       "version_minor": 0
      },
      "text/html": [
       "<p>Failed to display Jupyter Widget of type <code>interactive</code>.</p>\n",
       "<p>\n",
       "  If you're reading this message in Jupyter Notebook or JupyterLab, it may mean\n",
       "  that the widgets JavaScript is still loading. If this message persists, it\n",
       "  likely means that the widgets JavaScript library is either not installed or\n",
       "  not enabled. See the <a href=\"https://ipywidgets.readthedocs.io/en/stable/user_install.html\">Jupyter\n",
       "  Widgets Documentation</a> for setup instructions.\n",
       "</p>\n",
       "<p>\n",
       "  If you're reading this message in another notebook frontend (for example, a static\n",
       "  rendering on GitHub or <a href=\"https://nbviewer.jupyter.org/\">NBViewer</a>),\n",
       "  it may mean that your frontend doesn't currently support widgets.\n",
       "</p>\n"
      ],
      "text/plain": [
       "interactive(children=(IntSlider(value=62, description=u'myslice', max=124), Output()), _dom_classes=('widget-interact',))"
      ]
     },
     "metadata": {},
     "output_type": "display_data"
    }
   ],
   "source": [
    "#Sow info and vizualization\n",
    "print('rd resampled origin: ',refim_res.GetOrigin())\n",
    "print('rd resampled spacing: ',refim_res.GetSpacing())\n",
    "print('rd resampled size: ',refim_res.GetSize())\n",
    "#bons=[-201.582, 152.988, -113.75]\n",
    "#refim_res.SetOrigin(bons)\n",
    "ct_viewer(refim_respix)\n",
    "#refim_respix=sitk.GetArrayFromImage(refim_res)"
   ]
  },
  {
   "cell_type": "code",
   "execution_count": 40,
   "metadata": {},
   "outputs": [],
   "source": [
    "#Write resampled image\n",
    "#sitk.WriteImage(refim_res, 'rd_boobs_resampled.mhd')\n",
    "sitk.WriteImage(refim_res2, 'new3/eclipse_'+study+'_resampled.mhd')"
   ]
  },
  {
   "cell_type": "code",
   "execution_count": 20,
   "metadata": {},
   "outputs": [
    {
     "data": {
      "application/vnd.jupyter.widget-view+json": {
       "model_id": "b3e201fe8dfe44f8b34779987386d06c",
       "version_major": 2,
       "version_minor": 0
      },
      "text/html": [
       "<p>Failed to display Jupyter Widget of type <code>interactive</code>.</p>\n",
       "<p>\n",
       "  If you're reading this message in Jupyter Notebook or JupyterLab, it may mean\n",
       "  that the widgets JavaScript is still loading. If this message persists, it\n",
       "  likely means that the widgets JavaScript library is either not installed or\n",
       "  not enabled. See the <a href=\"https://ipywidgets.readthedocs.io/en/stable/user_install.html\">Jupyter\n",
       "  Widgets Documentation</a> for setup instructions.\n",
       "</p>\n",
       "<p>\n",
       "  If you're reading this message in another notebook frontend (for example, a static\n",
       "  rendering on GitHub or <a href=\"https://nbviewer.jupyter.org/\">NBViewer</a>),\n",
       "  it may mean that your frontend doesn't currently support widgets.\n",
       "</p>\n"
      ],
      "text/plain": [
       "interactive(children=(IntSlider(value=62, description=u'myslice', max=124), Output()), _dom_classes=('widget-interact',))"
      ]
     },
     "metadata": {},
     "output_type": "display_data"
    },
    {
     "data": {
      "application/vnd.jupyter.widget-view+json": {
       "model_id": "815ee3ece7894c80a735a4e5fa77654b",
       "version_major": 2,
       "version_minor": 0
      },
      "text/html": [
       "<p>Failed to display Jupyter Widget of type <code>interactive</code>.</p>\n",
       "<p>\n",
       "  If you're reading this message in Jupyter Notebook or JupyterLab, it may mean\n",
       "  that the widgets JavaScript is still loading. If this message persists, it\n",
       "  likely means that the widgets JavaScript library is either not installed or\n",
       "  not enabled. See the <a href=\"https://ipywidgets.readthedocs.io/en/stable/user_install.html\">Jupyter\n",
       "  Widgets Documentation</a> for setup instructions.\n",
       "</p>\n",
       "<p>\n",
       "  If you're reading this message in another notebook frontend (for example, a static\n",
       "  rendering on GitHub or <a href=\"https://nbviewer.jupyter.org/\">NBViewer</a>),\n",
       "  it may mean that your frontend doesn't currently support widgets.\n",
       "</p>\n"
      ],
      "text/plain": [
       "interactive(children=(IntSlider(value=62, description=u'myslice', max=124), Output()), _dom_classes=('widget-interact',))"
      ]
     },
     "metadata": {},
     "output_type": "display_data"
    }
   ],
   "source": [
    "#Create a boolean mask to apply on Gate image (remove dose outside the patient according to RTdose)\n",
    "mask=np.ma.make_mask(refim_respix)\n",
    "gatepix=gatepix[:, :, :]\n",
    "#apply on gate pixel array\n",
    "gatepix_mask=gatepix*mask\n",
    "gatepix_mask=gatepix_mask[:,:,:]\n",
    "\n",
    "ct_viewer(mask)\n",
    "ct_viewer(gatepix_mask)"
   ]
  },
  {
   "cell_type": "code",
   "execution_count": 21,
   "metadata": {},
   "outputs": [
    {
     "name": "stdout",
     "output_type": "stream",
     "text": [
      "(-200.332, -154.238, -175.0)\n",
      "(2.5, 2.5, 2.5)\n",
      "(164, 128, 124)\n"
     ]
    }
   ],
   "source": [
    "#Create a raw image of gate with mask\n",
    "\n",
    "#conversion en Dose Abs. \n",
    "gatepix_mask=gatepix_mask*(1.0/0.000140945)*(547.0/100.0)\n",
    "\n",
    "gate_dose=sitk.GetImageFromArray(gatepix_mask)\n",
    "gate_dose.SetOrigin(gateim.GetOrigin())\n",
    "gate_dose.SetSpacing(gateim.GetSpacing())\n",
    "print(gate_dose.GetOrigin())\n",
    "print(gate_dose.GetSpacing())\n",
    "print(gate_dose.GetSize())\n",
    "#sitk.WriteImage(gate_dose, 'gate_dose.mhd')\n",
    "sitk.WriteImage(gate_dose, 'new3/gate_'+study+'.mhd')"
   ]
  },
  {
   "cell_type": "code",
   "execution_count": null,
   "metadata": {},
   "outputs": [],
   "source": [
    "#Create rtdose.dcm fil with gate and rt dose resampled image\n",
    "\n",
    "#need a empty matrix (of size of original image) to fill up with our images\n",
    "#z, y, x why ???\n",
    "Matrix=np.zeros(((rdim.GetSize()[2], rdim.GetSize()[1], rdim.GetSize()[0])))\n",
    "\n",
    "lowx=(Matrix.shape[0] // 2) - (gatepix_mask.shape[0] //2) -1\n",
    "upx= (Matrix.shape[0] // 2) + (gatepix_mask.shape[0] //2)\n",
    "lowy=(Matrix.shape[1] // 2) - (gatepix_mask.shape[1] //2)\n",
    "upy= (Matrix.shape[1] // 2) + (gatepix_mask.shape[1] //2)\n",
    "lowz=(Matrix.shape[2] // 2) - (gatepix_mask.shape[2] //2)\n",
    "upz= (Matrix.shape[2] // 2) + (gatepix_mask.shape[2] //2)\n",
    "\n",
    "#use slicing to replace the center of the matrix by our image\n",
    "Matrix[lowx:upx, lowy:upy, lowz:upz]=gatepix_mask\n",
    "\n",
    "#Pixel was written in int32 we have float32 so we multiply to have inerger with enough precison to don't lose physcal information (the troncature of float lose less information than the uncertainty of gate simulation)\n",
    "scale=1e-10\n",
    "Matrix=Matrix/scale\n",
    "Matrix=Matrix.astype(np.int32)\n",
    "#ct_viewer(Matrix)\n",
    "\n",
    "#insert dose factor scaling into rt dose\n",
    "rd.DoseGridScaling=scale\n",
    "\n",
    "#write matrix into pixel data and save a new dicom file\n",
    "rd.PixelData = Matrix.tostring()\n",
    "rd.save_as(\"gate_rtdose.dcm\")"
   ]
  },
  {
   "cell_type": "code",
   "execution_count": null,
   "metadata": {},
   "outputs": [],
   "source": [
    "#Same operation for rt dose resmpled image\n",
    "#Create rtdose.dcm fil with gate and rt dose resampled image\n",
    "\n",
    "#need a empty matrix (of size of original image) to fill up with our images\n",
    "#z, y, x why ???\n",
    "Matrix=np.zeros(((rdim.GetSize()[2], rdim.GetSize()[1], rdim.GetSize()[0])))\n",
    "\n",
    "lowx=(Matrix.shape[0] // 2) - (refim_respix.shape[0] //2) -1\n",
    "upx= (Matrix.shape[0] // 2) + (refim_respix.shape[0] //2)\n",
    "lowy=(Matrix.shape[1] // 2) - (refim_respix.shape[1] //2)\n",
    "upy= (Matrix.shape[1] // 2) + (refim_respix.shape[1] //2)\n",
    "lowz=(Matrix.shape[2] // 2) - (refim_respix.shape[2] //2)\n",
    "upz= (Matrix.shape[2] // 2) + (refim_respix.shape[2] //2)\n",
    "\n",
    "#use slicing to replace the center of the matrix by our image\n",
    "Matrix[lowx:upx, lowy:upy, lowz:upz]=refim_respix\n",
    "\n",
    "#Pixel was written in int32 we have float32 so we multiply to have inerger with enough precison to don't lose physcal information (the troncature of float lose less information than the uncertainty of gate simulation)\n",
    "#scale=1e-10\n",
    "#Matrix=Matrix/scale\n",
    "Matrix=Matrix.astype(np.int32)\n",
    "#ct_viewer(Matrix)\n",
    "\n",
    "#insert dose factor scaling into rt dose\n",
    "#rd.DoseGridScaling=scale\n",
    "\n",
    "#write matrix into pixel data and save a new dicom file\n",
    "rd.PixelData = Matrix.tostring()\n",
    "rd.save_as(\"rtdose_linac6e10x10_resampled.dcm\")"
   ]
  },
  {
   "cell_type": "code",
   "execution_count": null,
   "metadata": {},
   "outputs": [],
   "source": [
    "normemcim=sitk.ReadImage('rd_boobs.mhd')\n",
    "normgateim=sitk.ReadImage('gate_dose.mhd')\n",
    "normemcimpix=sitk.GetArrayFromImage(normemcim)\n",
    "normgateimpix=sitk.GetArrayFromImage(normgateim)\n",
    "normemcimpix=normemcimpix/(normemcimpix.max())\n",
    "normgateimpix=normgateimpix/(normgateimpix.max())\n",
    "out1=sitk.GetImageFromArray(normemcimpix)\n",
    "out2=sitk.GetImageFromArray(normgateimpix)\n",
    "sitk.WriteImage(out1, 'emcnorm.mhd')\n",
    "sitk.WriteImage(out2, 'gatenorm.mhd')\n",
    "print(unravel_index(normemcimpix.argmax(), normemcimpix.shape))\n",
    "print(unravel_index(normgateimpix.argmax(), normgateimpix.shape))"
   ]
  },
  {
   "cell_type": "code",
   "execution_count": null,
   "metadata": {},
   "outputs": [],
   "source": [
    "mask1=np.ma.make_mask(refim_respix)\n",
    "imtest=sitk.ReadImage('gate_ct.mhd')\n",
    "imtestpix=sitk.GetArrayFromImage(imtest)\n",
    "mask2=np.ma.make_mask(imtestpix)\n",
    "M=np.zeros(((mask1.shape[0], mask1.shape[1], mask1.shape[2])))\n",
    "M1=(M+1.0)*mask1\n",
    "M2=(M+1.0)*mask2\n",
    "M1.astype(np.float32)\n",
    "M2.astype(np.float32)\n",
    "mask1im=sitk.GetImageFromArray(M1)\n",
    "mask2im=sitk.GetImageFromArray(M2)\n",
    "sitk.WriteImage(mask1im, 'm1.mhd')\n",
    "sitk.WriteImage(mask2im, 'm2.mhd')"
   ]
  }
 ],
 "metadata": {
  "kernelspec": {
   "display_name": "Python 3",
   "language": "python",
   "name": "python3"
  },
  "language_info": {
   "codemirror_mode": {
    "name": "ipython",
    "version": 3
   },
   "file_extension": ".py",
   "mimetype": "text/x-python",
   "name": "python",
   "nbconvert_exporter": "python",
   "pygments_lexer": "ipython3",
   "version": "3.6.7"
  }
 },
 "nbformat": 4,
 "nbformat_minor": 2
}
