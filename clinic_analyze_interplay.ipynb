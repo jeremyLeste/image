{
 "cells": [
  {
   "cell_type": "code",
   "execution_count": 2,
   "metadata": {},
   "outputs": [],
   "source": [
    "import dicom as dcm\n",
    "import SimpleITK as sitk\n",
    "import numpy as np \n",
    "import array\n",
    "from numpy import unravel_index\n",
    "import matplotlib.pyplot as plt\n",
    "%matplotlib inline\n",
    "\n",
    "from ipywidgets import interact\n",
    "def ct_viewer(im):\n",
    "    def plot_image(myslice):\n",
    "        plt.imshow(im[myslice], cmap=plt.cm.jet)\n",
    "    interact(plot_image, myslice=(0, im.shape[0]))\n",
    "    return;"
   ]
  },
  {
   "cell_type": "code",
   "execution_count": 3,
   "metadata": {},
   "outputs": [],
   "source": [
    "\n",
    "#print(rp)\n",
    "#rp=dcm.read_file('../interplay/output/RTplan_Resampled/1D/RP.test_orientation.dcm')\n",
    "#print(rp)"
   ]
  },
  {
   "cell_type": "markdown",
   "metadata": {},
   "source": [
    "# GATE output and RT dose DICOM"
   ]
  },
  {
   "cell_type": "code",
   "execution_count": 85,
   "metadata": {},
   "outputs": [
    {
     "data": {
      "application/vnd.jupyter.widget-view+json": {
       "model_id": "b905e9be4f8946608807b2387403a947",
       "version_major": 2,
       "version_minor": 0
      },
      "text/plain": [
       "interactive(children=(IntSlider(value=22, description='myslice', max=45), Output()), _dom_classes=('widget-int…"
      ]
     },
     "metadata": {},
     "output_type": "display_data"
    }
   ],
   "source": [
    "#Get the rd raw created  and gate image\n",
    "\n",
    "#name='interplay_1D_FFF_PTV25_A25T7_dose'\n",
    "#rp=dcm.read_file('../interplay/output/RTplan_Resampled/2D/2D_SIN_ITV.dcm')\n",
    "rp=dcm.read_file('../interplay/output/new/RTplan/RP_2D_CUR_ITV_5_5.dcm')\n",
    "                 \n",
    "name='interplay_2D_CUR_ITV_5_5_T5_dose'\n",
    "\n",
    "r='/home/gate/Documents/phd/work/gateTrueBeamModel/tb/fullCreator/results/'\n",
    "refim=sitk.ReadImage('../interplay/data/measured/RawImage/1.mhd')\n",
    "gateim=sitk.ReadImage(r+name+'/'+name+'.mhd')\n",
    "\n",
    "\n",
    "# get pixels arrays of images and vizualization\n",
    "gatepix=sitk.GetArrayFromImage(gateim)\n",
    "refpix=sitk.GetArrayFromImage(refim)                                          \n",
    "#ct_viewer(refpix)\n",
    "ct_viewer(gatepix)"
   ]
  },
  {
   "cell_type": "code",
   "execution_count": 86,
   "metadata": {},
   "outputs": [
    {
     "name": "stdout",
     "output_type": "stream",
     "text": [
      "6NON_STANDARD\n",
      "um: 623.856997334957\n",
      "frac: 1.0\n",
      "max avant calib: 0.0003481591\n",
      "maximum: 2.1422378707163765\n",
      "ok\n"
     ]
    }
   ],
   "source": [
    "# compute true value gate output offset in the DICOM frame\n",
    "new_origin=np.zeros(3)\n",
    "#print(gateim.GetOrigin())\n",
    "new_origin[0]=gateim.GetOrigin()[0]\n",
    "new_origin[1]=gateim.GetOrigin()[1]*-1\n",
    "new_origin[2]=gateim.GetOrigin()[2]*-1\n",
    "gateim.SetOrigin(new_origin)\n",
    "#print('New Origin : ', gateim.GetOrigin())\n",
    "\n",
    "#Create a boolean mask to apply on Gate image (remove dose outside the patient according to measurment)\n",
    "#mask=np.ma.make_mask(refpix)\n",
    "#apply on gate pixel array\n",
    "#mask=np.ones_like(refpix)\n",
    "mask=np.ones_like(gatepix)\n",
    "\n",
    "\n",
    "gatepix_mask=gatepix*mask\n",
    "#ct_viewer(gatepix_mask)\n",
    "\n",
    "#!!!!!!!!!!!!!!!!!!!!!!!!!!!!!!!!!!!!!!!!!!!!!!!!!!!\n",
    "#FACTEUR A TROUVER POUR LES PHOTONS !!!!!!!!!!!!!!!!\n",
    "#!!!!!!!!!!!!!!!!!!!!!!!!!!!!!!!!!!!!!!!!!!!!!!!!!!!\n",
    "\n",
    "# ************ F for interplay ************\n",
    "E=rp.BeamSequence[0].ControlPointSequence[0].NominalBeamEnergy\n",
    "mode=rp.BeamSequence[0].PrimaryFluenceModeSequence[0].FluenceMode\n",
    "energy=str(E)+mode\n",
    "#energy=\"6STANDARD\"\n",
    "#print(mode)\n",
    "if energy == \"6NON_STANDARD\":\n",
    "    Dose_Gate_ref=0.0005063408\n",
    "    N_part_ref=130170012500.0\n",
    "\n",
    "    \n",
    "if energy == \"6STANDARD\":          #avec les killboxes\n",
    "    Dose_Gate_ref=0.00033116873      #0.00033096725  \n",
    "    N_part_ref=127666770000.0\n",
    "    \n",
    "#nb de part pour faire le phsp réduit\n",
    "N_part_simu=2606532517\n",
    "    \n",
    "print(energy)\n",
    "\n",
    "#Absolute dose conversion\n",
    "um=float(rp.FractionGroupSequence[0].ReferencedBeamSequence[0].BeamMeterset)\n",
    "#fraction unique for interplay\n",
    "nFrac=float(rp.FractionGroupSequence[0].NumberofFractionsPlanned)\n",
    "\n",
    "print('um:', um)\n",
    "print('frac:', nFrac)\n",
    "\n",
    "\n",
    "\n",
    "gatepix_abs=(gatepix_mask/N_part_simu)*(0.01)*(N_part_ref/Dose_Gate_ref)*um/100 #*nFrac #un seule fraction here\n",
    "#gatepix_abs=gatepix_abs/3.55 #scaling factor no interplay F = nb phantom position/100\n",
    "print(\"max avant calib:\", gatepix_mask.max())\n",
    "print('maximum:', gatepix_abs.max())\n",
    "\n",
    "#Create a raw image of gate with mask and a raw image from resampled rt dose dicom \n",
    "gate_dose=sitk.GetImageFromArray(gatepix_abs)\n",
    "gate_dose.SetOrigin(gateim.GetOrigin())\n",
    "gate_dose.SetSpacing(gateim.GetSpacing())\n",
    "sitk.WriteImage(gate_dose, r+name+'/'+name+'_abs.mhd')\n",
    "print('ok')"
   ]
  },
  {
   "cell_type": "markdown",
   "metadata": {},
   "source": [
    "# Absolute dose conversion "
   ]
  },
  {
   "cell_type": "code",
   "execution_count": 146,
   "metadata": {},
   "outputs": [],
   "source": [
    "#for isodose value\n",
    "#print(0.95*gatepix_abs.max())\n",
    "#print(0.80*gatepix_abs.max())\n",
    "#print(0.60*gatepix_abs.max())\n",
    "#print(0.50*gatepix_abs.max())\n",
    "#print(0.25*gatepix_abs.max())\n",
    "#print(0.15*gatepix_abs.max())"
   ]
  },
  {
   "cell_type": "code",
   "execution_count": 87,
   "metadata": {},
   "outputs": [
    {
     "name": "stdout",
     "output_type": "stream",
     "text": [
      "ok\n"
     ]
    }
   ],
   "source": [
    "#Create a raw image of gate with mask and a raw image from resampled rt dose dicom \n",
    "gate_dose=sitk.GetImageFromArray(gatepix_abs)\n",
    "gate_dose.SetOrigin(gateim.GetOrigin())\n",
    "gate_dose.SetSpacing(gateim.GetSpacing())\n",
    "sitk.WriteImage(gate_dose, r+name+'/'+name+'_abs.mhd')\n",
    "print('ok')"
   ]
  }
 ],
 "metadata": {
  "kernelspec": {
   "display_name": "Python 3",
   "language": "python",
   "name": "python3"
  },
  "language_info": {
   "codemirror_mode": {
    "name": "ipython",
    "version": 3
   },
   "file_extension": ".py",
   "mimetype": "text/x-python",
   "name": "python",
   "nbconvert_exporter": "python",
   "pygments_lexer": "ipython3",
   "version": "3.6.8"
  }
 },
 "nbformat": 4,
 "nbformat_minor": 2
}
