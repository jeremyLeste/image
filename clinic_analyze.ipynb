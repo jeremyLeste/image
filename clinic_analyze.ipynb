{
 "cells": [
  {
   "cell_type": "code",
   "execution_count": 1,
   "metadata": {},
   "outputs": [],
   "source": [
    "import dicom as dcm\n",
    "import SimpleITK as sitk\n",
    "import numpy as np \n",
    "import array\n",
    "from numpy import unravel_index\n",
    "import matplotlib.pyplot as plt\n",
    "%matplotlib inline\n",
    "\n",
    "from __future__ import print_function\n",
    "from ipywidgets import interact\n",
    "def ct_viewer(im):\n",
    "    def plot_image(myslice):\n",
    "        plt.imshow(im[myslice], cmap=plt.cm.jet)\n",
    "    interact(plot_image, myslice=(0, im.shape[0]))\n",
    "    return;"
   ]
  },
  {
   "cell_type": "code",
   "execution_count": 111,
   "metadata": {},
   "outputs": [],
   "source": [
    "study='patient7'"
   ]
  },
  {
   "cell_type": "code",
   "execution_count": 112,
   "metadata": {},
   "outputs": [],
   "source": [
    "rp=dcm.read_file('/media/sf_CRCT/JupyterNotebook/data/image/curie/clinic/'+study+'/dicom/rp_'+study+'.dcm')\n",
    "rd=dcm.read_file('/media/sf_CRCT/JupyterNotebook/data/image/curie/clinic/'+study+'/dicom/rd_'+study+'.dcm')"
   ]
  },
  {
   "cell_type": "markdown",
   "metadata": {},
   "source": [
    "# Create an mhd file from DICOM RT dose "
   ]
  },
  {
   "cell_type": "code",
   "execution_count": 113,
   "metadata": {},
   "outputs": [
    {
     "name": "stdout",
     "output_type": "stream",
     "text": [
      "emc_patient7.mhd --> ok\n"
     ]
    }
   ],
   "source": [
    "#get pixel array\n",
    "rdpix=rd.pixel_array.astype(np.float32)\n",
    "\n",
    "#Convert rt dose value into Gy value \n",
    "f=float(rd.DoseGridScaling)\n",
    "rdpix1=rdpix*f \n",
    "\n",
    "#create an sitk image from this array\n",
    "rdim=sitk.GetImageFromArray(rdpix1)\n",
    "\n",
    "#Set origin of image from rt dose value\n",
    "origin=[]\n",
    "for val in rd.ImagePositionPatient: origin.append(float(val))\n",
    "rdim.SetOrigin(origin)\n",
    "#Set spacing of image from rt dose value (x et y)\n",
    "spacing=[]\n",
    "for val in rd.PixelSpacing: spacing.append(float(val))\n",
    "#for z direction\n",
    "spacez=float(rd.GridFrameOffsetVector[1]-rd.GridFrameOffsetVector[0])\n",
    "spacing.append(spacez)\n",
    "rdim.SetSpacing(spacing)\n",
    "\n",
    "#write rd image in '.raw'\n",
    "sitk.WriteImage(rdim, '/media/sf_CRCT/JupyterNotebook/data/image/curie/clinic/'+study+'/results/emc_'+study+'.mhd')\n",
    "print('emc_'+study+'.mhd --> ok')"
   ]
  },
  {
   "cell_type": "markdown",
   "metadata": {},
   "source": [
    "# GATE output and RT dose DICOM"
   ]
  },
  {
   "cell_type": "code",
   "execution_count": 114,
   "metadata": {},
   "outputs": [
    {
     "data": {
      "application/vnd.jupyter.widget-view+json": {
       "model_id": "9ebceb7d6d1d49e7832b310c854b3220",
       "version_major": 2,
       "version_minor": 0
      },
      "text/html": [
       "<p>Failed to display Jupyter Widget of type <code>interactive</code>.</p>\n",
       "<p>\n",
       "  If you're reading this message in Jupyter Notebook or JupyterLab, it may mean\n",
       "  that the widgets JavaScript is still loading. If this message persists, it\n",
       "  likely means that the widgets JavaScript library is either not installed or\n",
       "  not enabled. See the <a href=\"https://ipywidgets.readthedocs.io/en/stable/user_install.html\">Jupyter\n",
       "  Widgets Documentation</a> for setup instructions.\n",
       "</p>\n",
       "<p>\n",
       "  If you're reading this message in another notebook frontend (for example, a static\n",
       "  rendering on GitHub or <a href=\"https://nbviewer.jupyter.org/\">NBViewer</a>),\n",
       "  it may mean that your frontend doesn't currently support widgets.\n",
       "</p>\n"
      ],
      "text/plain": [
       "interactive(children=(IntSlider(value=69, description=u'myslice', max=138), Output()), _dom_classes=('widget-interact',))"
      ]
     },
     "metadata": {},
     "output_type": "display_data"
    },
    {
     "data": {
      "application/vnd.jupyter.widget-view+json": {
       "model_id": "2faaf4dad2f34d139789bb5c3a348a77",
       "version_major": 2,
       "version_minor": 0
      },
      "text/html": [
       "<p>Failed to display Jupyter Widget of type <code>interactive</code>.</p>\n",
       "<p>\n",
       "  If you're reading this message in Jupyter Notebook or JupyterLab, it may mean\n",
       "  that the widgets JavaScript is still loading. If this message persists, it\n",
       "  likely means that the widgets JavaScript library is either not installed or\n",
       "  not enabled. See the <a href=\"https://ipywidgets.readthedocs.io/en/stable/user_install.html\">Jupyter\n",
       "  Widgets Documentation</a> for setup instructions.\n",
       "</p>\n",
       "<p>\n",
       "  If you're reading this message in another notebook frontend (for example, a static\n",
       "  rendering on GitHub or <a href=\"https://nbviewer.jupyter.org/\">NBViewer</a>),\n",
       "  it may mean that your frontend doesn't currently support widgets.\n",
       "</p>\n"
      ],
      "text/plain": [
       "interactive(children=(IntSlider(value=150, description=u'myslice', max=300), Output()), _dom_classes=('widget-interact',))"
      ]
     },
     "metadata": {},
     "output_type": "display_data"
    }
   ],
   "source": [
    "#Get the rd raw created  and gate image\n",
    "refim=sitk.ReadImage('/media/sf_CRCT/JupyterNotebook/data/image/curie/clinic/'+study+'/images/emc_'+study+'.mhd')\n",
    "gateim=sitk.ReadImage('/media/sf_CRCT/JupyterNotebook/data/image/curie/clinic/'+study+'/results/out_'+study+'.mhd')\n",
    "# get pixels arrays of images and vizualization\n",
    "gatepix=sitk.GetArrayFromImage(gateim)\n",
    "refpix=sitk.GetArrayFromImage(refim)                                          \n",
    "ct_viewer(refpix)\n",
    "ct_viewer(gatepix)"
   ]
  },
  {
   "cell_type": "code",
   "execution_count": 115,
   "metadata": {},
   "outputs": [
    {
     "name": "stdout",
     "output_type": "stream",
     "text": [
      "New Origin :  (-307.61725, -371.0938, -200.0)\n"
     ]
    }
   ],
   "source": [
    "# compute true value gate output offset in the DICOM frame\n",
    "ct_im=sitk.ReadImage('/media/sf_CRCT/JupyterNotebook/data/image/curie/clinic/'+study+'/images/'+study+'.mhd')\n",
    "\n",
    "half_ct_im=[]\n",
    "half_gateim=[]\n",
    "void_actor=[]\n",
    "new_origin=[]\n",
    "\n",
    "for size, space in zip(ct_im.GetSize(), ct_im.GetSpacing()): half_ct_im.append((size*space)/2)\n",
    "for size, space in zip(gateim.GetSize(), gateim.GetSpacing()): half_gateim.append((size*space)/2)\n",
    "\n",
    "for vala, valb  in zip(half_gateim, half_ct_im): void_actor.append(vala-valb)\n",
    "    \n",
    "ct_im_origin=[ct_im.GetOrigin()[0], ct_im.GetOrigin()[1]*-1, ct_im.GetOrigin()[2]*-1]\n",
    "\n",
    "for val1, val2 in zip(ct_im_origin, void_actor): new_origin.append(val1-val2)\n",
    "    \n",
    "gateim.SetOrigin(new_origin)\n",
    "print('New Origin : ', gateim.GetOrigin())"
   ]
  },
  {
   "cell_type": "code",
   "execution_count": 116,
   "metadata": {},
   "outputs": [
    {
     "data": {
      "application/vnd.jupyter.widget-view+json": {
       "model_id": "e4d53870890d4db9a135ebed55c97f99",
       "version_major": 2,
       "version_minor": 0
      },
      "text/html": [
       "<p>Failed to display Jupyter Widget of type <code>interactive</code>.</p>\n",
       "<p>\n",
       "  If you're reading this message in Jupyter Notebook or JupyterLab, it may mean\n",
       "  that the widgets JavaScript is still loading. If this message persists, it\n",
       "  likely means that the widgets JavaScript library is either not installed or\n",
       "  not enabled. See the <a href=\"https://ipywidgets.readthedocs.io/en/stable/user_install.html\">Jupyter\n",
       "  Widgets Documentation</a> for setup instructions.\n",
       "</p>\n",
       "<p>\n",
       "  If you're reading this message in another notebook frontend (for example, a static\n",
       "  rendering on GitHub or <a href=\"https://nbviewer.jupyter.org/\">NBViewer</a>),\n",
       "  it may mean that your frontend doesn't currently support widgets.\n",
       "</p>\n"
      ],
      "text/plain": [
       "interactive(children=(IntSlider(value=150, description=u'myslice', max=300), Output()), _dom_classes=('widget-interact',))"
      ]
     },
     "metadata": {},
     "output_type": "display_data"
    }
   ],
   "source": [
    "#to mask GATE images an get just BODY DOSE\n",
    "#Resample (Downsampling) rd image into gate image size an resolution\n",
    "refim_res=sitk.Resample(refim, gateim, sitk.Transform(), sitk.sitkNearestNeighbor, 0)\n",
    "refim_respix=sitk.GetArrayFromImage(refim_res)\n",
    "ct_viewer(refim_respix)"
   ]
  },
  {
   "cell_type": "code",
   "execution_count": 117,
   "metadata": {},
   "outputs": [
    {
     "data": {
      "application/vnd.jupyter.widget-view+json": {
       "model_id": "d7977599546f4350bf9cdc7d4b86fb78",
       "version_major": 2,
       "version_minor": 0
      },
      "text/html": [
       "<p>Failed to display Jupyter Widget of type <code>interactive</code>.</p>\n",
       "<p>\n",
       "  If you're reading this message in Jupyter Notebook or JupyterLab, it may mean\n",
       "  that the widgets JavaScript is still loading. If this message persists, it\n",
       "  likely means that the widgets JavaScript library is either not installed or\n",
       "  not enabled. See the <a href=\"https://ipywidgets.readthedocs.io/en/stable/user_install.html\">Jupyter\n",
       "  Widgets Documentation</a> for setup instructions.\n",
       "</p>\n",
       "<p>\n",
       "  If you're reading this message in another notebook frontend (for example, a static\n",
       "  rendering on GitHub or <a href=\"https://nbviewer.jupyter.org/\">NBViewer</a>),\n",
       "  it may mean that your frontend doesn't currently support widgets.\n",
       "</p>\n"
      ],
      "text/plain": [
       "interactive(children=(IntSlider(value=150, description=u'myslice', max=300), Output()), _dom_classes=('widget-interact',))"
      ]
     },
     "metadata": {},
     "output_type": "display_data"
    }
   ],
   "source": [
    "#Create a boolean mask to apply on Gate image (remove dose outside the patient according to RTdose)\n",
    "mask=np.ma.make_mask(refim_respix)\n",
    "#apply on gate pixel array\n",
    "gatepix_mask=gatepix*mask\n",
    "ct_viewer(gatepix_mask)"
   ]
  },
  {
   "cell_type": "markdown",
   "metadata": {},
   "source": [
    "# Absolute dose conversion "
   ]
  },
  {
   "cell_type": "code",
   "execution_count": 118,
   "metadata": {},
   "outputs": [
    {
     "name": "stdout",
     "output_type": "stream",
     "text": [
      "6\n"
     ]
    }
   ],
   "source": [
    "energy=rp.BeamSequence[0].ControlPointSequence[0].NominalBeamEnergy\n",
    "if energy == 6:\n",
    "    GVref=0.000108726\n",
    "    Npart=1033128667.0\n",
    "    DrG=0.000108726\n",
    "    \n",
    "if energy == 9:\n",
    "    GVref=0.000140945\n",
    "    Npart=1136273663.0\n",
    "    DrG=0.000140945\n",
    "\n",
    "if energy == 12:\n",
    "    GVref=0.000150559\n",
    "    Npart=1086793583.0\n",
    "    DrG=0.000150559\n",
    "print(energy)"
   ]
  },
  {
   "cell_type": "code",
   "execution_count": 119,
   "metadata": {},
   "outputs": [
    {
     "name": "stdout",
     "output_type": "stream",
     "text": [
      "2.11885\n"
     ]
    }
   ],
   "source": [
    "#Absolute dose conversion LUC SIMON\n",
    "um=float(rp.FractionGroupSequence[0].ReferencedBeamSequence[0].BeamMeterset)\n",
    "nFrac=float(rp.FractionGroupSequence[0].NumberofFractionsPlanned)\n",
    "\n",
    "gatepix_abs=gatepix_mask*(1.0/GVref)*0.01*um*nFrac\n",
    "print(gatepix_abs.max())"
   ]
  },
  {
   "cell_type": "code",
   "execution_count": 120,
   "metadata": {},
   "outputs": [
    {
     "name": "stdout",
     "output_type": "stream",
     "text": [
      "2.11885\n"
     ]
    }
   ],
   "source": [
    "#Absolute dose conversion BIBLIO\n",
    "GperPart=DrG/Npart\n",
    "\n",
    "Dref=0.01\n",
    "F=Dref/GperPart\n",
    "\n",
    "um=float(rp.FractionGroupSequence[0].ReferencedBeamSequence[0].BeamMeterset)\n",
    "nFrac=float(rp.FractionGroupSequence[0].NumberofFractionsPlanned)\n",
    "\n",
    "gatepix_abs=(gatepix_mask/Npart)*F*um*nFrac\n",
    "print(gatepix_abs.max())"
   ]
  },
  {
   "cell_type": "code",
   "execution_count": 121,
   "metadata": {},
   "outputs": [],
   "source": [
    "#Create a raw image of gate with mask and a raw image from resampled rt dose dicom \n",
    "gate_dose=sitk.GetImageFromArray(gatepix_abs)\n",
    "gate_dose.SetOrigin(gateim.GetOrigin())\n",
    "gate_dose.SetSpacing(gateim.GetSpacing())\n",
    "sitk.WriteImage(refim_res, '/media/sf_CRCT/JupyterNotebook/data/image/curie/clinic/'+study+'/results/emc_resampled_'+study+'.mhd')\n",
    "sitk.WriteImage(gate_dose, '/media/sf_CRCT/JupyterNotebook/data/image/curie/clinic/'+study+'/results/gate_'+study+'.mhd')"
   ]
  }
 ],
 "metadata": {
  "kernelspec": {
   "display_name": "Python 2",
   "language": "python",
   "name": "python2"
  },
  "language_info": {
   "codemirror_mode": {
    "name": "ipython",
    "version": 2
   },
   "file_extension": ".py",
   "mimetype": "text/x-python",
   "name": "python",
   "nbconvert_exporter": "python",
   "pygments_lexer": "ipython2",
   "version": "2.7.12"
  }
 },
 "nbformat": 4,
 "nbformat_minor": 2
}
