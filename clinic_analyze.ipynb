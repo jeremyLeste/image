{
 "cells": [
  {
   "cell_type": "code",
   "execution_count": 103,
   "metadata": {},
   "outputs": [],
   "source": [
    "import dicom as dcm\n",
    "import SimpleITK as sitk\n",
    "import numpy as np \n",
    "import array\n",
    "from numpy import unravel_index\n",
    "import matplotlib.pyplot as plt\n",
    "%matplotlib inline\n",
    "\n",
    "from __future__ import print_function\n",
    "from ipywidgets import interact"
   ]
  },
  {
   "cell_type": "code",
   "execution_count": 104,
   "metadata": {},
   "outputs": [],
   "source": [
    "def ct_viewer(im):\n",
    "    def plot_image(myslice):\n",
    "        plt.imshow(im[myslice], cmap=plt.cm.jet)\n",
    "    interact(plot_image, myslice=(0, im.shape[0]))\n",
    "    return;"
   ]
  },
  {
   "cell_type": "code",
   "execution_count": 105,
   "metadata": {},
   "outputs": [],
   "source": [
    "#Choose Patient\n",
    "study='BIGAZZI'"
   ]
  },
  {
   "cell_type": "code",
   "execution_count": 109,
   "metadata": {},
   "outputs": [
    {
     "name": "stdout",
     "output_type": "stream",
     "text": [
      "(0008, 0005) Specific Character Set              CS: 'ISO_IR 192'\n",
      "(0008, 0012) Instance Creation Date              DA: '20180726'\n",
      "(0008, 0013) Instance Creation Time              TM: '161835.270000'\n",
      "(0008, 0016) SOP Class UID                       UI: RT Plan Storage\n",
      "(0008, 0018) SOP Instance UID                    UI: 1.2.246.352.71.5.950586737223.451322.20170124173856\n",
      "(0008, 0020) Study Date                          DA: '20170111'\n",
      "(0008, 0030) Study Time                          TM: '114828'\n",
      "(0008, 0050) Accession Number                    SH: '103093944'\n",
      "(0008, 0060) Modality                            CS: 'RTPLAN'\n",
      "(0008, 0070) Manufacturer                        LO: 'Varian Medical Systems'\n",
      "(0008, 0090) Referring Physician's Name          PN: 'CHIRA^CIPRIAN'\n",
      "(0008, 1010) Station Name                        SH: 'SRVVARIAN-DB'\n",
      "(0008, 1030) Study Description                   LO: 'TDM therapie SPC'\n",
      "(0008, 103e) Series Description                  LO: 'Plans ARIA RadOnc'\n",
      "(0008, 1048) Physician(s) of Record              PN: 'CHIRA^Ciprian'\n",
      "(0008, 1070) Operators' Name                     PN: 'caf'\n",
      "(0008, 1090) Manufacturer's Model Name           LO: 'ARIA RadOnc'\n",
      "(0010, 0010) Patient's Name                      PN: 'BAKER^GISELE^BASTIAN'\n",
      "(0010, 0020) Patient ID                          LO: '201610113'\n",
      "(0010, 0030) Patient's Birth Date                DA: '19660407'\n",
      "(0010, 0032) Patient's Birth Time                TM: '000000'\n",
      "(0010, 0040) Patient's Sex                       CS: 'F'\n",
      "(0018, 1000) Device Serial Number                LO: '950586737223'\n",
      "(0018, 1020) Software Version(s)                 LO: '13.7.29'\n",
      "(0020, 000d) Study Instance UID                  UI: 1.2.840.113619.2.278.3.3523880722.450.1484114735.169\n",
      "(0020, 000e) Series Instance UID                 UI: 1.2.246.352.71.2.950586737223.2210026.20170119151808\n",
      "(0020, 0010) Study ID                            SH: '8302'\n",
      "(0020, 0011) Series Number                       IS: '4'\n",
      "(0020, 0052) Frame of Reference UID              UI: 1.2.840.113619.2.278.3.3523880722.450.1484114735.170.10025.1\n",
      "(0020, 1040) Position Reference Indicator        LO: ''\n",
      "(300a, 0002) RT Plan Label                       SH: 'AILEDENEZD_TT'\n",
      "(300a, 0006) RT Plan Date                        DA: '20170127'\n",
      "(300a, 0007) RT Plan Time                        TM: '140058.583000'\n",
      "(300a, 000a) Plan Intent                         CS: 'CURATIVE'\n",
      "(300a, 000c) RT Plan Geometry                    CS: 'PATIENT'\n",
      "(300a, 0010)  Dose Reference Sequence   1 item(s) ---- \n",
      "   (300a, 0012) Dose Reference Number               IS: '1'\n",
      "   (300a, 0013) Dose Reference UID                  UI: 1.2.246.352.71.10.950586737223.372480.20170119153838\n",
      "   (300a, 0014) Dose Reference Structure Type       CS: 'COORDINATES'\n",
      "   (300a, 0016) Dose Reference Description          LO: 'ICRUNEZ'\n",
      "   (300a, 0018) Dose Reference Point Coordinates    DS: ['-23.101351507613', '-82.669762753882', '-58.75']\n",
      "   (300a, 0020) Dose Reference Type                 CS: 'TARGET'\n",
      "   (300a, 0023) Delivery Maximum Dose               DS: '48'\n",
      "   (300a, 0026) Target Prescription Dose            DS: '48'\n",
      "   (300a, 0027) Target Maximum Dose                 DS: '48'\n",
      "   (3267, 0010) Private Creator                     OB: Array of 34 bytes\n",
      "   (3267, 1000) Private tag data                    OB: 'CTVp'\n",
      "   ---------\n",
      "(300a, 0040)  Tolerance Table Sequence   1 item(s) ---- \n",
      "   (300a, 0042) Tolerance Table Number              IS: '10047'\n",
      "   (300a, 0043) Tolerance Table Label               SH: 'SEIN'\n",
      "   (300a, 0044) Gantry Angle Tolerance              DS: '2.0e-1'\n",
      "   (300a, 0046) Beam Limiting Device Angle Toleranc DS: '5.0e-1'\n",
      "   (300a, 0048)  Beam Limiting Device Tolerance Sequence   4 item(s) ---- \n",
      "      (300a, 004a) Beam Limiting Device Position Toler DS: '2'\n",
      "      (300a, 00b8) RT Beam Limiting Device Type        CS: 'X'\n",
      "      ---------\n",
      "      (300a, 004a) Beam Limiting Device Position Toler DS: '1'\n",
      "      (300a, 00b8) RT Beam Limiting Device Type        CS: 'ASYMX'\n",
      "      ---------\n",
      "      (300a, 004a) Beam Limiting Device Position Toler DS: '2'\n",
      "      (300a, 00b8) RT Beam Limiting Device Type        CS: 'Y'\n",
      "      ---------\n",
      "      (300a, 004a) Beam Limiting Device Position Toler DS: '1'\n",
      "      (300a, 00b8) RT Beam Limiting Device Type        CS: 'ASYMY'\n",
      "      ---------\n",
      "   (300a, 004c) Patient Support Angle Tolerance     DS: '2'\n",
      "   (300a, 0051) Table Top Vertical Position Toleran DS: '10'\n",
      "   (300a, 0052) Table Top Longitudinal Position Tol DS: '15'\n",
      "   (300a, 0053) Table Top Lateral Position Toleranc DS: '50'\n",
      "   ---------\n",
      "(300a, 0070)  Fraction Group Sequence   1 item(s) ---- \n",
      "   (300a, 0071) Fraction Group Number               IS: '1'\n",
      "   (300a, 0078) Number of Fractions Planned         IS: '16'\n",
      "   (300a, 0079) Number of Fraction Pattern Digits P IS: '1'\n",
      "   (300a, 007a) Repeat Fraction Cycle Length        IS: '1'\n",
      "   (300a, 007b) Fraction Pattern                    LT: '1111100'\n",
      "   (300a, 0080) Number of Beams                     IS: '1'\n",
      "   (300a, 00a0) Number of Brachy Application Setups IS: '0'\n",
      "   (300c, 0004)  Referenced Beam Sequence   1 item(s) ---- \n",
      "      (300a, 0082) Beam Dose Specification Point       DS: ['-23.101351507613', '-82.669762753882', '-58.75']\n",
      "      (300a, 0084) Beam Dose                           DS: '3'\n",
      "      (300a, 0086) Beam Meterset                       DS: '345'\n",
      "      (300c, 0006) Referenced Beam Number              IS: '1'\n",
      "      (3249, 0010) Private Creator                     OB: Array of 34 bytes\n",
      "      (3249, 1000) Private tag data                    OB: '1.38'\n",
      "      (3249, 1010) Private tag data                    OB: Array of 52 bytes\n",
      "      ---------\n",
      "   ---------\n",
      "(300a, 00b0)  Beam Sequence   1 item(s) ---- \n",
      "   (0008, 0070) Manufacturer                        LO: 'Varian Medical Systems'\n",
      "   (0008, 0080) Institution Name                    LO: 'Institut Claudius Regaud'\n",
      "   (0008, 1040) Institutional Department Name       LO: 'Radiotherapie'\n",
      "   (0008, 1090) Manufacturer's Model Name           LO: '2100C/D'\n",
      "   (0018, 1000) Device Serial Number                LO: '145'\n",
      "   (3002, 0050)  Primary Fluence Mode Sequence   1 item(s) ---- \n",
      "      (3002, 0051) Fluence Mode                        CS: 'STANDARD'\n",
      "      ---------\n",
      "   (300a, 00b2) Treatment Machine Name              SH: 'V3'\n",
      "   (300a, 00b3) Primary Dosimeter Unit              CS: 'MU'\n",
      "   (300a, 00b4) Source-Axis Distance                DS: '1000'\n",
      "   (300a, 00b6)  Beam Limiting Device Sequence   2 item(s) ---- \n",
      "      (300a, 00b8) RT Beam Limiting Device Type        CS: 'X'\n",
      "      (300a, 00bc) Number of Leaf/Jaw Pairs            IS: '1'\n",
      "      ---------\n",
      "      (300a, 00b8) RT Beam Limiting Device Type        CS: 'Y'\n",
      "      (300a, 00bc) Number of Leaf/Jaw Pairs            IS: '1'\n",
      "      ---------\n",
      "   (300a, 00c0) Beam Number                         IS: '1'\n",
      "   (300a, 00c2) Beam Name                           LO: 'NEZDT'\n",
      "   (300a, 00c4) Beam Type                           CS: 'STATIC'\n",
      "   (300a, 00c6) Radiation Type                      CS: 'ELECTRON'\n",
      "   (300a, 00ce) Treatment Delivery Type             CS: 'TREATMENT'\n",
      "   (300a, 00d0) Number of Wedges                    IS: '0'\n",
      "   (300a, 00e0) Number of Compensators              IS: '0'\n",
      "   (300a, 00ed) Number of Boli                      IS: '0'\n",
      "   (300a, 00f0) Number of Blocks                    IS: '1'\n",
      "   (300a, 00f2) Total Block Tray Factor             DS: '1'\n",
      "   (300a, 00f4)  Block Sequence   1 item(s) ---- \n",
      "      (300a, 00e1) Material ID                         SH: 'Cache elec'\n",
      "      (300a, 00f5) Block Tray ID                       SH: 'STD FFDA'\n",
      "      (300a, 00f6) Source to Block Tray Distance       DS: '950'\n",
      "      (300a, 00f8) Block Type                          CS: 'APERTURE'\n",
      "      (300a, 00f9) Accessory Code                      LO: '9001'\n",
      "      (300a, 00fa) Block Divergence                    CS: 'PRESENT'\n",
      "      (300a, 00fb) Block Mounting Position             CS: 'PATIENT_SIDE'\n",
      "      (300a, 00fc) Block Number                        IS: '10'\n",
      "      (300a, 00fe) Block Name                          LO: 'DIAM3'\n",
      "      (300a, 0100) Block Thickness                     DS: '20'\n",
      "      (300a, 0104) Block Number of Points              IS: '128'\n",
      "      (300a, 0106) Block Data                          DS: ['7.3601511e-1', '-14.981931843078', '1.47025710494341', '-14.927770900083', '2.20095711683043', '-14.837647649472', '2.92635483024192', '-14.711779206048', '3.64470269854896', '-14.550468797918', '4.35427015881694', '-14.354105035983', '5.0533478008833', '-14.123160977745', '5.74025148547635', '-13.858192987669', '6.41332640145423', '-13.559839396852', '7.07095105238996', '-13.228818965225', '7.71154116289832', '-12.865929150004', '8.33355349529403', '-12.472044184538', '8.9354895673865', '-12.04811297221', '9.51589926245468', '-11.595156800441', '10.0733843227053', '-11.114266880324', '10.6066017177982', '-10.606601717798', '11.1142668803244', '-10.073384322705', '11.5951568004411', '-9.5158992624547', '12.0481129722097', '-8.9354895673865', '12.4720441845382', '-8.333553495294', '12.8659291500041', '-7.7115411628983', '13.2288189652253', '-7.07095105239', '13.5598393968517', '-6.4133264014542', '13.8581929876693', '-5.7402514854763', '14.1231609777453', '-5.0533478008833', '14.3541050359831', '-4.3542701588169', '14.5504687979182', '-3.6447026985489', '14.7117792060485', '-2.9263548302419', '14.8376476494717', '-2.2009571168304', '14.927770900083', '-1.4702571049434', '14.9819318430776', '-7.3601511e-1', '15', '1.573486e-14', '14.9819318430776', '7.3601511e-1', '14.927770900083', '1.47025710494343', '14.8376476494717', '2.20095711683044', '14.7117792060485', '2.92635483024194', '14.5504687979182', '3.64470269854898', '14.3541050359831', '4.35427015881695', '14.1231609777453', '5.05334780088332', '13.8581929876693', '5.74025148547637', '13.5598393968516', '6.41332640145425', '13.2288189652253', '7.07095105238998', '12.8659291500041', '7.71154116289834', '12.4720441845382', '8.33355349529405', '12.0481129722097', '8.93548956738651', '11.595156800441', '9.51589926245469', '11.1142668803244', '10.0733843227053', '10.6066017177982', '10.6066017177982', '10.0733843227053', '11.1142668803244', '9.51589926245468', '11.5951568004411', '8.9354895673865', '12.0481129722097', '8.33355349529404', '12.4720441845382', '7.71154116289833', '12.8659291500041', '7.07095105238997', '13.2288189652253', '6.41332640145424', '13.5598393968516', '5.74025148547636', '13.8581929876693', '5.05334780088332', '14.1231609777453', '4.35427015881695', '14.3541050359831', '3.64470269854898', '14.5504687979182', '2.92635483024195', '14.7117792060485', '2.20095711683045', '14.8376476494717', '1.47025710494344', '14.927770900083', '7.3601511e-1', '14.9819318430776', '3.5143661e-14', '15', '-7.3601511e-1', '14.9819318430776', '-1.4702571049434', '14.927770900083', '-2.2009571168304', '14.8376476494717', '-2.9263548302419', '14.7117792060485', '-3.6447026985489', '14.5504687979182', '-4.3542701588169', '14.3541050359831', '-5.0533478008833', '14.1231609777453', '-5.7402514854763', '13.8581929876693', '-6.4133264014542', '13.5598393968517', '-7.0709510523899', '13.2288189652254', '-7.7115411628983', '12.8659291500041', '-8.333553495294', '12.4720441845382', '-8.9354895673864', '12.0481129722097', '-9.5158992624546', '11.5951568004411', '-10.073384322705', '11.1142668803244', '-10.606601717798', '10.6066017177983', '-11.114266880324', '10.0733843227053', '-11.595156800441', '9.51589926245474', '-12.04811297221', '8.93548956738656', '-12.472044184538', '8.3335534952941', '-12.865929150004', '7.7115411628984', '-13.228818965225', '7.07095105239004', '-13.559839396852', '6.41332640145431', '-13.858192987669', '5.74025148547643', '-14.123160977745', '5.05334780088339', '-14.354105035983', '4.35427015881703', '-14.550468797918', '3.64470269854905', '-14.711779206048', '2.92635483024202', '-14.837647649472', '2.20095711683053', '-14.927770900083', '1.47025710494351', '-14.981931843078', '7.3601511e-1', '-15', '1.0933687e-13', '-14.981931843078', '-7.3601511e-1', '-14.927770900083', '-1.4702571049433', '-14.837647649472', '-2.2009571168303', '-14.711779206048', '-2.9263548302418', '-14.550468797918', '-3.6447026985488', '-14.354105035983', '-4.3542701588168', '-14.123160977745', '-5.0533478008832', '-13.858192987669', '-5.7402514854762', '-13.559839396852', '-6.4133264014541', '-13.228818965225', '-7.0709510523898', '-12.865929150004', '-7.7115411628982', '-12.472044184538', '-8.3335534952939', '-12.04811297221', '-8.9354895673864', '-11.595156800441', '-9.5158992624546', '-11.114266880324', '-10.073384322705', '-10.606601717798', '-10.606601717798', '-10.073384322705', '-11.114266880324', '-9.5158992624548', '-11.595156800441', '-8.9354895673866', '-12.04811297221', '-8.3335534952942', '-12.472044184538', '-7.7115411628985', '-12.865929150004', '-7.0709510523901', '-13.228818965225', '-6.4133264014544', '-13.559839396852', '-5.7402514854765', '-13.858192987669', '-5.0533478008835', '-14.123160977745', '-4.3542701588171', '-14.354105035983', '-3.6447026985491', '-14.550468797918', '-2.9263548302421', '-14.711779206048', '-2.2009571168306', '-14.837647649472', '-1.4702571049436', '-14.927770900083', '-7.3601511e-1', '-14.981931843078', '-1.9019141e-13', '-15']\n",
      "      ---------\n",
      "   (300a, 0107)  Applicator Sequence   1 item(s) ---- \n",
      "      (300a, 00f9) Accessory Code                      LO: '32'\n",
      "      (300a, 0108) Applicator ID                       SH: 'A10'\n",
      "      (300a, 0109) Applicator Type                     CS: 'ELECTRON_SQUARE'\n",
      "      ---------\n",
      "   (300a, 010e) Final Cumulative Meterset Weight    DS: '1'\n",
      "   (300a, 0110) Number of Control Points            IS: '2'\n",
      "   (300a, 0111)  Control Point Sequence   2 item(s) ---- \n",
      "      (300a, 0112) Control Point Index                 IS: '0'\n",
      "      (300a, 0114) Nominal Beam Energy                 DS: '6'\n",
      "      (300a, 0115) Dose Rate Set                       DS: '300'\n",
      "      (300a, 011a)  Beam Limiting Device Position Sequence   2 item(s) ---- \n",
      "         (300a, 00b8) RT Beam Limiting Device Type        CS: 'X'\n",
      "         (300a, 011c) Leaf/Jaw Positions                  DS: ['-100', '100']\n",
      "         ---------\n",
      "         (300a, 00b8) RT Beam Limiting Device Type        CS: 'Y'\n",
      "         (300a, 011c) Leaf/Jaw Positions                  DS: ['-100', '100']\n",
      "         ---------\n",
      "      (300a, 011e) Gantry Angle                        DS: '330'\n",
      "      (300a, 011f) Gantry Rotation Direction           CS: 'NONE'\n",
      "      (300a, 0120) Beam Limiting Device Angle          DS: '0'\n",
      "      (300a, 0121) Beam Limiting Device Rotation Direc CS: 'NONE'\n",
      "      (300a, 0122) Patient Support Angle               DS: '0'\n",
      "      (300a, 0123) Patient Support Rotation Direction  CS: 'NONE'\n",
      "      (300a, 0125) Table Top Eccentric Angle           DS: '0'\n",
      "      (300a, 0126) Table Top Eccentric Rotation Direct CS: 'NONE'\n",
      "      (300a, 0128) Table Top Vertical Position         DS: '-232'\n",
      "      (300a, 0129) Table Top Longitudinal Position     DS: '662'\n",
      "      (300a, 012a) Table Top Lateral Position          DS: '26'\n",
      "      (300a, 012c) Isocenter Position                  DS: ['-24.928512979423', '-97.707406046065', '-60.969761688316']\n",
      "      (300a, 0130) Source to Surface Distance          DS: '999.89185225'\n",
      "      (300a, 0134) Cumulative Meterset Weight          DS: '0'\n",
      "      (300a, 0140) Table Top Pitch Angle               FL: 0.0\n",
      "      (300a, 0142) Table Top Pitch Rotation Direction  CS: 'NONE'\n",
      "      (300a, 0144) Table Top Roll Angle                FL: 0.0\n",
      "      (300a, 0146) Table Top Roll Rotation Direction   CS: 'NONE'\n",
      "      (300c, 0050)  Referenced Dose Reference Sequence   1 item(s) ---- \n",
      "         (300a, 010c) Cumulative Dose Reference Coefficie DS: '0'\n",
      "         (300c, 0051) Referenced Dose Reference Number    IS: '1'\n",
      "         ---------\n",
      "      ---------\n",
      "      (300a, 0112) Control Point Index                 IS: '1'\n",
      "      (300a, 0134) Cumulative Meterset Weight          DS: '1'\n",
      "      (300c, 0050)  Referenced Dose Reference Sequence   1 item(s) ---- \n",
      "         (300a, 010c) Cumulative Dose Reference Coefficie DS: '1'\n",
      "         (300c, 0051) Referenced Dose Reference Number    IS: '1'\n",
      "         ---------\n",
      "      ---------\n",
      "   (300c, 0042)  Referenced Reference Image Sequence   1 item(s) ---- \n",
      "      (0008, 1150) Referenced SOP Class UID            UI: RT Image Storage\n",
      "      (0008, 1155) Referenced SOP Instance UID         UI: 1.2.246.352.71.3.950586737223.10949273.20170124173856\n",
      "      (300a, 00c8) Reference Image Number              IS: '1'\n",
      "      ---------\n",
      "   (300c, 006a) Referenced Patient Setup Number     IS: '1'\n",
      "   (300c, 00a0) Referenced Tolerance Table Number   IS: '10047'\n",
      "   (3285, 0010) Private Creator                     OB: Array of 34 bytes\n",
      "   (3285, 1000) Private tag data                    OB: Array of 66 bytes\n",
      "   ---------\n",
      "(300a, 0180)  Patient Setup Sequence   1 item(s) ---- \n",
      "   (0018, 5100) Patient Position                    CS: 'HFS'\n",
      "   (300a, 0182) Patient Setup Number                IS: '1'\n",
      "   (300a, 01b0) Setup Technique                     CS: 'FIXED_SSD'\n",
      "   (300a, 01b2) Setup Technique Description         ST: 'Plaque ORFIT\\r\\nCale 5\\r\\nCale triang.\\r\\n PORTE 2\\r\\n\\r\\nPatiente doit fixer le fil sur la dte du masque (photo fiche posit.)\\r\\nDIAM 3'\n",
      "   (300a, 01d2) Table Top Vertical Setup Displaceme DS: '-98'\n",
      "   (300a, 01d4) Table Top Longitudinal Setup Displa DS: '61'\n",
      "   (300a, 01d6) Table Top Lateral Setup Displacemen DS: '23'\n",
      "   ---------\n",
      "(300c, 0060)  Referenced Structure Set Sequence   1 item(s) ---- \n",
      "   (0008, 1150) Referenced SOP Class UID            UI: RT Structure Set Storage\n",
      "   (0008, 1155) Referenced SOP Instance UID         UI: 1.2.246.352.205.5599785616427494778.806745901337674382\n",
      "   ---------\n",
      "(300e, 0002) Approval Status                     CS: 'APPROVED'\n",
      "(300e, 0004) Review Date                         DA: '20170125'\n",
      "(300e, 0005) Review Time                         TM: '150452.683000'\n",
      "(300e, 0008) Reviewer Name                       PN: 'lp'\n",
      "(3253, 0010) Private Creator                     OB: Array of 34 bytes\n",
      "(3253, 1000) [XML stream.]                       OB: Array of 1100 bytes\n",
      "(3253, 1001) [Data length of the XML stream]     OB: '1100'\n",
      "(3253, 1002) [Extended Interface Format tag]     OB: 'ExtendedIF'\n",
      "(3287, 0010) Private Creator                     OB: Array of 34 bytes\n",
      "(3287, 1000) Private tag data                    OB: Array of 100 bytes\n"
     ]
    }
   ],
   "source": [
    "#rp=dcm.read_file('/media/sf_CRCT/JupyterNotebook/data/image/ct/'+study+'/dicom/RP.201700810.sternum.dcm')\n",
    "rp2=dcm.read_file('/media/sf_Documents/Thesis/Work/DATA/Clinic/CasClinique/electron/BAKER/dicom/RP.201610113.AILEDENEZD_TT.dcm')\n",
    "#rd=dcm.read_file(study+'/dicom/rd_joue.dcm')\n",
    "print(rp2)\n",
    "#get pixel"
   ]
  },
  {
   "cell_type": "markdown",
   "metadata": {},
   "source": [
    "### Edit rt dose.dcm in raw file"
   ]
  },
  {
   "cell_type": "code",
   "execution_count": 92,
   "metadata": {},
   "outputs": [
    {
     "name": "stdout",
     "output_type": "stream",
     "text": [
      "1.3721952e-06\n",
      "eclipse_BIGAZZI.mhd --> ok\n"
     ]
    }
   ],
   "source": [
    "rp=dcm.read_file('/media/sf_CRCT/JupyterNotebook/data/image/ct/'+study+'/dicom/RP.201700806.LIT Tumoral.dcm')\n",
    "rd=dcm.read_file('/media/sf_CRCT/JupyterNotebook/data/image/ct/'+study+'/dicom/RD.201700806.Dose_LIT Tumoral_LIT Tumoral.dcm')\n",
    "\n",
    "#get pixel array\n",
    "rdpix=rd.pixel_array.astype(np.float32)\n",
    "\n",
    "\n",
    "#Convert rt dose value into Gy value \n",
    "f=float(rd.DoseGridScaling)\n",
    "print(f)\n",
    "rdpix1=rdpix*f \n",
    "\n",
    "#create an sitk image from this array\n",
    "rdim=sitk.GetImageFromArray(rdpix1)\n",
    "\n",
    "#Set origin of image from rt dose value\n",
    "origin=[]\n",
    "for val in rd.ImagePositionPatient: origin.append(float(val))\n",
    "rdim.SetOrigin(origin)\n",
    "#Set spacing of image from rt dose value (x et y)\n",
    "spacing=[]\n",
    "for val in rd.PixelSpacing: spacing.append(float(val))\n",
    "#for z direction\n",
    "spacez=float(rd.GridFrameOffsetVector[1]-rd.GridFrameOffsetVector[0])\n",
    "spacing.append(spacez)\n",
    "rdim.SetSpacing(spacing)\n",
    "\n",
    "#write rd image in '.raw'\n",
    "sitk.WriteImage(rdim, '/media/sf_CRCT/JupyterNotebook/data/image/ct/'+study+'/results/eclipse_'+study+'.mhd')\n",
    "print('eclipse_'+study+'.mhd --> ok')"
   ]
  },
  {
   "cell_type": "code",
   "execution_count": 93,
   "metadata": {},
   "outputs": [],
   "source": [
    "#Get the rd raw created  and gate image\n",
    "refim=sitk.ReadImage('/media/sf_CRCT/JupyterNotebook/data/image/ct/'+study+'/results/eclipse_'+study+'.mhd')\n",
    "gateim=sitk.ReadImage('/media/sf_CRCT/JupyterNotebook/data/image/ct/'+study+'/results/bigazzi_out.mhd')"
   ]
  },
  {
   "cell_type": "code",
   "execution_count": 94,
   "metadata": {},
   "outputs": [
    {
     "data": {
      "application/vnd.jupyter.widget-view+json": {
       "model_id": "62bdcbd5da2043dc863054d9615db28a",
       "version_major": 2,
       "version_minor": 0
      },
      "text/html": [
       "<p>Failed to display Jupyter Widget of type <code>interactive</code>.</p>\n",
       "<p>\n",
       "  If you're reading this message in Jupyter Notebook or JupyterLab, it may mean\n",
       "  that the widgets JavaScript is still loading. If this message persists, it\n",
       "  likely means that the widgets JavaScript library is either not installed or\n",
       "  not enabled. See the <a href=\"https://ipywidgets.readthedocs.io/en/stable/user_install.html\">Jupyter\n",
       "  Widgets Documentation</a> for setup instructions.\n",
       "</p>\n",
       "<p>\n",
       "  If you're reading this message in another notebook frontend (for example, a static\n",
       "  rendering on GitHub or <a href=\"https://nbviewer.jupyter.org/\">NBViewer</a>),\n",
       "  it may mean that your frontend doesn't currently support widgets.\n",
       "</p>\n"
      ],
      "text/plain": [
       "interactive(children=(IntSlider(value=72, description=u'myslice', max=145), Output()), _dom_classes=('widget-interact',))"
      ]
     },
     "metadata": {},
     "output_type": "display_data"
    },
    {
     "data": {
      "application/vnd.jupyter.widget-view+json": {
       "model_id": "74b27193546b468e9d62be88c26fd795",
       "version_major": 2,
       "version_minor": 0
      },
      "text/html": [
       "<p>Failed to display Jupyter Widget of type <code>interactive</code>.</p>\n",
       "<p>\n",
       "  If you're reading this message in Jupyter Notebook or JupyterLab, it may mean\n",
       "  that the widgets JavaScript is still loading. If this message persists, it\n",
       "  likely means that the widgets JavaScript library is either not installed or\n",
       "  not enabled. See the <a href=\"https://ipywidgets.readthedocs.io/en/stable/user_install.html\">Jupyter\n",
       "  Widgets Documentation</a> for setup instructions.\n",
       "</p>\n",
       "<p>\n",
       "  If you're reading this message in another notebook frontend (for example, a static\n",
       "  rendering on GitHub or <a href=\"https://nbviewer.jupyter.org/\">NBViewer</a>),\n",
       "  it may mean that your frontend doesn't currently support widgets.\n",
       "</p>\n"
      ],
      "text/plain": [
       "interactive(children=(IntSlider(value=36, description=u'myslice', max=73), Output()), _dom_classes=('widget-interact',))"
      ]
     },
     "metadata": {},
     "output_type": "display_data"
    }
   ],
   "source": [
    "# get pixels arrays of images and vizualization\n",
    "gatepix=sitk.GetArrayFromImage(gateim)\n",
    "refpix=sitk.GetArrayFromImage(refim)                                          \n",
    "ct_viewer(refpix)\n",
    "ct_viewer(gatepix)"
   ]
  },
  {
   "cell_type": "code",
   "execution_count": 96,
   "metadata": {},
   "outputs": [
    {
     "data": {
      "application/vnd.jupyter.widget-view+json": {
       "model_id": "917613a56891418d962abb9a0a04e27a",
       "version_major": 2,
       "version_minor": 0
      },
      "text/html": [
       "<p>Failed to display Jupyter Widget of type <code>interactive</code>.</p>\n",
       "<p>\n",
       "  If you're reading this message in Jupyter Notebook or JupyterLab, it may mean\n",
       "  that the widgets JavaScript is still loading. If this message persists, it\n",
       "  likely means that the widgets JavaScript library is either not installed or\n",
       "  not enabled. See the <a href=\"https://ipywidgets.readthedocs.io/en/stable/user_install.html\">Jupyter\n",
       "  Widgets Documentation</a> for setup instructions.\n",
       "</p>\n",
       "<p>\n",
       "  If you're reading this message in another notebook frontend (for example, a static\n",
       "  rendering on GitHub or <a href=\"https://nbviewer.jupyter.org/\">NBViewer</a>),\n",
       "  it may mean that your frontend doesn't currently support widgets.\n",
       "</p>\n"
      ],
      "text/plain": [
       "interactive(children=(IntSlider(value=36, description=u'myslice', max=73), Output()), _dom_classes=('widget-interact',))"
      ]
     },
     "metadata": {},
     "output_type": "display_data"
    }
   ],
   "source": [
    "#to mask GATE images an get just BODY DOSE\n",
    "#Resample (Downsampling) rd image into gate image size an resolution\n",
    "refim_res=sitk.Resample(refim, gateim, sitk.Transform(), sitk.sitkNearestNeighbor, 0)\n",
    "#Get pixel array\n",
    "refim_respix=sitk.GetArrayFromImage(refim_res)\n",
    "ct_viewer(refim_respix)"
   ]
  },
  {
   "cell_type": "code",
   "execution_count": 97,
   "metadata": {},
   "outputs": [
    {
     "name": "stdout",
     "output_type": "stream",
     "text": [
      "eclipse_BIGAZZI_resampled.mhd --> ok\n"
     ]
    }
   ],
   "source": [
    "#Write resampled image\n",
    "sitk.WriteImage(refim_res, '/media/sf_CRCT/JupyterNotebook/data/image/ct/'+study+'/results/eclipse_'+study+'_resampled.mhd')\n",
    "print('eclipse_'+study+'_resampled.mhd --> ok')"
   ]
  },
  {
   "cell_type": "code",
   "execution_count": 98,
   "metadata": {},
   "outputs": [
    {
     "data": {
      "application/vnd.jupyter.widget-view+json": {
       "model_id": "18db60c4fb5a4c6ba90fbc6d1436de83",
       "version_major": 2,
       "version_minor": 0
      },
      "text/html": [
       "<p>Failed to display Jupyter Widget of type <code>interactive</code>.</p>\n",
       "<p>\n",
       "  If you're reading this message in Jupyter Notebook or JupyterLab, it may mean\n",
       "  that the widgets JavaScript is still loading. If this message persists, it\n",
       "  likely means that the widgets JavaScript library is either not installed or\n",
       "  not enabled. See the <a href=\"https://ipywidgets.readthedocs.io/en/stable/user_install.html\">Jupyter\n",
       "  Widgets Documentation</a> for setup instructions.\n",
       "</p>\n",
       "<p>\n",
       "  If you're reading this message in another notebook frontend (for example, a static\n",
       "  rendering on GitHub or <a href=\"https://nbviewer.jupyter.org/\">NBViewer</a>),\n",
       "  it may mean that your frontend doesn't currently support widgets.\n",
       "</p>\n"
      ],
      "text/plain": [
       "interactive(children=(IntSlider(value=36, description=u'myslice', max=73), Output()), _dom_classes=('widget-interact',))"
      ]
     },
     "metadata": {},
     "output_type": "display_data"
    }
   ],
   "source": [
    "#Create a boolean mask to apply on Gate image (remove dose outside the patient according to RTdose)\n",
    "mask=np.ma.make_mask(refim_respix)\n",
    "#apply on gate pixel array\n",
    "gatepix_mask=gatepix*mask\n",
    "ct_viewer(gatepix_mask)"
   ]
  },
  {
   "cell_type": "code",
   "execution_count": 99,
   "metadata": {},
   "outputs": [],
   "source": [
    "energy=rp.BeamSequence[0].ControlPointSequence[0].NominalBeamEnergy\n",
    "if energy == 6:\n",
    "    GVref=0.000108726\n",
    "    Npart=1033128667.0\n",
    "    DrG=0.000108726\n",
    "    \n",
    "if energy == 9:\n",
    "    GVref=0.000140945\n",
    "    Npart=1136273663.0\n",
    "    DrG=0.000140945\n",
    "\n",
    "if energy == 12:\n",
    "    GVref=0.000150559\n",
    "    Npart=1086793583.0\n",
    "    DrG=0.000150559"
   ]
  },
  {
   "cell_type": "code",
   "execution_count": 100,
   "metadata": {},
   "outputs": [
    {
     "name": "stdout",
     "output_type": "stream",
     "text": [
      "9\n",
      "11.5205\n"
     ]
    }
   ],
   "source": [
    "energy=rp.BeamSequence[0].ControlPointSequence[0].NominalBeamEnergy\n",
    "print(energy)\n",
    "#Absolute dose conversion LUC SIMON\n",
    "um=float(rp.FractionGroupSequence[0].ReferencedBeamSequence[0].BeamMeterset)\n",
    "nFrac=float(rp.FractionGroupSequence[0].NumberofFractionsPlanned)\n",
    "\n",
    "#GVref6=0.000108726\n",
    "#GVref9=0.000140945\n",
    "#GVref12=0.000150559\n",
    "\n",
    "gatepix_abs=gatepix_mask*(1.0/GVref)*0.01*um*nFrac\n",
    "print(gatepix_abs.max())"
   ]
  },
  {
   "cell_type": "code",
   "execution_count": 101,
   "metadata": {},
   "outputs": [
    {
     "name": "stdout",
     "output_type": "stream",
     "text": [
      "11.5205\n"
     ]
    }
   ],
   "source": [
    "#Absolute dose conversion BIBLIO\n",
    "\n",
    "#Npart_6=1033128667.0\n",
    "#Npart_9=1136273663.0\n",
    "#Npart_12=1086793583.0\n",
    "#DrG_6=0.000108726\n",
    "#DrG_9=0.000140945\n",
    "#DrG_12=0.000150559\n",
    "\n",
    "GperPart=DrG/Npart\n",
    "\n",
    "Dref=0.01\n",
    "\n",
    "F=Dref/GperPart\n",
    "\n",
    "um=float(rp.FractionGroupSequence[0].ReferencedBeamSequence[0].BeamMeterset)\n",
    "nFrac=float(rp.FractionGroupSequence[0].NumberofFractionsPlanned)\n",
    "\n",
    "gatepix_abs=(gatepix_mask/Npart)*F*um*nFrac\n",
    "#print(gatepix_mask.max())\n",
    "print(gatepix_abs.max())\n"
   ]
  },
  {
   "cell_type": "code",
   "execution_count": 102,
   "metadata": {},
   "outputs": [],
   "source": [
    "\n",
    "#Create a raw image of gate with mask\n",
    "#gate_dose=sitk.GetImageFromArray(gatepix_mask)\n",
    "gate_dose=sitk.GetImageFromArray(gatepix_abs)\n",
    "gate_dose.SetOrigin(gateim.GetOrigin())\n",
    "gate_dose.SetSpacing(gateim.GetSpacing())\n",
    "sitk.WriteImage(gate_dose, '/media/sf_CRCT/JupyterNotebook/data/image/ct/'+study+'/results/gate_'+study+'.mhd')"
   ]
  }
 ],
 "metadata": {
  "kernelspec": {
   "display_name": "Python 2",
   "language": "python",
   "name": "python2"
  },
  "language_info": {
   "codemirror_mode": {
    "name": "ipython",
    "version": 2
   },
   "file_extension": ".py",
   "mimetype": "text/x-python",
   "name": "python",
   "nbconvert_exporter": "python",
   "pygments_lexer": "ipython2",
   "version": "2.7.12"
  }
 },
 "nbformat": 4,
 "nbformat_minor": 2
}
