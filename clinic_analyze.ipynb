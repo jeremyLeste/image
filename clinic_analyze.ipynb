{
 "cells": [
  {
   "cell_type": "code",
   "execution_count": 2,
   "metadata": {},
   "outputs": [],
   "source": [
    "import dicom as dcm\n",
    "import SimpleITK as sitk\n",
    "import numpy as np \n",
    "import array\n",
    "from numpy import unravel_index\n",
    "import matplotlib.pyplot as plt\n",
    "%matplotlib inline\n",
    "\n",
    "from ipywidgets import interact\n",
    "def ct_viewer(im):\n",
    "    def plot_image(myslice):\n",
    "        plt.imshow(im[myslice], cmap=plt.cm.jet)\n",
    "    interact(plot_image, myslice=(0, im.shape[0]))\n",
    "    return;"
   ]
  },
  {
   "cell_type": "code",
   "execution_count": 4,
   "metadata": {},
   "outputs": [],
   "source": [
    "study='interplay_13'\n"
   ]
  },
  {
   "cell_type": "code",
   "execution_count": 28,
   "metadata": {},
   "outputs": [
    {
     "data": {
      "text/plain": [
       "(0008, 0005) Specific Character Set              CS: 'ISO_IR 192'\n",
       "(0008, 0012) Instance Creation Date              DA: '20180726'\n",
       "(0008, 0013) Instance Creation Time              TM: '161835.341000'\n",
       "(0008, 0016) SOP Class UID                       UI: RT Dose Storage\n",
       "(0008, 0018) SOP Instance UID                    UI: 1.2.246.352.71.7.950586737223.695174.20170125150117\n",
       "(0008, 0020) Study Date                          DA: '20170111'\n",
       "(0008, 0030) Study Time                          TM: '114828'\n",
       "(0008, 0050) Accession Number                    SH: '103093944'\n",
       "(0008, 0060) Modality                            CS: 'RTDOSE'\n",
       "(0008, 0070) Manufacturer                        LO: 'Varian Medical Systems'\n",
       "(0008, 0090) Referring Physician's Name          PN: 'CHIRA^CIPRIAN'\n",
       "(0008, 1010) Station Name                        SH: 'SRVVARIAN-DB'\n",
       "(0008, 1030) Study Description                   LO: 'TDM therapie SPC'\n",
       "(0008, 103e) Series Description                  LO: 'Doses Eclipse'\n",
       "(0008, 1048) Physician(s) of Record              PN: 'CHIRA^Ciprian'\n",
       "(0008, 1090) Manufacturer's Model Name           LO: 'ARIA RadOnc'\n",
       "(0010, 0010) Patient's Name                      PN: 'BAKER^GISELE^BASTIAN'\n",
       "(0010, 0020) Patient ID                          LO: '201610113'\n",
       "(0010, 0030) Patient's Birth Date                DA: '19660407'\n",
       "(0010, 0032) Patient's Birth Time                TM: '000000'\n",
       "(0010, 0040) Patient's Sex                       CS: 'F'\n",
       "(0018, 0050) Slice Thickness                     DS: ''\n",
       "(0018, 1000) Device Serial Number                LO: '950586737223'\n",
       "(0018, 1020) Software Version(s)                 LO: '13.7.29'\n",
       "(0020, 000d) Study Instance UID                  UI: 1.2.840.113619.2.278.3.3523880722.450.1484114735.169\n",
       "(0020, 000e) Series Instance UID                 UI: 1.2.246.352.71.2.950586737223.2215205.20170125141426\n",
       "(0020, 0010) Study ID                            SH: '8302'\n",
       "(0020, 0011) Series Number                       IS: '9'\n",
       "(0020, 0013) Instance Number                     IS: ''\n",
       "(0020, 0032) Image Position (Patient)            DS: ['-189.238281', '-126.738281', '-188.125']\n",
       "(0020, 0037) Image Orientation (Patient)         DS: ['1', '0', '0', '0', '1', '0']\n",
       "(0020, 0052) Frame of Reference UID              UI: 1.2.840.113619.2.278.3.3523880722.450.1484114735.170.10025.1\n",
       "(0020, 1040) Position Reference Indicator        LO: ''\n",
       "(0028, 0002) Samples per Pixel                   US: 1\n",
       "(0028, 0004) Photometric Interpretation          CS: 'MONOCHROME2'\n",
       "(0028, 0008) Number of Frames                    IS: '100'\n",
       "(0028, 0009) Frame Increment Pointer             AT: (3004, 000c)\n",
       "(0028, 0010) Rows                                US: 91\n",
       "(0028, 0011) Columns                             US: 155\n",
       "(0028, 0030) Pixel Spacing                       DS: ['2.5', '2.5']\n",
       "(0028, 0100) Bits Allocated                      US: 32\n",
       "(0028, 0101) Bits Stored                         US: 32\n",
       "(0028, 0102) High Bit                            US: 31\n",
       "(0028, 0103) Pixel Representation                US: 0\n",
       "(3004, 0002) Dose Units                          CS: 'GY'\n",
       "(3004, 0004) Dose Type                           CS: 'PHYSICAL'\n",
       "(3004, 000a) Dose Summation Type                 CS: 'PLAN'\n",
       "(3004, 000c) Grid Frame Offset Vector            DS: ['0', '2.5', '5', '7.5', '10', '12.5', '15', '17.5', '20', '22.5', '25', '27.5', '30', '32.5', '35', '37.5', '40', '42.5', '45', '47.5', '50', '52.5', '55', '57.5', '60', '62.5', '65', '67.5', '70', '72.5', '75', '77.5', '80', '82.5', '85', '87.5', '90', '92.5', '95', '97.5', '100', '102.5', '105', '107.5', '110', '112.5', '115', '117.5', '120', '122.5', '125', '127.5', '130', '132.5', '135', '137.5', '140', '142.5', '145', '147.5', '150', '152.5', '155', '157.5', '160', '162.5', '165', '167.5', '170', '172.5', '175', '177.5', '180', '182.5', '185', '187.5', '190', '192.5', '195', '197.5', '200', '202.5', '205', '207.5', '210', '212.5', '215', '217.5', '220', '222.5', '225', '227.5', '230', '232.5', '235', '237.5', '240', '242.5', '245', '247.5']\n",
       "(3004, 000e) Dose Grid Scaling                   DS: '4.9379379e-5'\n",
       "(3004, 0014) Tissue Heterogeneity Correction     CS: 'IMAGE'\n",
       "(300c, 0002)  Referenced RT Plan Sequence   1 item(s) ---- \n",
       "   (0008, 1150) Referenced SOP Class UID            UI: RT Plan Storage\n",
       "   (0008, 1155) Referenced SOP Instance UID         UI: 1.2.246.352.71.5.950586737223.451382.20170125141437\n",
       "   ---------\n",
       "(7fe0, 0010) Pixel Data                          OB or OW: Array of 5642000 bytes"
      ]
     },
     "execution_count": 28,
     "metadata": {},
     "output_type": "execute_result"
    }
   ],
   "source": [
    "rp=dcm.read_file('/home/gate/Documents/phd/work/gateTrueBeamModel/tb/fullCreator/patient/BAKER/dicom/RP.201610113.AILEDENEZD_TT.dcm')\n",
    "#rd=dcm.read_file('/home/gate/Documents/phd/work/gateTrueBeamModel/tb/fullCreator/patient/BAKER/dicom/RD.201610113.Dose_AILEDENEZDTE1.dcm')\n",
    "#rd"
   ]
  },
  {
   "cell_type": "markdown",
   "metadata": {},
   "source": [
    "# Create an mhd file from DICOM RT dose "
   ]
  },
  {
   "cell_type": "code",
   "execution_count": 16,
   "metadata": {},
   "outputs": [
    {
     "name": "stdout",
     "output_type": "stream",
     "text": [
      "[2.5, 2.5, 2.5]\n",
      "emc_BAKER.mhd --> ok\n"
     ]
    }
   ],
   "source": [
    "#get pixel array\n",
    "rdpix=rd.pixel_array.astype(np.float32)\n",
    "\n",
    "#Convert rt dose value into Gy value \n",
    "f=float(rd.DoseGridScaling)\n",
    "rdpix1=rdpix*f \n",
    "\n",
    "#create an sitk image from this array\n",
    "rdim=sitk.GetImageFromArray(rdpix1)\n",
    "\n",
    "#Set origin of image from rt dose value\n",
    "origin=[]\n",
    "for val in rd.ImagePositionPatient: origin.append(float(val))\n",
    "rdim.SetOrigin(origin)\n",
    "#Set spacing of image from rt dose value (x et y)\n",
    "spacing=[]\n",
    "for val in rd.PixelSpacing: spacing.append(float(val))\n",
    "#for z direction\n",
    "spacez=float(rd.GridFrameOffsetVector[1]-rd.GridFrameOffsetVector[0])\n",
    "spacing.append(spacez)\n",
    "rdim.SetSpacing(spacing)\n",
    "\n",
    "#write rd image in '.raw'\n",
    "sitk.WriteImage(rdim, '/home/gate/Documents/phd/work/gateTrueBeamModel/tb/fullCreator/patient/'+study+'/results/emc_'+study+'.mhd')\n",
    "#sitk.WriteImage(rdim, '/home/gate/Documents/phd/work/gateTrueBeamModel/tb/fullCreator/patient/DEAK/results/emc_DEAK_oreille.mhd')\n",
    "\n",
    "print(spacing)\n",
    "\n",
    "\n",
    "print('emc_'+study+'.mhd --> ok')"
   ]
  },
  {
   "cell_type": "markdown",
   "metadata": {},
   "source": [
    "# GATE output and RT dose DICOM"
   ]
  },
  {
   "cell_type": "code",
   "execution_count": 17,
   "metadata": {},
   "outputs": [
    {
     "data": {
      "application/vnd.jupyter.widget-view+json": {
       "model_id": "7572c9bb84f44ec2b6e828ae739b7dbb",
       "version_major": 2,
       "version_minor": 0
      },
      "text/plain": [
       "interactive(children=(IntSlider(value=50, description='myslice'), Output()), _dom_classes=('widget-interact',)…"
      ]
     },
     "metadata": {},
     "output_type": "display_data"
    },
    {
     "data": {
      "application/vnd.jupyter.widget-view+json": {
       "model_id": "d8e8176e79ed4b28818fa5782effe9d1",
       "version_major": 2,
       "version_minor": 0
      },
      "text/plain": [
       "interactive(children=(IntSlider(value=56, description='myslice', max=112), Output()), _dom_classes=('widget-in…"
      ]
     },
     "metadata": {},
     "output_type": "display_data"
    }
   ],
   "source": [
    "#Get the rd raw created  and gate image\n",
    "refim=sitk.ReadImage('/home/gate/Documents/phd/work/gateTrueBeamModel/tb/fullCreator/patient/'+study+'/results/emc_'+study+'.mhd')\n",
    "gateim=sitk.ReadImage('/home/gate/Documents/phd/work/gateTrueBeamModel/tb/fullCreator/results/'+study+'/media/'+study+'.mhd')\n",
    "\n",
    "#refim=sitk.ReadImage('/home/gate/Documents/phd/work/gateTrueBeamModel/tb/fullCreator/patient/DEAK/results/emc_DEAK_oreille.mhd')\n",
    "#gateim=sitk.ReadImage('/media/sf_Documents/phd/work/gateTrueBeamModel/tb/fullCreator/results/DEAK_oreille/media/DEAK_oreille.mhd')\n",
    "\n",
    "# get pixels arrays of images and vizualization\n",
    "gatepix=sitk.GetArrayFromImage(gateim)\n",
    "refpix=sitk.GetArrayFromImage(refim)                                          \n",
    "ct_viewer(refpix)\n",
    "ct_viewer(gatepix)"
   ]
  },
  {
   "cell_type": "code",
   "execution_count": 18,
   "metadata": {},
   "outputs": [
    {
     "name": "stdout",
     "output_type": "stream",
     "text": [
      "New Origin :  (-145.85949999999997, -136.09387999999998, -202.5)\n"
     ]
    }
   ],
   "source": [
    "# compute true value gate output offset in the DICOM frame\n",
    "ct_im=sitk.ReadImage('/home/gate/Documents/phd/work/gateTrueBeamModel/tb/fullCreator/patient/'+study+'/images/'+study+'.mhd')\n",
    "\n",
    "half_ct_im=[]\n",
    "half_gateim=[]\n",
    "void_actor=[]\n",
    "new_origin=[]\n",
    "\n",
    "for size, space in zip(ct_im.GetSize(), ct_im.GetSpacing()): half_ct_im.append((size*space)/2)\n",
    "for size, space in zip(gateim.GetSize(), gateim.GetSpacing()): half_gateim.append((size*space)/2)\n",
    "\n",
    "for vala, valb  in zip(half_gateim, half_ct_im): void_actor.append(vala-valb)\n",
    "    \n",
    "ct_im_origin=[ct_im.GetOrigin()[0], ct_im.GetOrigin()[1]*-1, ct_im.GetOrigin()[2]*-1]\n",
    "\n",
    "for val1, val2 in zip(ct_im_origin, void_actor): new_origin.append(val1-val2)\n",
    "    \n",
    "gateim.SetOrigin(new_origin)\n",
    "print('New Origin : ', gateim.GetOrigin())"
   ]
  },
  {
   "cell_type": "code",
   "execution_count": 19,
   "metadata": {},
   "outputs": [
    {
     "data": {
      "application/vnd.jupyter.widget-view+json": {
       "model_id": "d49f085b9d654cb1bb607dfa011fcd67",
       "version_major": 2,
       "version_minor": 0
      },
      "text/plain": [
       "interactive(children=(IntSlider(value=56, description='myslice', max=112), Output()), _dom_classes=('widget-in…"
      ]
     },
     "metadata": {},
     "output_type": "display_data"
    }
   ],
   "source": [
    "#to mask GATE images an get just BODY DOSE\n",
    "#Resample (Downsampling) rd image into gate image size an resolution\n",
    "refim_res=sitk.Resample(refim, gateim, sitk.Transform(), sitk.sitkNearestNeighbor, 0)\n",
    "refim_respix=sitk.GetArrayFromImage(refim_res)\n",
    "ct_viewer(refim_respix)"
   ]
  },
  {
   "cell_type": "code",
   "execution_count": 20,
   "metadata": {},
   "outputs": [
    {
     "data": {
      "application/vnd.jupyter.widget-view+json": {
       "model_id": "e504635fe84f46c3b493159ce1c3d434",
       "version_major": 2,
       "version_minor": 0
      },
      "text/plain": [
       "interactive(children=(IntSlider(value=50, description='myslice'), Output()), _dom_classes=('widget-interact',)…"
      ]
     },
     "metadata": {},
     "output_type": "display_data"
    }
   ],
   "source": [
    "#to mask GATE images an get just BODY DOSE\n",
    "#Resample (RESIZE) GATE image into EMC image size an resolution\n",
    "gateim_res=sitk.Resample(gateim, refim, sitk.Transform(), sitk.sitkNearestNeighbor, 0)\n",
    "gateim_respix=sitk.GetArrayFromImage(gateim_res)\n",
    "ct_viewer(gateim_respix)"
   ]
  },
  {
   "cell_type": "code",
   "execution_count": 21,
   "metadata": {},
   "outputs": [
    {
     "data": {
      "application/vnd.jupyter.widget-view+json": {
       "model_id": "c0c48e71ddf74ea5bfb3439aa074f7eb",
       "version_major": 2,
       "version_minor": 0
      },
      "text/plain": [
       "interactive(children=(IntSlider(value=56, description='myslice', max=112), Output()), _dom_classes=('widget-in…"
      ]
     },
     "metadata": {},
     "output_type": "display_data"
    }
   ],
   "source": [
    "#Create a boolean mask to apply on Gate image (remove dose outside the patient according to RTdose)\n",
    "mask=np.ma.make_mask(refim_respix)\n",
    "#apply on gate pixel array\n",
    "gatepix_mask=gatepix*mask\n",
    "ct_viewer(gatepix_mask)"
   ]
  },
  {
   "cell_type": "markdown",
   "metadata": {},
   "source": [
    "# Absolute dose conversion "
   ]
  },
  {
   "cell_type": "code",
   "execution_count": 180,
   "metadata": {},
   "outputs": [
    {
     "name": "stdout",
     "output_type": "stream",
     "text": [
      "6\n"
     ]
    }
   ],
   "source": [
    "# ************ F0 ************\n",
    "energy=rp.BeamSequence[0].ControlPointSequence[0].NominalBeamEnergy\n",
    "\n",
    "if energy == 6:\n",
    "    GVref=0.000108726\n",
    "    Npart=1033128667.0\n",
    "    DrG=0.000108726\n",
    "    \n",
    "if energy == 9:\n",
    "    GVref=0.000140945\n",
    "    Npart=1136273663.0\n",
    "    DrG=0.000140945\n",
    "\n",
    "if energy == 12:\n",
    "    GVref=0.000150559\n",
    "    Npart=1086793583.0\n",
    "    DrG=0.000150559\n",
    "    \n",
    "print(energy)"
   ]
  },
  {
   "cell_type": "code",
   "execution_count": 182,
   "metadata": {},
   "outputs": [
    {
     "name": "stdout",
     "output_type": "stream",
     "text": [
      "6\n"
     ]
    }
   ],
   "source": [
    "# ************ F1 ************\n",
    "\n",
    "energy=rp.BeamSequence[0].ControlPointSequence[0].NominalBeamEnergy\n",
    "\n",
    "if energy == 6:\n",
    "    GVref=0.00011708\n",
    "    Npart=1033128667.0\n",
    "    DrG=0.00011708\n",
    "    \n",
    "if energy == 9:\n",
    "    GVref=0.00014613\n",
    "    Npart=1136273663.0\n",
    "    DrG=0.00014613\n",
    "    \n",
    "if energy == 12:\n",
    "    GVref=0.00016055\n",
    "    Npart=1086793583.0\n",
    "    DrG=0.00016055\n",
    "\n",
    "if energy == 18:\n",
    "    GVref=0.00014757\n",
    "    Npart=1086793583.0\n",
    "    DrG=0.00014757\n",
    "\n",
    "print(energy)"
   ]
  },
  {
   "cell_type": "code",
   "execution_count": 22,
   "metadata": {},
   "outputs": [
    {
     "name": "stdout",
     "output_type": "stream",
     "text": [
      "6\n"
     ]
    }
   ],
   "source": [
    "# ************ F2 ************\n",
    "\n",
    "energy=rp.BeamSequence[0].ControlPointSequence[0].NominalBeamEnergy\n",
    "\n",
    "if energy == 6:\n",
    "    GVref=0.00011727\n",
    "    Npart=1033128667.0\n",
    "    DrG=0.00011727\n",
    "    \n",
    "if energy == 9:\n",
    "    GVref=0.00014731\n",
    "    Npart=1136273663.0\n",
    "    DrG=0.00014731\n",
    "    \n",
    "if energy == 12:\n",
    "    GVref=0.00016086\n",
    "    Npart=1086793583.0\n",
    "    DrG=0.00016086\n",
    "    \n",
    "if energy == 18:\n",
    "    GVref=0.00014752\n",
    "    Npart=1086793583.0\n",
    "    DrG=0.00014752\n",
    "\n",
    "print(energy)"
   ]
  },
  {
   "cell_type": "code",
   "execution_count": 23,
   "metadata": {},
   "outputs": [
    {
     "name": "stdout",
     "output_type": "stream",
     "text": [
      "um: 345.0\n",
      "frac: 16.0\n",
      "470708.62113072403\n",
      "59.180172\n"
     ]
    }
   ],
   "source": [
    "#Absolute dose conversion LUC SIMON\n",
    "um=float(rp.FractionGroupSequence[0].ReferencedBeamSequence[0].BeamMeterset)\n",
    "nFrac=float(rp.FractionGroupSequence[0].NumberofFractionsPlanned)\n",
    "print('um:', um)\n",
    "print('frac:', nFrac)\n",
    "D_fac=(1.0/GVref)*0.01*um*nFrac\n",
    "\n",
    "print (D_fac)\n",
    "\n",
    "gatepix_abs=gatepix_mask*(1.0/GVref)*0.01*um*nFrac\n",
    "print(gatepix_abs.max())"
   ]
  },
  {
   "cell_type": "code",
   "execution_count": 24,
   "metadata": {},
   "outputs": [
    {
     "name": "stdout",
     "output_type": "stream",
     "text": [
      "59.180176\n"
     ]
    }
   ],
   "source": [
    "#Absolute dose conversion BIBLIO\n",
    "GperPart=DrG/Npart\n",
    "\n",
    "Dref=0.01\n",
    "F=Dref/GperPart\n",
    "\n",
    "um=float(rp.FractionGroupSequence[0].ReferencedBeamSequence[0].BeamMeterset)\n",
    "nFrac=float(rp.FractionGroupSequence[0].NumberofFractionsPlanned)\n",
    "\n",
    "gatepix_abs=(gatepix_mask/Npart)*F*um*nFrac\n",
    "print(gatepix_abs.max())"
   ]
  },
  {
   "cell_type": "code",
   "execution_count": 25,
   "metadata": {},
   "outputs": [
    {
     "name": "stdout",
     "output_type": "stream",
     "text": [
      "56.2211669921875\n",
      "47.344140625\n",
      "35.508105468749996\n",
      "29.590087890625\n",
      "14.7950439453125\n",
      "8.877026367187499\n"
     ]
    }
   ],
   "source": [
    "print(0.95*gatepix_abs.max())\n",
    "print(0.80*gatepix_abs.max())\n",
    "print(0.60*gatepix_abs.max())\n",
    "print(0.50*gatepix_abs.max())\n",
    "print(0.25*gatepix_abs.max())\n",
    "print(0.15*gatepix_abs.max())"
   ]
  },
  {
   "cell_type": "code",
   "execution_count": 26,
   "metadata": {},
   "outputs": [
    {
     "name": "stdout",
     "output_type": "stream",
     "text": [
      "48.39137153625488\n",
      "40.75062866210938\n",
      "30.56297149658203\n",
      "25.46914291381836\n",
      "12.73457145690918\n",
      "7.6407428741455075\n"
     ]
    }
   ],
   "source": [
    "print(0.95*rdpix1.max())\n",
    "print(0.80*rdpix1.max())\n",
    "print(0.60*rdpix1.max())\n",
    "print(0.50*rdpix1.max())\n",
    "print(0.25*rdpix1.max())\n",
    "print(0.15*rdpix1.max())\n",
    "\n"
   ]
  },
  {
   "cell_type": "code",
   "execution_count": 97,
   "metadata": {},
   "outputs": [],
   "source": [
    "#Create a raw image of gate with mask and a raw image from resampled rt dose dicom \n",
    "gate_dose=sitk.GetImageFromArray(gatepix_abs)\n",
    "gate_dose.SetOrigin(gateim.GetOrigin())\n",
    "gate_dose.SetSpacing(gateim.GetSpacing())\n",
    "sitk.WriteImage(refim_res, '/home/gate/Documents/phd/work/gateTrueBeamModel/tb/fullCreator/patient/'+study+'/results/emc_resampled_'+study+'.mhd')\n",
    "sitk.WriteImage(gate_dose, '/home/gate/Documents/phd/work/gateTrueBeamModel/tb/fullCreator/patient/'+study+'/results/gate_F2_'+study+'.mhd')"
   ]
  }
 ],
 "metadata": {
  "kernelspec": {
   "display_name": "Python 3",
   "language": "python",
   "name": "python3"
  },
  "language_info": {
   "codemirror_mode": {
    "name": "ipython",
    "version": 3
   },
   "file_extension": ".py",
   "mimetype": "text/x-python",
   "name": "python",
   "nbconvert_exporter": "python",
   "pygments_lexer": "ipython3",
   "version": "3.6.7"
  }
 },
 "nbformat": 4,
 "nbformat_minor": 2
}
