{
 "cells": [
  {
   "cell_type": "code",
   "execution_count": 686,
   "metadata": {},
   "outputs": [
    {
     "data": {
      "text/html": [
       "<script>requirejs.config({paths: { 'plotly': ['https://cdn.plot.ly/plotly-latest.min']},});if(!window.Plotly) {{require(['plotly'],function(plotly) {window.Plotly=plotly;});}}</script>"
      ],
      "text/vnd.plotly.v1+html": [
       "<script>requirejs.config({paths: { 'plotly': ['https://cdn.plot.ly/plotly-latest.min']},});if(!window.Plotly) {{require(['plotly'],function(plotly) {window.Plotly=plotly;});}}</script>"
      ]
     },
     "metadata": {},
     "output_type": "display_data"
    },
    {
     "data": {
      "text/html": [
       "<script>requirejs.config({paths: { 'plotly': ['https://cdn.plot.ly/plotly-latest.min']},});if(!window.Plotly) {{require(['plotly'],function(plotly) {window.Plotly=plotly;});}}</script>"
      ],
      "text/vnd.plotly.v1+html": [
       "<script>requirejs.config({paths: { 'plotly': ['https://cdn.plot.ly/plotly-latest.min']},});if(!window.Plotly) {{require(['plotly'],function(plotly) {window.Plotly=plotly;});}}</script>"
      ]
     },
     "metadata": {},
     "output_type": "display_data"
    }
   ],
   "source": [
    "import SimpleITK as sitk\n",
    "import numpy as np\n",
    "import matplotlib.pyplot as plt\n",
    "%matplotlib inline\n",
    "import plotly.offline as py\n",
    "import plotly.graph_objs as go\n",
    "py.offline.init_notebook_mode(connected=True)\n",
    "from ipywidgets import interact\n",
    "from plotly.offline import init_notebook_mode, plot, iplot\n",
    "from plotly.graph_objs import *\n",
    "import pandas as pd\n",
    "\n",
    "init_notebook_mode(connected=True)\n",
    "\n",
    "def ct_viewer(im):\n",
    "    def plot_image(myslice):\n",
    "        plt.imshow(im[myslice], cmap=plt.cm.jet)\n",
    "    interact(plot_image, myslice=(0, im.shape[0]))\n",
    "    return; "
   ]
  },
  {
   "cell_type": "code",
   "execution_count": 798,
   "metadata": {},
   "outputs": [
    {
     "name": "stdout",
     "output_type": "stream",
     "text": [
      "origin:  (-99.0, 50.5, -99.0)\n",
      "spacing:  (2.0, 1.0, 2.0)\n",
      "size:  (100, 100, 100)\n"
     ]
    },
    {
     "data": {
      "application/vnd.jupyter.widget-view+json": {
       "model_id": "a643cd727fc04065a892df83853ee583",
       "version_major": 2,
       "version_minor": 0
      },
      "text/plain": [
       "interactive(children=(IntSlider(value=50, description='myslice'), Output()), _dom_classes=('widget-interact',)…"
      ]
     },
     "metadata": {},
     "output_type": "display_data"
    }
   ],
   "source": [
    "energy='6e'\n",
    "heter='lung'\n",
    "name=energy+'_'+heter\n",
    "\n",
    "\n",
    "#________from result_________\n",
    "#dose\n",
    "#im=sitk.ReadImage('/home/gate/Documents/phd/work/gateTrueBeamModel/tb/fullCreator/results/'+name+'/media/'+name+'.mhd')\n",
    "#uncertainty\n",
    "#im=sitk.ReadImage('/home/gate/Documents/phd/work/gateTrueBeamModel/tb/fullCreator/results/'+name+'/water/'+name+'.W.total_RelativeUncertainty.mhd')\n",
    "#_________________________\n",
    "\n",
    "\n",
    "\n",
    "\n",
    "\n",
    "#________from jp data/image_________ --> res 2.5\n",
    "#dose\n",
    "#im=sitk.ReadImage('/home/gate/Documents/phd/data/JupyterNotebook/image/estro/res2.5/'+energy+'/media/'+name+'.mhd')\n",
    "#uncertainty\n",
    "#im=sitk.ReadImage('/home/gate/Documents/phd/data/JupyterNotebook/image/estro/res2.5/'+energy+'/media/'+name+'.total_RelativeUncertainty.mhd')\n",
    "#___________________________________\n",
    "\n",
    "#________from jp data/image_________ --> res1\n",
    "#dose\n",
    "im=sitk.ReadImage('/home/gate/Documents/phd/data/JupyterNotebook/image/estro/res1/'+energy+'/'+name+'.mhd')\n",
    "#uncertainty\n",
    "#im=sitk.ReadImage('/home/gate/Documents/phd/data/JupyterNotebook/image/estro/res1/'+energy+'/'+name+'.total_AbsoluteUncertainty.mhd')\n",
    "#___________________________________\n",
    "\n",
    "#________from jp data/image_________ --> res0.5\n",
    "#dose\n",
    "#im=sitk.ReadImage('/home/gate/Documents/phd/data/JupyterNotebook/image/estro/res0.5/'+energy+'/'+name+'.mhd')\n",
    "#uncertainty\n",
    "#im=sitk.ReadImage('/home/gate/Documents/phd/data/JupyterNotebook/image/estro/res1/'+energy+'/'+name+'.total_AbsoluteUncertainty.mhd')\n",
    "#___________________________________\n",
    "pix=sitk.GetArrayFromImage(im)\n",
    "\n",
    "print('origin: ', im.GetOrigin())\n",
    "print('spacing: ',im.GetSpacing())\n",
    "print('size: ', im.GetSize())\n",
    "\n",
    "ct_viewer(pix)"
   ]
  },
  {
   "cell_type": "code",
   "execution_count": 799,
   "metadata": {},
   "outputs": [
    {
     "name": "stdout",
     "output_type": "stream",
     "text": [
      "79\n",
      "(100, 100)\n"
     ]
    },
    {
     "data": {
      "image/png": "[encoded data removed]",
      "text/plain": [
       "<matplotlib.figure.Figure at 0x7f63ea709780>"
      ]
     },
     "metadata": {
      "needs_background": "light"
     },
     "output_type": "display_data"
    }
   ],
   "source": [
    "depth=20\n",
    "\n",
    "depthim=int(((im.GetSize()[1]-1)-round(depth/im.GetSpacing()[1])))\n",
    "print(depthim)\n",
    "\n",
    "myslice=pix[:, depthim, :]\n",
    "plt.imshow(myslice, cmap=plt.cm.jet)\n",
    "\n",
    "y=myslice[int(im.GetSize()[0]/2),:]\n",
    "print(myslice.shape)\n",
    "#y=np.flipud(y)\n",
    "\n",
    "x=np.arange(0,y.shape[0])\n",
    "x=x*im.GetSpacing()[0]\n",
    "x=x-(x.max()/2)\n",
    "\n",
    "trace=np.column_stack((x,y))"
   ]
  },
  {
   "cell_type": "code",
   "execution_count": 800,
   "metadata": {},
   "outputs": [
    {
     "data": {
      "application/vnd.plotly.v1+json": {
       "data": [
        {
         "mode": "lines+markers",
         "name": "cross",
         "type": "scatter",
         "x": [
          -99,
          -97,
          -95,
          -93,
          -91,
          -89,
          -87,
          -85,
          -83,
          -81,
          -79,
          -77,
          -75,
          -73,
          -71,
          -69,
          -67,
          -65,
          -63,
          -61,
          -59,
          -57,
          -55,
          -53,
          -51,
          -49,
          -47,
          -45,
          -43,
          -41,
          -39,
          -37,
          -35,
          -33,
          -31,
          -29,
          -27,
          -25,
          -23,
          -21,
          -19,
          -17,
          -15,
          -13,
          -11,
          -9,
          -7,
          -5,
          -3,
          -1,
          1,
          3,
          5,
          7,
          9,
          11,
          13,
          15,
          17,
          19,
          21,
          23,
          25,
          27,
          29,
          31,
          33,
          35,
          37,
          39,
          41,
          43,
          45,
          47,
          49,
          51,
          53,
          55,
          57,
          59,
          61,
          63,
          65,
          67,
          69,
          71,
          73,
          75,
          77,
          79,
          81,
          83,
          85,
          87,
          89,
          91,
          93,
          95,
          97,
          99
         ],
         "y": [
          2.0295087210797647e-07,
          2.6173137257501367e-07,
          3.4655158742680214e-07,
          3.4857049513448146e-07,
          1.7309497479800484e-07,
          3.877155165810109e-07,
          4.2007482647932193e-07,
          3.917425601684954e-07,
          3.2062982313618704e-07,
          4.294633981771767e-07,
          2.927464493041043e-07,
          3.715129821557639e-07,
          5.710118671231612e-07,
          6.209784260136075e-07,
          7.976111646712525e-07,
          1.2178965107523254e-06,
          1.604445628800022e-06,
          2.5625377020332962e-06,
          4.27864051744109e-06,
          6.690981081192149e-06,
          1.0021696652984247e-05,
          1.518575936643174e-05,
          2.0997713363613002e-05,
          2.793257954181172e-05,
          3.471018135314807e-05,
          4.468659244594164e-05,
          4.9244532419834286e-05,
          5.701170448446646e-05,
          6.195014429977164e-05,
          6.387084431480616e-05,
          6.670625589322299e-05,
          6.867169577162713e-05,
          6.783646676922217e-05,
          6.878696876810864e-05,
          7.118918438209221e-05,
          6.913848483236507e-05,
          6.86317725921981e-05,
          6.952449621167034e-05,
          7.097249908838421e-05,
          7.106358680175617e-05,
          7.056321919662878e-05,
          7.210807234514505e-05,
          7.109224679879844e-05,
          7.047937106108293e-05,
          6.928251968929544e-05,
          7.12113906047307e-05,
          6.98724397807382e-05,
          7.04340563970618e-05,
          7.044141966616735e-05,
          7.400891627185047e-05,
          8.632562821730971e-05,
          9.137263987213373e-05,
          9.301579848397523e-05,
          9.091793617699295e-05,
          9.245912224287167e-05,
          9.12379618966952e-05,
          9.171951387543231e-05,
          9.159180626738816e-05,
          8.950712799560279e-05,
          9.137953020399436e-05,
          9.033332025865093e-05,
          8.999277633847669e-05,
          9.107738878810778e-05,
          8.837888890411705e-05,
          8.905729919206351e-05,
          8.721844642423093e-05,
          8.74744655448012e-05,
          8.679919119458646e-05,
          8.453564078081399e-05,
          8.258307207142934e-05,
          8.096954843495041e-05,
          7.799923332640901e-05,
          6.948490045033395e-05,
          6.538918387377635e-05,
          5.7017983635887504e-05,
          4.795390123035759e-05,
          3.909502629539929e-05,
          3.162395296385512e-05,
          2.4868744731065817e-05,
          1.9374645489733666e-05,
          1.4361484318214934e-05,
          1.05358940345468e-05,
          8.190013431885745e-06,
          5.871605026186444e-06,
          4.481070391193498e-06,
          3.5514792671165196e-06,
          2.8733447834383696e-06,
          2.4594633032393176e-06,
          1.721239868857083e-06,
          1.2977426422366989e-06,
          1.3317152252056985e-06,
          7.555453862551076e-07,
          9.550523145662737e-07,
          5.91547404837911e-07,
          7.050655312923482e-07,
          4.323252653648524e-07,
          5.05099194469949e-07,
          5.425843028206145e-07,
          6.540860795212211e-07,
          3.9845448895903246e-07
         ]
        }
       ],
       "layout": {}
      },
      "text/html": [
       "<div id=\"ee8e3de0-8b5a-4874-a826-f1bb06e8748a\" style=\"height: 525px; width: 100%;\" class=\"plotly-graph-div\"></div><script type=\"text/javascript\">require([\"plotly\"], function(Plotly) { window.PLOTLYENV=window.PLOTLYENV || {};window.PLOTLYENV.BASE_URL=\"https://plot.ly\";Plotly.newPlot(\"ee8e3de0-8b5a-4874-a826-f1bb06e8748a\", [{\"type\": \"scatter\", \"x\": [-99.0, -97.0, -95.0, -93.0, -91.0, -89.0, -87.0, -85.0, -83.0, -81.0, -79.0, -77.0, -75.0, -73.0, -71.0, -69.0, -67.0, -65.0, -63.0, -61.0, -59.0, -57.0, -55.0, -53.0, -51.0, -49.0, -47.0, -45.0, -43.0, -41.0, -39.0, -37.0, -35.0, -33.0, -31.0, -29.0, -27.0, -25.0, -23.0, -21.0, -19.0, -17.0, -15.0, -13.0, -11.0, -9.0, -7.0, -5.0, -3.0, -1.0, 1.0, 3.0, 5.0, 7.0, 9.0, 11.0, 13.0, 15.0, 17.0, 19.0, 21.0, 23.0, 25.0, 27.0, 29.0, 31.0, 33.0, 35.0, 37.0, 39.0, 41.0, 43.0, 45.0, 47.0, 49.0, 51.0, 53.0, 55.0, 57.0, 59.0, 61.0, 63.0, 65.0, 67.0, 69.0, 71.0, 73.0, 75.0, 77.0, 79.0, 81.0, 83.0, 85.0, 87.0, 89.0, 91.0, 93.0, 95.0, 97.0, 99.0], \"y\": [2.0295087210797647e-07, 2.6173137257501367e-07, 3.4655158742680214e-07, 3.4857049513448146e-07, 1.7309497479800484e-07, 3.877155165810109e-07, 4.2007482647932193e-07, 3.917425601684954e-07, 3.2062982313618704e-07, 4.294633981771767e-07, 2.927464493041043e-07, 3.715129821557639e-07, 5.710118671231612e-07, 6.209784260136075e-07, 7.976111646712525e-07, 1.2178965107523254e-06, 1.604445628800022e-06, 2.5625377020332962e-06, 4.27864051744109e-06, 6.690981081192149e-06, 1.0021696652984247e-05, 1.518575936643174e-05, 2.0997713363613002e-05, 2.793257954181172e-05, 3.471018135314807e-05, 4.468659244594164e-05, 4.9244532419834286e-05, 5.701170448446646e-05, 6.195014429977164e-05, 6.387084431480616e-05, 6.670625589322299e-05, 6.867169577162713e-05, 6.783646676922217e-05, 6.878696876810864e-05, 7.118918438209221e-05, 6.913848483236507e-05, 6.86317725921981e-05, 6.952449621167034e-05, 7.097249908838421e-05, 7.106358680175617e-05, 7.056321919662878e-05, 7.210807234514505e-05, 7.109224679879844e-05, 7.047937106108293e-05, 6.928251968929544e-05, 7.12113906047307e-05, 6.98724397807382e-05, 7.04340563970618e-05, 7.044141966616735e-05, 7.400891627185047e-05, 8.632562821730971e-05, 9.137263987213373e-05, 9.301579848397523e-05, 9.091793617699295e-05, 9.245912224287167e-05, 9.12379618966952e-05, 9.171951387543231e-05, 9.159180626738816e-05, 8.950712799560279e-05, 9.137953020399436e-05, 9.033332025865093e-05, 8.999277633847669e-05, 9.107738878810778e-05, 8.837888890411705e-05, 8.905729919206351e-05, 8.721844642423093e-05, 8.74744655448012e-05, 8.679919119458646e-05, 8.453564078081399e-05, 8.258307207142934e-05, 8.096954843495041e-05, 7.799923332640901e-05, 6.948490045033395e-05, 6.538918387377635e-05, 5.7017983635887504e-05, 4.795390123035759e-05, 3.909502629539929e-05, 3.162395296385512e-05, 2.4868744731065817e-05, 1.9374645489733666e-05, 1.4361484318214934e-05, 1.05358940345468e-05, 8.190013431885745e-06, 5.871605026186444e-06, 4.481070391193498e-06, 3.5514792671165196e-06, 2.8733447834383696e-06, 2.4594633032393176e-06, 1.721239868857083e-06, 1.2977426422366989e-06, 1.3317152252056985e-06, 7.555453862551076e-07, 9.550523145662737e-07, 5.91547404837911e-07, 7.050655312923482e-07, 4.323252653648524e-07, 5.05099194469949e-07, 5.425843028206145e-07, 6.540860795212211e-07, 3.9845448895903246e-07], \"name\": \"cross\", \"mode\": \"lines+markers\"}], {}, {\"showLink\": true, \"linkText\": \"Export to plot.ly\"})});</script>"
      ],
      "text/vnd.plotly.v1+html": [
       "<div id=\"ee8e3de0-8b5a-4874-a826-f1bb06e8748a\" style=\"height: 525px; width: 100%;\" class=\"plotly-graph-div\"></div><script type=\"text/javascript\">require([\"plotly\"], function(Plotly) { window.PLOTLYENV=window.PLOTLYENV || {};window.PLOTLYENV.BASE_URL=\"https://plot.ly\";Plotly.newPlot(\"ee8e3de0-8b5a-4874-a826-f1bb06e8748a\", [{\"type\": \"scatter\", \"x\": [-99.0, -97.0, -95.0, -93.0, -91.0, -89.0, -87.0, -85.0, -83.0, -81.0, -79.0, -77.0, -75.0, -73.0, -71.0, -69.0, -67.0, -65.0, -63.0, -61.0, -59.0, -57.0, -55.0, -53.0, -51.0, -49.0, -47.0, -45.0, -43.0, -41.0, -39.0, -37.0, -35.0, -33.0, -31.0, -29.0, -27.0, -25.0, -23.0, -21.0, -19.0, -17.0, -15.0, -13.0, -11.0, -9.0, -7.0, -5.0, -3.0, -1.0, 1.0, 3.0, 5.0, 7.0, 9.0, 11.0, 13.0, 15.0, 17.0, 19.0, 21.0, 23.0, 25.0, 27.0, 29.0, 31.0, 33.0, 35.0, 37.0, 39.0, 41.0, 43.0, 45.0, 47.0, 49.0, 51.0, 53.0, 55.0, 57.0, 59.0, 61.0, 63.0, 65.0, 67.0, 69.0, 71.0, 73.0, 75.0, 77.0, 79.0, 81.0, 83.0, 85.0, 87.0, 89.0, 91.0, 93.0, 95.0, 97.0, 99.0], \"y\": [2.0295087210797647e-07, 2.6173137257501367e-07, 3.4655158742680214e-07, 3.4857049513448146e-07, 1.7309497479800484e-07, 3.877155165810109e-07, 4.2007482647932193e-07, 3.917425601684954e-07, 3.2062982313618704e-07, 4.294633981771767e-07, 2.927464493041043e-07, 3.715129821557639e-07, 5.710118671231612e-07, 6.209784260136075e-07, 7.976111646712525e-07, 1.2178965107523254e-06, 1.604445628800022e-06, 2.5625377020332962e-06, 4.27864051744109e-06, 6.690981081192149e-06, 1.0021696652984247e-05, 1.518575936643174e-05, 2.0997713363613002e-05, 2.793257954181172e-05, 3.471018135314807e-05, 4.468659244594164e-05, 4.9244532419834286e-05, 5.701170448446646e-05, 6.195014429977164e-05, 6.387084431480616e-05, 6.670625589322299e-05, 6.867169577162713e-05, 6.783646676922217e-05, 6.878696876810864e-05, 7.118918438209221e-05, 6.913848483236507e-05, 6.86317725921981e-05, 6.952449621167034e-05, 7.097249908838421e-05, 7.106358680175617e-05, 7.056321919662878e-05, 7.210807234514505e-05, 7.109224679879844e-05, 7.047937106108293e-05, 6.928251968929544e-05, 7.12113906047307e-05, 6.98724397807382e-05, 7.04340563970618e-05, 7.044141966616735e-05, 7.400891627185047e-05, 8.632562821730971e-05, 9.137263987213373e-05, 9.301579848397523e-05, 9.091793617699295e-05, 9.245912224287167e-05, 9.12379618966952e-05, 9.171951387543231e-05, 9.159180626738816e-05, 8.950712799560279e-05, 9.137953020399436e-05, 9.033332025865093e-05, 8.999277633847669e-05, 9.107738878810778e-05, 8.837888890411705e-05, 8.905729919206351e-05, 8.721844642423093e-05, 8.74744655448012e-05, 8.679919119458646e-05, 8.453564078081399e-05, 8.258307207142934e-05, 8.096954843495041e-05, 7.799923332640901e-05, 6.948490045033395e-05, 6.538918387377635e-05, 5.7017983635887504e-05, 4.795390123035759e-05, 3.909502629539929e-05, 3.162395296385512e-05, 2.4868744731065817e-05, 1.9374645489733666e-05, 1.4361484318214934e-05, 1.05358940345468e-05, 8.190013431885745e-06, 5.871605026186444e-06, 4.481070391193498e-06, 3.5514792671165196e-06, 2.8733447834383696e-06, 2.4594633032393176e-06, 1.721239868857083e-06, 1.2977426422366989e-06, 1.3317152252056985e-06, 7.555453862551076e-07, 9.550523145662737e-07, 5.91547404837911e-07, 7.050655312923482e-07, 4.323252653648524e-07, 5.05099194469949e-07, 5.425843028206145e-07, 6.540860795212211e-07, 3.9845448895903246e-07], \"name\": \"cross\", \"mode\": \"lines+markers\"}], {}, {\"showLink\": true, \"linkText\": \"Export to plot.ly\"})});</script>"
      ]
     },
     "metadata": {},
     "output_type": "display_data"
    }
   ],
   "source": [
    "data= Scatter(x = x,\n",
    "               y = y,\n",
    "               name='cross',\n",
    "               mode = 'lines+markers')\n",
    "fig = dict(data=[data])\n",
    "iplot(fig)"
   ]
  },
  {
   "cell_type": "code",
   "execution_count": 801,
   "metadata": {},
   "outputs": [],
   "source": [
    "#np.savetxt('/home/gate/Documents/phd/data/JupyterNotebook/gammaIndex/estro2018/study/media/'+energy+'/'+name+str(depth)+'gate.csv', trace, delimiter=',', header='step,value', comments='')\n",
    "#np.savetxt('/home/gate/Documents/phd/data/JupyterNotebook/gammaIndex/estro2018/study/water/'+energy+'/'+name+str(depth)+'_uncertainty_W_gate.csv', trace, delimiter=',', header='step,value', comments='')\n",
    "\n",
    "#dose\n",
    "np.savetxt('/home/gate/Documents/phd/data/JupyterNotebook/gammaIndex/estro2018/study/media/'+energy+'/gate/dax/res'+str(im.GetSpacing()[1])+'/'+name+str(depth)+'_gate_res'+str(im.GetSpacing()[1])+'.csv', trace, delimiter=',', header='step,value', comments='')\n",
    "#uncertainty\n",
    "#np.savetxt('/home/gate/Documents/phd/data/JupyterNotebook/gammaIndex/estro2018/study/media/'+energy+'/gate/dax/res'+str(im.GetSpacing()[1])+'/'+name+str(depth)+'_gate_res'+str(im.GetSpacing()[1])+'_uncertainty.csv', trace, delimiter=',', header='step,value', comments='')"
   ]
  }
 ],
 "metadata": {
  "kernelspec": {
   "display_name": "Python 3",
   "language": "python",
   "name": "python3"
  },
  "language_info": {
   "codemirror_mode": {
    "name": "ipython",
    "version": 3
   },
   "file_extension": ".py",
   "mimetype": "text/x-python",
   "name": "python",
   "nbconvert_exporter": "python",
   "pygments_lexer": "ipython3",
   "version": "3.6.7"
  }
 },
 "nbformat": 4,
 "nbformat_minor": 2
}
