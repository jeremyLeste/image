{
 "cells": [
  {
   "cell_type": "code",
   "execution_count": 13,
   "metadata": {},
   "outputs": [
    {
     "data": {
      "text/html": [
       "<script>requirejs.config({paths: { 'plotly': ['https://cdn.plot.ly/plotly-latest.min']},});if(!window.Plotly) {{require(['plotly'],function(plotly) {window.Plotly=plotly;});}}</script>"
      ],
      "text/vnd.plotly.v1+html": [
       "<script>requirejs.config({paths: { 'plotly': ['https://cdn.plot.ly/plotly-latest.min']},});if(!window.Plotly) {{require(['plotly'],function(plotly) {window.Plotly=plotly;});}}</script>"
      ]
     },
     "metadata": {},
     "output_type": "display_data"
    }
   ],
   "source": [
    "import dicom as dcm\n",
    "import SimpleITK as sitk\n",
    "import numpy as np \n",
    "import array\n",
    "from numpy import unravel_index\n",
    "import matplotlib.pyplot as plt\n",
    "%matplotlib inline\n",
    "\n",
    "from __future__ import print_function\n",
    "from ipywidgets import interact\n",
    "\n",
    "import plotly.offline as py\n",
    "\n",
    "import plotly.graph_objs as go\n",
    "py.offline.init_notebook_mode(connected=True)\n",
    "\n",
    "def ct_viewer(im):\n",
    "    def plot_image(myslice):\n",
    "        plt.imshow(im[myslice], cmap=plt.cm.jet)\n",
    "    interact(plot_image, myslice=(0, im.shape[0]))\n",
    "    return;"
   ]
  },
  {
   "cell_type": "code",
   "execution_count": 46,
   "metadata": {},
   "outputs": [
    {
     "name": "stdout",
     "output_type": "stream",
     "text": [
      "4e-06\n"
     ]
    },
    {
     "data": {
      "application/vnd.jupyter.widget-view+json": {
       "model_id": "60c1cffe2f24431193ff8ae821bd9fec",
       "version_major": 2,
       "version_minor": 0
      },
      "text/html": [
       "<p>Failed to display Jupyter Widget of type <code>interactive</code>.</p>\n",
       "<p>\n",
       "  If you're reading this message in Jupyter Notebook or JupyterLab, it may mean\n",
       "  that the widgets JavaScript is still loading. If this message persists, it\n",
       "  likely means that the widgets JavaScript library is either not installed or\n",
       "  not enabled. See the <a href=\"https://ipywidgets.readthedocs.io/en/stable/user_install.html\">Jupyter\n",
       "  Widgets Documentation</a> for setup instructions.\n",
       "</p>\n",
       "<p>\n",
       "  If you're reading this message in another notebook frontend (for example, a static\n",
       "  rendering on GitHub or <a href=\"https://nbviewer.jupyter.org/\">NBViewer</a>),\n",
       "  it may mean that your frontend doesn't currently support widgets.\n",
       "</p>\n"
      ],
      "text/plain": [
       "interactive(children=(IntSlider(value=69, description=u'myslice', max=139), Output()), _dom_classes=('widget-interact',))"
      ]
     },
     "metadata": {},
     "output_type": "display_data"
    },
    {
     "name": "stdout",
     "output_type": "stream",
     "text": [
      "4.64294\n",
      "(-148.75, -101.25, -171.25)\n",
      "(121, 81, 139)\n",
      "(2.5, 2.5, 2.5)\n"
     ]
    }
   ],
   "source": [
    "rd=dcm.read_file('/home/crct/CRCT/JupyterNotebook/data/image/12E/EMC_stair_e12.dcm')\n",
    "#print(rd)\n",
    "rdpix=rd.pixel_array.astype(np.float32)\n",
    "f=float(rd.DoseGridScaling)\n",
    "rdpix=rdpix*f\n",
    "print(f)\n",
    "ct_viewer(rdpix)\n",
    "rdim=sitk.GetImageFromArray(rdpix)\n",
    "\n",
    "origin=[]\n",
    "for val in rd.ImagePositionPatient: origin.append(float(val))\n",
    "rdim.SetOrigin(origin)\n",
    "\n",
    "spacing=[]\n",
    "for val in rd.PixelSpacing: spacing.append(float(val))\n",
    "spacez=float(rd.GridFrameOffsetVector[1]-rd.GridFrameOffsetVector[0])\n",
    "spacing.append(spacez)\n",
    "rdim.SetSpacing(spacing)\n",
    "print(rdpix.max())\n",
    "print(rdim.GetOrigin())\n",
    "print(rdim.GetSize())\n",
    "print(rdim.GetSpacing())\n",
    "#sitk.WriteImage(rdim, '/home/crct/CRCT/JupyterNotebook/data/image/12E/abs/emc_stair_12e.mhd')"
   ]
  },
  {
   "cell_type": "code",
   "execution_count": 49,
   "metadata": {},
   "outputs": [
    {
     "name": "stdout",
     "output_type": "stream",
     "text": [
      "(-99.0, 50.5, -99.0)\n",
      "(100, 100, 100)\n",
      "(2.0, 1.0, 2.0)\n",
      "1.94426\n"
     ]
    },
    {
     "data": {
      "application/vnd.jupyter.widget-view+json": {
       "model_id": "dfdd3fa4bbbd4869a1dd0f6cf163532a",
       "version_major": 2,
       "version_minor": 0
      },
      "text/html": [
       "<p>Failed to display Jupyter Widget of type <code>interactive</code>.</p>\n",
       "<p>\n",
       "  If you're reading this message in Jupyter Notebook or JupyterLab, it may mean\n",
       "  that the widgets JavaScript is still loading. If this message persists, it\n",
       "  likely means that the widgets JavaScript library is either not installed or\n",
       "  not enabled. See the <a href=\"https://ipywidgets.readthedocs.io/en/stable/user_install.html\">Jupyter\n",
       "  Widgets Documentation</a> for setup instructions.\n",
       "</p>\n",
       "<p>\n",
       "  If you're reading this message in another notebook frontend (for example, a static\n",
       "  rendering on GitHub or <a href=\"https://nbviewer.jupyter.org/\">NBViewer</a>),\n",
       "  it may mean that your frontend doesn't currently support widgets.\n",
       "</p>\n"
      ],
      "text/plain": [
       "interactive(children=(IntSlider(value=50, description=u'myslice'), Output()), _dom_classes=('widget-interact',))"
      ]
     },
     "metadata": {},
     "output_type": "display_data"
    }
   ],
   "source": [
    "#Copute absolute dose for Gate simulation \n",
    "gate_im=sitk.ReadImage('/media/sf_CRCT/JupyterNotebook/data/image/12E/LUNG_12E.mhd')\n",
    "print(gate_im.GetOrigin())\n",
    "print(gate_im.GetSize())\n",
    "print(gate_im.GetSpacing())\n",
    "gate_pix=sitk.GetArrayFromImage(gate_im)\n",
    "gate_pix=gate_pix[:,::-1, :]\n",
    "\n",
    "#ct_viewer(gate_pix)\n",
    "\n",
    "GVref6=0.000108726\n",
    "GVref9=0.000140945\n",
    "GVref12=0.000150559\n",
    "\n",
    "gatepix_abs=gate_pix*(1.0/GVref12)*0.01*200*1\n",
    "print(gatepix_abs.max())\n",
    "\n",
    "gatepix_abs=np.swapaxes(gatepix_abs, 0, 2)\n",
    "gatepix_abs=gatepix_abs[:,:,::-1]\n",
    "ct_viewer(gatepix_abs)\n",
    "\n",
    "gate_im2=sitk.GetImageFromArray(gatepix_abs)\n",
    "\n",
    "\n",
    "\n",
    "\n",
    "\n",
    "gate_im2.SetOrigin(gate_im.GetOrigin())\n",
    "gate_im2.SetSpacing(gate_im.GetSpacing())\n",
    "\n",
    "\n",
    "sitk.WriteImage(gate_im2, '/home/crct/CRCT/JupyterNotebook/data/image/12E/abs/lung_12e.mhd')\n"
   ]
  },
  {
   "cell_type": "code",
   "execution_count": 50,
   "metadata": {},
   "outputs": [
    {
     "name": "stdout",
     "output_type": "stream",
     "text": [
      "(100, 100, 100)\n",
      "(100,)\n",
      "0.900529\n"
     ]
    },
    {
     "data": {
      "application/vnd.plotly.v1+json": {
       "data": [
        {
         "mode": "lines",
         "name": "test",
         "type": "scatter",
         "x": [
          0,
          1,
          2,
          3,
          4,
          5,
          6,
          7,
          8,
          9,
          10,
          11,
          12,
          13,
          14,
          15,
          16,
          17,
          18,
          19,
          20,
          21,
          22,
          23,
          24,
          25,
          26,
          27,
          28,
          29,
          30,
          31,
          32,
          33,
          34,
          35,
          36,
          37,
          38,
          39,
          40,
          41,
          42,
          43,
          44,
          45,
          46,
          47,
          48,
          49,
          50,
          51,
          52,
          53,
          54,
          55,
          56,
          57,
          58,
          59,
          60,
          61,
          62,
          63,
          64,
          65,
          66,
          67,
          68,
          69,
          70,
          71,
          72,
          73,
          74,
          75,
          76,
          77,
          78,
          79,
          80,
          81,
          82,
          83,
          84,
          85,
          86,
          87,
          88,
          89,
          90,
          91,
          92,
          93,
          94,
          95,
          96,
          97,
          98,
          99
         ],
         "y": [
          0.011463351547718048,
          0.013977480120956898,
          0.01532993745058775,
          0.015386221930384636,
          0.01657743565738201,
          0.01764351688325405,
          0.018657762557268143,
          0.020346561446785927,
          0.021700777113437653,
          0.025914452970027924,
          0.026236489415168762,
          0.02655274234712124,
          0.03028961643576622,
          0.035347674041986465,
          0.036550819873809814,
          0.037919629365205765,
          0.04352786764502525,
          0.04708408564329147,
          0.053535331040620804,
          0.0665336474776268,
          0.11072397232055664,
          0.19068488478660583,
          0.3404267728328705,
          0.6001947522163391,
          0.9195246696472168,
          1.2258384227752686,
          1.4198929071426392,
          1.5333269834518433,
          1.5871232748031616,
          1.6170779466629028,
          1.6507893800735474,
          1.6751985549926758,
          1.6780327558517456,
          1.6567392349243164,
          1.6851508617401123,
          1.693232774734497,
          1.6888363361358643,
          1.7025986909866333,
          1.697380781173706,
          1.6877554655075073,
          1.7185393571853638,
          1.7215102910995483,
          1.7418397665023804,
          1.7074191570281982,
          1.7350459098815918,
          1.7165746688842773,
          1.7254207134246826,
          1.7435399293899536,
          1.7760295867919922,
          1.8416650295257568,
          1.6642905473709106,
          1.716058373451233,
          1.7625527381896973,
          1.7734497785568237,
          1.7888251543045044,
          1.7699986696243286,
          1.7627838850021362,
          1.8040597438812256,
          1.7730029821395874,
          1.7723524570465088,
          1.7924928665161133,
          1.792601466178894,
          1.7487000226974487,
          1.7723504304885864,
          1.7648285627365112,
          1.7788304090499878,
          1.733259677886963,
          1.7312994003295898,
          1.7050955295562744,
          1.713910460472107,
          1.7118936777114868,
          1.6626758575439453,
          1.590619444847107,
          1.4644041061401367,
          1.2791647911071777,
          0.9616520404815674,
          0.6246603727340698,
          0.3766751289367676,
          0.20940354466438293,
          0.1241617500782013,
          0.07844556868076324,
          0.06020903214812279,
          0.043267495930194855,
          0.0435667559504509,
          0.03793421387672424,
          0.03386503830552101,
          0.03360859304666519,
          0.023554367944598198,
          0.02332797460258007,
          0.021518448367714882,
          0.022937027737498283,
          0.021275216713547707,
          0.016467774286866188,
          0.014042227528989315,
          0.015221952460706234,
          0.01785326935350895,
          0.014862071722745895,
          0.011355271562933922,
          0.012544459663331509,
          0.0123105738312006
         ]
        }
       ],
       "layout": {}
      },
      "text/html": [
       "<div id=\"6dc95702-e616-4faf-9a0c-f761b8ed0f47\" style=\"height: 525px; width: 100%;\" class=\"plotly-graph-div\"></div><script type=\"text/javascript\">require([\"plotly\"], function(Plotly) { window.PLOTLYENV=window.PLOTLYENV || {};window.PLOTLYENV.BASE_URL=\"https://plot.ly\";Plotly.newPlot(\"6dc95702-e616-4faf-9a0c-f761b8ed0f47\", [{\"y\": [0.011463351547718048, 0.013977480120956898, 0.01532993745058775, 0.015386221930384636, 0.01657743565738201, 0.01764351688325405, 0.018657762557268143, 0.020346561446785927, 0.021700777113437653, 0.025914452970027924, 0.026236489415168762, 0.02655274234712124, 0.03028961643576622, 0.035347674041986465, 0.036550819873809814, 0.037919629365205765, 0.04352786764502525, 0.04708408564329147, 0.053535331040620804, 0.0665336474776268, 0.11072397232055664, 0.19068488478660583, 0.3404267728328705, 0.6001947522163391, 0.9195246696472168, 1.2258384227752686, 1.4198929071426392, 1.5333269834518433, 1.5871232748031616, 1.6170779466629028, 1.6507893800735474, 1.6751985549926758, 1.6780327558517456, 1.6567392349243164, 1.6851508617401123, 1.693232774734497, 1.6888363361358643, 1.7025986909866333, 1.697380781173706, 1.6877554655075073, 1.7185393571853638, 1.7215102910995483, 1.7418397665023804, 1.7074191570281982, 1.7350459098815918, 1.7165746688842773, 1.7254207134246826, 1.7435399293899536, 1.7760295867919922, 1.8416650295257568, 1.6642905473709106, 1.716058373451233, 1.7625527381896973, 1.7734497785568237, 1.7888251543045044, 1.7699986696243286, 1.7627838850021362, 1.8040597438812256, 1.7730029821395874, 1.7723524570465088, 1.7924928665161133, 1.792601466178894, 1.7487000226974487, 1.7723504304885864, 1.7648285627365112, 1.7788304090499878, 1.733259677886963, 1.7312994003295898, 1.7050955295562744, 1.713910460472107, 1.7118936777114868, 1.6626758575439453, 1.590619444847107, 1.4644041061401367, 1.2791647911071777, 0.9616520404815674, 0.6246603727340698, 0.3766751289367676, 0.20940354466438293, 0.1241617500782013, 0.07844556868076324, 0.06020903214812279, 0.043267495930194855, 0.0435667559504509, 0.03793421387672424, 0.03386503830552101, 0.03360859304666519, 0.023554367944598198, 0.02332797460258007, 0.021518448367714882, 0.022937027737498283, 0.021275216713547707, 0.016467774286866188, 0.014042227528989315, 0.015221952460706234, 0.01785326935350895, 0.014862071722745895, 0.011355271562933922, 0.012544459663331509, 0.0123105738312006], \"x\": [0, 1, 2, 3, 4, 5, 6, 7, 8, 9, 10, 11, 12, 13, 14, 15, 16, 17, 18, 19, 20, 21, 22, 23, 24, 25, 26, 27, 28, 29, 30, 31, 32, 33, 34, 35, 36, 37, 38, 39, 40, 41, 42, 43, 44, 45, 46, 47, 48, 49, 50, 51, 52, 53, 54, 55, 56, 57, 58, 59, 60, 61, 62, 63, 64, 65, 66, 67, 68, 69, 70, 71, 72, 73, 74, 75, 76, 77, 78, 79, 80, 81, 82, 83, 84, 85, 86, 87, 88, 89, 90, 91, 92, 93, 94, 95, 96, 97, 98, 99], \"type\": \"scatter\", \"name\": \"test\", \"mode\": \"lines\"}], {}, {\"linkText\": \"Export to plot.ly\", \"showLink\": true})});</script>"
      ],
      "text/vnd.plotly.v1+html": [
       "<div id=\"6dc95702-e616-4faf-9a0c-f761b8ed0f47\" style=\"height: 525px; width: 100%;\" class=\"plotly-graph-div\"></div><script type=\"text/javascript\">require([\"plotly\"], function(Plotly) { window.PLOTLYENV=window.PLOTLYENV || {};window.PLOTLYENV.BASE_URL=\"https://plot.ly\";Plotly.newPlot(\"6dc95702-e616-4faf-9a0c-f761b8ed0f47\", [{\"y\": [0.011463351547718048, 0.013977480120956898, 0.01532993745058775, 0.015386221930384636, 0.01657743565738201, 0.01764351688325405, 0.018657762557268143, 0.020346561446785927, 0.021700777113437653, 0.025914452970027924, 0.026236489415168762, 0.02655274234712124, 0.03028961643576622, 0.035347674041986465, 0.036550819873809814, 0.037919629365205765, 0.04352786764502525, 0.04708408564329147, 0.053535331040620804, 0.0665336474776268, 0.11072397232055664, 0.19068488478660583, 0.3404267728328705, 0.6001947522163391, 0.9195246696472168, 1.2258384227752686, 1.4198929071426392, 1.5333269834518433, 1.5871232748031616, 1.6170779466629028, 1.6507893800735474, 1.6751985549926758, 1.6780327558517456, 1.6567392349243164, 1.6851508617401123, 1.693232774734497, 1.6888363361358643, 1.7025986909866333, 1.697380781173706, 1.6877554655075073, 1.7185393571853638, 1.7215102910995483, 1.7418397665023804, 1.7074191570281982, 1.7350459098815918, 1.7165746688842773, 1.7254207134246826, 1.7435399293899536, 1.7760295867919922, 1.8416650295257568, 1.6642905473709106, 1.716058373451233, 1.7625527381896973, 1.7734497785568237, 1.7888251543045044, 1.7699986696243286, 1.7627838850021362, 1.8040597438812256, 1.7730029821395874, 1.7723524570465088, 1.7924928665161133, 1.792601466178894, 1.7487000226974487, 1.7723504304885864, 1.7648285627365112, 1.7788304090499878, 1.733259677886963, 1.7312994003295898, 1.7050955295562744, 1.713910460472107, 1.7118936777114868, 1.6626758575439453, 1.590619444847107, 1.4644041061401367, 1.2791647911071777, 0.9616520404815674, 0.6246603727340698, 0.3766751289367676, 0.20940354466438293, 0.1241617500782013, 0.07844556868076324, 0.06020903214812279, 0.043267495930194855, 0.0435667559504509, 0.03793421387672424, 0.03386503830552101, 0.03360859304666519, 0.023554367944598198, 0.02332797460258007, 0.021518448367714882, 0.022937027737498283, 0.021275216713547707, 0.016467774286866188, 0.014042227528989315, 0.015221952460706234, 0.01785326935350895, 0.014862071722745895, 0.011355271562933922, 0.012544459663331509, 0.0123105738312006], \"x\": [0, 1, 2, 3, 4, 5, 6, 7, 8, 9, 10, 11, 12, 13, 14, 15, 16, 17, 18, 19, 20, 21, 22, 23, 24, 25, 26, 27, 28, 29, 30, 31, 32, 33, 34, 35, 36, 37, 38, 39, 40, 41, 42, 43, 44, 45, 46, 47, 48, 49, 50, 51, 52, 53, 54, 55, 56, 57, 58, 59, 60, 61, 62, 63, 64, 65, 66, 67, 68, 69, 70, 71, 72, 73, 74, 75, 76, 77, 78, 79, 80, 81, 82, 83, 84, 85, 86, 87, 88, 89, 90, 91, 92, 93, 94, 95, 96, 97, 98, 99], \"type\": \"scatter\", \"name\": \"test\", \"mode\": \"lines\"}], {}, {\"linkText\": \"Export to plot.ly\", \"showLink\": true})});</script>"
      ]
     },
     "metadata": {},
     "output_type": "display_data"
    }
   ],
   "source": [
    "print(gatepix_abs.shape)\n",
    "plot=gatepix_abs[49,20, :]\n",
    "print(plot.shape)\n",
    "print(plot.mean())\n",
    "# Plot profil or PDD with plotly      \n",
    "trace1 = go.Scatter(\n",
    "    x = np.arange(0,100),\n",
    "    y = plot,\n",
    "    mode = 'lines', \n",
    "    name = 'test', \n",
    ")\n",
    "data=[trace1]\n",
    "fig= go.Figure(data=data) \n",
    "py.iplot(fig, filename='plot') "
   ]
  }
 ],
 "metadata": {
  "kernelspec": {
   "display_name": "Python 2",
   "language": "python",
   "name": "python2"
  },
  "language_info": {
   "codemirror_mode": {
    "name": "ipython",
    "version": 2
   },
   "file_extension": ".py",
   "mimetype": "text/x-python",
   "name": "python",
   "nbconvert_exporter": "python",
   "pygments_lexer": "ipython2",
   "version": "2.7.12"
  }
 },
 "nbformat": 4,
 "nbformat_minor": 2
}
