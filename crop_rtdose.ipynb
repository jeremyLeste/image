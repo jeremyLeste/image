{
 "cells": [
  {
   "cell_type": "code",
   "execution_count": 10,
   "metadata": {},
   "outputs": [],
   "source": [
    "import dicom as dcm\n",
    "import SimpleITK as sitk\n",
    "import numpy as np \n",
    "import array\n",
    "from numpy import unravel_index\n",
    "import matplotlib.pyplot as plt\n",
    "%matplotlib inline\n",
    "\n",
    "from ipywidgets import interact\n",
    "def ct_viewer(im):\n",
    "    def plot_image(myslice):\n",
    "        plt.imshow(im[myslice], cmap=plt.cm.jet)\n",
    "    interact(plot_image, myslice=(0, im.shape[0]))\n",
    "    return;\n",
    "\n",
    "def ct_crop(pix, x1crop, x2cropt, y1crop, y2cropt):\n",
    "    print('ORIGINAL :')\n",
    "    ct_viewer(pix)\n",
    "    x2crop=x2cropt-pix.shape[2]\n",
    "    y2crop=y2cropt-pix.shape[1]\n",
    "    pix_crop=pix[:, y1crop:y2crop, x1crop:x2crop]\n",
    "    print('CROPPED :')\n",
    "    ct_viewer(pix_crop)\n",
    "    return pix_crop;"
   ]
  },
  {
   "cell_type": "code",
   "execution_count": 3,
   "metadata": {},
   "outputs": [
    {
     "data": {
      "application/vnd.jupyter.widget-view+json": {
       "model_id": "a09f1bf2826d4132b7db64492d015044",
       "version_major": 2,
       "version_minor": 0
      },
      "text/plain": [
       "interactive(children=(IntSlider(value=22, description='myslice', max=45), Output()), _dom_classes=('widget-int…"
      ]
     },
     "metadata": {},
     "output_type": "display_data"
    },
    {
     "data": {
      "application/vnd.jupyter.widget-view+json": {
       "model_id": "f6e115e982394a95940bff2bd9a1760a",
       "version_major": 2,
       "version_minor": 0
      },
      "text/plain": [
       "interactive(children=(IntSlider(value=34, description='myslice', max=68), Output()), _dom_classes=('widget-int…"
      ]
     },
     "metadata": {},
     "output_type": "display_data"
    }
   ],
   "source": [
    "#Get the rd raw created  and gate image\n",
    "refim=sitk.ReadImage('../interplay/doseMephystoMeasured/RawImage/1.mhd')\n",
    "gateim=sitk.ReadImage('/home/gate/Documents/phd/work/jupyterNotebook/code/interplay/planned/Rawimage/1.mhd')\n",
    "\n",
    "# get pixels arrays of images and vizualization\n",
    "gatepix=sitk.GetArrayFromImage(gateim)\n",
    "refpix=sitk.GetArrayFromImage(refim)                                          \n",
    "ct_viewer(refpix)\n",
    "ct_viewer(gatepix)"
   ]
  },
  {
   "cell_type": "code",
   "execution_count": 5,
   "metadata": {},
   "outputs": [
    {
     "name": "stdout",
     "output_type": "stream",
     "text": [
      "measure: (43, 43, 45)\n",
      "eclipse: (129, 129, 68)\n",
      "measure: (2.5, 2.5, 2.5)\n",
      "eclipse: (2.5, 2.5, 3.0)\n"
     ]
    }
   ],
   "source": [
    "print('measure:', refim.GetSize())\n",
    "print('eclipse:', gateim.GetSize())\n",
    "print('measure:', refim.GetSpacing())\n",
    "print('eclipse:', gateim.GetSpacing())"
   ]
  },
  {
   "cell_type": "code",
   "execution_count": 14,
   "metadata": {},
   "outputs": [
    {
     "name": "stdout",
     "output_type": "stream",
     "text": [
      "ORIGINAL :\n"
     ]
    },
    {
     "data": {
      "application/vnd.jupyter.widget-view+json": {
       "model_id": "4c45462976434e1484b38e2e6fcb2e00",
       "version_major": 2,
       "version_minor": 0
      },
      "text/plain": [
       "interactive(children=(IntSlider(value=34, description='myslice', max=68), Output()), _dom_classes=('widget-int…"
      ]
     },
     "metadata": {},
     "output_type": "display_data"
    },
    {
     "name": "stdout",
     "output_type": "stream",
     "text": [
      "CROPPED :\n"
     ]
    },
    {
     "data": {
      "application/vnd.jupyter.widget-view+json": {
       "model_id": "f3c57265cb9b43e48d6a120f069b3b7d",
       "version_major": 2,
       "version_minor": 0
      },
      "text/plain": [
       "interactive(children=(IntSlider(value=34, description='myslice', max=68), Output()), _dom_classes=('widget-int…"
      ]
     },
     "metadata": {},
     "output_type": "display_data"
    },
    {
     "ename": "ValueError",
     "evalue": "operands could not be broadcast together with shapes (68,43,43) (45,43,43) ",
     "output_type": "error",
     "traceback": [
      "\u001b[0;31m---------------------------------------------------------------------------\u001b[0m",
      "\u001b[0;31mValueError\u001b[0m                                Traceback (most recent call last)",
      "\u001b[0;32m<ipython-input-14-60565e8e7cd7>\u001b[0m in \u001b[0;36m<module>\u001b[0;34m\u001b[0m\n\u001b[1;32m      4\u001b[0m \u001b[0mmask\u001b[0m\u001b[0;34m=\u001b[0m\u001b[0mnp\u001b[0m\u001b[0;34m.\u001b[0m\u001b[0mma\u001b[0m\u001b[0;34m.\u001b[0m\u001b[0mmake_mask\u001b[0m\u001b[0;34m(\u001b[0m\u001b[0mrefpix\u001b[0m\u001b[0;34m)\u001b[0m\u001b[0;34m\u001b[0m\u001b[0;34m\u001b[0m\u001b[0m\n\u001b[1;32m      5\u001b[0m \u001b[0;31m#apply on gate pixel array\u001b[0m\u001b[0;34m\u001b[0m\u001b[0;34m\u001b[0m\u001b[0;34m\u001b[0m\u001b[0m\n\u001b[0;32m----> 6\u001b[0;31m \u001b[0mgatepix_mask\u001b[0m\u001b[0;34m=\u001b[0m\u001b[0mrtdose_crop\u001b[0m\u001b[0;34m*\u001b[0m\u001b[0mmask\u001b[0m\u001b[0;34m\u001b[0m\u001b[0;34m\u001b[0m\u001b[0m\n\u001b[0m\u001b[1;32m      7\u001b[0m \u001b[0mct_viewer\u001b[0m\u001b[0;34m(\u001b[0m\u001b[0mgatepix_mask\u001b[0m\u001b[0;34m)\u001b[0m\u001b[0;34m\u001b[0m\u001b[0;34m\u001b[0m\u001b[0m\n",
      "\u001b[0;31mValueError\u001b[0m: operands could not be broadcast together with shapes (68,43,43) (45,43,43) "
     ]
    }
   ],
   "source": [
    "rtdose_crop=ct_crop(gatepix, 43, 86, 43, 86);\n",
    "\n",
    "#Create a boolean mask to apply on Gate image (remove dose outside the patient according to measurment)\n",
    "mask=np.ma.make_mask(refpix)\n",
    "#apply on gate pixel array\n",
    "gatepix_mask=rtdose_crop*mask\n",
    "ct_viewer(gatepix_mask)"
   ]
  }
 ],
 "metadata": {
  "kernelspec": {
   "display_name": "Python 3",
   "language": "python",
   "name": "python3"
  },
  "language_info": {
   "codemirror_mode": {
    "name": "ipython",
    "version": 3
   },
   "file_extension": ".py",
   "mimetype": "text/x-python",
   "name": "python",
   "nbconvert_exporter": "python",
   "pygments_lexer": "ipython3",
   "version": "3.6.7"
  }
 },
 "nbformat": 4,
 "nbformat_minor": 2
}
