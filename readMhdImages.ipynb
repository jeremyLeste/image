{
 "cells": [
  {
   "cell_type": "markdown",
   "metadata": {},
   "source": [
    "# Read a meta image (.mhd + .raw)"
   ]
  },
  {
   "cell_type": "code",
   "execution_count": 1,
   "metadata": {},
   "outputs": [
    {
     "data": {
      "text/html": [
       "<style  type=\"text/css\" >\n",
       "</style>  \n",
       "<table id=\"T_2540e0dc_6cb8_11e8_bce1_080027fede7f\" > \n",
       "<thead>    <tr> \n",
       "        <th class=\"blank level0\" ></th> \n",
       "        <th class=\"col_heading level0 col0\" >1</th> \n",
       "    </tr>    <tr> \n",
       "        <th class=\"index_name level0\" >0</th> \n",
       "        <th class=\"blank\" ></th> \n",
       "    </tr></thead> \n",
       "<tbody>    <tr> \n",
       "        <th id=\"T_2540e0dc_6cb8_11e8_bce1_080027fede7flevel0_row0\" class=\"row_heading level0 row0\" >ObjectType</th> \n",
       "        <td id=\"T_2540e0dc_6cb8_11e8_bce1_080027fede7frow0_col0\" class=\"data row0 col0\" >Image</td> \n",
       "    </tr>    <tr> \n",
       "        <th id=\"T_2540e0dc_6cb8_11e8_bce1_080027fede7flevel0_row1\" class=\"row_heading level0 row1\" >NDims</th> \n",
       "        <td id=\"T_2540e0dc_6cb8_11e8_bce1_080027fede7frow1_col0\" class=\"data row1 col0\" >3</td> \n",
       "    </tr>    <tr> \n",
       "        <th id=\"T_2540e0dc_6cb8_11e8_bce1_080027fede7flevel0_row2\" class=\"row_heading level0 row2\" >BinaryData</th> \n",
       "        <td id=\"T_2540e0dc_6cb8_11e8_bce1_080027fede7frow2_col0\" class=\"data row2 col0\" >True</td> \n",
       "    </tr>    <tr> \n",
       "        <th id=\"T_2540e0dc_6cb8_11e8_bce1_080027fede7flevel0_row3\" class=\"row_heading level0 row3\" >BinaryDataByteOrderMSB</th> \n",
       "        <td id=\"T_2540e0dc_6cb8_11e8_bce1_080027fede7frow3_col0\" class=\"data row3 col0\" >False</td> \n",
       "    </tr>    <tr> \n",
       "        <th id=\"T_2540e0dc_6cb8_11e8_bce1_080027fede7flevel0_row4\" class=\"row_heading level0 row4\" >CompressedData</th> \n",
       "        <td id=\"T_2540e0dc_6cb8_11e8_bce1_080027fede7frow4_col0\" class=\"data row4 col0\" >False</td> \n",
       "    </tr>    <tr> \n",
       "        <th id=\"T_2540e0dc_6cb8_11e8_bce1_080027fede7flevel0_row5\" class=\"row_heading level0 row5\" >TransformMatrix</th> \n",
       "        <td id=\"T_2540e0dc_6cb8_11e8_bce1_080027fede7frow5_col0\" class=\"data row5 col0\" >1 0 0 0 1 0 0 0 1</td> \n",
       "    </tr>    <tr> \n",
       "        <th id=\"T_2540e0dc_6cb8_11e8_bce1_080027fede7flevel0_row6\" class=\"row_heading level0 row6\" >Offset</th> \n",
       "        <td id=\"T_2540e0dc_6cb8_11e8_bce1_080027fede7frow6_col0\" class=\"data row6 col0\" >-99 50.5 -99</td> \n",
       "    </tr>    <tr> \n",
       "        <th id=\"T_2540e0dc_6cb8_11e8_bce1_080027fede7flevel0_row7\" class=\"row_heading level0 row7\" >CenterOfRotation</th> \n",
       "        <td id=\"T_2540e0dc_6cb8_11e8_bce1_080027fede7frow7_col0\" class=\"data row7 col0\" >0 0 0</td> \n",
       "    </tr>    <tr> \n",
       "        <th id=\"T_2540e0dc_6cb8_11e8_bce1_080027fede7flevel0_row8\" class=\"row_heading level0 row8\" >ElementSpacing</th> \n",
       "        <td id=\"T_2540e0dc_6cb8_11e8_bce1_080027fede7frow8_col0\" class=\"data row8 col0\" >2 1 2</td> \n",
       "    </tr>    <tr> \n",
       "        <th id=\"T_2540e0dc_6cb8_11e8_bce1_080027fede7flevel0_row9\" class=\"row_heading level0 row9\" >DimSize</th> \n",
       "        <td id=\"T_2540e0dc_6cb8_11e8_bce1_080027fede7frow9_col0\" class=\"data row9 col0\" >100 100 100</td> \n",
       "    </tr>    <tr> \n",
       "        <th id=\"T_2540e0dc_6cb8_11e8_bce1_080027fede7flevel0_row10\" class=\"row_heading level0 row10\" >AnatomicalOrientation</th> \n",
       "        <td id=\"T_2540e0dc_6cb8_11e8_bce1_080027fede7frow10_col0\" class=\"data row10 col0\" >???</td> \n",
       "    </tr>    <tr> \n",
       "        <th id=\"T_2540e0dc_6cb8_11e8_bce1_080027fede7flevel0_row11\" class=\"row_heading level0 row11\" >ElementType</th> \n",
       "        <td id=\"T_2540e0dc_6cb8_11e8_bce1_080027fede7frow11_col0\" class=\"data row11 col0\" >MET_FLOAT</td> \n",
       "    </tr>    <tr> \n",
       "        <th id=\"T_2540e0dc_6cb8_11e8_bce1_080027fede7flevel0_row12\" class=\"row_heading level0 row12\" >ElementDataFile</th> \n",
       "        <td id=\"T_2540e0dc_6cb8_11e8_bce1_080027fede7frow12_col0\" class=\"data row12 col0\" >myDose-Dose.raw</td> \n",
       "    </tr></tbody> \n",
       "</table> "
      ],
      "text/plain": [
       "<pandas.io.formats.style.Styler at 0x7f040fe0ee10>"
      ]
     },
     "execution_count": 1,
     "metadata": {},
     "output_type": "execute_result"
    }
   ],
   "source": [
    "import pandas as pd\n",
    "import numpy as np\n",
    "import array\n",
    "\n",
    "filename = \"/home/crct/CRCT/JupyterNotebook/image/6E/BONE_6E.mhd\"\n",
    "\n",
    "# read the .mhd header\n",
    "header = pd.read_csv(filename, sep=' = ', header=None, index_col=0, engine='python')\n",
    "\n",
    "# get dictionary to map ITK/VTK meta image types to numpy data types (with little-endian as default)\n",
    "VTKtypes = {'MET_FLOAT':np.dtype('<f4'), 'MET_DOUBLE':np.dtype('<f8'), 'MET_UCHAR':np.dtype('<u1'), 'MET_CHAR':np.dtype('<i1'),\n",
    "            'MET_USHORT':np.dtype('<u2'), 'MET_SHORT':np.dtype('<i2'), 'MET_UINT':np.dtype('<u4'), 'MET_INT':np.dtype('<i4'),\n",
    "            'MET_ULONG':np.dtype('<u8'), 'MET_LONG':np.dtype('<i8') }\n",
    "\n",
    "# get image data type\n",
    "image_dtype = VTKtypes[header.loc['ElementType',1]]\n",
    "if (header.loc['BinaryDataByteOrderMSB',1] == 'True'):\n",
    "    image_dtype = image_dtype.newbyteorder('B') # change byte order if big-endian\n",
    "\n",
    "# read the .raw binary\n",
    "image = np.fromfile(filename.replace('mhd','raw'), dtype=image_dtype)\n",
    "shape = np.fromstring(header.loc['DimSize',1], dtype=int, sep=' ')\n",
    "image = image.reshape(shape,order='F')\n",
    "\n",
    "header.style"
   ]
  },
  {
   "cell_type": "markdown",
   "metadata": {},
   "source": [
    "# working with the image data"
   ]
  },
  {
   "cell_type": "markdown",
   "metadata": {},
   "source": [
    "# display a slice of the image"
   ]
  },
  {
   "cell_type": "code",
   "execution_count": 2,
   "metadata": {},
   "outputs": [
    {
     "name": "stdout",
     "output_type": "stream",
     "text": [
      "[ 2.  1.  2.]\n",
      "[100 100 100]\n",
      "[ 200.  100.  200.]\n"
     ]
    },
    {
     "data": {
      "text/plain": [
       "<matplotlib.image.AxesImage at 0x7f040aa63050>"
      ]
     },
     "execution_count": 2,
     "metadata": {},
     "output_type": "execute_result"
    },
    {
     "data": {
      "image/png": "[encoded data removed]",
      "text/plain": [
       "<matplotlib.figure.Figure at 0x7f040cae6e90>"
      ]
     },
     "metadata": {},
     "output_type": "display_data"
    }
   ],
   "source": [
    "import matplotlib.pyplot as plt\n",
    "%matplotlib inline\n",
    "\n",
    "spacing = np.fromstring(header.loc['ElementSpacing',1], dtype=float, sep=' ')\n",
    "print spacing\n",
    "print shape\n",
    "size = spacing * shape\n",
    "print size\n",
    "\n",
    "#plt.imshow(image[:,10,:].T, origin='lower', cmap=plt.cm.jet)\n",
    "plt.imshow(image[:,99,:].T, origin='lower', cmap=plt.cm.Greys)"
   ]
  },
  {
   "cell_type": "markdown",
   "metadata": {},
   "source": [
    "# display a profile of the image"
   ]
  },
  {
   "cell_type": "code",
   "execution_count": 3,
   "metadata": {},
   "outputs": [
    {
     "data": {
      "text/html": [
       "<script>requirejs.config({paths: { 'plotly': ['https://cdn.plot.ly/plotly-latest.min']},});if(!window.Plotly) {{require(['plotly'],function(plotly) {window.Plotly=plotly;});}}</script>"
      ],
      "text/vnd.plotly.v1+html": [
       "<script>requirejs.config({paths: { 'plotly': ['https://cdn.plot.ly/plotly-latest.min']},});if(!window.Plotly) {{require(['plotly'],function(plotly) {window.Plotly=plotly;});}}</script>"
      ]
     },
     "metadata": {},
     "output_type": "display_data"
    },
    {
     "data": {
      "application/vnd.plotly.v1+json": {
       "data": [
        {
         "mode": "lines+markers",
         "type": "scatter",
         "x": [
          -99,
          -97,
          -95,
          -93,
          -91,
          -89,
          -87,
          -85,
          -83,
          -81,
          -79,
          -77,
          -75,
          -73,
          -71,
          -69,
          -67,
          -65,
          -63,
          -61,
          -59,
          -57,
          -55,
          -53,
          -51,
          -49,
          -47,
          -45,
          -43,
          -41,
          -39,
          -37,
          -35,
          -33,
          -31,
          -29,
          -27,
          -25,
          -23,
          -21,
          -19,
          -17,
          -15,
          -13,
          -11,
          -9,
          -7,
          -5,
          -3,
          -1,
          1,
          3,
          5,
          7,
          9,
          11,
          13,
          15,
          17,
          19,
          21,
          23,
          25,
          27,
          29,
          31,
          33,
          35,
          37,
          39,
          41,
          43,
          45,
          47,
          49,
          51,
          53,
          55,
          57,
          59,
          61,
          63,
          65,
          67,
          69,
          71,
          73,
          75,
          77,
          79,
          81,
          83,
          85,
          87,
          89,
          91,
          93,
          95,
          97,
          99
         ],
         "y": [
          4.409378675518383e-07,
          4.605682306646486e-07,
          3.4678191696002614e-07,
          3.905664698322653e-07,
          3.2524735615879763e-07,
          3.9915465777085046e-07,
          4.4333552295938716e-07,
          3.1001337674751994e-07,
          4.1463636080152355e-07,
          3.733997857580107e-07,
          4.1632742409092316e-07,
          4.864912170887692e-07,
          6.420131057893741e-07,
          6.54192717775004e-07,
          9.488725254414021e-07,
          1.3883720839658054e-06,
          1.8658671478988254e-06,
          3.1330873753177e-06,
          4.98949066241039e-06,
          7.89169644122012e-06,
          1.2056326340825763e-05,
          1.8181102859671228e-05,
          2.529853918531444e-05,
          3.452952660154551e-05,
          4.3564054067246616e-05,
          5.324486119206995e-05,
          5.967382821836509e-05,
          6.79895092616789e-05,
          7.209364412119612e-05,
          7.878382166381925e-05,
          8.038494706852362e-05,
          8.123221050482243e-05,
          8.260196773335338e-05,
          8.387511479668319e-05,
          8.43978050397709e-05,
          8.512752538081259e-05,
          8.587790216552094e-05,
          8.721103222342208e-05,
          8.58286875882186e-05,
          8.671567775309086e-05,
          8.478361996822059e-05,
          8.765311213210225e-05,
          8.623475150670856e-05,
          8.627981878817081e-05,
          8.38703999761492e-05,
          8.364712994080037e-05,
          8.409726433455944e-05,
          8.205171616282314e-05,
          7.893111614976078e-05,
          6.893932004459202e-05,
          4.1573508497094736e-05,
          3.01691034110263e-05,
          2.7498253984958865e-05,
          2.575176040409133e-05,
          2.518221845093649e-05,
          2.507945100660436e-05,
          2.506732380425092e-05,
          2.5765277314349078e-05,
          2.480499097146094e-05,
          2.591735392343253e-05,
          2.595197111077141e-05,
          2.4916764232330024e-05,
          2.5246636141673662e-05,
          2.4874068913049996e-05,
          2.5569843273842707e-05,
          2.514609877835028e-05,
          2.5018440283020027e-05,
          2.4879553166101687e-05,
          2.4528642825316638e-05,
          2.479740942362696e-05,
          2.446450525894761e-05,
          2.4190681870095432e-05,
          2.149590727640316e-05,
          1.89534985111095e-05,
          1.6588230209890753e-05,
          1.3011414011998568e-05,
          8.680201062816195e-06,
          5.84615872867289e-06,
          3.7493523450393695e-06,
          1.9798374069068814e-06,
          1.1957683909713523e-06,
          8.123033694573678e-07,
          5.306713433128607e-07,
          4.2236285935359774e-07,
          3.21555035043275e-07,
          4.5033939954919333e-07,
          4.2025425273095607e-07,
          4.1450846310908673e-07,
          4.213457600599213e-07,
          4.6288135990835144e-07,
          3.475285268450534e-07,
          3.020377050688694e-07,
          3.5241905038674304e-07,
          4.3155682760698255e-07,
          3.215193373762304e-07,
          2.8409039032339933e-07,
          3.120525207123137e-07,
          3.0329496780723275e-07,
          2.569837533883401e-07,
          2.548689508330426e-07
         ]
        }
       ],
       "layout": {
        "font": {
         "family": "Droid Sans Mono",
         "size": 18
        },
        "title": "My scatter plot"
       }
      },
      "text/html": [
       "<div id=\"70fc0c81-2a6f-4192-80a5-edbc1326dc2b\" style=\"height: 525px; width: 100%;\" class=\"plotly-graph-div\"></div><script type=\"text/javascript\">require([\"plotly\"], function(Plotly) { window.PLOTLYENV=window.PLOTLYENV || {};window.PLOTLYENV.BASE_URL=\"https://plot.ly\";Plotly.newPlot(\"70fc0c81-2a6f-4192-80a5-edbc1326dc2b\", [{\"y\": [4.409378675518383e-07, 4.605682306646486e-07, 3.4678191696002614e-07, 3.905664698322653e-07, 3.2524735615879763e-07, 3.9915465777085046e-07, 4.4333552295938716e-07, 3.1001337674751994e-07, 4.1463636080152355e-07, 3.733997857580107e-07, 4.1632742409092316e-07, 4.864912170887692e-07, 6.420131057893741e-07, 6.54192717775004e-07, 9.488725254414021e-07, 1.3883720839658054e-06, 1.8658671478988254e-06, 3.1330873753177e-06, 4.98949066241039e-06, 7.89169644122012e-06, 1.2056326340825763e-05, 1.8181102859671228e-05, 2.529853918531444e-05, 3.452952660154551e-05, 4.3564054067246616e-05, 5.324486119206995e-05, 5.967382821836509e-05, 6.79895092616789e-05, 7.209364412119612e-05, 7.878382166381925e-05, 8.038494706852362e-05, 8.123221050482243e-05, 8.260196773335338e-05, 8.387511479668319e-05, 8.43978050397709e-05, 8.512752538081259e-05, 8.587790216552094e-05, 8.721103222342208e-05, 8.58286875882186e-05, 8.671567775309086e-05, 8.478361996822059e-05, 8.765311213210225e-05, 8.623475150670856e-05, 8.627981878817081e-05, 8.38703999761492e-05, 8.364712994080037e-05, 8.409726433455944e-05, 8.205171616282314e-05, 7.893111614976078e-05, 6.893932004459202e-05, 4.1573508497094736e-05, 3.01691034110263e-05, 2.7498253984958865e-05, 2.575176040409133e-05, 2.518221845093649e-05, 2.507945100660436e-05, 2.506732380425092e-05, 2.5765277314349078e-05, 2.480499097146094e-05, 2.591735392343253e-05, 2.595197111077141e-05, 2.4916764232330024e-05, 2.5246636141673662e-05, 2.4874068913049996e-05, 2.5569843273842707e-05, 2.514609877835028e-05, 2.5018440283020027e-05, 2.4879553166101687e-05, 2.4528642825316638e-05, 2.479740942362696e-05, 2.446450525894761e-05, 2.4190681870095432e-05, 2.149590727640316e-05, 1.89534985111095e-05, 1.6588230209890753e-05, 1.3011414011998568e-05, 8.680201062816195e-06, 5.84615872867289e-06, 3.7493523450393695e-06, 1.9798374069068814e-06, 1.1957683909713523e-06, 8.123033694573678e-07, 5.306713433128607e-07, 4.2236285935359774e-07, 3.21555035043275e-07, 4.5033939954919333e-07, 4.2025425273095607e-07, 4.1450846310908673e-07, 4.213457600599213e-07, 4.6288135990835144e-07, 3.475285268450534e-07, 3.020377050688694e-07, 3.5241905038674304e-07, 4.3155682760698255e-07, 3.215193373762304e-07, 2.8409039032339933e-07, 3.120525207123137e-07, 3.0329496780723275e-07, 2.569837533883401e-07, 2.548689508330426e-07], \"x\": [-99.0, -97.0, -95.0, -93.0, -91.0, -89.0, -87.0, -85.0, -83.0, -81.0, -79.0, -77.0, -75.0, -73.0, -71.0, -69.0, -67.0, -65.0, -63.0, -61.0, -59.0, -57.0, -55.0, -53.0, -51.0, -49.0, -47.0, -45.0, -43.0, -41.0, -39.0, -37.0, -35.0, -33.0, -31.0, -29.0, -27.0, -25.0, -23.0, -21.0, -19.0, -17.0, -15.0, -13.0, -11.0, -9.0, -7.0, -5.0, -3.0, -1.0, 1.0, 3.0, 5.0, 7.0, 9.0, 11.0, 13.0, 15.0, 17.0, 19.0, 21.0, 23.0, 25.0, 27.0, 29.0, 31.0, 33.0, 35.0, 37.0, 39.0, 41.0, 43.0, 45.0, 47.0, 49.0, 51.0, 53.0, 55.0, 57.0, 59.0, 61.0, 63.0, 65.0, 67.0, 69.0, 71.0, 73.0, 75.0, 77.0, 79.0, 81.0, 83.0, 85.0, 87.0, 89.0, 91.0, 93.0, 95.0, 97.0, 99.0], \"type\": \"scatter\", \"mode\": \"lines+markers\"}], {\"font\": {\"family\": \"Droid Sans Mono\", \"size\": 18}, \"title\": \"My scatter plot\"}, {\"linkText\": \"Export to plot.ly\", \"showLink\": true})});</script>"
      ],
      "text/vnd.plotly.v1+html": [
       "<div id=\"70fc0c81-2a6f-4192-80a5-edbc1326dc2b\" style=\"height: 525px; width: 100%;\" class=\"plotly-graph-div\"></div><script type=\"text/javascript\">require([\"plotly\"], function(Plotly) { window.PLOTLYENV=window.PLOTLYENV || {};window.PLOTLYENV.BASE_URL=\"https://plot.ly\";Plotly.newPlot(\"70fc0c81-2a6f-4192-80a5-edbc1326dc2b\", [{\"y\": [4.409378675518383e-07, 4.605682306646486e-07, 3.4678191696002614e-07, 3.905664698322653e-07, 3.2524735615879763e-07, 3.9915465777085046e-07, 4.4333552295938716e-07, 3.1001337674751994e-07, 4.1463636080152355e-07, 3.733997857580107e-07, 4.1632742409092316e-07, 4.864912170887692e-07, 6.420131057893741e-07, 6.54192717775004e-07, 9.488725254414021e-07, 1.3883720839658054e-06, 1.8658671478988254e-06, 3.1330873753177e-06, 4.98949066241039e-06, 7.89169644122012e-06, 1.2056326340825763e-05, 1.8181102859671228e-05, 2.529853918531444e-05, 3.452952660154551e-05, 4.3564054067246616e-05, 5.324486119206995e-05, 5.967382821836509e-05, 6.79895092616789e-05, 7.209364412119612e-05, 7.878382166381925e-05, 8.038494706852362e-05, 8.123221050482243e-05, 8.260196773335338e-05, 8.387511479668319e-05, 8.43978050397709e-05, 8.512752538081259e-05, 8.587790216552094e-05, 8.721103222342208e-05, 8.58286875882186e-05, 8.671567775309086e-05, 8.478361996822059e-05, 8.765311213210225e-05, 8.623475150670856e-05, 8.627981878817081e-05, 8.38703999761492e-05, 8.364712994080037e-05, 8.409726433455944e-05, 8.205171616282314e-05, 7.893111614976078e-05, 6.893932004459202e-05, 4.1573508497094736e-05, 3.01691034110263e-05, 2.7498253984958865e-05, 2.575176040409133e-05, 2.518221845093649e-05, 2.507945100660436e-05, 2.506732380425092e-05, 2.5765277314349078e-05, 2.480499097146094e-05, 2.591735392343253e-05, 2.595197111077141e-05, 2.4916764232330024e-05, 2.5246636141673662e-05, 2.4874068913049996e-05, 2.5569843273842707e-05, 2.514609877835028e-05, 2.5018440283020027e-05, 2.4879553166101687e-05, 2.4528642825316638e-05, 2.479740942362696e-05, 2.446450525894761e-05, 2.4190681870095432e-05, 2.149590727640316e-05, 1.89534985111095e-05, 1.6588230209890753e-05, 1.3011414011998568e-05, 8.680201062816195e-06, 5.84615872867289e-06, 3.7493523450393695e-06, 1.9798374069068814e-06, 1.1957683909713523e-06, 8.123033694573678e-07, 5.306713433128607e-07, 4.2236285935359774e-07, 3.21555035043275e-07, 4.5033939954919333e-07, 4.2025425273095607e-07, 4.1450846310908673e-07, 4.213457600599213e-07, 4.6288135990835144e-07, 3.475285268450534e-07, 3.020377050688694e-07, 3.5241905038674304e-07, 4.3155682760698255e-07, 3.215193373762304e-07, 2.8409039032339933e-07, 3.120525207123137e-07, 3.0329496780723275e-07, 2.569837533883401e-07, 2.548689508330426e-07], \"x\": [-99.0, -97.0, -95.0, -93.0, -91.0, -89.0, -87.0, -85.0, -83.0, -81.0, -79.0, -77.0, -75.0, -73.0, -71.0, -69.0, -67.0, -65.0, -63.0, -61.0, -59.0, -57.0, -55.0, -53.0, -51.0, -49.0, -47.0, -45.0, -43.0, -41.0, -39.0, -37.0, -35.0, -33.0, -31.0, -29.0, -27.0, -25.0, -23.0, -21.0, -19.0, -17.0, -15.0, -13.0, -11.0, -9.0, -7.0, -5.0, -3.0, -1.0, 1.0, 3.0, 5.0, 7.0, 9.0, 11.0, 13.0, 15.0, 17.0, 19.0, 21.0, 23.0, 25.0, 27.0, 29.0, 31.0, 33.0, 35.0, 37.0, 39.0, 41.0, 43.0, 45.0, 47.0, 49.0, 51.0, 53.0, 55.0, 57.0, 59.0, 61.0, 63.0, 65.0, 67.0, 69.0, 71.0, 73.0, 75.0, 77.0, 79.0, 81.0, 83.0, 85.0, 87.0, 89.0, 91.0, 93.0, 95.0, 97.0, 99.0], \"type\": \"scatter\", \"mode\": \"lines+markers\"}], {\"font\": {\"family\": \"Droid Sans Mono\", \"size\": 18}, \"title\": \"My scatter plot\"}, {\"linkText\": \"Export to plot.ly\", \"showLink\": true})});</script>"
      ]
     },
     "metadata": {},
     "output_type": "display_data"
    }
   ],
   "source": [
    "from plotly.offline import init_notebook_mode, plot, iplot\n",
    "from plotly.graph_objs import *\n",
    "init_notebook_mode(connected=True)\n",
    "\n",
    "#infos= image[x, slice , y]\n",
    "#slice 99 = phantom surface\n",
    "# slice 80 (99-20 (+1)) = 20 mm depth \n",
    "\n",
    "profile=image[49,80,:]\n",
    "profiledata=np.zeros((shape[0], 2))\n",
    "\n",
    "profiledata[:, 0]=np.arange(shape[0])*spacing[0]\n",
    "profiledata[:, 1]=profile\n",
    "\n",
    "profiledata[:, 0]=profiledata[:, 0]-(profiledata[:, 0].max()/2)\n",
    "\n",
    "#profiledata[:, 1]=np.flipud(profiledata[:, 1])\n",
    "#print profiledata\n",
    "#plot profile\n",
    "data = Scatter(x = profiledata[:, 0],\n",
    "               y = profiledata[:, 1],\n",
    "               mode = 'lines+markers')\n",
    "\n",
    "layout = dict(title='My scatter plot',\n",
    "              font=dict(family='Droid Sans Mono',size=18), \n",
    "                )\n",
    "\n",
    "fig = dict(data=[data], layout=layout)\n",
    "iplot(fig)\n",
    "\n",
    "\n"
   ]
  },
  {
   "cell_type": "code",
   "execution_count": 4,
   "metadata": {},
   "outputs": [],
   "source": [
    "# export csv file \n",
    "np.savetxt('b_test.csv', profiledata, delimiter=',')\n"
   ]
  }
 ],
 "metadata": {
  "kernelspec": {
   "display_name": "Python 2",
   "language": "python",
   "name": "python2"
  },
  "language_info": {
   "codemirror_mode": {
    "name": "ipython",
    "version": 2
   },
   "file_extension": ".py",
   "mimetype": "text/x-python",
   "name": "python",
   "nbconvert_exporter": "python",
   "pygments_lexer": "ipython2",
   "version": "2.7.12"
  }
 },
 "nbformat": 4,
 "nbformat_minor": 2
}
