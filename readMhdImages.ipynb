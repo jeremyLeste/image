{
 "cells": [
  {
   "cell_type": "markdown",
   "metadata": {},
   "source": [
    "# Read a meta image (.mhd + .raw)"
   ]
  },
  {
   "cell_type": "code",
   "execution_count": 60,
   "metadata": {},
   "outputs": [
    {
     "data": {
      "text/html": [
       "<style  type=\"text/css\" >\n",
       "</style>  \n",
       "<table id=\"T_c7f6bc6c_ba91_11e8_92a8_080027fede7f\" > \n",
       "<thead>    <tr> \n",
       "        <th class=\"blank level0\" ></th> \n",
       "        <th class=\"col_heading level0 col0\" >1</th> \n",
       "    </tr>    <tr> \n",
       "        <th class=\"index_name level0\" >0</th> \n",
       "        <th class=\"blank\" ></th> \n",
       "    </tr></thead> \n",
       "<tbody>    <tr> \n",
       "        <th id=\"T_c7f6bc6c_ba91_11e8_92a8_080027fede7flevel0_row0\" class=\"row_heading level0 row0\" >ObjectType</th> \n",
       "        <td id=\"T_c7f6bc6c_ba91_11e8_92a8_080027fede7frow0_col0\" class=\"data row0 col0\" >Image</td> \n",
       "    </tr>    <tr> \n",
       "        <th id=\"T_c7f6bc6c_ba91_11e8_92a8_080027fede7flevel0_row1\" class=\"row_heading level0 row1\" >NDims</th> \n",
       "        <td id=\"T_c7f6bc6c_ba91_11e8_92a8_080027fede7frow1_col0\" class=\"data row1 col0\" >3</td> \n",
       "    </tr>    <tr> \n",
       "        <th id=\"T_c7f6bc6c_ba91_11e8_92a8_080027fede7flevel0_row2\" class=\"row_heading level0 row2\" >BinaryData</th> \n",
       "        <td id=\"T_c7f6bc6c_ba91_11e8_92a8_080027fede7frow2_col0\" class=\"data row2 col0\" >True</td> \n",
       "    </tr>    <tr> \n",
       "        <th id=\"T_c7f6bc6c_ba91_11e8_92a8_080027fede7flevel0_row3\" class=\"row_heading level0 row3\" >BinaryDataByteOrderMSB</th> \n",
       "        <td id=\"T_c7f6bc6c_ba91_11e8_92a8_080027fede7frow3_col0\" class=\"data row3 col0\" >False</td> \n",
       "    </tr>    <tr> \n",
       "        <th id=\"T_c7f6bc6c_ba91_11e8_92a8_080027fede7flevel0_row4\" class=\"row_heading level0 row4\" >CompressedData</th> \n",
       "        <td id=\"T_c7f6bc6c_ba91_11e8_92a8_080027fede7frow4_col0\" class=\"data row4 col0\" >False</td> \n",
       "    </tr>    <tr> \n",
       "        <th id=\"T_c7f6bc6c_ba91_11e8_92a8_080027fede7flevel0_row5\" class=\"row_heading level0 row5\" >TransformMatrix</th> \n",
       "        <td id=\"T_c7f6bc6c_ba91_11e8_92a8_080027fede7frow5_col0\" class=\"data row5 col0\" >1 0 0 0 1 0 0 0 1</td> \n",
       "    </tr>    <tr> \n",
       "        <th id=\"T_c7f6bc6c_ba91_11e8_92a8_080027fede7flevel0_row6\" class=\"row_heading level0 row6\" >Offset</th> \n",
       "        <td id=\"T_c7f6bc6c_ba91_11e8_92a8_080027fede7frow6_col0\" class=\"data row6 col0\" >-99 50.5 -99</td> \n",
       "    </tr>    <tr> \n",
       "        <th id=\"T_c7f6bc6c_ba91_11e8_92a8_080027fede7flevel0_row7\" class=\"row_heading level0 row7\" >CenterOfRotation</th> \n",
       "        <td id=\"T_c7f6bc6c_ba91_11e8_92a8_080027fede7frow7_col0\" class=\"data row7 col0\" >0 0 0</td> \n",
       "    </tr>    <tr> \n",
       "        <th id=\"T_c7f6bc6c_ba91_11e8_92a8_080027fede7flevel0_row8\" class=\"row_heading level0 row8\" >ElementSpacing</th> \n",
       "        <td id=\"T_c7f6bc6c_ba91_11e8_92a8_080027fede7frow8_col0\" class=\"data row8 col0\" >2 1 2</td> \n",
       "    </tr>    <tr> \n",
       "        <th id=\"T_c7f6bc6c_ba91_11e8_92a8_080027fede7flevel0_row9\" class=\"row_heading level0 row9\" >DimSize</th> \n",
       "        <td id=\"T_c7f6bc6c_ba91_11e8_92a8_080027fede7frow9_col0\" class=\"data row9 col0\" >100 100 100</td> \n",
       "    </tr>    <tr> \n",
       "        <th id=\"T_c7f6bc6c_ba91_11e8_92a8_080027fede7flevel0_row10\" class=\"row_heading level0 row10\" >AnatomicalOrientation</th> \n",
       "        <td id=\"T_c7f6bc6c_ba91_11e8_92a8_080027fede7frow10_col0\" class=\"data row10 col0\" >???</td> \n",
       "    </tr>    <tr> \n",
       "        <th id=\"T_c7f6bc6c_ba91_11e8_92a8_080027fede7flevel0_row11\" class=\"row_heading level0 row11\" >ElementType</th> \n",
       "        <td id=\"T_c7f6bc6c_ba91_11e8_92a8_080027fede7frow11_col0\" class=\"data row11 col0\" >MET_FLOAT</td> \n",
       "    </tr>    <tr> \n",
       "        <th id=\"T_c7f6bc6c_ba91_11e8_92a8_080027fede7flevel0_row12\" class=\"row_heading level0 row12\" >ElementDataFile</th> \n",
       "        <td id=\"T_c7f6bc6c_ba91_11e8_92a8_080027fede7frow12_col0\" class=\"data row12 col0\" >myDose-Dose-Uncertainty.raw</td> \n",
       "    </tr></tbody> \n",
       "</table> "
      ],
      "text/plain": [
       "<pandas.io.formats.style.Styler at 0x7fd3af215f90>"
      ]
     },
     "execution_count": 60,
     "metadata": {},
     "output_type": "execute_result"
    }
   ],
   "source": [
    "import pandas as pd\n",
    "import numpy as np\n",
    "import array\n",
    "\n",
    "energy='12'\n",
    "heter='s'\n",
    "depth='40'\n",
    "\n",
    "name=heter+\"g\"+energy+\"e\"+depth+\"_uncertainty.csv\"\n",
    "\n",
    "filename = \"/media/sf_CRCT/JupyterNotebook/data/image/12E/LUNG_12E.total_RelativeUncertainty.mhd\"\n",
    "#filename = \"/media/sf_CRCT/JupyterNotebook/data/image/12E/LUNG_12E.mhd\"\n",
    "# read the .mhd header\n",
    "header = pd.read_csv(filename, sep=' = ', header=None, index_col=0, engine='python')\n",
    "\n",
    "# get dictionary to map ITK/VTK meta image types to numpy data types (with little-endian as default)\n",
    "VTKtypes = {'MET_FLOAT':np.dtype('<f4'), 'MET_DOUBLE':np.dtype('<f8'), 'MET_UCHAR':np.dtype('<u1'), 'MET_CHAR':np.dtype('<i1'),\n",
    "            'MET_USHORT':np.dtype('<u2'), 'MET_SHORT':np.dtype('<i2'), 'MET_UINT':np.dtype('<u4'), 'MET_INT':np.dtype('<i4'),\n",
    "            'MET_ULONG':np.dtype('<u8'), 'MET_LONG':np.dtype('<i8') }\n",
    "\n",
    "# get image data type\n",
    "image_dtype = VTKtypes[header.loc['ElementType',1]]\n",
    "if (header.loc['BinaryDataByteOrderMSB',1] == 'True'):\n",
    "    image_dtype = image_dtype.newbyteorder('B') # change byte order if big-endian\n",
    "\n",
    "# read the .raw binary\n",
    "image = np.fromfile(filename.replace('mhd','raw'), dtype=image_dtype)\n",
    "shape = np.fromstring(header.loc['DimSize',1], dtype=int, sep=' ')\n",
    "image = image.reshape(shape,order='F')\n",
    "\n",
    "header.style"
   ]
  },
  {
   "cell_type": "markdown",
   "metadata": {},
   "source": [
    "# working with the image data"
   ]
  },
  {
   "cell_type": "markdown",
   "metadata": {},
   "source": [
    "# display a slice of the image"
   ]
  },
  {
   "cell_type": "code",
   "execution_count": 61,
   "metadata": {},
   "outputs": [
    {
     "name": "stdout",
     "output_type": "stream",
     "text": [
      "[ 2.  1.  2.]\n",
      "[100 100 100]\n",
      "[ 200.  100.  200.]\n"
     ]
    },
    {
     "data": {
      "text/plain": [
       "<matplotlib.image.AxesImage at 0x7fd3af089590>"
      ]
     },
     "execution_count": 61,
     "metadata": {},
     "output_type": "execute_result"
    },
    {
     "data": {
      "image/png": "[encoded data removed]",
      "text/plain": [
       "<matplotlib.figure.Figure at 0x7fd3af182e50>"
      ]
     },
     "metadata": {},
     "output_type": "display_data"
    }
   ],
   "source": [
    "import matplotlib.pyplot as plt\n",
    "%matplotlib inline\n",
    "\n",
    "spacing = np.fromstring(header.loc['ElementSpacing',1], dtype=float, sep=' ')\n",
    "print spacing\n",
    "print shape\n",
    "size = spacing * shape\n",
    "print size\n",
    "\n",
    "#plt.imshow(image[:,10,:].T, origin='lower', cmap=plt.cm.jet)\n",
    "plt.imshow(image[:,59,:].T, origin='lower', cmap=plt.cm.Greys)"
   ]
  },
  {
   "cell_type": "markdown",
   "metadata": {},
   "source": [
    "# display a profile of the image"
   ]
  },
  {
   "cell_type": "code",
   "execution_count": 62,
   "metadata": {},
   "outputs": [
    {
     "data": {
      "text/html": [
       "<script>requirejs.config({paths: { 'plotly': ['https://cdn.plot.ly/plotly-latest.min']},});if(!window.Plotly) {{require(['plotly'],function(plotly) {window.Plotly=plotly;});}}</script>"
      ],
      "text/vnd.plotly.v1+html": [
       "<script>requirejs.config({paths: { 'plotly': ['https://cdn.plot.ly/plotly-latest.min']},});if(!window.Plotly) {{require(['plotly'],function(plotly) {window.Plotly=plotly;});}}</script>"
      ]
     },
     "metadata": {},
     "output_type": "display_data"
    },
    {
     "data": {
      "application/vnd.plotly.v1+json": {
       "data": [
        {
         "mode": "lines+markers",
         "type": "scatter",
         "x": [
          -99,
          -97,
          -95,
          -93,
          -91,
          -89,
          -87,
          -85,
          -83,
          -81,
          -79,
          -77,
          -75,
          -73,
          -71,
          -69,
          -67,
          -65,
          -63,
          -61,
          -59,
          -57,
          -55,
          -53,
          -51,
          -49,
          -47,
          -45,
          -43,
          -41,
          -39,
          -37,
          -35,
          -33,
          -31,
          -29,
          -27,
          -25,
          -23,
          -21,
          -19,
          -17,
          -15,
          -13,
          -11,
          -9,
          -7,
          -5,
          -3,
          -1,
          1,
          3,
          5,
          7,
          9,
          11,
          13,
          15,
          17,
          19,
          21,
          23,
          25,
          27,
          29,
          31,
          33,
          35,
          37,
          39,
          41,
          43,
          45,
          47,
          49,
          51,
          53,
          55,
          57,
          59,
          61,
          63,
          65,
          67,
          69,
          71,
          73,
          75,
          77,
          79,
          81,
          83,
          85,
          87,
          89,
          91,
          93,
          95,
          97,
          99
         ],
         "y": [
          0.13873207569122314,
          0.13519227504730225,
          0.13335101306438446,
          0.15321233868598938,
          0.14611467719078064,
          0.12064778804779053,
          0.11157968640327454,
          0.11695925891399384,
          0.10040305554866791,
          0.10415901243686676,
          0.09354355186223984,
          0.07884109765291214,
          0.06856905668973923,
          0.059668682515621185,
          0.0539904423058033,
          0.04586171731352806,
          0.04182577505707741,
          0.03574075922369957,
          0.0329524464905262,
          0.02960808388888836,
          0.025784727185964584,
          0.023518361151218414,
          0.021426979452371597,
          0.019565429538488388,
          0.018027549609541893,
          0.017203692346811295,
          0.016303127631545067,
          0.015626264736056328,
          0.015147384256124496,
          0.014620834961533546,
          0.014341079629957676,
          0.014010177925229073,
          0.013601835817098618,
          0.013207649812102318,
          0.01299390010535717,
          0.012455780990421772,
          0.012112364172935486,
          0.011780159547924995,
          0.011431321501731873,
          0.011138775385916233,
          0.010963683016598225,
          0.0110377361997962,
          0.010950732976198196,
          0.011136218905448914,
          0.011033301241695881,
          0.011048574931919575,
          0.01098139863461256,
          0.010880057699978352,
          0.010718060657382011,
          0.010392488911747932,
          0.01018638163805008,
          0.010005204007029533,
          0.00979017186909914,
          0.009750787168741226,
          0.009726706892251968,
          0.009652869775891304,
          0.009756972081959248,
          0.009804410859942436,
          0.009763644076883793,
          0.009856414049863815,
          0.009806179441511631,
          0.009789221920073032,
          0.009874334558844566,
          0.009895876049995422,
          0.00999287236481905,
          0.009946826845407486,
          0.009956717491149902,
          0.010017408058047295,
          0.010128180496394634,
          0.010229474864900112,
          0.010454520583152771,
          0.010663232766091824,
          0.010988044552505016,
          0.011494898237287998,
          0.012184702791273594,
          0.012983265332877636,
          0.014295768924057484,
          0.01586121879518032,
          0.01783849112689495,
          0.02014073170721531,
          0.023931875824928284,
          0.027313746511936188,
          0.0329238697886467,
          0.036492835730314255,
          0.04132377728819847,
          0.04834869131445885,
          0.05330486595630646,
          0.05914989113807678,
          0.06533481180667877,
          0.07511824369430542,
          0.0864429920911789,
          0.08889355510473251,
          0.09951592236757278,
          0.10080432146787643,
          0.11808563768863678,
          0.10872899740934372,
          0.11271850764751434,
          0.1196729838848114,
          0.14329354465007782,
          0.13957694172859192
         ]
        }
       ],
       "layout": {
        "font": {
         "family": "Droid Sans Mono",
         "size": 18
        },
        "title": "My scatter plot"
       }
      },
      "text/html": [
       "<div id=\"0a443e68-62c5-4f1b-954a-6ea569f13155\" style=\"height: 525px; width: 100%;\" class=\"plotly-graph-div\"></div><script type=\"text/javascript\">require([\"plotly\"], function(Plotly) { window.PLOTLYENV=window.PLOTLYENV || {};window.PLOTLYENV.BASE_URL=\"https://plot.ly\";Plotly.newPlot(\"0a443e68-62c5-4f1b-954a-6ea569f13155\", [{\"y\": [0.13873207569122314, 0.13519227504730225, 0.13335101306438446, 0.15321233868598938, 0.14611467719078064, 0.12064778804779053, 0.11157968640327454, 0.11695925891399384, 0.10040305554866791, 0.10415901243686676, 0.09354355186223984, 0.07884109765291214, 0.06856905668973923, 0.059668682515621185, 0.0539904423058033, 0.04586171731352806, 0.04182577505707741, 0.03574075922369957, 0.0329524464905262, 0.02960808388888836, 0.025784727185964584, 0.023518361151218414, 0.021426979452371597, 0.019565429538488388, 0.018027549609541893, 0.017203692346811295, 0.016303127631545067, 0.015626264736056328, 0.015147384256124496, 0.014620834961533546, 0.014341079629957676, 0.014010177925229073, 0.013601835817098618, 0.013207649812102318, 0.01299390010535717, 0.012455780990421772, 0.012112364172935486, 0.011780159547924995, 0.011431321501731873, 0.011138775385916233, 0.010963683016598225, 0.0110377361997962, 0.010950732976198196, 0.011136218905448914, 0.011033301241695881, 0.011048574931919575, 0.01098139863461256, 0.010880057699978352, 0.010718060657382011, 0.010392488911747932, 0.01018638163805008, 0.010005204007029533, 0.00979017186909914, 0.009750787168741226, 0.009726706892251968, 0.009652869775891304, 0.009756972081959248, 0.009804410859942436, 0.009763644076883793, 0.009856414049863815, 0.009806179441511631, 0.009789221920073032, 0.009874334558844566, 0.009895876049995422, 0.00999287236481905, 0.009946826845407486, 0.009956717491149902, 0.010017408058047295, 0.010128180496394634, 0.010229474864900112, 0.010454520583152771, 0.010663232766091824, 0.010988044552505016, 0.011494898237287998, 0.012184702791273594, 0.012983265332877636, 0.014295768924057484, 0.01586121879518032, 0.01783849112689495, 0.02014073170721531, 0.023931875824928284, 0.027313746511936188, 0.0329238697886467, 0.036492835730314255, 0.04132377728819847, 0.04834869131445885, 0.05330486595630646, 0.05914989113807678, 0.06533481180667877, 0.07511824369430542, 0.0864429920911789, 0.08889355510473251, 0.09951592236757278, 0.10080432146787643, 0.11808563768863678, 0.10872899740934372, 0.11271850764751434, 0.1196729838848114, 0.14329354465007782, 0.13957694172859192], \"x\": [-99.0, -97.0, -95.0, -93.0, -91.0, -89.0, -87.0, -85.0, -83.0, -81.0, -79.0, -77.0, -75.0, -73.0, -71.0, -69.0, -67.0, -65.0, -63.0, -61.0, -59.0, -57.0, -55.0, -53.0, -51.0, -49.0, -47.0, -45.0, -43.0, -41.0, -39.0, -37.0, -35.0, -33.0, -31.0, -29.0, -27.0, -25.0, -23.0, -21.0, -19.0, -17.0, -15.0, -13.0, -11.0, -9.0, -7.0, -5.0, -3.0, -1.0, 1.0, 3.0, 5.0, 7.0, 9.0, 11.0, 13.0, 15.0, 17.0, 19.0, 21.0, 23.0, 25.0, 27.0, 29.0, 31.0, 33.0, 35.0, 37.0, 39.0, 41.0, 43.0, 45.0, 47.0, 49.0, 51.0, 53.0, 55.0, 57.0, 59.0, 61.0, 63.0, 65.0, 67.0, 69.0, 71.0, 73.0, 75.0, 77.0, 79.0, 81.0, 83.0, 85.0, 87.0, 89.0, 91.0, 93.0, 95.0, 97.0, 99.0], \"type\": \"scatter\", \"mode\": \"lines+markers\"}], {\"font\": {\"family\": \"Droid Sans Mono\", \"size\": 18}, \"title\": \"My scatter plot\"}, {\"linkText\": \"Export to plot.ly\", \"showLink\": true})});</script>"
      ],
      "text/vnd.plotly.v1+html": [
       "<div id=\"0a443e68-62c5-4f1b-954a-6ea569f13155\" style=\"height: 525px; width: 100%;\" class=\"plotly-graph-div\"></div><script type=\"text/javascript\">require([\"plotly\"], function(Plotly) { window.PLOTLYENV=window.PLOTLYENV || {};window.PLOTLYENV.BASE_URL=\"https://plot.ly\";Plotly.newPlot(\"0a443e68-62c5-4f1b-954a-6ea569f13155\", [{\"y\": [0.13873207569122314, 0.13519227504730225, 0.13335101306438446, 0.15321233868598938, 0.14611467719078064, 0.12064778804779053, 0.11157968640327454, 0.11695925891399384, 0.10040305554866791, 0.10415901243686676, 0.09354355186223984, 0.07884109765291214, 0.06856905668973923, 0.059668682515621185, 0.0539904423058033, 0.04586171731352806, 0.04182577505707741, 0.03574075922369957, 0.0329524464905262, 0.02960808388888836, 0.025784727185964584, 0.023518361151218414, 0.021426979452371597, 0.019565429538488388, 0.018027549609541893, 0.017203692346811295, 0.016303127631545067, 0.015626264736056328, 0.015147384256124496, 0.014620834961533546, 0.014341079629957676, 0.014010177925229073, 0.013601835817098618, 0.013207649812102318, 0.01299390010535717, 0.012455780990421772, 0.012112364172935486, 0.011780159547924995, 0.011431321501731873, 0.011138775385916233, 0.010963683016598225, 0.0110377361997962, 0.010950732976198196, 0.011136218905448914, 0.011033301241695881, 0.011048574931919575, 0.01098139863461256, 0.010880057699978352, 0.010718060657382011, 0.010392488911747932, 0.01018638163805008, 0.010005204007029533, 0.00979017186909914, 0.009750787168741226, 0.009726706892251968, 0.009652869775891304, 0.009756972081959248, 0.009804410859942436, 0.009763644076883793, 0.009856414049863815, 0.009806179441511631, 0.009789221920073032, 0.009874334558844566, 0.009895876049995422, 0.00999287236481905, 0.009946826845407486, 0.009956717491149902, 0.010017408058047295, 0.010128180496394634, 0.010229474864900112, 0.010454520583152771, 0.010663232766091824, 0.010988044552505016, 0.011494898237287998, 0.012184702791273594, 0.012983265332877636, 0.014295768924057484, 0.01586121879518032, 0.01783849112689495, 0.02014073170721531, 0.023931875824928284, 0.027313746511936188, 0.0329238697886467, 0.036492835730314255, 0.04132377728819847, 0.04834869131445885, 0.05330486595630646, 0.05914989113807678, 0.06533481180667877, 0.07511824369430542, 0.0864429920911789, 0.08889355510473251, 0.09951592236757278, 0.10080432146787643, 0.11808563768863678, 0.10872899740934372, 0.11271850764751434, 0.1196729838848114, 0.14329354465007782, 0.13957694172859192], \"x\": [-99.0, -97.0, -95.0, -93.0, -91.0, -89.0, -87.0, -85.0, -83.0, -81.0, -79.0, -77.0, -75.0, -73.0, -71.0, -69.0, -67.0, -65.0, -63.0, -61.0, -59.0, -57.0, -55.0, -53.0, -51.0, -49.0, -47.0, -45.0, -43.0, -41.0, -39.0, -37.0, -35.0, -33.0, -31.0, -29.0, -27.0, -25.0, -23.0, -21.0, -19.0, -17.0, -15.0, -13.0, -11.0, -9.0, -7.0, -5.0, -3.0, -1.0, 1.0, 3.0, 5.0, 7.0, 9.0, 11.0, 13.0, 15.0, 17.0, 19.0, 21.0, 23.0, 25.0, 27.0, 29.0, 31.0, 33.0, 35.0, 37.0, 39.0, 41.0, 43.0, 45.0, 47.0, 49.0, 51.0, 53.0, 55.0, 57.0, 59.0, 61.0, 63.0, 65.0, 67.0, 69.0, 71.0, 73.0, 75.0, 77.0, 79.0, 81.0, 83.0, 85.0, 87.0, 89.0, 91.0, 93.0, 95.0, 97.0, 99.0], \"type\": \"scatter\", \"mode\": \"lines+markers\"}], {\"font\": {\"family\": \"Droid Sans Mono\", \"size\": 18}, \"title\": \"My scatter plot\"}, {\"linkText\": \"Export to plot.ly\", \"showLink\": true})});</script>"
      ]
     },
     "metadata": {},
     "output_type": "display_data"
    }
   ],
   "source": [
    "from plotly.offline import init_notebook_mode, plot, iplot\n",
    "from plotly.graph_objs import *\n",
    "init_notebook_mode(connected=True)\n",
    "\n",
    "#infos= image[x, slice , y]\n",
    "#slice 99 = phantom surface\n",
    "# slice 80 (99-20 (+1)) = 20 mm depth \n",
    "\n",
    "profile=image[49,59,:]\n",
    "profiledata=np.zeros((shape[0], 2))\n",
    "\n",
    "profiledata[:, 0]=np.arange(shape[0])*spacing[0]\n",
    "profiledata[:, 1]=profile\n",
    "\n",
    "profiledata[:, 0]=profiledata[:, 0]-(profiledata[:, 0].max()/2)\n",
    "\n",
    "#profiledata[:, 1]=np.flipud(profiledata[:, 1])\n",
    "#print profiledata\n",
    "#plot profile\n",
    "data = Scatter(x = profiledata[:, 0],\n",
    "               y = profiledata[:, 1],\n",
    "               mode = 'lines+markers')\n",
    "\n",
    "layout = dict(title='My scatter plot',\n",
    "              font=dict(family='Droid Sans Mono',size=18), \n",
    "                )\n",
    "\n",
    "cccccc\n",
    "\n"
   ]
  },
  {
   "cell_type": "code",
   "execution_count": 63,
   "metadata": {},
   "outputs": [],
   "source": [
    "# export csv file \n",
    "np.savetxt('/home/crct/CRCT/JupyterNotebook/data/gammaIndex/12E/new/uncertainty/'+name, profiledata, delimiter=',')\n"
   ]
  }
 ],
 "metadata": {
  "kernelspec": {
   "display_name": "Python 2",
   "language": "python",
   "name": "python2"
  },
  "language_info": {
   "codemirror_mode": {
    "name": "ipython",
    "version": 2
   },
   "file_extension": ".py",
   "mimetype": "text/x-python",
   "name": "python",
   "nbconvert_exporter": "python",
   "pygments_lexer": "ipython2",
   "version": "2.7.12"
  }
 },
 "nbformat": 4,
 "nbformat_minor": 2
}
